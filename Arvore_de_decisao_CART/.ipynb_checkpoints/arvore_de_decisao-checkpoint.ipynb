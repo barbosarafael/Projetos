{
 "cells": [
  {
   "cell_type": "markdown",
   "metadata": {
    "colab_type": "text",
    "id": "iSMkQ2SOcLAo"
   },
   "source": [
    "# Anotações e um projeto com Árvore de Decisão em Python\n",
    "\n",
    "## Overview\n",
    "\n",
    "\n",
    "1. Tentarei focar na prática e dispensar um pouco a teoria com fórmulas. Entretanto, se for algo que vejo que é útil para o entendimento, com certeza entretará;\n",
    "\n",
    "2. Conceitos comuns;\n",
    "\n",
    "3. Como é o proesso de construção das árvores;\n",
    "\n",
    "4. Overfitting e como evitar;\n",
    "\n",
    "5. Exemplo de regressão e classificação e como construir o modelo e a visualização da árvore no próprio `sklearn`;\n",
    "\n",
    "6. Procurar melhores (hiper) parâmetros com o Grid e RandomSearch\n",
    "\n",
    "\n",
    "<p align=\"center\">\n",
    "  <img alt=\"decision_tree\" src=\"https://i1.wp.com/www.vooo.pro/insights/wp-content/uploads/2016/12/RDS-Vooo_insights-Tutorial_arvore_de_decisao_02.jpg?resize=768%2C446&ssl=1\" alt=\"drawing\" width=\"600\" height=\"400\"/>\n",
    "  <br>\n",
    "    <em> <b>Retirado de:</b> https://www.vooo.pro/insights/um-tutorial-completo-sobre-a-modelagem-baseada-em-tree-arvore-do-zero-em-r-python/ </em>\n",
    "</p>\n",
    "\n",
    "\n"
   ]
  },
  {
   "cell_type": "markdown",
   "metadata": {
    "colab_type": "text",
    "id": "NwmssNpfrnWd"
   },
   "source": [
    "# 1. Introdução\n",
    "\n",
    "---\n",
    "\n",
    "- É um modelo de aprendizado de máquina **supervisionado** que serve tanto para classificação quanto para regressão, isto é, precisam de variáveis explicativas para prever uma variável target;\n",
    "\n",
    "- Também serve como visualização para tomada de decisões, já que ela parece um fluxograma;\n",
    "\n",
    "- As variáveis explicativas podem ser de qualquer tipo, seja ela quantitativa ou qualitativa;\n"
   ]
  },
  {
   "cell_type": "markdown",
   "metadata": {
    "colab_type": "text",
    "id": "DCQOsUhNrtWy"
   },
   "source": [
    "# 2. Terminologia\n",
    "\n",
    "---\n",
    "\n",
    "\n",
    "1. **Nó raiz**: O ponto de partida de toda árvore (mais pra frente vemos como é feita a escolha desta variável), ele possui maior nível hierárquico e faz a ligação inicial para outros elementos;\n",
    "\n",
    "2. **Divisão**: É o processo de dividir um nó em dois ou mais sub-nós;\n",
    "\n",
    "3. **Nó de decisão**: Quando dividimos os nós (ou sub-nós) em sub-nós adicionais, através da condição **se, então**;\n",
    "\n",
    "4. **Folha ou nó de término**: São os nós em que não ocorrem mais divisões, estes podem ser os últimos da árvore e contém um valor contínuo ou categórico (a categoria final escolhida);\n",
    "\n",
    "5. **Poda**: Processo de remover alguns dos elementos da árvore final, podendo ser nós, sub-nós, etc.\n",
    "\n",
    "6. **Nó pai e filho**: Nó divido entre sub-nós. O nó é chamado de pai e os sub-nós chamados de filhos.\n",
    "\n",
    "> Resumo: A árvore armazena regras em seus nós (**se, então**) e, baseado nas regras, temos uma decisão que será armazenada na **folha ou nó de término**.\n",
    "\n"
   ]
  },
  {
   "cell_type": "markdown",
   "metadata": {
    "colab_type": "text",
    "id": "2XZv6uRLygom"
   },
   "source": [
    "# 3. Construção da árvore, Divisão dos nós e Impureza\n",
    "\n",
    "---\n",
    "\n",
    "\n",
    "<p align=\"center\">\n",
    "  <img alt=\"decision_tree\" src=\"https://www.model-railroad-infoguy.com/images/suncoasttree.jpg\" alt=\"drawing\" width=\"300\" height=\"300\"/>\n",
    "  <br>\n",
    "    <em> <b>Retirado de:</b> https://www.model-railroad-infoguy.com/trees.html </em>\n",
    "</p>\n",
    "\n",
    "\n",
    "- Ela particiona o espaço gerado pelas variáveis explicativas ($ X_i $) em algumas regiões para que estas partições sejam as mais puras possíveis;\n",
    "\n",
    "- A árvore divide os nós em todas as variáveis que estão disponíveis e seleciona uma partição que resulta em sub-nós mais homogêneos (relacionados a pureza);\n",
    "\n",
    "- **Pureza**: Se todos os elementos pertencem a uma única classe/categoria então ele é chamado de puro;\n",
    "\n",
    "- Devido a profundidade e a divisão da árvore, ela pode aprender demais e acabar sofrendo o **overfitting** (quando o modelo aprende o padrão total/perfeito dos dados nos dados de treino e quando pedimos para testar em dados diferentes acaba por dar erros absurdos);\n",
    "\n",
    "- Esse problema pode ser contornado a partir da **poda** da árvore e sobre o controle dos parâmetros;\n",
    "\n",
    "- Podemos controlar a pureza por meio de 4 métodos:\n",
    "\n",
    "  1. Índice Gini;\n",
    "  2. Entropia e Ganho de informação;\n",
    "  3. Qui quadrado;\n",
    "  4. Redução na variância.\n",
    "\n",
    "- No presente notebook, explico somente as primeiras duas, sendo elas as mais conhecidas e implementadas nos softwares atuais.\n"
   ]
  },
  {
   "cell_type": "markdown",
   "metadata": {
    "colab_type": "text",
    "id": "IUnXD11jzyfT"
   },
   "source": [
    "## 3.1. Índice de Gini\n",
    "\n",
    "- Mede o grau de homogeneidade dos dados. Por isso, pode ser usado para calcular a pureza dos nós;\n",
    "\n",
    "- Em um determinado nó (podendo ser raiz ou divisão qualquer), o índice é dado por:\n",
    "\n",
    "$$ IG = 1 - \\sum_{i = 1}^{c} p_{i}^{2} $$\n",
    "\n",
    "onde $ p_{i} $ é a frequência de cada categoria em cada nó e c o número de categorias.\n",
    "\n",
    "- Quando o IG é 0, indica que todos as observações pertencem a somente uma categoria ou existe somente uma;\n",
    "\n",
    "- Quando se aproxima de 1, indica que as observações são distribuídas aleatoriamente nas categorias;\n",
    "\n",
    "- Quando o valor é de 0,5 indica que as observações são igualmente distribuídas nas categorias;\n",
    "\n",
    "- Executa divisões binárias, isto é, vai para esquerda ou direita;"
   ]
  },
  {
   "cell_type": "markdown",
   "metadata": {
    "colab_type": "text",
    "id": "TuuevZlixc4s"
   },
   "source": [
    "## 3.2. Entropia e Ganho de Informação\n",
    "\n",
    "- A Entropia caracteriza a impureza dos dados, sendo também uma medida de verificação de homogeneidade dos dados em relação a sua classificação;\n",
    "\n",
    "- Novamente o conceito de **pureza**: Se todos os elementos pertencem a uma única classe/categoria então ele é chamado de puro;\n",
    "\n",
    "- Quanto mais puro é um nó, menor a quantidade de informação que ele precisa para ser descrito e vice-versa;\n",
    "\n",
    "- Por meio da teoria da informação, podemos medir esse grau de desorganização/impureza que é a entropia. A fórmula é dada por \n",
    "\n",
    "$$ Entropia(S) = \\sum_{i = 1}^{c} - p_i \\log_{2}(p_i) $$\n",
    "\n",
    "- Podemos notar a partir do gráfico que:\n",
    "\n",
    "  - Se a entropia for completamente homogênea, a entropia será 0 (extremidades);\n",
    "\n",
    "  - Se as categorias possuem a mesma probabilidade, isto é 50/50, então a entropia será 1 (máxima);\n",
    "\n",
    "\n",
    "<p align=\"center\">\n",
    "  <img alt=\"decision_tree\" src=\"https://81cff168-a-62cb3a1a-s-sites.googlegroups.com/site/mansoldo1986/home/leavesphp/classificacao-por-arvores-de-decisao/criteriodeselecaodeatributos/entropia%20graph1.jpg?attachauth=ANoY7cqggdeU9-l_muZe0mNe2dMdJ6SuHZscPwm7aapd_BgBaGDrwnJIb_C6pSGvqPjC_-ZqdtzCxtMiUzaYkI_8pfFr08AQ3GrAlsafHHe1Nx-lKjhsAj-wygbmUpJKdG16Tx5VUJOOOOX3RdzVKVXoBhprb9-Rg7vORVyyQSLGA2tsuKbdsRWHdDbLCspsjnTiun66RkwnHTjLvQmtJSARAC7EV1KvZiP3n-3J0Hwc4_vgaDCv8KbJwtVGW3BsROo0hpNwUHMk3Q8wu9h4KVDW1Ujr9DiF21Pbvt4wyhMzRuNp1m780TwZ345ujQ1GHeSGHgzS1vdGQ4DSzV1AhQtsxcALmbDH6Q%3D%3D&attredirects=0\" alt=\"drawing\" width=\"400\" height=\"300\">\n",
    "  <br>\n",
    "    <em> <b>Retirado de</b>: https://sites.google.com/site/mansoldo1986/home/leavesphp/classificacao-por-arvores-de-decisao </em>\n",
    "</p>\n",
    "\n",
    "\n",
    "- O ganho de informação pode ser baseado na entropia. Nesse caso, **há um ganho de informação quando em alguma divisão dos nós nos retorna uma redução na entropia**;\n",
    "\n",
    "- Se as probabilidades para o evento tenderem a somente uma categoria da variável, i.e. 99% de chance para categoria1 e 1% para categoria2, então teremos quase **nenhum ganho de informação** pois já sabemos que é bastante provavel uma categoria;\n",
    "\n",
    "- Se as probabilidade para as mesmas categorias serem um pouco mais iguais, i.e. 60/40, 50/50, 55/45, etc, temos uma \"surpresa\" em um possível resultado, pois não sabemos realmente qual categoria será a escolhida. Logo, teremos um **ganho de informação**. \n",
    "\n",
    "- Novamente, o ganho de informação é baseado na redução da entropia após a contrução de um nó. O ideal é que os nós sejam os mais homogêneos possíveis para que eles nos retornem um maior ganho de informação, logo uma menor entropia.\n"
   ]
  },
  {
   "cell_type": "markdown",
   "metadata": {
    "colab_type": "text",
    "id": "hQsKU5r1GPU4"
   },
   "source": [
    "# 4. *Overfitting*\n",
    "\n",
    "---\n",
    "\n",
    "\n",
    "<p align=\"center\">\n",
    "  <img alt=\"decision_tree\" src=\"https://miro.medium.com/max/1400/1*cdvfzvpkJkUudDEryFtCnA.png\" width=\"700\" height=\"300\">\n",
    "  <br>\n",
    "    <em> <b>Retirado de</b>: https://medium.com/@srjoglekar246/overfitting-and-human-behavior-5186df1e7d19 </em>\n",
    "</p>\n",
    "\n",
    "\n",
    "- Como podemos observar na Figura acima, o overfitting é o problema que temos quando o modelo aprende demais o padrão nos dados de treino, tendo erro quase nulo, e em dados novos o erro acaba por aumentar absurdamente;\n",
    "\n",
    "- Em modelos de árvore, se não controlarmos seus parâmetros, ela simplesmente irá criar uma folha (atributo final) para cada observação, fazendo com que árvore seja imensa, englobando todas as possibilidades, como no exemplo abaixo;\n",
    "\n",
    "\n",
    "<p align=\"center\">\n",
    "  <img alt=\"decision_tree\" src=\"https://i.stack.imgur.com/otsP3.png\" width=\"400\" height=\"300\">\n",
    "  <br>\n",
    "    <em><b>Retirado de</b>: https://stats.stackexchange.com/questions/230581/decision-tree-too-large-to-interpret</em>\n",
    "</p>\n",
    "\n",
    "- Podemos contornar esse problema de *overfitting* na árvore de duas maneiras:\n",
    "\n",
    "  - Controlando os parâmetros da árvore de decisão (antes ou depois da aplicação do modelo);\n",
    "  \n",
    "  - Podando a árvore (após a aplicação do modelo)."
   ]
  },
  {
   "cell_type": "markdown",
   "metadata": {
    "colab_type": "text",
    "id": "7dMiAxSzOQhK"
   },
   "source": [
    "## 4.1. Parâmetros da árvore de decisão\n",
    "\n",
    "- Estes parâmetros nos dizem ao tamanho da nossa árvore;\n",
    "\n",
    "- Utilizaremos os conceitos do `sklearn` em Python;"
   ]
  },
  {
   "cell_type": "markdown",
   "metadata": {
    "colab_type": "text",
    "id": "0gYaTaBQ-12y"
   },
   "source": [
    "### 4.1.1. Max_depth\n",
    "\n",
    "- Maior profundidade permitida da árvore de decisão verticalmente;\n",
    "\n",
    "- Conforme o número deste parâmetro aumenta, a complexidade da árvore também, junto com a possibilidade de overfitting. Já que a árvore será \"grande\" e irá aprender todos os padrões dos dados;\n",
    "\n",
    "- O valor **default** deste parâmetro no `sklearn` é de None (Nenhum) mas é controlado por outro parâmetro chamado de `min_samples_split`."
   ]
  },
  {
   "cell_type": "markdown",
   "metadata": {
    "colab_type": "text",
    "id": "1mK7iz7LC03E"
   },
   "source": [
    "### 4.1.2. Min_samples_split\n",
    "\n",
    "- Número mínimo de amostras/observações para dividir um nó;\n",
    "\n",
    "- O valor **default** deste parâmetro no `sklearn` é de 2 observações, isto é, \n",
    "a partir de 2 observações já pode dividir em um nó;"
   ]
  },
  {
   "cell_type": "markdown",
   "metadata": {
    "colab_type": "text",
    "id": "6Ctmwl38GPOs"
   },
   "source": [
    "### 4.1.3. Min_samples_leaf\n",
    "\n",
    "- Número mínimo de amostras/observações necessárias para o último nó (folha);\n",
    "\n",
    "- O valor **default** deste parâmetro no `sklearn` é de 1 observação;\n",
    "\n",
    "- Deve-se deixar pelo menos 1 observação em cada um dos ramos, seja ele esquerdo ou direito, para ser um ponto de divisão (como vimos no parâmetro acima);"
   ]
  },
  {
   "cell_type": "markdown",
   "metadata": {
    "colab_type": "text",
    "id": "CkchKhYJCLMj"
   },
   "source": [
    "### 4.1.4. max_features\n",
    "\n",
    "- Número de variáveis/features utilizadas para tomar a decisão (esquerda ou direita);\n",
    "\n",
    "- Dado que é **difícil ou custoso** olhar para todos os seus dados e variáveis em todas as divisões, se você tiver 35 variáveis e setar esse parâmetro como 10, ele selecionará 10 variáveis aleatoriamente para escolher a próxima divisão, e assim por diante;\n",
    "\n",
    "- O valor **default** deste parâmetro no `sklearn` é \"Nenhum\". Logo, ele irá todos seus dados, mas existem opções, elas são:\n",
    "\n",
    "  - \"Auto\", então max_features = $ \\sqrt{n\\_features} $.\n",
    "\n",
    "  - \"Sqrt\", então max_features = $ \\sqrt{n\\_features} $.\n",
    "\n",
    "  - \"log2\", então max_features = $ \\log_{2}(n\\_features) $.\n",
    "\n",
    "  - \"None\", então max_features = n_features."
   ]
  },
  {
   "cell_type": "markdown",
   "metadata": {
    "colab_type": "text",
    "id": "yySR8TFGHTCg"
   },
   "source": [
    "## 4.2. Poda da Árvore (Pruning)\n",
    "\n",
    "- Pré-podagem: Parar o crescimento da árvore mais cedo;\n",
    "\n",
    "- Pós-podagem: Acontece quando a árvore já está completa;\n",
    "\n",
    "- Pode ser feito da seguinte maneira:\n",
    "\n",
    "  1. Percorre a ávore em profundidade;\n",
    "\n",
    "  2. Para cada nó de decisão, calcula: \n",
    "\n",
    "    - Erro do nó;\n",
    "\n",
    "    - Soma dos erros dos nós descendentes.\n",
    "\n",
    "  3. Se o erro do nó é menor ou igual à soma dos erros dos nós descendentes então o nó é transformado em folha. \n",
    "\n",
    "- Valorizando a pureza;\n",
    "\n",
    "- Na pós-podagem, a sub-árvore com melhor desempenho é escolhida;\n",
    "\n",
    "- Segundo este [link](https://www.vooo.pro/insights/um-tutorial-completo-sobre-a-modelagem-baseada-em-tree-arvore-do-zero-em-r-python/), no `sklearn` não existe a implementação da podageme, entretanto no R tem a função `prune` do pacote `rpart`."
   ]
  },
  {
   "cell_type": "markdown",
   "metadata": {
    "colab_type": "text",
    "id": "jtkhGyBULQXp"
   },
   "source": [
    "# 5. Quando utilizar modelos baseados em árvore ?\n",
    "\n",
    "---\n",
    "\n",
    "- Quando a relação das variáveis explicativas com a target não é linear;\n",
    "\n",
    "- Uma segunda opinião, segundo o [Mário Filho](https://www.mariofilho.com/). Na dúvida entre modelos, teste todos."
   ]
  },
  {
   "cell_type": "markdown",
   "metadata": {
    "colab_type": "text",
    "id": "3fTNXeLzNT7R"
   },
   "source": [
    "# 6. Exemplo 1: Aplicação da Árvore de **Regressão** em Python\n",
    "\n",
    "---\n",
    "\n",
    "<p align=\"center\">\n",
    "  <img alt=\"decision_tree\" src=\"https://www.chevrolet.com.br/content/dam/chevrolet/mercosur/brazil/portuguese/index/cars/cars-subcontent/segmento-carros/02-images/onix-premier.png\" width=\"700\" height=\"400\">\n",
    "  <br>\n",
    "    <em> Imagem aleatória de um carro qualquer para representar nosso banco de dados. <b>Retirado de</b>: https://www.chevrolet.com.br/carros </em>\n",
    "</p>\n",
    "\n",
    "O nosso banco de dados diz respeito a carros usados do site  www.cardekho.com, e pode ser achado neste [link](https://www.kaggle.com/nehalbirla/vehicle-dataset-from-cardekho). Entretanto, salvei no meu github para melhor carregá-lo.\n",
    "\n",
    "As variáveis que temos disponíveis são: \n",
    "\n",
    "1. Car_Name: Nome do carro;\n",
    "2. Year: Ano de fabricação;\n",
    "3. **Selling_Price (Target)**: Preço de venda;\n",
    "4. Present_Price: Preço atual;\n",
    "5. Kms_Driven: Quantos KMs o carro já percorreu;\n",
    "6. Fuel_Type: Tipo de gasolina;\n",
    "7. Seller_Type: Tipo de vendedor;\n",
    "8. Transmission: Câmbio manual ou automático;\n",
    "9. Owner: Proprietário."
   ]
  },
  {
   "cell_type": "markdown",
   "metadata": {
    "colab_type": "text",
    "id": "a1THO2atSlaU"
   },
   "source": [
    "## 6.1. Análise Exploratória dos Dados\n",
    "\n",
    "- Por ser um mini-tutorial sobre árvore de decisão, não irei aprofundar sobre o dataset;\n",
    "\n",
    "- A EDA será univariada."
   ]
  },
  {
   "cell_type": "code",
   "execution_count": 1,
   "metadata": {
    "colab": {},
    "colab_type": "code",
    "id": "v8qG5oa3OufK"
   },
   "outputs": [],
   "source": [
    "import pandas as pd\n",
    "import numpy as np\n",
    "import matplotlib.pyplot as plt\n",
    "import seaborn as sns\n",
    "\n",
    "plt.style.use(\"seaborn-muted\")\n",
    "%matplotlib inline\n",
    "pd.set_option('display.max_columns', None)"
   ]
  },
  {
   "cell_type": "code",
   "execution_count": 2,
   "metadata": {
    "colab": {
     "base_uri": "https://localhost:8080/",
     "height": 204
    },
    "colab_type": "code",
    "id": "HqSRmZFDOu7A",
    "outputId": "327a440d-0bda-4635-f69d-cc21d1b5c9ba"
   },
   "outputs": [
    {
     "data": {
      "text/html": [
       "<div>\n",
       "<style scoped>\n",
       "    .dataframe tbody tr th:only-of-type {\n",
       "        vertical-align: middle;\n",
       "    }\n",
       "\n",
       "    .dataframe tbody tr th {\n",
       "        vertical-align: top;\n",
       "    }\n",
       "\n",
       "    .dataframe thead th {\n",
       "        text-align: right;\n",
       "    }\n",
       "</style>\n",
       "<table border=\"1\" class=\"dataframe\">\n",
       "  <thead>\n",
       "    <tr style=\"text-align: right;\">\n",
       "      <th></th>\n",
       "      <th>Car_Name</th>\n",
       "      <th>Year</th>\n",
       "      <th>Selling_Price</th>\n",
       "      <th>Present_Price</th>\n",
       "      <th>Kms_Driven</th>\n",
       "      <th>Fuel_Type</th>\n",
       "      <th>Seller_Type</th>\n",
       "      <th>Transmission</th>\n",
       "      <th>Owner</th>\n",
       "    </tr>\n",
       "  </thead>\n",
       "  <tbody>\n",
       "    <tr>\n",
       "      <th>0</th>\n",
       "      <td>ritz</td>\n",
       "      <td>2014</td>\n",
       "      <td>3.35</td>\n",
       "      <td>5.59</td>\n",
       "      <td>27000</td>\n",
       "      <td>Petrol</td>\n",
       "      <td>Dealer</td>\n",
       "      <td>Manual</td>\n",
       "      <td>0</td>\n",
       "    </tr>\n",
       "    <tr>\n",
       "      <th>1</th>\n",
       "      <td>sx4</td>\n",
       "      <td>2013</td>\n",
       "      <td>4.75</td>\n",
       "      <td>9.54</td>\n",
       "      <td>43000</td>\n",
       "      <td>Diesel</td>\n",
       "      <td>Dealer</td>\n",
       "      <td>Manual</td>\n",
       "      <td>0</td>\n",
       "    </tr>\n",
       "    <tr>\n",
       "      <th>2</th>\n",
       "      <td>ciaz</td>\n",
       "      <td>2017</td>\n",
       "      <td>7.25</td>\n",
       "      <td>9.85</td>\n",
       "      <td>6900</td>\n",
       "      <td>Petrol</td>\n",
       "      <td>Dealer</td>\n",
       "      <td>Manual</td>\n",
       "      <td>0</td>\n",
       "    </tr>\n",
       "    <tr>\n",
       "      <th>3</th>\n",
       "      <td>wagon r</td>\n",
       "      <td>2011</td>\n",
       "      <td>2.85</td>\n",
       "      <td>4.15</td>\n",
       "      <td>5200</td>\n",
       "      <td>Petrol</td>\n",
       "      <td>Dealer</td>\n",
       "      <td>Manual</td>\n",
       "      <td>0</td>\n",
       "    </tr>\n",
       "    <tr>\n",
       "      <th>4</th>\n",
       "      <td>swift</td>\n",
       "      <td>2014</td>\n",
       "      <td>4.60</td>\n",
       "      <td>6.87</td>\n",
       "      <td>42450</td>\n",
       "      <td>Diesel</td>\n",
       "      <td>Dealer</td>\n",
       "      <td>Manual</td>\n",
       "      <td>0</td>\n",
       "    </tr>\n",
       "  </tbody>\n",
       "</table>\n",
       "</div>"
      ],
      "text/plain": [
       "  Car_Name  Year  Selling_Price  Present_Price  Kms_Driven Fuel_Type  \\\n",
       "0     ritz  2014           3.35           5.59       27000    Petrol   \n",
       "1      sx4  2013           4.75           9.54       43000    Diesel   \n",
       "2     ciaz  2017           7.25           9.85        6900    Petrol   \n",
       "3  wagon r  2011           2.85           4.15        5200    Petrol   \n",
       "4    swift  2014           4.60           6.87       42450    Diesel   \n",
       "\n",
       "  Seller_Type Transmission  Owner  \n",
       "0      Dealer       Manual      0  \n",
       "1      Dealer       Manual      0  \n",
       "2      Dealer       Manual      0  \n",
       "3      Dealer       Manual      0  \n",
       "4      Dealer       Manual      0  "
      ]
     },
     "execution_count": 2,
     "metadata": {},
     "output_type": "execute_result"
    }
   ],
   "source": [
    "banco = pd.read_csv(filepath_or_buffer = \"data/car_data.csv\")\n",
    "\n",
    "banco.head()"
   ]
  },
  {
   "cell_type": "markdown",
   "metadata": {
    "colab_type": "text",
    "id": "KUauFdIhccYW"
   },
   "source": [
    "- Podemos, por meio das informações abaixo, verificar que o preço de venda possui grande parte dos valores abaixo de sua mediana;\n",
    "\n",
    "- Alguns valores estão na cauda a direita, provavelmente, indicando que são **outliers**;"
   ]
  },
  {
   "cell_type": "code",
   "execution_count": 3,
   "metadata": {
    "colab": {
     "base_uri": "https://localhost:8080/",
     "height": 405
    },
    "colab_type": "code",
    "id": "5mudP7R1azoP",
    "outputId": "1aa5cfcb-21b2-4be1-b50f-96e4d398397d"
   },
   "outputs": [
    {
     "data": {
      "image/png": "[encoded data removed]",
      "text/plain": [
       "<Figure size 720x432 with 1 Axes>"
      ]
     },
     "metadata": {
      "needs_background": "light"
     },
     "output_type": "display_data"
    }
   ],
   "source": [
    "plt.figure(figsize = [10, 6])\n",
    "\n",
    "sns.distplot(banco[\"Selling_Price\"], hist = True, color = \"orangered\")\n",
    "\n",
    "plt.title(\"Distribuição do preço de venda dos carros\")\n",
    "plt.show()"
   ]
  },
  {
   "cell_type": "markdown",
   "metadata": {
    "colab_type": "text",
    "id": "FJfXjaNSTQFR"
   },
   "source": [
    "- Podemos observar que a escala de valores para as variáveis de preço devem estar em $ valor \\times 10^n $, onde n é algum valor entre 3 a 6;\n",
    "\n",
    "- Não sou nenhum especialista em carros, mas o valor máximo de 500.000 kms rodados para um carro usado é relativamente alto;\n",
    "\n",
    "- Podemos ter uma relação entre Kms pecorridos e os preços;\n",
    "\n",
    "- E, também, provavelmente os preços serão correlacionados;\n",
    "\n",
    "- A variável de Kms percorridos possui alta variação."
   ]
  },
  {
   "cell_type": "code",
   "execution_count": 4,
   "metadata": {
    "colab": {
     "base_uri": "https://localhost:8080/",
     "height": 142
    },
    "colab_type": "code",
    "id": "x1jRhOXFOvYY",
    "outputId": "c3d7312e-9a3a-45a8-e8d4-f49a184db53d"
   },
   "outputs": [
    {
     "data": {
      "text/html": [
       "<div>\n",
       "<style scoped>\n",
       "    .dataframe tbody tr th:only-of-type {\n",
       "        vertical-align: middle;\n",
       "    }\n",
       "\n",
       "    .dataframe tbody tr th {\n",
       "        vertical-align: top;\n",
       "    }\n",
       "\n",
       "    .dataframe thead th {\n",
       "        text-align: right;\n",
       "    }\n",
       "</style>\n",
       "<table border=\"1\" class=\"dataframe\">\n",
       "  <thead>\n",
       "    <tr style=\"text-align: right;\">\n",
       "      <th></th>\n",
       "      <th>count</th>\n",
       "      <th>mean</th>\n",
       "      <th>std</th>\n",
       "      <th>min</th>\n",
       "      <th>25%</th>\n",
       "      <th>50%</th>\n",
       "      <th>75%</th>\n",
       "      <th>max</th>\n",
       "    </tr>\n",
       "  </thead>\n",
       "  <tbody>\n",
       "    <tr>\n",
       "      <th>Selling_Price</th>\n",
       "      <td>301.0</td>\n",
       "      <td>4.66</td>\n",
       "      <td>5.08</td>\n",
       "      <td>0.10</td>\n",
       "      <td>0.9</td>\n",
       "      <td>3.6</td>\n",
       "      <td>6.0</td>\n",
       "      <td>35.0</td>\n",
       "    </tr>\n",
       "    <tr>\n",
       "      <th>Present_Price</th>\n",
       "      <td>301.0</td>\n",
       "      <td>7.63</td>\n",
       "      <td>8.64</td>\n",
       "      <td>0.32</td>\n",
       "      <td>1.2</td>\n",
       "      <td>6.4</td>\n",
       "      <td>9.9</td>\n",
       "      <td>92.6</td>\n",
       "    </tr>\n",
       "    <tr>\n",
       "      <th>Kms_Driven</th>\n",
       "      <td>301.0</td>\n",
       "      <td>36947.21</td>\n",
       "      <td>38886.88</td>\n",
       "      <td>500.00</td>\n",
       "      <td>15000.0</td>\n",
       "      <td>32000.0</td>\n",
       "      <td>48767.0</td>\n",
       "      <td>500000.0</td>\n",
       "    </tr>\n",
       "  </tbody>\n",
       "</table>\n",
       "</div>"
      ],
      "text/plain": [
       "               count      mean       std     min      25%      50%      75%  \\\n",
       "Selling_Price  301.0      4.66      5.08    0.10      0.9      3.6      6.0   \n",
       "Present_Price  301.0      7.63      8.64    0.32      1.2      6.4      9.9   \n",
       "Kms_Driven     301.0  36947.21  38886.88  500.00  15000.0  32000.0  48767.0   \n",
       "\n",
       "                    max  \n",
       "Selling_Price      35.0  \n",
       "Present_Price      92.6  \n",
       "Kms_Driven     500000.0  "
      ]
     },
     "execution_count": 4,
     "metadata": {},
     "output_type": "execute_result"
    }
   ],
   "source": [
    "var_quant = [\"Selling_Price\", \"Present_Price\", \"Kms_Driven\"]\n",
    "\n",
    "banco[var_quant].describe().T.round(2)"
   ]
  },
  {
   "cell_type": "markdown",
   "metadata": {
    "colab_type": "text",
    "id": "7QgTtqo0Vxb4"
   },
   "source": [
    "- Por meio da matriz de correlação é perceptível a correlação entre as variáveis de preço, logo, **a variável `Present_Price` será excluída do banco**;\n",
    "\n",
    "- Diferente da hipótese que mencionei acima de que provavelmente iria ter uma correlação negativa entre o preço de venda e a km do carro usado, na verdade nem negativa ela é.;\n",
    "\n",
    "- Apesar de fraca é positiva, isto é, as variáveis são diretamente proporcionais, claro, que temos que mencionar que a relação linear entre elas é fraca."
   ]
  },
  {
   "cell_type": "code",
   "execution_count": 5,
   "metadata": {
    "colab": {
     "base_uri": "https://localhost:8080/",
     "height": 142
    },
    "colab_type": "code",
    "id": "CPaexgebOvjA",
    "outputId": "318aad79-e4ca-4cc9-b748-faa0aeb3eabb"
   },
   "outputs": [
    {
     "data": {
      "text/html": [
       "<div>\n",
       "<style scoped>\n",
       "    .dataframe tbody tr th:only-of-type {\n",
       "        vertical-align: middle;\n",
       "    }\n",
       "\n",
       "    .dataframe tbody tr th {\n",
       "        vertical-align: top;\n",
       "    }\n",
       "\n",
       "    .dataframe thead th {\n",
       "        text-align: right;\n",
       "    }\n",
       "</style>\n",
       "<table border=\"1\" class=\"dataframe\">\n",
       "  <thead>\n",
       "    <tr style=\"text-align: right;\">\n",
       "      <th></th>\n",
       "      <th>Selling_Price</th>\n",
       "      <th>Present_Price</th>\n",
       "      <th>Kms_Driven</th>\n",
       "    </tr>\n",
       "  </thead>\n",
       "  <tbody>\n",
       "    <tr>\n",
       "      <th>Selling_Price</th>\n",
       "      <td>1.0000</td>\n",
       "      <td>0.8790</td>\n",
       "      <td>0.0292</td>\n",
       "    </tr>\n",
       "    <tr>\n",
       "      <th>Present_Price</th>\n",
       "      <td>0.8790</td>\n",
       "      <td>1.0000</td>\n",
       "      <td>0.2036</td>\n",
       "    </tr>\n",
       "    <tr>\n",
       "      <th>Kms_Driven</th>\n",
       "      <td>0.0292</td>\n",
       "      <td>0.2036</td>\n",
       "      <td>1.0000</td>\n",
       "    </tr>\n",
       "  </tbody>\n",
       "</table>\n",
       "</div>"
      ],
      "text/plain": [
       "               Selling_Price  Present_Price  Kms_Driven\n",
       "Selling_Price         1.0000         0.8790      0.0292\n",
       "Present_Price         0.8790         1.0000      0.2036\n",
       "Kms_Driven            0.0292         0.2036      1.0000"
      ]
     },
     "execution_count": 5,
     "metadata": {},
     "output_type": "execute_result"
    }
   ],
   "source": [
    "banco[var_quant].corr().round(4)"
   ]
  },
  {
   "cell_type": "markdown",
   "metadata": {
    "colab_type": "text",
    "id": "rYoMfrIzYcKr"
   },
   "source": [
    "- Para a variável **Fuel_Type**:\n",
    "\n",
    "  - Petrol deve ser gasolina;\n",
    "  - A categoria Petrol engloba a maioria das informações desta variável;\n",
    "  - As demais categorias somam, aproximadamente, 20% das demais informações, logo, irei fazer uma simples transformação concatenando a categoria Diesel e CNG.\n",
    "\n",
    "- Para a variável **Seller_Type**, temos:\n",
    "\n",
    "  - A categoria que possui mais informações é a de Dealer (revendedores);\n",
    "  - Por ser uma variável que possui uma separação relativamente OK entre as categorias, ela não irá ser transformada.\n",
    "\n",
    "- Para a variável **Transmission**:\n",
    "\n",
    "  - Assim como a anterior, possui uma separação um pouco OK, apesar de tender bastante para a categoria *Manual*, mas também não será necessária nenhuma transformação;\n",
    "\n",
    "- Para a variável **Owner**:\n",
    "\n",
    "  - Nessa variável não sabemos o que representa cada categoria;\n",
    "  - Entretanto, a categoria 0 é a que maior possui informação massiva dentro de nosso banco de dados (96,35%)\n",
    "  - Assim como na variável **Fuel_type**, as demais categorias, que não somam nem 4% dos nossos dados, serão agrupadas em somente uma."
   ]
  },
  {
   "cell_type": "code",
   "execution_count": 6,
   "metadata": {
    "colab": {
     "base_uri": "https://localhost:8080/",
     "height": 323
    },
    "colab_type": "code",
    "id": "NXJVwzbdOvsp",
    "outputId": "fd33987f-8482-4f88-cb10-ce1257a4d214"
   },
   "outputs": [
    {
     "name": "stdout",
     "output_type": "stream",
     "text": [
      "Petrol    79.40\n",
      "Diesel    19.93\n",
      "CNG        0.66\n",
      "Name: Fuel_Type, dtype: float64\n",
      "---------------------------------------------\n",
      "Dealer        64.78\n",
      "Individual    35.22\n",
      "Name: Seller_Type, dtype: float64\n",
      "---------------------------------------------\n",
      "Manual       86.71\n",
      "Automatic    13.29\n",
      "Name: Transmission, dtype: float64\n",
      "---------------------------------------------\n",
      "0    96.35\n",
      "1     3.32\n",
      "3     0.33\n",
      "Name: Owner, dtype: float64\n",
      "---------------------------------------------\n"
     ]
    }
   ],
   "source": [
    "var_qual = banco[[\"Fuel_Type\", \"Seller_Type\", \"Transmission\", \"Owner\"]]\n",
    "\n",
    "for i in var_qual:\n",
    "\n",
    "  print(banco[i].value_counts(normalize = True).mul(100).round(2))\n",
    "  print(15 * \"---\")\n"
   ]
  },
  {
   "cell_type": "markdown",
   "metadata": {
    "colab_type": "text",
    "id": "S1X4AVoCegbK"
   },
   "source": [
    "## 6.2. Pré-processamento dos dados\n",
    "\n",
    "- Nesta sub-seção iremos tratar os dados e fazer as manipulações para entrar no modelo da árvore de decisão."
   ]
  },
  {
   "cell_type": "markdown",
   "metadata": {
    "colab_type": "text",
    "id": "H-qsaqJzenBj"
   },
   "source": [
    "### 6.2.1. Exclusão de variáveis\n",
    "\n",
    "- Excluir as variáveis:\n",
    "\n",
    "  - Car_Name\t\n",
    "  \n",
    "  - Present_Price"
   ]
  },
  {
   "cell_type": "code",
   "execution_count": 7,
   "metadata": {
    "colab": {
     "base_uri": "https://localhost:8080/",
     "height": 204
    },
    "colab_type": "code",
    "id": "5O4_JOE0Sz6W",
    "outputId": "c25ca3be-b26e-4e4e-d9cb-85e41a6940c8"
   },
   "outputs": [
    {
     "data": {
      "text/html": [
       "<div>\n",
       "<style scoped>\n",
       "    .dataframe tbody tr th:only-of-type {\n",
       "        vertical-align: middle;\n",
       "    }\n",
       "\n",
       "    .dataframe tbody tr th {\n",
       "        vertical-align: top;\n",
       "    }\n",
       "\n",
       "    .dataframe thead th {\n",
       "        text-align: right;\n",
       "    }\n",
       "</style>\n",
       "<table border=\"1\" class=\"dataframe\">\n",
       "  <thead>\n",
       "    <tr style=\"text-align: right;\">\n",
       "      <th></th>\n",
       "      <th>Year</th>\n",
       "      <th>Selling_Price</th>\n",
       "      <th>Kms_Driven</th>\n",
       "      <th>Fuel_Type</th>\n",
       "      <th>Seller_Type</th>\n",
       "      <th>Transmission</th>\n",
       "      <th>Owner</th>\n",
       "    </tr>\n",
       "  </thead>\n",
       "  <tbody>\n",
       "    <tr>\n",
       "      <th>0</th>\n",
       "      <td>2014</td>\n",
       "      <td>3.35</td>\n",
       "      <td>27000</td>\n",
       "      <td>Petrol</td>\n",
       "      <td>Dealer</td>\n",
       "      <td>Manual</td>\n",
       "      <td>0</td>\n",
       "    </tr>\n",
       "    <tr>\n",
       "      <th>1</th>\n",
       "      <td>2013</td>\n",
       "      <td>4.75</td>\n",
       "      <td>43000</td>\n",
       "      <td>Diesel</td>\n",
       "      <td>Dealer</td>\n",
       "      <td>Manual</td>\n",
       "      <td>0</td>\n",
       "    </tr>\n",
       "    <tr>\n",
       "      <th>2</th>\n",
       "      <td>2017</td>\n",
       "      <td>7.25</td>\n",
       "      <td>6900</td>\n",
       "      <td>Petrol</td>\n",
       "      <td>Dealer</td>\n",
       "      <td>Manual</td>\n",
       "      <td>0</td>\n",
       "    </tr>\n",
       "    <tr>\n",
       "      <th>3</th>\n",
       "      <td>2011</td>\n",
       "      <td>2.85</td>\n",
       "      <td>5200</td>\n",
       "      <td>Petrol</td>\n",
       "      <td>Dealer</td>\n",
       "      <td>Manual</td>\n",
       "      <td>0</td>\n",
       "    </tr>\n",
       "    <tr>\n",
       "      <th>4</th>\n",
       "      <td>2014</td>\n",
       "      <td>4.60</td>\n",
       "      <td>42450</td>\n",
       "      <td>Diesel</td>\n",
       "      <td>Dealer</td>\n",
       "      <td>Manual</td>\n",
       "      <td>0</td>\n",
       "    </tr>\n",
       "  </tbody>\n",
       "</table>\n",
       "</div>"
      ],
      "text/plain": [
       "   Year  Selling_Price  Kms_Driven Fuel_Type Seller_Type Transmission  Owner\n",
       "0  2014           3.35       27000    Petrol      Dealer       Manual      0\n",
       "1  2013           4.75       43000    Diesel      Dealer       Manual      0\n",
       "2  2017           7.25        6900    Petrol      Dealer       Manual      0\n",
       "3  2011           2.85        5200    Petrol      Dealer       Manual      0\n",
       "4  2014           4.60       42450    Diesel      Dealer       Manual      0"
      ]
     },
     "execution_count": 7,
     "metadata": {},
     "output_type": "execute_result"
    }
   ],
   "source": [
    "banco = banco.drop(columns = [\"Car_Name\", \"Present_Price\"], axis = 1)\n",
    "\n",
    "banco.head()"
   ]
  },
  {
   "cell_type": "markdown",
   "metadata": {
    "colab_type": "text",
    "id": "i7CzPUKqTX-u"
   },
   "source": [
    "### 6.2.2. Agrupamento de categorias\n",
    "\n",
    "- Como mencionado anteriormente, algumas variáveis possuem categorias que correspondem a grande maioria do percentual;\n",
    "\n",
    "- Logo, as demais não possuem tanta informação;"
   ]
  },
  {
   "cell_type": "code",
   "execution_count": 8,
   "metadata": {
    "colab": {
     "base_uri": "https://localhost:8080/",
     "height": 68
    },
    "colab_type": "code",
    "id": "zkxiBlIETXaq",
    "outputId": "60d83de1-b834-4453-e46f-5f48066a4c2f"
   },
   "outputs": [
    {
     "data": {
      "text/plain": [
       "1    79.4\n",
       "0    20.6\n",
       "Name: Fuel_Type, dtype: float64"
      ]
     },
     "execution_count": 8,
     "metadata": {},
     "output_type": "execute_result"
    }
   ],
   "source": [
    "banco[\"Fuel_Type\"] = banco[\"Fuel_Type\"].apply(lambda x: 1 if x == \"Petrol\" else 0)\n",
    "\n",
    "banco[\"Fuel_Type\"].value_counts(normalize = True).mul(100).round(2)"
   ]
  },
  {
   "cell_type": "code",
   "execution_count": 9,
   "metadata": {
    "colab": {
     "base_uri": "https://localhost:8080/",
     "height": 68
    },
    "colab_type": "code",
    "id": "ziPwWEWPVuZv",
    "outputId": "9752d57d-a5f3-4bfe-88fd-0957c5c5396a"
   },
   "outputs": [
    {
     "data": {
      "text/plain": [
       "0    96.35\n",
       "1     3.65\n",
       "Name: Owner, dtype: float64"
      ]
     },
     "execution_count": 9,
     "metadata": {},
     "output_type": "execute_result"
    }
   ],
   "source": [
    "banco[\"Owner\"] = banco[\"Owner\"].apply(lambda x: 0 if x == 0 else 1)\n",
    "\n",
    "banco[\"Owner\"].value_counts(normalize = True).mul(100).round(2)"
   ]
  },
  {
   "cell_type": "code",
   "execution_count": 10,
   "metadata": {
    "colab": {
     "base_uri": "https://localhost:8080/",
     "height": 204
    },
    "colab_type": "code",
    "id": "WQHLBToNY7XN",
    "outputId": "5629986c-ca54-49e0-d960-735069e89c45"
   },
   "outputs": [
    {
     "data": {
      "text/html": [
       "<div>\n",
       "<style scoped>\n",
       "    .dataframe tbody tr th:only-of-type {\n",
       "        vertical-align: middle;\n",
       "    }\n",
       "\n",
       "    .dataframe tbody tr th {\n",
       "        vertical-align: top;\n",
       "    }\n",
       "\n",
       "    .dataframe thead th {\n",
       "        text-align: right;\n",
       "    }\n",
       "</style>\n",
       "<table border=\"1\" class=\"dataframe\">\n",
       "  <thead>\n",
       "    <tr style=\"text-align: right;\">\n",
       "      <th></th>\n",
       "      <th>Year</th>\n",
       "      <th>Selling_Price</th>\n",
       "      <th>Kms_Driven</th>\n",
       "      <th>Fuel_Type</th>\n",
       "      <th>Seller_Type</th>\n",
       "      <th>Transmission</th>\n",
       "      <th>Owner</th>\n",
       "    </tr>\n",
       "  </thead>\n",
       "  <tbody>\n",
       "    <tr>\n",
       "      <th>0</th>\n",
       "      <td>2014</td>\n",
       "      <td>3.35</td>\n",
       "      <td>27000</td>\n",
       "      <td>1</td>\n",
       "      <td>Dealer</td>\n",
       "      <td>Manual</td>\n",
       "      <td>0</td>\n",
       "    </tr>\n",
       "    <tr>\n",
       "      <th>1</th>\n",
       "      <td>2013</td>\n",
       "      <td>4.75</td>\n",
       "      <td>43000</td>\n",
       "      <td>0</td>\n",
       "      <td>Dealer</td>\n",
       "      <td>Manual</td>\n",
       "      <td>0</td>\n",
       "    </tr>\n",
       "    <tr>\n",
       "      <th>2</th>\n",
       "      <td>2017</td>\n",
       "      <td>7.25</td>\n",
       "      <td>6900</td>\n",
       "      <td>1</td>\n",
       "      <td>Dealer</td>\n",
       "      <td>Manual</td>\n",
       "      <td>0</td>\n",
       "    </tr>\n",
       "    <tr>\n",
       "      <th>3</th>\n",
       "      <td>2011</td>\n",
       "      <td>2.85</td>\n",
       "      <td>5200</td>\n",
       "      <td>1</td>\n",
       "      <td>Dealer</td>\n",
       "      <td>Manual</td>\n",
       "      <td>0</td>\n",
       "    </tr>\n",
       "    <tr>\n",
       "      <th>4</th>\n",
       "      <td>2014</td>\n",
       "      <td>4.60</td>\n",
       "      <td>42450</td>\n",
       "      <td>0</td>\n",
       "      <td>Dealer</td>\n",
       "      <td>Manual</td>\n",
       "      <td>0</td>\n",
       "    </tr>\n",
       "  </tbody>\n",
       "</table>\n",
       "</div>"
      ],
      "text/plain": [
       "   Year  Selling_Price  Kms_Driven  Fuel_Type Seller_Type Transmission  Owner\n",
       "0  2014           3.35       27000          1      Dealer       Manual      0\n",
       "1  2013           4.75       43000          0      Dealer       Manual      0\n",
       "2  2017           7.25        6900          1      Dealer       Manual      0\n",
       "3  2011           2.85        5200          1      Dealer       Manual      0\n",
       "4  2014           4.60       42450          0      Dealer       Manual      0"
      ]
     },
     "execution_count": 10,
     "metadata": {},
     "output_type": "execute_result"
    }
   ],
   "source": [
    "banco.head()"
   ]
  },
  {
   "cell_type": "markdown",
   "metadata": {
    "colab_type": "text",
    "id": "xJeJLOdYZJNY"
   },
   "source": [
    "### 6.2.3. Categorias de variáveis sendo números\n",
    "\n",
    "- Os modelos do `sklearn` não aceitam variáveis que possuem strings como categorias;\n",
    "\n",
    "- Ok, alguns com certeza aceitam mas provavelmente são os que envolvem texto como NLP, etc;\n",
    "\n",
    "- Nesse caso, temos que transformar as categorias das variáveis para numéricas."
   ]
  },
  {
   "cell_type": "code",
   "execution_count": 11,
   "metadata": {
    "colab": {
     "base_uri": "https://localhost:8080/",
     "height": 204
    },
    "colab_type": "code",
    "id": "HGzNPp6pZ0F-",
    "outputId": "99dc0be0-22e2-4647-f82a-53ae807405c9"
   },
   "outputs": [
    {
     "data": {
      "text/html": [
       "<div>\n",
       "<style scoped>\n",
       "    .dataframe tbody tr th:only-of-type {\n",
       "        vertical-align: middle;\n",
       "    }\n",
       "\n",
       "    .dataframe tbody tr th {\n",
       "        vertical-align: top;\n",
       "    }\n",
       "\n",
       "    .dataframe thead th {\n",
       "        text-align: right;\n",
       "    }\n",
       "</style>\n",
       "<table border=\"1\" class=\"dataframe\">\n",
       "  <thead>\n",
       "    <tr style=\"text-align: right;\">\n",
       "      <th></th>\n",
       "      <th>Year</th>\n",
       "      <th>Selling_Price</th>\n",
       "      <th>Kms_Driven</th>\n",
       "      <th>Fuel_Type</th>\n",
       "      <th>Seller_Type</th>\n",
       "      <th>Transmission</th>\n",
       "      <th>Owner</th>\n",
       "    </tr>\n",
       "  </thead>\n",
       "  <tbody>\n",
       "    <tr>\n",
       "      <th>0</th>\n",
       "      <td>2014</td>\n",
       "      <td>3.35</td>\n",
       "      <td>27000</td>\n",
       "      <td>1</td>\n",
       "      <td>0</td>\n",
       "      <td>0</td>\n",
       "      <td>0</td>\n",
       "    </tr>\n",
       "    <tr>\n",
       "      <th>1</th>\n",
       "      <td>2013</td>\n",
       "      <td>4.75</td>\n",
       "      <td>43000</td>\n",
       "      <td>0</td>\n",
       "      <td>0</td>\n",
       "      <td>0</td>\n",
       "      <td>0</td>\n",
       "    </tr>\n",
       "    <tr>\n",
       "      <th>2</th>\n",
       "      <td>2017</td>\n",
       "      <td>7.25</td>\n",
       "      <td>6900</td>\n",
       "      <td>1</td>\n",
       "      <td>0</td>\n",
       "      <td>0</td>\n",
       "      <td>0</td>\n",
       "    </tr>\n",
       "    <tr>\n",
       "      <th>3</th>\n",
       "      <td>2011</td>\n",
       "      <td>2.85</td>\n",
       "      <td>5200</td>\n",
       "      <td>1</td>\n",
       "      <td>0</td>\n",
       "      <td>0</td>\n",
       "      <td>0</td>\n",
       "    </tr>\n",
       "    <tr>\n",
       "      <th>4</th>\n",
       "      <td>2014</td>\n",
       "      <td>4.60</td>\n",
       "      <td>42450</td>\n",
       "      <td>0</td>\n",
       "      <td>0</td>\n",
       "      <td>0</td>\n",
       "      <td>0</td>\n",
       "    </tr>\n",
       "  </tbody>\n",
       "</table>\n",
       "</div>"
      ],
      "text/plain": [
       "   Year  Selling_Price  Kms_Driven  Fuel_Type  Seller_Type  Transmission  \\\n",
       "0  2014           3.35       27000          1            0             0   \n",
       "1  2013           4.75       43000          0            0             0   \n",
       "2  2017           7.25        6900          1            0             0   \n",
       "3  2011           2.85        5200          1            0             0   \n",
       "4  2014           4.60       42450          0            0             0   \n",
       "\n",
       "   Owner  \n",
       "0      0  \n",
       "1      0  \n",
       "2      0  \n",
       "3      0  \n",
       "4      0  "
      ]
     },
     "execution_count": 11,
     "metadata": {},
     "output_type": "execute_result"
    }
   ],
   "source": [
    "varcat_to_num = [\"Seller_Type\", \"Transmission\"]\n",
    "\n",
    "banco[varcat_to_num] = banco[varcat_to_num].apply(lambda x: pd.factorize(x)[0])\n",
    "\n",
    "banco.head()"
   ]
  },
  {
   "cell_type": "markdown",
   "metadata": {
    "colab_type": "text",
    "id": "ETGWVt4Nd1A6"
   },
   "source": [
    "## 6.3. Divisão em treino e teste\n",
    "\n",
    "- Neste caso iremos separar em 50/50 os dados;"
   ]
  },
  {
   "cell_type": "code",
   "execution_count": 12,
   "metadata": {
    "colab": {
     "base_uri": "https://localhost:8080/",
     "height": 34
    },
    "colab_type": "code",
    "id": "qNvPNIrITahJ",
    "outputId": "0f6bb606-7e9e-4a8a-df1b-8427fc62b536"
   },
   "outputs": [
    {
     "name": "stdout",
     "output_type": "stream",
     "text": [
      "(150, 6) (150,) (151, 6) (151,)\n"
     ]
    }
   ],
   "source": [
    "from sklearn.model_selection import train_test_split\n",
    "\n",
    "x = banco.drop(\"Selling_Price\", axis = 1)\n",
    "y = banco[\"Selling_Price\"]\n",
    "\n",
    "\n",
    "x_treino, x_teste, y_treino, y_teste = train_test_split(x, y, train_size = 0.5, random_state = 1234)\n",
    "\n",
    "print(x_treino.shape, y_treino.shape, x_teste.shape, y_teste.shape)"
   ]
  },
  {
   "cell_type": "markdown",
   "metadata": {
    "colab_type": "text",
    "id": "BlgdB7vicOXW"
   },
   "source": [
    "## 6.4. Aplicação do modelo\n",
    "\n",
    "- Vamos setar alguns parâmetros básicos:\n",
    "\n",
    "  - Max_depth = 3;\n",
    "  - Min_samples_split = Default;\n",
    "  - Min_samples_leaf = Default;\n",
    "  - max_features = Default."
   ]
  },
  {
   "cell_type": "code",
   "execution_count": 13,
   "metadata": {
    "colab": {
     "base_uri": "https://localhost:8080/",
     "height": 119
    },
    "colab_type": "code",
    "id": "zMOOzhoXc1yZ",
    "outputId": "25b0b9cc-0031-4ef0-de5c-64760f80040a"
   },
   "outputs": [
    {
     "data": {
      "text/plain": [
       "DecisionTreeRegressor(max_depth=3, random_state=1234)"
      ]
     },
     "execution_count": 13,
     "metadata": {},
     "output_type": "execute_result"
    }
   ],
   "source": [
    "from sklearn.tree import DecisionTreeRegressor\n",
    "\n",
    "dtr = DecisionTreeRegressor(random_state = 1234, max_depth = 3)\n",
    "\n",
    "dtr.fit(x_treino, y_treino)"
   ]
  },
  {
   "cell_type": "markdown",
   "metadata": {
    "colab_type": "text",
    "id": "6uYuN07bl70c"
   },
   "source": [
    "- Agora com modelo pronto, podemos predizer para nossos dados de teste e verificar os erros;"
   ]
  },
  {
   "cell_type": "code",
   "execution_count": 14,
   "metadata": {
    "colab": {
     "base_uri": "https://localhost:8080/",
     "height": 34
    },
    "colab_type": "code",
    "id": "RMbP_5ffjiPN",
    "outputId": "29bb6eba-a45e-4b09-8c5a-63d1af8c6eaa"
   },
   "outputs": [
    {
     "data": {
      "text/plain": [
       "array([3.07, 0.63, 3.07, 0.63, 0.63, 0.63])"
      ]
     },
     "execution_count": 14,
     "metadata": {},
     "output_type": "execute_result"
    }
   ],
   "source": [
    "y_pred = dtr.predict(x_teste)\n",
    "\n",
    "y_pred[:6].round(2)"
   ]
  },
  {
   "cell_type": "markdown",
   "metadata": {
    "colab_type": "text",
    "id": "XkckjpFmSeiA"
   },
   "source": [
    "- Como não temos nenhuma baseline, isto é, nenhum modelo para nos basearmos se nosso modelo de árvore de decisão é bom ou ruim quando comparado a um modelo mais básico;\n",
    "\n",
    "- Então irei mostrar os resultados básicos de algumas métricas, elas são:\n",
    "\n",
    "  - Média dos erros absolutos;\n",
    "  - Média dos erros ao quadrado;\n",
    "  - Raiz quadrado da média dos erros ao quadrado. "
   ]
  },
  {
   "cell_type": "code",
   "execution_count": 15,
   "metadata": {
    "colab": {
     "base_uri": "https://localhost:8080/",
     "height": 68
    },
    "colab_type": "code",
    "id": "G8H0u6i6l32G",
    "outputId": "8dac1d30-6075-4d6c-9b1a-bb83a81a46cb"
   },
   "outputs": [
    {
     "name": "stdout",
     "output_type": "stream",
     "text": [
      "O MAE é 1.7509421493395003 \n",
      " O MSE é 9.911042627229685 \n",
      " O RMSE é 3.1481808441113555\n"
     ]
    }
   ],
   "source": [
    "from sklearn.metrics import mean_squared_error\n",
    "from sklearn.metrics import mean_absolute_error\n",
    "\n",
    "print(f\"O MAE é {mean_absolute_error(y_teste, y_pred)} \\n\",\n",
    "      f\"O MSE é {mean_squared_error(y_teste, y_pred)} \\n\",\n",
    "      f\"O RMSE é {np.sqrt(mean_squared_error(y_teste, y_pred))}\")"
   ]
  },
  {
   "cell_type": "markdown",
   "metadata": {
    "colab_type": "text",
    "id": "fsyc9_i4UlnQ"
   },
   "source": [
    "- Abaixo temos a visualização da Árvore de Decisão com uma função nativa do próprio `sklearn`;\n",
    "\n",
    "- A variável escolhida para ser o Nó Raiz foi o Tipo de Combustível;\n",
    "\n",
    "- E a partir dela a árvore foi se construindo com as demais variáveis e regras de decisão na construção dos nós;"
   ]
  },
  {
   "cell_type": "code",
   "execution_count": 16,
   "metadata": {
    "colab": {
     "base_uri": "https://localhost:8080/",
     "height": 466
    },
    "colab_type": "code",
    "id": "Fsz1KkgxvG2o",
    "outputId": "4495d461-e69e-4406-f1b4-13d604fa9636"
   },
   "outputs": [
    {
     "data": {
      "image/png": "[encoded data removed]",
      "text/plain": [
       "<Figure size 1152x576 with 1 Axes>"
      ]
     },
     "metadata": {
      "needs_background": "light"
     },
     "output_type": "display_data"
    }
   ],
   "source": [
    "from sklearn.tree import plot_tree\n",
    "\n",
    "var_names = list(x_treino.columns)\n",
    "\n",
    "plt.figure(figsize = [16, 8])\n",
    "plot_tree(dtr, filled = True, feature_names = var_names)\n",
    "plt.show()"
   ]
  },
  {
   "cell_type": "markdown",
   "metadata": {
    "colab_type": "text",
    "id": "ObsRfIekWj0F"
   },
   "source": [
    "# 7. Exemplo 2: Aplicação da Árvore de **Classificação** em Python\n",
    "\n",
    "---\n",
    "\n",
    "\n",
    "<p align=\"center\">\n",
    "  <img alt=\"decision_tree\" src=\"https://wineonmytime.com/wp-content/uploads/2019/09/Can-You-Mix-Red-and-White-Wine-Hero.png\" width=\"700\" height=\"400\">\n",
    "  <br>\n",
    "    <em> Outra imagem aleatória, dessa vez de um vinho branco e outro vermelho. <b>Retirado de</b>: https://wineonmytime.com/can-you-mix-red-and-white-wine/ \n",
    "    </em>\n",
    "</p>\n",
    "\n",
    "- Nosso banco de dados para o exemplo de classificação será de distinguir entre dois tipos de vinho:\n",
    "\n",
    "  - Vermelho, que possui valor **0** no dataset;\n",
    "  - Branco, que possui valor **1** no dataset.\n",
    "\n",
    "- As variáveis disponíveis no nosso dataset são:\n",
    "\n",
    "  - fixed acidity;\n",
    "  - volatile acidity;\n",
    "  - citric acid;\n",
    "  - residual sugar;  \n",
    "  - chlorides;       \n",
    "  - free sulfur dioxide;\n",
    "  - total sulfur dioxide;\n",
    "  - density;\n",
    "  - pH;     \n",
    "  - sulphates;\n",
    "  - alcohol;  \n",
    "  - quality;  \n",
    "  - classification (variável que queremos prever)."
   ]
  },
  {
   "cell_type": "code",
   "execution_count": 17,
   "metadata": {
    "colab": {},
    "colab_type": "code",
    "id": "gJUxZ-cDigah"
   },
   "outputs": [],
   "source": [
    "banco_red = pd.read_csv(\"data/winequality-red.csv\", sep = \";\")\n",
    "banco_white = pd.read_csv(\"data/winequality-white.csv\", sep = \";\")\n",
    "\n",
    "banco_red[\"classification\"] = 0\n",
    "banco_white[\"classification\"] = 1\n",
    "\n",
    "banco = pd.concat([banco_red, banco_white], axis = 0)"
   ]
  },
  {
   "cell_type": "markdown",
   "metadata": {
    "colab_type": "text",
    "id": "4P9ZnyODlDRn"
   },
   "source": [
    "## 7.1. Análise Exploratória dos Dados"
   ]
  },
  {
   "cell_type": "markdown",
   "metadata": {
    "colab_type": "text",
    "id": "fQ44JFK_oZk5"
   },
   "source": [
    "- Podemos observar que grande parte dos dados da nossa variável **classification** se concentra na categoria 1, isto é, são vinhos branco;\n"
   ]
  },
  {
   "cell_type": "code",
   "execution_count": 18,
   "metadata": {
    "colab": {
     "base_uri": "https://localhost:8080/",
     "height": 68
    },
    "colab_type": "code",
    "id": "p2T-bfU1kjrA",
    "outputId": "b9dad91c-36f6-4495-8947-7cac13d6585b"
   },
   "outputs": [
    {
     "data": {
      "text/plain": [
       "1    75.39\n",
       "0    24.61\n",
       "Name: classification, dtype: float64"
      ]
     },
     "execution_count": 18,
     "metadata": {},
     "output_type": "execute_result"
    }
   ],
   "source": [
    "banco[\"classification\"].value_counts(normalize = True).mul(100).round(2)"
   ]
  },
  {
   "cell_type": "markdown",
   "metadata": {
    "colab_type": "text",
    "id": "-_8aWllBoolf"
   },
   "source": [
    "- Não conheço muito sobre vinhos, principalmente as suas características, então não tenho muito conhecimento da área para falar;\n",
    "\n",
    "- Entretanto, a variável **total sulfur dioxide** apresenta grande variação e pode ser problemática no final, então devemos considerar a sua presença no modelo."
   ]
  },
  {
   "cell_type": "code",
   "execution_count": 19,
   "metadata": {
    "colab": {
     "base_uri": "https://localhost:8080/",
     "height": 390
    },
    "colab_type": "code",
    "id": "c2uqLa4Qknl1",
    "outputId": "1b946116-abf4-4fe4-ce21-de97e3655f91"
   },
   "outputs": [
    {
     "data": {
      "text/html": [
       "<div>\n",
       "<style scoped>\n",
       "    .dataframe tbody tr th:only-of-type {\n",
       "        vertical-align: middle;\n",
       "    }\n",
       "\n",
       "    .dataframe tbody tr th {\n",
       "        vertical-align: top;\n",
       "    }\n",
       "\n",
       "    .dataframe thead th {\n",
       "        text-align: right;\n",
       "    }\n",
       "</style>\n",
       "<table border=\"1\" class=\"dataframe\">\n",
       "  <thead>\n",
       "    <tr style=\"text-align: right;\">\n",
       "      <th></th>\n",
       "      <th>count</th>\n",
       "      <th>mean</th>\n",
       "      <th>std</th>\n",
       "      <th>min</th>\n",
       "      <th>25%</th>\n",
       "      <th>50%</th>\n",
       "      <th>75%</th>\n",
       "      <th>max</th>\n",
       "    </tr>\n",
       "  </thead>\n",
       "  <tbody>\n",
       "    <tr>\n",
       "      <th>fixed acidity</th>\n",
       "      <td>6497.0</td>\n",
       "      <td>7.22</td>\n",
       "      <td>1.30</td>\n",
       "      <td>3.80</td>\n",
       "      <td>6.40</td>\n",
       "      <td>7.00</td>\n",
       "      <td>7.70</td>\n",
       "      <td>15.90</td>\n",
       "    </tr>\n",
       "    <tr>\n",
       "      <th>volatile acidity</th>\n",
       "      <td>6497.0</td>\n",
       "      <td>0.34</td>\n",
       "      <td>0.16</td>\n",
       "      <td>0.08</td>\n",
       "      <td>0.23</td>\n",
       "      <td>0.29</td>\n",
       "      <td>0.40</td>\n",
       "      <td>1.58</td>\n",
       "    </tr>\n",
       "    <tr>\n",
       "      <th>citric acid</th>\n",
       "      <td>6497.0</td>\n",
       "      <td>0.32</td>\n",
       "      <td>0.15</td>\n",
       "      <td>0.00</td>\n",
       "      <td>0.25</td>\n",
       "      <td>0.31</td>\n",
       "      <td>0.39</td>\n",
       "      <td>1.66</td>\n",
       "    </tr>\n",
       "    <tr>\n",
       "      <th>residual sugar</th>\n",
       "      <td>6497.0</td>\n",
       "      <td>5.44</td>\n",
       "      <td>4.76</td>\n",
       "      <td>0.60</td>\n",
       "      <td>1.80</td>\n",
       "      <td>3.00</td>\n",
       "      <td>8.10</td>\n",
       "      <td>65.80</td>\n",
       "    </tr>\n",
       "    <tr>\n",
       "      <th>chlorides</th>\n",
       "      <td>6497.0</td>\n",
       "      <td>0.06</td>\n",
       "      <td>0.04</td>\n",
       "      <td>0.01</td>\n",
       "      <td>0.04</td>\n",
       "      <td>0.05</td>\n",
       "      <td>0.06</td>\n",
       "      <td>0.61</td>\n",
       "    </tr>\n",
       "    <tr>\n",
       "      <th>free sulfur dioxide</th>\n",
       "      <td>6497.0</td>\n",
       "      <td>30.53</td>\n",
       "      <td>17.75</td>\n",
       "      <td>1.00</td>\n",
       "      <td>17.00</td>\n",
       "      <td>29.00</td>\n",
       "      <td>41.00</td>\n",
       "      <td>289.00</td>\n",
       "    </tr>\n",
       "    <tr>\n",
       "      <th>total sulfur dioxide</th>\n",
       "      <td>6497.0</td>\n",
       "      <td>115.74</td>\n",
       "      <td>56.52</td>\n",
       "      <td>6.00</td>\n",
       "      <td>77.00</td>\n",
       "      <td>118.00</td>\n",
       "      <td>156.00</td>\n",
       "      <td>440.00</td>\n",
       "    </tr>\n",
       "    <tr>\n",
       "      <th>density</th>\n",
       "      <td>6497.0</td>\n",
       "      <td>0.99</td>\n",
       "      <td>0.00</td>\n",
       "      <td>0.99</td>\n",
       "      <td>0.99</td>\n",
       "      <td>0.99</td>\n",
       "      <td>1.00</td>\n",
       "      <td>1.04</td>\n",
       "    </tr>\n",
       "    <tr>\n",
       "      <th>pH</th>\n",
       "      <td>6497.0</td>\n",
       "      <td>3.22</td>\n",
       "      <td>0.16</td>\n",
       "      <td>2.72</td>\n",
       "      <td>3.11</td>\n",
       "      <td>3.21</td>\n",
       "      <td>3.32</td>\n",
       "      <td>4.01</td>\n",
       "    </tr>\n",
       "    <tr>\n",
       "      <th>sulphates</th>\n",
       "      <td>6497.0</td>\n",
       "      <td>0.53</td>\n",
       "      <td>0.15</td>\n",
       "      <td>0.22</td>\n",
       "      <td>0.43</td>\n",
       "      <td>0.51</td>\n",
       "      <td>0.60</td>\n",
       "      <td>2.00</td>\n",
       "    </tr>\n",
       "    <tr>\n",
       "      <th>alcohol</th>\n",
       "      <td>6497.0</td>\n",
       "      <td>10.49</td>\n",
       "      <td>1.19</td>\n",
       "      <td>8.00</td>\n",
       "      <td>9.50</td>\n",
       "      <td>10.30</td>\n",
       "      <td>11.30</td>\n",
       "      <td>14.90</td>\n",
       "    </tr>\n",
       "  </tbody>\n",
       "</table>\n",
       "</div>"
      ],
      "text/plain": [
       "                       count    mean    std   min    25%     50%     75%  \\\n",
       "fixed acidity         6497.0    7.22   1.30  3.80   6.40    7.00    7.70   \n",
       "volatile acidity      6497.0    0.34   0.16  0.08   0.23    0.29    0.40   \n",
       "citric acid           6497.0    0.32   0.15  0.00   0.25    0.31    0.39   \n",
       "residual sugar        6497.0    5.44   4.76  0.60   1.80    3.00    8.10   \n",
       "chlorides             6497.0    0.06   0.04  0.01   0.04    0.05    0.06   \n",
       "free sulfur dioxide   6497.0   30.53  17.75  1.00  17.00   29.00   41.00   \n",
       "total sulfur dioxide  6497.0  115.74  56.52  6.00  77.00  118.00  156.00   \n",
       "density               6497.0    0.99   0.00  0.99   0.99    0.99    1.00   \n",
       "pH                    6497.0    3.22   0.16  2.72   3.11    3.21    3.32   \n",
       "sulphates             6497.0    0.53   0.15  0.22   0.43    0.51    0.60   \n",
       "alcohol               6497.0   10.49   1.19  8.00   9.50   10.30   11.30   \n",
       "\n",
       "                         max  \n",
       "fixed acidity          15.90  \n",
       "volatile acidity        1.58  \n",
       "citric acid             1.66  \n",
       "residual sugar         65.80  \n",
       "chlorides               0.61  \n",
       "free sulfur dioxide   289.00  \n",
       "total sulfur dioxide  440.00  \n",
       "density                 1.04  \n",
       "pH                      4.01  \n",
       "sulphates               2.00  \n",
       "alcohol                14.90  "
      ]
     },
     "execution_count": 19,
     "metadata": {},
     "output_type": "execute_result"
    }
   ],
   "source": [
    "banco.drop([\"classification\", \"quality\"], axis = 1).describe().T.round(2)"
   ]
  },
  {
   "cell_type": "markdown",
   "metadata": {
    "colab_type": "text",
    "id": "6a_vg-dopjgX"
   },
   "source": [
    "- É notável a correlação linear forte e negativa entre as variáveis **density** e **alcohol**;\n",
    "\n",
    "- Assim como muitas das variáveis não possuem nenhuma ou pouca correlação entre si;\n"
   ]
  },
  {
   "cell_type": "code",
   "execution_count": 20,
   "metadata": {
    "colab": {
     "base_uri": "https://localhost:8080/",
     "height": 481
    },
    "colab_type": "code",
    "id": "uhT8GEEqoEMV",
    "outputId": "bf41deae-1ae3-4010-ecb0-f2ef0455040f"
   },
   "outputs": [
    {
     "data": {
      "image/png": "[encoded data removed]",
      "text/plain": [
       "<Figure size 720x432 with 2 Axes>"
      ]
     },
     "metadata": {
      "needs_background": "light"
     },
     "output_type": "display_data"
    }
   ],
   "source": [
    "corr_var_quant = banco.drop([\"classification\", \"quality\"], axis = 1).corr()\n",
    "\n",
    "plt.figure(figsize = [10, 6])\n",
    "sns.heatmap(data = corr_var_quant, vmin = -1, vmax = 1, linewidths = 0.01, linecolor = \"black\", cmap = \"BrBG\")\n",
    "plt.xlabel(\"\", fontsize = 14, color = \"black\")\n",
    "plt.ylabel(\"\", fontsize = 14, color = \"black\")\n",
    "plt.tick_params(axis = \"x\", labelsize = 12, labelcolor = \"black\")\n",
    "plt.tick_params(axis = \"y\", labelsize = 12, labelcolor = \"black\")\n",
    "plt.show()"
   ]
  },
  {
   "cell_type": "markdown",
   "metadata": {
    "colab_type": "text",
    "id": "v4V731vDIMIS"
   },
   "source": [
    "- A maioria das variáveis possuem distribuição assimétrica positiva, isto é, grande quantidade de valores à esquerda;\n",
    "\n",
    "- O pH tem cara de uma distribuição normal."
   ]
  },
  {
   "cell_type": "code",
   "execution_count": 21,
   "metadata": {
    "colab": {
     "base_uri": "https://localhost:8080/",
     "height": 1000
    },
    "colab_type": "code",
    "id": "s7nn29v1GC-s",
    "outputId": "72ecc6d5-b4cf-4616-8caa-bb75280dacb8"
   },
   "outputs": [
    {
     "data": {
      "image/png": "[encoded data removed]",
      "text/plain": [
       "<Figure size 1296x1296 with 12 Axes>"
      ]
     },
     "metadata": {
      "needs_background": "light"
     },
     "output_type": "display_data"
    }
   ],
   "source": [
    "banco_quant = banco.drop([\"classification\", \"quality\"], axis = 1)\n",
    "\n",
    "\n",
    "f, axes = plt.subplots(4, 3, figsize = (18, 18), sharex = False)\n",
    "\n",
    "for ax, feature in zip(axes.flat, banco_quant.columns):\n",
    "    sns.distplot(banco_quant[feature] , color = \"orangered\", hist = False, ax = ax)"
   ]
  },
  {
   "cell_type": "markdown",
   "metadata": {
    "colab_type": "text",
    "id": "lIEqnZVbSyQb"
   },
   "source": [
    "- Apesar da variável possuir determinadas categorias que não são tão representativas, não irei agrupá-las em duas ou mais categorias.\n"
   ]
  },
  {
   "cell_type": "code",
   "execution_count": 22,
   "metadata": {
    "colab": {
     "base_uri": "https://localhost:8080/",
     "height": 153
    },
    "colab_type": "code",
    "id": "SWBhIYWZOlh4",
    "outputId": "31500f96-13df-4f0b-d318-c752fe1de232"
   },
   "outputs": [
    {
     "data": {
      "text/plain": [
       "6    43.65\n",
       "5    32.91\n",
       "7    16.61\n",
       "4     3.32\n",
       "8     2.97\n",
       "3     0.46\n",
       "9     0.08\n",
       "Name: quality, dtype: float64"
      ]
     },
     "execution_count": 22,
     "metadata": {},
     "output_type": "execute_result"
    }
   ],
   "source": [
    "banco[\"quality\"].value_counts(normalize = True).mul(100).round(2)"
   ]
  },
  {
   "cell_type": "markdown",
   "metadata": {
    "colab_type": "text",
    "id": "G65lqXmqO1Iw"
   },
   "source": [
    "## 7.2. Pré-processamento dos dados\n",
    "\n",
    "- Apenas uma leve modificação na variável **quality**;\n",
    "\n",
    "- Por ela possuir muitas categorias, então o ideal seria criar dummies a partir dela;"
   ]
  },
  {
   "cell_type": "code",
   "execution_count": 23,
   "metadata": {
    "colab": {
     "base_uri": "https://localhost:8080/",
     "height": 258
    },
    "colab_type": "code",
    "id": "V0lPPof2Pnz9",
    "outputId": "3b19f5ba-291e-45db-df16-03a8dce34c53"
   },
   "outputs": [
    {
     "data": {
      "text/html": [
       "<div>\n",
       "<style scoped>\n",
       "    .dataframe tbody tr th:only-of-type {\n",
       "        vertical-align: middle;\n",
       "    }\n",
       "\n",
       "    .dataframe tbody tr th {\n",
       "        vertical-align: top;\n",
       "    }\n",
       "\n",
       "    .dataframe thead th {\n",
       "        text-align: right;\n",
       "    }\n",
       "</style>\n",
       "<table border=\"1\" class=\"dataframe\">\n",
       "  <thead>\n",
       "    <tr style=\"text-align: right;\">\n",
       "      <th></th>\n",
       "      <th>fixed acidity</th>\n",
       "      <th>volatile acidity</th>\n",
       "      <th>citric acid</th>\n",
       "      <th>residual sugar</th>\n",
       "      <th>chlorides</th>\n",
       "      <th>free sulfur dioxide</th>\n",
       "      <th>total sulfur dioxide</th>\n",
       "      <th>density</th>\n",
       "      <th>pH</th>\n",
       "      <th>sulphates</th>\n",
       "      <th>alcohol</th>\n",
       "      <th>classification</th>\n",
       "      <th>quality_3</th>\n",
       "      <th>quality_4</th>\n",
       "      <th>quality_5</th>\n",
       "      <th>quality_6</th>\n",
       "      <th>quality_7</th>\n",
       "      <th>quality_8</th>\n",
       "      <th>quality_9</th>\n",
       "    </tr>\n",
       "  </thead>\n",
       "  <tbody>\n",
       "    <tr>\n",
       "      <th>0</th>\n",
       "      <td>7.4</td>\n",
       "      <td>0.70</td>\n",
       "      <td>0.00</td>\n",
       "      <td>1.9</td>\n",
       "      <td>0.076</td>\n",
       "      <td>11.0</td>\n",
       "      <td>34.0</td>\n",
       "      <td>0.9978</td>\n",
       "      <td>3.51</td>\n",
       "      <td>0.56</td>\n",
       "      <td>9.4</td>\n",
       "      <td>0</td>\n",
       "      <td>0</td>\n",
       "      <td>0</td>\n",
       "      <td>1</td>\n",
       "      <td>0</td>\n",
       "      <td>0</td>\n",
       "      <td>0</td>\n",
       "      <td>0</td>\n",
       "    </tr>\n",
       "    <tr>\n",
       "      <th>1</th>\n",
       "      <td>7.8</td>\n",
       "      <td>0.88</td>\n",
       "      <td>0.00</td>\n",
       "      <td>2.6</td>\n",
       "      <td>0.098</td>\n",
       "      <td>25.0</td>\n",
       "      <td>67.0</td>\n",
       "      <td>0.9968</td>\n",
       "      <td>3.20</td>\n",
       "      <td>0.68</td>\n",
       "      <td>9.8</td>\n",
       "      <td>0</td>\n",
       "      <td>0</td>\n",
       "      <td>0</td>\n",
       "      <td>1</td>\n",
       "      <td>0</td>\n",
       "      <td>0</td>\n",
       "      <td>0</td>\n",
       "      <td>0</td>\n",
       "    </tr>\n",
       "    <tr>\n",
       "      <th>2</th>\n",
       "      <td>7.8</td>\n",
       "      <td>0.76</td>\n",
       "      <td>0.04</td>\n",
       "      <td>2.3</td>\n",
       "      <td>0.092</td>\n",
       "      <td>15.0</td>\n",
       "      <td>54.0</td>\n",
       "      <td>0.9970</td>\n",
       "      <td>3.26</td>\n",
       "      <td>0.65</td>\n",
       "      <td>9.8</td>\n",
       "      <td>0</td>\n",
       "      <td>0</td>\n",
       "      <td>0</td>\n",
       "      <td>1</td>\n",
       "      <td>0</td>\n",
       "      <td>0</td>\n",
       "      <td>0</td>\n",
       "      <td>0</td>\n",
       "    </tr>\n",
       "    <tr>\n",
       "      <th>3</th>\n",
       "      <td>11.2</td>\n",
       "      <td>0.28</td>\n",
       "      <td>0.56</td>\n",
       "      <td>1.9</td>\n",
       "      <td>0.075</td>\n",
       "      <td>17.0</td>\n",
       "      <td>60.0</td>\n",
       "      <td>0.9980</td>\n",
       "      <td>3.16</td>\n",
       "      <td>0.58</td>\n",
       "      <td>9.8</td>\n",
       "      <td>0</td>\n",
       "      <td>0</td>\n",
       "      <td>0</td>\n",
       "      <td>0</td>\n",
       "      <td>1</td>\n",
       "      <td>0</td>\n",
       "      <td>0</td>\n",
       "      <td>0</td>\n",
       "    </tr>\n",
       "    <tr>\n",
       "      <th>4</th>\n",
       "      <td>7.4</td>\n",
       "      <td>0.70</td>\n",
       "      <td>0.00</td>\n",
       "      <td>1.9</td>\n",
       "      <td>0.076</td>\n",
       "      <td>11.0</td>\n",
       "      <td>34.0</td>\n",
       "      <td>0.9978</td>\n",
       "      <td>3.51</td>\n",
       "      <td>0.56</td>\n",
       "      <td>9.4</td>\n",
       "      <td>0</td>\n",
       "      <td>0</td>\n",
       "      <td>0</td>\n",
       "      <td>1</td>\n",
       "      <td>0</td>\n",
       "      <td>0</td>\n",
       "      <td>0</td>\n",
       "      <td>0</td>\n",
       "    </tr>\n",
       "  </tbody>\n",
       "</table>\n",
       "</div>"
      ],
      "text/plain": [
       "   fixed acidity  volatile acidity  citric acid  residual sugar  chlorides  \\\n",
       "0            7.4              0.70         0.00             1.9      0.076   \n",
       "1            7.8              0.88         0.00             2.6      0.098   \n",
       "2            7.8              0.76         0.04             2.3      0.092   \n",
       "3           11.2              0.28         0.56             1.9      0.075   \n",
       "4            7.4              0.70         0.00             1.9      0.076   \n",
       "\n",
       "   free sulfur dioxide  total sulfur dioxide  density    pH  sulphates  \\\n",
       "0                 11.0                  34.0   0.9978  3.51       0.56   \n",
       "1                 25.0                  67.0   0.9968  3.20       0.68   \n",
       "2                 15.0                  54.0   0.9970  3.26       0.65   \n",
       "3                 17.0                  60.0   0.9980  3.16       0.58   \n",
       "4                 11.0                  34.0   0.9978  3.51       0.56   \n",
       "\n",
       "   alcohol  classification  quality_3  quality_4  quality_5  quality_6  \\\n",
       "0      9.4               0          0          0          1          0   \n",
       "1      9.8               0          0          0          1          0   \n",
       "2      9.8               0          0          0          1          0   \n",
       "3      9.8               0          0          0          0          1   \n",
       "4      9.4               0          0          0          1          0   \n",
       "\n",
       "   quality_7  quality_8  quality_9  \n",
       "0          0          0          0  \n",
       "1          0          0          0  \n",
       "2          0          0          0  \n",
       "3          0          0          0  \n",
       "4          0          0          0  "
      ]
     },
     "execution_count": 23,
     "metadata": {},
     "output_type": "execute_result"
    }
   ],
   "source": [
    "banco = pd.get_dummies(banco, columns = [\"quality\"])\n",
    "\n",
    "banco.head()"
   ]
  },
  {
   "cell_type": "markdown",
   "metadata": {
    "colab_type": "text",
    "id": "6kO_NRNGUOY_"
   },
   "source": [
    "## 7.3. Divisão em treino e teste\n",
    "\n",
    "- Ainda utilizando a lógica de dividir em 50/50, temos:"
   ]
  },
  {
   "cell_type": "code",
   "execution_count": 24,
   "metadata": {
    "colab": {
     "base_uri": "https://localhost:8080/",
     "height": 34
    },
    "colab_type": "code",
    "id": "sjnxTrwuQlQp",
    "outputId": "f4deb3de-e2e4-431c-cc4e-cc3e4a42b33b"
   },
   "outputs": [
    {
     "name": "stdout",
     "output_type": "stream",
     "text": [
      "(3248, 18) (3248,) (3249, 18) (3249,)\n"
     ]
    }
   ],
   "source": [
    "x = banco.drop(\"classification\", axis = 1)\n",
    "y = banco[\"classification\"]\n",
    "\n",
    "\n",
    "x_treino, x_teste, y_treino, y_teste = train_test_split(x, y, train_size = 0.5, random_state = 1234, stratify = y)\n",
    "\n",
    "print(x_treino.shape, y_treino.shape, x_teste.shape, y_teste.shape)"
   ]
  },
  {
   "cell_type": "markdown",
   "metadata": {
    "colab_type": "text",
    "id": "VIj_GOJqUBMt"
   },
   "source": [
    "## 7.4. Aplicação do modelo\n",
    "\n",
    "- Os parâmetros que iremos setar serão os mesmos para o de regressão;\n",
    "\n",
    "- Mais para frente apresento a vocês um jeito de como testar vários desses parâmetros de uma vez;"
   ]
  },
  {
   "cell_type": "code",
   "execution_count": 25,
   "metadata": {
    "colab": {
     "base_uri": "https://localhost:8080/",
     "height": 119
    },
    "colab_type": "code",
    "id": "GowdvY4VUDev",
    "outputId": "d5deff4d-5c09-4806-db28-89440e1a1ebf"
   },
   "outputs": [
    {
     "data": {
      "text/plain": [
       "DecisionTreeClassifier(max_depth=3, random_state=1234)"
      ]
     },
     "execution_count": 25,
     "metadata": {},
     "output_type": "execute_result"
    }
   ],
   "source": [
    "from sklearn.tree import DecisionTreeClassifier\n",
    "\n",
    "dtc = DecisionTreeClassifier(random_state = 1234, max_depth = 3)\n",
    "\n",
    "dtc.fit(x_treino, y_treino)"
   ]
  },
  {
   "cell_type": "markdown",
   "metadata": {
    "colab_type": "text",
    "id": "hKwTVYB9VHDC"
   },
   "source": [
    "- Agora com modelo pronto, podemos predizer para nossos dados de teste e verificar os erros;"
   ]
  },
  {
   "cell_type": "code",
   "execution_count": 26,
   "metadata": {
    "colab": {
     "base_uri": "https://localhost:8080/",
     "height": 34
    },
    "colab_type": "code",
    "id": "7aQ9pDLkVHQw",
    "outputId": "fe1a8707-fd7e-4e4d-d887-26d88a65ec9b"
   },
   "outputs": [
    {
     "data": {
      "text/plain": [
       "array([0, 0, 1, 0, 1, 1])"
      ]
     },
     "execution_count": 26,
     "metadata": {},
     "output_type": "execute_result"
    }
   ],
   "source": [
    "y_pred = dtc.predict(x_teste)\n",
    "\n",
    "y_pred[:6].round(2)"
   ]
  },
  {
   "cell_type": "markdown",
   "metadata": {
    "colab_type": "text",
    "id": "L3gc3lY9Ve7r"
   },
   "source": [
    "- A partir da nossa matriz de confusão, percebemos que o modelo teve poucos erros (Tipo I e Tipo II);\n",
    "\n",
    "- O modelo conseguiu acertar grande parte de ambas as classes;"
   ]
  },
  {
   "cell_type": "code",
   "execution_count": 27,
   "metadata": {
    "colab": {
     "base_uri": "https://localhost:8080/",
     "height": 173
    },
    "colab_type": "code",
    "id": "zXheLppbVHmg",
    "outputId": "00d90dc5-062a-4e57-b702-efd7f0e28a45"
   },
   "outputs": [
    {
     "data": {
      "text/html": [
       "<div>\n",
       "<style scoped>\n",
       "    .dataframe tbody tr th:only-of-type {\n",
       "        vertical-align: middle;\n",
       "    }\n",
       "\n",
       "    .dataframe tbody tr th {\n",
       "        vertical-align: top;\n",
       "    }\n",
       "\n",
       "    .dataframe thead th {\n",
       "        text-align: right;\n",
       "    }\n",
       "</style>\n",
       "<table border=\"1\" class=\"dataframe\">\n",
       "  <thead>\n",
       "    <tr style=\"text-align: right;\">\n",
       "      <th>Predito pelo modelo</th>\n",
       "      <th>0</th>\n",
       "      <th>1</th>\n",
       "      <th>All</th>\n",
       "    </tr>\n",
       "    <tr>\n",
       "      <th>Verdadeiro</th>\n",
       "      <th></th>\n",
       "      <th></th>\n",
       "      <th></th>\n",
       "    </tr>\n",
       "  </thead>\n",
       "  <tbody>\n",
       "    <tr>\n",
       "      <th>0</th>\n",
       "      <td>755</td>\n",
       "      <td>45</td>\n",
       "      <td>800</td>\n",
       "    </tr>\n",
       "    <tr>\n",
       "      <th>1</th>\n",
       "      <td>49</td>\n",
       "      <td>2400</td>\n",
       "      <td>2449</td>\n",
       "    </tr>\n",
       "    <tr>\n",
       "      <th>All</th>\n",
       "      <td>804</td>\n",
       "      <td>2445</td>\n",
       "      <td>3249</td>\n",
       "    </tr>\n",
       "  </tbody>\n",
       "</table>\n",
       "</div>"
      ],
      "text/plain": [
       "Predito pelo modelo    0     1   All\n",
       "Verdadeiro                          \n",
       "0                    755    45   800\n",
       "1                     49  2400  2449\n",
       "All                  804  2445  3249"
      ]
     },
     "execution_count": 27,
     "metadata": {},
     "output_type": "execute_result"
    }
   ],
   "source": [
    "pd.crosstab(y_teste, y_pred, rownames = [\"Verdadeiro\"], colnames = [\"Predito pelo modelo\"], margins = True)"
   ]
  },
  {
   "cell_type": "markdown",
   "metadata": {
    "colab_type": "text",
    "id": "xOuru-LgWU8W"
   },
   "source": [
    "- Levando em consideração que não temos nenhuma métrica em mente, só queremos verificar nossos acertos, podemos utilizar a acurácia como métrica de avaliação;"
   ]
  },
  {
   "cell_type": "code",
   "execution_count": 28,
   "metadata": {
    "colab": {
     "base_uri": "https://localhost:8080/",
     "height": 34
    },
    "colab_type": "code",
    "id": "ILeAlcOWV33f",
    "outputId": "e3d59160-52a2-4596-e12d-406b5716bae6"
   },
   "outputs": [
    {
     "name": "stdout",
     "output_type": "stream",
     "text": [
      "A acurácia da árvore de decisão é de 0.9711\n"
     ]
    }
   ],
   "source": [
    "from sklearn.metrics import accuracy_score\n",
    "\n",
    "acc = round(accuracy_score(y_teste, y_pred), 4)\n",
    "\n",
    "print(f\"A acurácia da árvore de decisão é de {acc}\")"
   ]
  },
  {
   "cell_type": "markdown",
   "metadata": {
    "colab_type": "text",
    "id": "0irAbfDcWd60"
   },
   "source": [
    "- Abaixo temos uma visualização mais geral sobre as demais métricas;\n",
    "\n",
    "- Nela podemos observar que o modelo obteve valores altos para as demais métricas, além da acurácia;"
   ]
  },
  {
   "cell_type": "code",
   "execution_count": 29,
   "metadata": {
    "colab": {
     "base_uri": "https://localhost:8080/",
     "height": 170
    },
    "colab_type": "code",
    "id": "E4JaUgtkVHzg",
    "outputId": "dc1e488f-7a5f-49bd-8a62-6c01e1e33dc1"
   },
   "outputs": [
    {
     "name": "stdout",
     "output_type": "stream",
     "text": [
      "              precision    recall  f1-score   support\n",
      "\n",
      "           0       0.94      0.94      0.94       800\n",
      "           1       0.98      0.98      0.98      2449\n",
      "\n",
      "    accuracy                           0.97      3249\n",
      "   macro avg       0.96      0.96      0.96      3249\n",
      "weighted avg       0.97      0.97      0.97      3249\n",
      "\n"
     ]
    }
   ],
   "source": [
    "from sklearn.metrics import classification_report\n",
    "\n",
    "print(classification_report(y_teste, y_pred))"
   ]
  },
  {
   "cell_type": "markdown",
   "metadata": {
    "colab_type": "text",
    "id": "EFbDsCvgXq51"
   },
   "source": [
    "- A variável **total sulfur dioxide** foi a considerada como nó-raiz, logo é a mais pura (critério Gini), dado que o modelo de Árvore de Decisão viu todos os dados;\n",
    "\n",
    "- Observe que, diferente das folhas da árvore de decisão onde tínhamos um valor como output (19.245, 6.743, etc), neste caso, temos duas únicas possíveis saídas, 0 ou 1;"
   ]
  },
  {
   "cell_type": "code",
   "execution_count": 30,
   "metadata": {
    "colab": {
     "base_uri": "https://localhost:8080/",
     "height": 466
    },
    "colab_type": "code",
    "id": "2SKiIXDOXir9",
    "outputId": "d20720b9-ffe6-4866-bdff-26d396525c62"
   },
   "outputs": [
    {
     "data": {
      "image/png": "[encoded data removed]",
      "text/plain": [
       "<Figure size 1152x576 with 1 Axes>"
      ]
     },
     "metadata": {
      "needs_background": "light"
     },
     "output_type": "display_data"
    }
   ],
   "source": [
    "var_names = list(x_treino.columns)\n",
    "\n",
    "plt.figure(figsize = [16, 8])\n",
    "plot_tree(dtc, filled = True, feature_names = var_names, class_names = ['0', '1'])\n",
    "plt.show()"
   ]
  },
  {
   "cell_type": "markdown",
   "metadata": {
    "colab_type": "text",
    "id": "Inaou1VyjM_J"
   },
   "source": [
    "# 8. GridSearch e RandomSearch\n",
    "\n",
    "---\n",
    "\n",
    "- Como mencionei acima, temos alguns parâmetros para se checar na Árvore de Decisão (note que eu mencionei os mais conhecidos, ainda tem mais alguns);\n",
    "\n",
    "- Claro, você pode saber que alguns destes parâmetros setados como **default** será a melhor opção;\n",
    "\n",
    "- Ambos possuem o mesmo objetivo. A partir de uma combinação de (hiper)parâmetros, pegue a melhor que melhore a minha métrica objetivo;\n",
    "\n",
    "- Acurácia, Recall, Precision, etc. Depende do seu problema."
   ]
  },
  {
   "cell_type": "markdown",
   "metadata": {
    "colab_type": "text",
    "id": "lmwYK4AHlY5x"
   },
   "source": [
    "## 8.1. GridSearch\n",
    "\n",
    "- Esse método de busca é chamado de \"exaustivo\", pois ele literalmente faz todas as combinações de parâmetros que você passar para o modelo;\n",
    "\n",
    "- Exemplo, se você seta os seguintes parâmetros e suas possibilidades:\n",
    "\n",
    "  - max_depth = [3, 5, 7, 9]\n",
    "  - Min_samples_split = [10, 20, ..., 100]\n",
    "  - Min_samples_leaf = [10, 20, ..., 100]\n",
    "\n",
    "- Você vai ter $ 4 \\times 10 \\times 10 = 400 $ combinações de parâmetros. Isto é, 400 modelos que irão ser rodados, com todos os dados que você deixar disponível para o modelo;\n",
    "\n",
    "- Isso pode ser custoso dependendo do seu tempo e do tamanho dos seus dados;\n",
    "\n",
    "- Como exemplo, irei utilizar o nosso modelo de classificação e a nossa métrica de avaliação será a acurácia, ou seja, queremos uma melhor combinação dos parâmetros para que a acurácia seja a máxima possível."
   ]
  },
  {
   "cell_type": "code",
   "execution_count": 31,
   "metadata": {
    "colab": {
     "base_uri": "https://localhost:8080/",
     "height": 374
    },
    "colab_type": "code",
    "id": "jSzc4XXxnnzs",
    "outputId": "347e76fe-92a7-4fdc-b5d5-47a5da9b6adc"
   },
   "outputs": [
    {
     "data": {
      "text/plain": [
       "GridSearchCV(cv=3, estimator=DecisionTreeClassifier(random_state=1234),\n",
       "             n_jobs=-1,\n",
       "             param_grid={'max_depth': [3, 5, 7, 9],\n",
       "                         'min_samples_leaf': [10, 20, 30, 40, 50, 60, 70, 80,\n",
       "                                              90],\n",
       "                         'min_samples_split': [10, 20, 30, 40, 50, 60, 70, 80,\n",
       "                                               90]},\n",
       "             scoring='accuracy')"
      ]
     },
     "execution_count": 31,
     "metadata": {},
     "output_type": "execute_result"
    }
   ],
   "source": [
    "from sklearn.model_selection import GridSearchCV\n",
    "\n",
    "# Parâmetros\n",
    "\n",
    "param = {\n",
    "    'max_depth': [3, 5, 7, 9],\n",
    "    'min_samples_split': list(range(10, 100, 10)),\n",
    "    'min_samples_leaf': list(range(10, 100, 10))\n",
    "}\n",
    "\n",
    "# Criando o objeto do modelo\n",
    "\n",
    "dtc = DecisionTreeClassifier(random_state = 1234)\n",
    "\n",
    "# Treinando o modelo com a combinação de parâmetros\n",
    "\n",
    "modelo_final_grid = GridSearchCV(dtc, param, cv = 3, n_jobs = -1, scoring = \"accuracy\")\n",
    "\n",
    "modelo_final_grid.fit(x_treino, y_treino)"
   ]
  },
  {
   "cell_type": "markdown",
   "metadata": {
    "colab_type": "text",
    "id": "ulb8lhPmq-LQ"
   },
   "source": [
    "- Abaixo podemos ver quais os melhores parâmetros o GridSearch escolheu para gente."
   ]
  },
  {
   "cell_type": "code",
   "execution_count": 32,
   "metadata": {
    "colab": {
     "base_uri": "https://localhost:8080/",
     "height": 34
    },
    "colab_type": "code",
    "id": "VPhIMAvgqOgC",
    "outputId": "85922855-d66f-4df7-89d7-8bc0e8cb9b35"
   },
   "outputs": [
    {
     "data": {
      "text/plain": [
       "{'max_depth': 5, 'min_samples_leaf': 10, 'min_samples_split': 10}"
      ]
     },
     "execution_count": 32,
     "metadata": {},
     "output_type": "execute_result"
    }
   ],
   "source": [
    "modelo_final_grid.best_params_"
   ]
  },
  {
   "cell_type": "markdown",
   "metadata": {
    "colab_type": "text",
    "id": "6_3wkfGorQk_"
   },
   "source": [
    "- Podemos novamente fazer a previsão para nossos dados de teste."
   ]
  },
  {
   "cell_type": "code",
   "execution_count": 33,
   "metadata": {
    "colab": {
     "base_uri": "https://localhost:8080/",
     "height": 34
    },
    "colab_type": "code",
    "id": "7JAhk1klrDfl",
    "outputId": "3481fa15-18a7-4ed5-ce1f-31228b638731"
   },
   "outputs": [
    {
     "data": {
      "text/plain": [
       "array([0, 0, 1, 0, 1, 1])"
      ]
     },
     "execution_count": 33,
     "metadata": {},
     "output_type": "execute_result"
    }
   ],
   "source": [
    "y_pred = modelo_final_grid.predict(x_teste)\n",
    "\n",
    "y_pred[:6]"
   ]
  },
  {
   "cell_type": "markdown",
   "metadata": {
    "colab_type": "text",
    "id": "6GyAR-_hrknR"
   },
   "source": [
    "- Quando comparamos com o nosso primeiro modelo, podemos observar que o Falso Positivo diminui em 1 unidade;\n",
    "\n",
    "- E o Falso Negativo diminui em algumas, indicando que a acurácia do modelo com o GridSearch será melhor que o nosso primeiro modelo."
   ]
  },
  {
   "cell_type": "code",
   "execution_count": 34,
   "metadata": {
    "colab": {
     "base_uri": "https://localhost:8080/",
     "height": 173
    },
    "colab_type": "code",
    "id": "n-hMvl0CrPXf",
    "outputId": "f5f75cb4-ba79-4571-f06b-0b5071ae383c"
   },
   "outputs": [
    {
     "data": {
      "text/html": [
       "<div>\n",
       "<style scoped>\n",
       "    .dataframe tbody tr th:only-of-type {\n",
       "        vertical-align: middle;\n",
       "    }\n",
       "\n",
       "    .dataframe tbody tr th {\n",
       "        vertical-align: top;\n",
       "    }\n",
       "\n",
       "    .dataframe thead th {\n",
       "        text-align: right;\n",
       "    }\n",
       "</style>\n",
       "<table border=\"1\" class=\"dataframe\">\n",
       "  <thead>\n",
       "    <tr style=\"text-align: right;\">\n",
       "      <th>Predito pelo modelo</th>\n",
       "      <th>0</th>\n",
       "      <th>1</th>\n",
       "      <th>All</th>\n",
       "    </tr>\n",
       "    <tr>\n",
       "      <th>Verdadeiro</th>\n",
       "      <th></th>\n",
       "      <th></th>\n",
       "      <th></th>\n",
       "    </tr>\n",
       "  </thead>\n",
       "  <tbody>\n",
       "    <tr>\n",
       "      <th>0</th>\n",
       "      <td>756</td>\n",
       "      <td>44</td>\n",
       "      <td>800</td>\n",
       "    </tr>\n",
       "    <tr>\n",
       "      <th>1</th>\n",
       "      <td>28</td>\n",
       "      <td>2421</td>\n",
       "      <td>2449</td>\n",
       "    </tr>\n",
       "    <tr>\n",
       "      <th>All</th>\n",
       "      <td>784</td>\n",
       "      <td>2465</td>\n",
       "      <td>3249</td>\n",
       "    </tr>\n",
       "  </tbody>\n",
       "</table>\n",
       "</div>"
      ],
      "text/plain": [
       "Predito pelo modelo    0     1   All\n",
       "Verdadeiro                          \n",
       "0                    756    44   800\n",
       "1                     28  2421  2449\n",
       "All                  784  2465  3249"
      ]
     },
     "execution_count": 34,
     "metadata": {},
     "output_type": "execute_result"
    }
   ],
   "source": [
    "pd.crosstab(y_teste, y_pred, rownames = [\"Verdadeiro\"], colnames = [\"Predito pelo modelo\"], margins = True)"
   ]
  },
  {
   "cell_type": "markdown",
   "metadata": {
    "colab_type": "text",
    "id": "JM571WIkr329"
   },
   "source": [
    "- Enquanto a acurácia do nosso primeiro modelo foi de 0.9711, podemos observar uma mínima melhora (não deixa de ser melhora né) quando comparamos ambas."
   ]
  },
  {
   "cell_type": "code",
   "execution_count": 35,
   "metadata": {
    "colab": {
     "base_uri": "https://localhost:8080/",
     "height": 34
    },
    "colab_type": "code",
    "id": "_1MQi0IxrcT4",
    "outputId": "bfa8d64b-c218-4d95-e94a-c0bcbf013415"
   },
   "outputs": [
    {
     "name": "stdout",
     "output_type": "stream",
     "text": [
      "A acurácia da árvore de decisão com o GridSearch é de 0.9778\n"
     ]
    }
   ],
   "source": [
    "acc = round(accuracy_score(y_teste, y_pred), 4)\n",
    "\n",
    "print(f\"A acurácia da árvore de decisão com o GridSearch é de {acc}\")"
   ]
  },
  {
   "cell_type": "markdown",
   "metadata": {
    "colab_type": "text",
    "id": "jiOXQ7DCsNz6"
   },
   "source": [
    "## 8.2. RandomSearch\n",
    "\n",
    "- O RandomSearch não procura exaustivamente todas as combinações de parâmetros e sim aleatoriamente algumas combinações;\n",
    "\n",
    "- Logo, ele não é tão \"lento\" quanto o Grid que literalmente procura todas as combinações;\n",
    "\n",
    "- Ele sempre terá um número mínimo de combinações, mesmo se passarmos uma pequena lista de valores para ele."
   ]
  },
  {
   "cell_type": "code",
   "execution_count": 36,
   "metadata": {
    "colab": {},
    "colab_type": "code",
    "id": "JUZm_n4buIzz"
   },
   "outputs": [],
   "source": [
    "from sklearn.model_selection import RandomizedSearchCV\n",
    "\n",
    "# Parâmetros\n",
    "\n",
    "param = {\n",
    "    'max_depth': [3, 5, 7, 9],\n",
    "    'min_samples_split': list(range(10, 100, 10)),\n",
    "    'min_samples_leaf': list(range(10, 100, 10))\n",
    "}\n",
    "\n",
    "# Criando o objeto do modelo\n",
    "\n",
    "dtc = DecisionTreeClassifier(random_state = 1234)\n",
    "\n",
    "# Treinando o modelo com a combinação de parâmetros\n",
    "\n",
    "modelo_final_random = RandomizedSearchCV(dtc, param, cv = 3, n_jobs = -1, scoring = \"accuracy\")\n",
    "\n",
    "modelo_final_random.fit(x_treino, y_treino)\n",
    "\n",
    "y_pred = modelo_final_random.predict(x_teste)"
   ]
  },
  {
   "cell_type": "markdown",
   "metadata": {
    "colab_type": "text",
    "id": "u9YW9mokua6i"
   },
   "source": [
    "- Pode-se notar que o valor escolhido pelo RandomSearch para o `max_depth` foi diferente que o GridSearch nos mostrou;\n",
    "\n",
    "- Entretanto, os restantes dos parâmetros foram os mesmos."
   ]
  },
  {
   "cell_type": "code",
   "execution_count": 37,
   "metadata": {
    "colab": {
     "base_uri": "https://localhost:8080/",
     "height": 34
    },
    "colab_type": "code",
    "id": "VLz1BSzOuV4A",
    "outputId": "078260bc-6e76-4e56-de18-f06c2ed19c28"
   },
   "outputs": [
    {
     "data": {
      "text/plain": [
       "{'min_samples_split': 90, 'min_samples_leaf': 10, 'max_depth': 9}"
      ]
     },
     "execution_count": 37,
     "metadata": {},
     "output_type": "execute_result"
    }
   ],
   "source": [
    "modelo_final_random.best_params_"
   ]
  },
  {
   "cell_type": "markdown",
   "metadata": {
    "colab_type": "text",
    "id": "t0PWkWQwvHFx"
   },
   "source": [
    "- É notável uma piora nos Falsos Positivos, quando comparado com o modelo simples que fizemos e o modelo com GridSearch;\n",
    "\n",
    "- Entretanto, podemos perceber uma melhora nos Falsos Negativos também quando comparado com ambos os modelos;"
   ]
  },
  {
   "cell_type": "code",
   "execution_count": 38,
   "metadata": {
    "colab": {
     "base_uri": "https://localhost:8080/",
     "height": 173
    },
    "colab_type": "code",
    "id": "7VmEMkfvvA5V",
    "outputId": "6d938f02-2b31-4de6-d31f-c4ccf4e8cf50"
   },
   "outputs": [
    {
     "data": {
      "text/html": [
       "<div>\n",
       "<style scoped>\n",
       "    .dataframe tbody tr th:only-of-type {\n",
       "        vertical-align: middle;\n",
       "    }\n",
       "\n",
       "    .dataframe tbody tr th {\n",
       "        vertical-align: top;\n",
       "    }\n",
       "\n",
       "    .dataframe thead th {\n",
       "        text-align: right;\n",
       "    }\n",
       "</style>\n",
       "<table border=\"1\" class=\"dataframe\">\n",
       "  <thead>\n",
       "    <tr style=\"text-align: right;\">\n",
       "      <th>Predito pelo modelo</th>\n",
       "      <th>0</th>\n",
       "      <th>1</th>\n",
       "      <th>All</th>\n",
       "    </tr>\n",
       "    <tr>\n",
       "      <th>Verdadeiro</th>\n",
       "      <th></th>\n",
       "      <th></th>\n",
       "      <th></th>\n",
       "    </tr>\n",
       "  </thead>\n",
       "  <tbody>\n",
       "    <tr>\n",
       "      <th>0</th>\n",
       "      <td>741</td>\n",
       "      <td>59</td>\n",
       "      <td>800</td>\n",
       "    </tr>\n",
       "    <tr>\n",
       "      <th>1</th>\n",
       "      <td>19</td>\n",
       "      <td>2430</td>\n",
       "      <td>2449</td>\n",
       "    </tr>\n",
       "    <tr>\n",
       "      <th>All</th>\n",
       "      <td>760</td>\n",
       "      <td>2489</td>\n",
       "      <td>3249</td>\n",
       "    </tr>\n",
       "  </tbody>\n",
       "</table>\n",
       "</div>"
      ],
      "text/plain": [
       "Predito pelo modelo    0     1   All\n",
       "Verdadeiro                          \n",
       "0                    741    59   800\n",
       "1                     19  2430  2449\n",
       "All                  760  2489  3249"
      ]
     },
     "execution_count": 38,
     "metadata": {},
     "output_type": "execute_result"
    }
   ],
   "source": [
    "pd.crosstab(y_teste, y_pred, rownames = [\"Verdadeiro\"], colnames = [\"Predito pelo modelo\"], margins = True)"
   ]
  },
  {
   "cell_type": "markdown",
   "metadata": {
    "colab_type": "text",
    "id": "97VzxHUev1nZ"
   },
   "source": [
    "- A RandomSearch bateu ambos os modelos na acurácia;\n",
    "\n",
    "- É, não vou negar, a vantagem foi mínima. Mas se fosse em uma competição, com certeza faria diferença."
   ]
  },
  {
   "cell_type": "code",
   "execution_count": 39,
   "metadata": {
    "colab": {
     "base_uri": "https://localhost:8080/",
     "height": 34
    },
    "colab_type": "code",
    "id": "xOLMzZg6vbby",
    "outputId": "8f246ec1-07d1-4591-c98d-e7527a0117c8"
   },
   "outputs": [
    {
     "name": "stdout",
     "output_type": "stream",
     "text": [
      "A acurácia da árvore de decisão com o RandomSearch é de 0.976\n"
     ]
    }
   ],
   "source": [
    "acc = round(accuracy_score(y_teste, y_pred), 4)\n",
    "\n",
    "print(f\"A acurácia da árvore de decisão com o RandomSearch é de {acc}\")"
   ]
  },
  {
   "cell_type": "markdown",
   "metadata": {
    "colab_type": "text",
    "id": "fTTLk0EzyuSC"
   },
   "source": [
    "# Conclusões\n",
    "\n",
    "- Agora sabemos razoavelmente como é a construção da Árvore de Decisão para Machine Learning;\n",
    "\n",
    "- Quais suas vantagens, desvantagens, parâmetros, etc;\n",
    "\n",
    "- E também aplicamos para dados que objetivo era regressão e classificação;\n",
    "\n",
    "- Espero que tenha curtido a leitura. Algum detalhe ou algo a contribuir para o aprendizado, não só meu mas dos leitores, podes me acompanhar ou mandar uma mensagem pelos links abaixo. \n",
    "\n",
    "- LinkedIn: https://www.linkedin.com/in/rafael-barbosa0/\n",
    "\n",
    "- Github: https://github.com/barbosarafael\n",
    "\n",
    "<p align=\"center\">\n",
    "  <img alt=\"thanks\" src=\"https://i.pinimg.com/236x/c5/94/dd/c594dd0ad7b4bfc5e19ecb2988f95b7b.jpg\" alt=\"drawing\" width=\"300\" height=\"300\"/>\n",
    "  <br>\n",
    "    \n",
    "</p>\n",
    "\n",
    "\n",
    "\n"
   ]
  },
  {
   "cell_type": "markdown",
   "metadata": {
    "colab_type": "text",
    "id": "du6ZLsomhzeG"
   },
   "source": [
    "# Referências\n",
    "\n",
    "---\n",
    "\n",
    "## Árvore de Decisão\n",
    "\n",
    "1. FRIEDMAN, J.; HASTIE, T.; TIBSHIRANI, R. The elements of statistical learning. New York: Springer series in statistics, 2001.\n",
    "2. MORETTIN, P. A.; SINGER, J. M. Introdução a Ciência de Dados: Fundamentos e Aplicações. Texto Preliminar, IME-USP, 2020.\n",
    "3. https://medium.com/machine-learning-beyond-deep-learning/%C3%A1rvores-de-decis%C3%A3o-3f52f6420b69\n",
    "4. https://www.wrprates.com/o-que-e-arvore-de-decisao-decision-tree-linguagem-r/\n",
    "5. https://www.maxwell.vrac.puc-rio.br/7587/7587_4.PDF\n",
    "6. https://edisciplinas.usp.br/pluginfile.php/4469825/mod_resource/content/1/ArvoresDecisao_normalsize.pdf\n",
    "7. https://www.cin.ufpe.br/~pacm/SI/ArvoreDecisaoIndutiva.pdf\n",
    "8. https://www.vooo.pro/insights/um-tutorial-completo-sobre-a-modelagem-baseada-em-tree-arvore-do-zero-em-r-python/\n",
    "9. https://minerandodados.com.br/arvores-de-decisao-conceitos-e-aplicacoes/\n",
    "10. https://scikit-learn.org/stable/modules/classes.html#module-sklearn.tree\n",
    "11. https://www.alura.com.br/conteudo/machine-learning-otimizacao-de-modelos-atraves-de-hiperparametros\n",
    "12. https://gdcoder.com/decision-tree-regressor-explained-in-depth/\n",
    "\n",
    "## Grid e Random Search\n",
    "\n",
    "13. https://scikit-learn.org/stable/modules/grid_search.html\n",
    "14. https://blog.usejournal.com/a-comparison-of-grid-search-and-randomized-search-using-scikit-learn-29823179bc85\n",
    "15. https://www.kaggle.com/willkoehrsen/intro-to-model-tuning-grid-and-random-search\n",
    "16. https://gusrabbit.com/code/grid-search/"
   ]
  }
 ],
 "metadata": {
  "colab": {
   "collapsed_sections": [],
   "name": "arvore_de_decisao",
   "provenance": []
  },
  "kernelspec": {
   "display_name": "Python 3",
   "language": "python",
   "name": "python3"
  },
  "language_info": {
   "codemirror_mode": {
    "name": "ipython",
    "version": 3
   },
   "file_extension": ".py",
   "mimetype": "text/x-python",
   "name": "python",
   "nbconvert_exporter": "python",
   "pygments_lexer": "ipython3",
   "version": "3.8.2"
  }
 },
 "nbformat": 4,
 "nbformat_minor": 4
}
