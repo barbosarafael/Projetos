{
 "cells": [
  {
   "cell_type": "markdown",
   "metadata": {},
   "source": [
    "# Apresentação, introdução, iniciação ao problema...\n",
    "\n",
    "---\n",
    "\n",
    "Esse é um famoso banco de dados que provém de uma competição do [Kaggle](https://www.kaggle.com/c/house-prices-advanced-regression-techniques). Ele está disponível neste [link](https://www.kaggle.com/c/house-prices-advanced-regression-techniques/data) e tem a seguinte descrição\n",
    "\n",
    "**Comece aqui se**:\n",
    "\n",
    "1. Você tem experiência com R ou Python; e\n",
    "2. Conhece um pouco sobre aprendizado de máquina;\n",
    "\n",
    "Ideal para uma pessoa que está aprendendo análise de dados em Python (em R eu já estou em um nível relativamente intermediário) e também aprendizado de máquina (igual eu, neste momento). "
   ]
  },
  {
   "cell_type": "markdown",
   "metadata": {},
   "source": [
    "## Descrição da competição \n",
    "\n",
    "---\n",
    "\n",
    "Esse é um banco de dados *playground*, justamente para aplicarmos tudo aquilo que aprendemos em análise de dados e previsão. Também menciona a parte que muitas coisas, como o número de banheiros, influencia no valor de uma casa.\n",
    "\n",
    "O banco de dados possui 79 variáveis explicativas, estas referem aos aspectos residenciais de casas da cidade de Ames em Iowa."
   ]
  },
  {
   "cell_type": "markdown",
   "metadata": {},
   "source": [
    "## Objetivo\n",
    "\n",
    "---\n",
    "\n",
    "A partir destas 79 variáveis explicativas, isto é, as características das casas, prever o valor de casa. "
   ]
  },
  {
   "cell_type": "markdown",
   "metadata": {},
   "source": [
    "## Habilidades que serão praticadas (segundo o Kaggle)\n",
    "\n",
    "---\n",
    "\n",
    "1. Criatividade na criação da *feature engineering* (recomendo pesquisar no Google caso não saiba o que é isso); e\n",
    "2. Para a parte de previsão (aprendizado de máquina): utilização de regressão, random forest, gradient boosting, etc."
   ]
  },
  {
   "cell_type": "markdown",
   "metadata": {},
   "source": [
    "## Métrica para verificação dos resultados\n",
    "\n",
    "---\n",
    "\n",
    "Será utilizado o Root-Mean-Squared-Error (RMSE), para os mais intimos, a raiz do erro quadrático médio, entre o *log* do valor que o nosso modelo preveu, ou estimou, ($ \\hat{y_i} $) e o real valor da casa ($ y $). A fórmula para o RMSE é dada por\n",
    "\n",
    "$$ RMSE = \\sqrt{\\frac{1}{n}\\sum_{i = 1}^{n} (\\hat{y_i} - y_i)^2} $$ "
   ]
  },
  {
   "cell_type": "markdown",
   "metadata": {},
   "source": [
    "# Bibliotecas utilizadas\n",
    "\n",
    "---\n",
    "\n",
    "- Pandas\n",
    "- Numpy\n",
    "- Matplotlib\n",
    "- Seaborn\n",
    "- Sklearn\n",
    "\n",
    "Sim, para quem não sabe eu venho do R, e eu realmente acho que os gráficos do ggplot são absurdos de bonito. Portanto, continuarei usando o mesmo no Python :) "
   ]
  },
  {
   "cell_type": "code",
   "execution_count": 11,
   "metadata": {},
   "outputs": [],
   "source": [
    "import pandas as pd\n",
    "import numpy as np\n",
    "import matplotlib.pyplot as plt\n",
    "import seaborn as sns\n",
    "from sklearn.linear_model import LinearRegression\n",
    "\n",
    "\n",
    "plt.style.use('ggplot')\n",
    "%matplotlib inline"
   ]
  },
  {
   "cell_type": "markdown",
   "metadata": {},
   "source": [
    "# Carregando os dados com o Pandas\n",
    "\n",
    "---"
   ]
  },
  {
   "cell_type": "code",
   "execution_count": 2,
   "metadata": {},
   "outputs": [],
   "source": [
    "treino = pd.read_csv(filepath_or_buffer = \"train.csv\")\n",
    "teste = pd.read_csv(filepath_or_buffer = \"test.csv\")"
   ]
  },
  {
   "cell_type": "markdown",
   "metadata": {},
   "source": [
    "# Explorando os dados\n",
    "\n",
    "---"
   ]
  },
  {
   "cell_type": "markdown",
   "metadata": {},
   "source": [
    "## Verificando a estrutura dos dados\n",
    "\n",
    "Quando baixamos os dados do *Kaggle*, eles vem em um arquivo ZIP com os dados de **treino, teste, a amostra para submissão e um dicionário de cada variável**, mostrando o que significa cada uma e seus respectivos valores. Então, qualquer manuseio, exploração, modificação, etc, será feito nos dados de teste.\n",
    "\n",
    "Podemos inicialmente verificar como os dados estão organizados, um simples *overview* com o método `.head`."
   ]
  },
  {
   "cell_type": "code",
   "execution_count": 3,
   "metadata": {},
   "outputs": [
    {
     "data": {
      "text/html": [
       "<div>\n",
       "<style scoped>\n",
       "    .dataframe tbody tr th:only-of-type {\n",
       "        vertical-align: middle;\n",
       "    }\n",
       "\n",
       "    .dataframe tbody tr th {\n",
       "        vertical-align: top;\n",
       "    }\n",
       "\n",
       "    .dataframe thead th {\n",
       "        text-align: right;\n",
       "    }\n",
       "</style>\n",
       "<table border=\"1\" class=\"dataframe\">\n",
       "  <thead>\n",
       "    <tr style=\"text-align: right;\">\n",
       "      <th></th>\n",
       "      <th>Id</th>\n",
       "      <th>MSSubClass</th>\n",
       "      <th>MSZoning</th>\n",
       "      <th>LotFrontage</th>\n",
       "      <th>LotArea</th>\n",
       "      <th>Street</th>\n",
       "      <th>Alley</th>\n",
       "      <th>LotShape</th>\n",
       "      <th>LandContour</th>\n",
       "      <th>Utilities</th>\n",
       "      <th>...</th>\n",
       "      <th>PoolArea</th>\n",
       "      <th>PoolQC</th>\n",
       "      <th>Fence</th>\n",
       "      <th>MiscFeature</th>\n",
       "      <th>MiscVal</th>\n",
       "      <th>MoSold</th>\n",
       "      <th>YrSold</th>\n",
       "      <th>SaleType</th>\n",
       "      <th>SaleCondition</th>\n",
       "      <th>SalePrice</th>\n",
       "    </tr>\n",
       "  </thead>\n",
       "  <tbody>\n",
       "    <tr>\n",
       "      <th>0</th>\n",
       "      <td>1</td>\n",
       "      <td>60</td>\n",
       "      <td>RL</td>\n",
       "      <td>65.0</td>\n",
       "      <td>8450</td>\n",
       "      <td>Pave</td>\n",
       "      <td>NaN</td>\n",
       "      <td>Reg</td>\n",
       "      <td>Lvl</td>\n",
       "      <td>AllPub</td>\n",
       "      <td>...</td>\n",
       "      <td>0</td>\n",
       "      <td>NaN</td>\n",
       "      <td>NaN</td>\n",
       "      <td>NaN</td>\n",
       "      <td>0</td>\n",
       "      <td>2</td>\n",
       "      <td>2008</td>\n",
       "      <td>WD</td>\n",
       "      <td>Normal</td>\n",
       "      <td>208500</td>\n",
       "    </tr>\n",
       "    <tr>\n",
       "      <th>1</th>\n",
       "      <td>2</td>\n",
       "      <td>20</td>\n",
       "      <td>RL</td>\n",
       "      <td>80.0</td>\n",
       "      <td>9600</td>\n",
       "      <td>Pave</td>\n",
       "      <td>NaN</td>\n",
       "      <td>Reg</td>\n",
       "      <td>Lvl</td>\n",
       "      <td>AllPub</td>\n",
       "      <td>...</td>\n",
       "      <td>0</td>\n",
       "      <td>NaN</td>\n",
       "      <td>NaN</td>\n",
       "      <td>NaN</td>\n",
       "      <td>0</td>\n",
       "      <td>5</td>\n",
       "      <td>2007</td>\n",
       "      <td>WD</td>\n",
       "      <td>Normal</td>\n",
       "      <td>181500</td>\n",
       "    </tr>\n",
       "    <tr>\n",
       "      <th>2</th>\n",
       "      <td>3</td>\n",
       "      <td>60</td>\n",
       "      <td>RL</td>\n",
       "      <td>68.0</td>\n",
       "      <td>11250</td>\n",
       "      <td>Pave</td>\n",
       "      <td>NaN</td>\n",
       "      <td>IR1</td>\n",
       "      <td>Lvl</td>\n",
       "      <td>AllPub</td>\n",
       "      <td>...</td>\n",
       "      <td>0</td>\n",
       "      <td>NaN</td>\n",
       "      <td>NaN</td>\n",
       "      <td>NaN</td>\n",
       "      <td>0</td>\n",
       "      <td>9</td>\n",
       "      <td>2008</td>\n",
       "      <td>WD</td>\n",
       "      <td>Normal</td>\n",
       "      <td>223500</td>\n",
       "    </tr>\n",
       "    <tr>\n",
       "      <th>3</th>\n",
       "      <td>4</td>\n",
       "      <td>70</td>\n",
       "      <td>RL</td>\n",
       "      <td>60.0</td>\n",
       "      <td>9550</td>\n",
       "      <td>Pave</td>\n",
       "      <td>NaN</td>\n",
       "      <td>IR1</td>\n",
       "      <td>Lvl</td>\n",
       "      <td>AllPub</td>\n",
       "      <td>...</td>\n",
       "      <td>0</td>\n",
       "      <td>NaN</td>\n",
       "      <td>NaN</td>\n",
       "      <td>NaN</td>\n",
       "      <td>0</td>\n",
       "      <td>2</td>\n",
       "      <td>2006</td>\n",
       "      <td>WD</td>\n",
       "      <td>Abnorml</td>\n",
       "      <td>140000</td>\n",
       "    </tr>\n",
       "    <tr>\n",
       "      <th>4</th>\n",
       "      <td>5</td>\n",
       "      <td>60</td>\n",
       "      <td>RL</td>\n",
       "      <td>84.0</td>\n",
       "      <td>14260</td>\n",
       "      <td>Pave</td>\n",
       "      <td>NaN</td>\n",
       "      <td>IR1</td>\n",
       "      <td>Lvl</td>\n",
       "      <td>AllPub</td>\n",
       "      <td>...</td>\n",
       "      <td>0</td>\n",
       "      <td>NaN</td>\n",
       "      <td>NaN</td>\n",
       "      <td>NaN</td>\n",
       "      <td>0</td>\n",
       "      <td>12</td>\n",
       "      <td>2008</td>\n",
       "      <td>WD</td>\n",
       "      <td>Normal</td>\n",
       "      <td>250000</td>\n",
       "    </tr>\n",
       "  </tbody>\n",
       "</table>\n",
       "<p>5 rows × 81 columns</p>\n",
       "</div>"
      ],
      "text/plain": [
       "   Id  MSSubClass MSZoning  LotFrontage  LotArea Street Alley LotShape  \\\n",
       "0   1          60       RL         65.0     8450   Pave   NaN      Reg   \n",
       "1   2          20       RL         80.0     9600   Pave   NaN      Reg   \n",
       "2   3          60       RL         68.0    11250   Pave   NaN      IR1   \n",
       "3   4          70       RL         60.0     9550   Pave   NaN      IR1   \n",
       "4   5          60       RL         84.0    14260   Pave   NaN      IR1   \n",
       "\n",
       "  LandContour Utilities  ... PoolArea PoolQC Fence MiscFeature MiscVal MoSold  \\\n",
       "0         Lvl    AllPub  ...        0    NaN   NaN         NaN       0      2   \n",
       "1         Lvl    AllPub  ...        0    NaN   NaN         NaN       0      5   \n",
       "2         Lvl    AllPub  ...        0    NaN   NaN         NaN       0      9   \n",
       "3         Lvl    AllPub  ...        0    NaN   NaN         NaN       0      2   \n",
       "4         Lvl    AllPub  ...        0    NaN   NaN         NaN       0     12   \n",
       "\n",
       "  YrSold  SaleType  SaleCondition  SalePrice  \n",
       "0   2008        WD         Normal     208500  \n",
       "1   2007        WD         Normal     181500  \n",
       "2   2008        WD         Normal     223500  \n",
       "3   2006        WD        Abnorml     140000  \n",
       "4   2008        WD         Normal     250000  \n",
       "\n",
       "[5 rows x 81 columns]"
      ]
     },
     "execution_count": 3,
     "metadata": {},
     "output_type": "execute_result"
    }
   ],
   "source": [
    "treino.head()"
   ]
  },
  {
   "cell_type": "markdown",
   "metadata": {},
   "source": [
    "A partir do método `.head`, verificamos que, aparentemente, os dados estão em um formato ok, entretanto, não conseguimos ver os valores de todas as colunas (variáveis). Logo, podemos utilizar o método `.info` para verificar o formato de cada uma e seus valores. "
   ]
  },
  {
   "cell_type": "code",
   "execution_count": 4,
   "metadata": {},
   "outputs": [
    {
     "name": "stdout",
     "output_type": "stream",
     "text": [
      "<class 'pandas.core.frame.DataFrame'>\n",
      "RangeIndex: 1460 entries, 0 to 1459\n",
      "Data columns (total 81 columns):\n",
      " #   Column         Non-Null Count  Dtype  \n",
      "---  ------         --------------  -----  \n",
      " 0   Id             1460 non-null   int64  \n",
      " 1   MSSubClass     1460 non-null   int64  \n",
      " 2   MSZoning       1460 non-null   object \n",
      " 3   LotFrontage    1201 non-null   float64\n",
      " 4   LotArea        1460 non-null   int64  \n",
      " 5   Street         1460 non-null   object \n",
      " 6   Alley          91 non-null     object \n",
      " 7   LotShape       1460 non-null   object \n",
      " 8   LandContour    1460 non-null   object \n",
      " 9   Utilities      1460 non-null   object \n",
      " 10  LotConfig      1460 non-null   object \n",
      " 11  LandSlope      1460 non-null   object \n",
      " 12  Neighborhood   1460 non-null   object \n",
      " 13  Condition1     1460 non-null   object \n",
      " 14  Condition2     1460 non-null   object \n",
      " 15  BldgType       1460 non-null   object \n",
      " 16  HouseStyle     1460 non-null   object \n",
      " 17  OverallQual    1460 non-null   int64  \n",
      " 18  OverallCond    1460 non-null   int64  \n",
      " 19  YearBuilt      1460 non-null   int64  \n",
      " 20  YearRemodAdd   1460 non-null   int64  \n",
      " 21  RoofStyle      1460 non-null   object \n",
      " 22  RoofMatl       1460 non-null   object \n",
      " 23  Exterior1st    1460 non-null   object \n",
      " 24  Exterior2nd    1460 non-null   object \n",
      " 25  MasVnrType     1452 non-null   object \n",
      " 26  MasVnrArea     1452 non-null   float64\n",
      " 27  ExterQual      1460 non-null   object \n",
      " 28  ExterCond      1460 non-null   object \n",
      " 29  Foundation     1460 non-null   object \n",
      " 30  BsmtQual       1423 non-null   object \n",
      " 31  BsmtCond       1423 non-null   object \n",
      " 32  BsmtExposure   1422 non-null   object \n",
      " 33  BsmtFinType1   1423 non-null   object \n",
      " 34  BsmtFinSF1     1460 non-null   int64  \n",
      " 35  BsmtFinType2   1422 non-null   object \n",
      " 36  BsmtFinSF2     1460 non-null   int64  \n",
      " 37  BsmtUnfSF      1460 non-null   int64  \n",
      " 38  TotalBsmtSF    1460 non-null   int64  \n",
      " 39  Heating        1460 non-null   object \n",
      " 40  HeatingQC      1460 non-null   object \n",
      " 41  CentralAir     1460 non-null   object \n",
      " 42  Electrical     1459 non-null   object \n",
      " 43  1stFlrSF       1460 non-null   int64  \n",
      " 44  2ndFlrSF       1460 non-null   int64  \n",
      " 45  LowQualFinSF   1460 non-null   int64  \n",
      " 46  GrLivArea      1460 non-null   int64  \n",
      " 47  BsmtFullBath   1460 non-null   int64  \n",
      " 48  BsmtHalfBath   1460 non-null   int64  \n",
      " 49  FullBath       1460 non-null   int64  \n",
      " 50  HalfBath       1460 non-null   int64  \n",
      " 51  BedroomAbvGr   1460 non-null   int64  \n",
      " 52  KitchenAbvGr   1460 non-null   int64  \n",
      " 53  KitchenQual    1460 non-null   object \n",
      " 54  TotRmsAbvGrd   1460 non-null   int64  \n",
      " 55  Functional     1460 non-null   object \n",
      " 56  Fireplaces     1460 non-null   int64  \n",
      " 57  FireplaceQu    770 non-null    object \n",
      " 58  GarageType     1379 non-null   object \n",
      " 59  GarageYrBlt    1379 non-null   float64\n",
      " 60  GarageFinish   1379 non-null   object \n",
      " 61  GarageCars     1460 non-null   int64  \n",
      " 62  GarageArea     1460 non-null   int64  \n",
      " 63  GarageQual     1379 non-null   object \n",
      " 64  GarageCond     1379 non-null   object \n",
      " 65  PavedDrive     1460 non-null   object \n",
      " 66  WoodDeckSF     1460 non-null   int64  \n",
      " 67  OpenPorchSF    1460 non-null   int64  \n",
      " 68  EnclosedPorch  1460 non-null   int64  \n",
      " 69  3SsnPorch      1460 non-null   int64  \n",
      " 70  ScreenPorch    1460 non-null   int64  \n",
      " 71  PoolArea       1460 non-null   int64  \n",
      " 72  PoolQC         7 non-null      object \n",
      " 73  Fence          281 non-null    object \n",
      " 74  MiscFeature    54 non-null     object \n",
      " 75  MiscVal        1460 non-null   int64  \n",
      " 76  MoSold         1460 non-null   int64  \n",
      " 77  YrSold         1460 non-null   int64  \n",
      " 78  SaleType       1460 non-null   object \n",
      " 79  SaleCondition  1460 non-null   object \n",
      " 80  SalePrice      1460 non-null   int64  \n",
      "dtypes: float64(3), int64(35), object(43)\n",
      "memory usage: 924.0+ KB\n"
     ]
    }
   ],
   "source": [
    "treino.info()"
   ]
  },
  {
   "cell_type": "markdown",
   "metadata": {},
   "source": [
    "---\n",
    "\n",
    "Com essa visualização, podemos confirmar o que foi dito na introdução, que realmente são 79 variáveis explicativas e a última variável (**SalePrice**) é a variável que queremos prever a partir destas. Assim como podemos observar que são muuuuuuuitas variáveis, estas nos trazem informações desde o tipo de moradia, se a residência possui ar condicionado até a condição em que está a garagem da residência.\n",
    "\n",
    "---"
   ]
  },
  {
   "cell_type": "markdown",
   "metadata": {},
   "source": [
    "## Explorando a variável SalePrice\n",
    "\n",
    "\n",
    "Podemos ter `n` ideias aqui, mas, inicialmente, podemos ver como é a distribuição da variável que queremos prever, o Preço de Venda, através de um histograma.\n",
    "\n",
    "Percebemos que a distribuição do Preço de Vendas possui concentração negativa ou cauda à direita, indicando que os valores predominantes são baixos (para a variável), uma distribuição F de Snedecor caíria bem, talvez. \n",
    "\n",
    "**Também podemos notar que:**\n",
    "\n",
    "- A maior quantidade preços vendidos, isto é, o valor mais frequente do preço de casas está entre \\\\$ 100.000,00 e  \\\\$ 150.000,00;\n",
    "\n",
    "- Também podemos ver casos em que o preço de venda foi \\\\$ 600.000,00 ou \\\\$ 700.000,000, entretanto, eles não são tão frequentes, quando comparados com os valores da variável (seriam eles outliers?);\n",
    "\n",
    "**Nota**: Também é utilizado a densidade da variável, ela é estimada a partir dos dados e o método mais comum para essa estimação é o KDE (Kernel Density Estimation). Um *Kernel* comumente utilizado é o gaussiano.  \n",
    "\n",
    "---"
   ]
  },
  {
   "cell_type": "code",
   "execution_count": 7,
   "metadata": {},
   "outputs": [
    {
     "data": {
      "image/png": "[encoded data removed]",
      "text/plain": [
       "<Figure size 720x432 with 1 Axes>"
      ]
     },
     "metadata": {
      "needs_background": "light"
     },
     "output_type": "display_data"
    }
   ],
   "source": [
    "media_sales_price = treino[\"SalePrice\"].mean()\n",
    "var_sales_price = treino[\"SalePrice\"].var()\n",
    "\n",
    "plt.figure(figsize = [10, 6])\n",
    "sns.distplot(treino[\"SalePrice\"], color = \"orangered\", hist = True, label = \"Histograma e\\n Densidade\")\n",
    "plt.axvline(media_sales_price, color = 'k', linestyle = 'dashed', linewidth = 1, label = \"Média\")\n",
    "plt.xlabel(\"Preço da Casa\", fontsize = 14, color = \"black\")\n",
    "plt.ylabel(\"Densidade\", fontsize = 14, color = \"black\")\n",
    "plt.title(\"Distribuição do Preço das Vendas\", fontsize = 14, color = \"black\")\n",
    "plt.tick_params(axis = \"x\", labelsize = 14, labelcolor = \"black\")\n",
    "plt.tick_params(axis = \"y\", labelsize = 14, labelcolor = \"black\")\n",
    "plt.legend()\n",
    "plt.show()"
   ]
  },
  {
   "cell_type": "markdown",
   "metadata": {},
   "source": [
    "---\n",
    "\n",
    "**Abaixo podemos ver o sumário estatístico da variável Preço de Vendas, podemos afirmar que:**\n",
    "\n",
    "- Realmente temos 1.460 observações nesta variável;\n",
    "\n",
    "- O preço médio de venda das casas, assim como já plotada no histograma, é de, aproximadamente, \\\\$ 180.921,00;\n",
    "\n",
    "- O desvio padrão do preço de venda das casas é alto, \\\\$ 79.442,00, indicando que temos alta variabilidade;\n",
    "\n",
    "- O preço mediano de venda de casas, valor que separa os dados em 50% acima e abaixo da variável, foi de \\\\$ 163.000,00, indicando que metade dos valores está acima deste valor e a outra metade abaixo;\n",
    "\n",
    "- O valor máximo de venda de casas foi de \\\\$ 755.000,00.\n",
    "\n",
    "\n",
    "---"
   ]
  },
  {
   "cell_type": "code",
   "execution_count": 14,
   "metadata": {},
   "outputs": [
    {
     "data": {
      "text/plain": [
       "count      1460.000000\n",
       "mean     180921.195890\n",
       "std       79442.502883\n",
       "min       34900.000000\n",
       "25%      129975.000000\n",
       "50%      163000.000000\n",
       "75%      214000.000000\n",
       "max      755000.000000\n",
       "Name: SalePrice, dtype: float64"
      ]
     },
     "execution_count": 14,
     "metadata": {},
     "output_type": "execute_result"
    }
   ],
   "source": [
    "treino[\"SalePrice\"].describe()"
   ]
  },
  {
   "cell_type": "markdown",
   "metadata": {},
   "source": [
    "# Regressão Linear Múltipla\n",
    "\n",
    "Múltipla pois utilizaremos várias variáveis para prever o Preço da Casa (SalePrice).\n",
    "\n",
    "## Pressupostos para o seu uso\n",
    "\n",
    "Assim como qualquer técnica estatística, a regressão também possui pressupostos para seu uso (**sim, não adianta só olhar a técnica e aplicar**). Cada pressuposto possui nos leva a um determinado problema caso não seja atendido.\n",
    "\n",
    "- Neste [artigo](https://periodicos.ufpe.br/revistas/politicahoje/article/download/3808/31622) os autores retiraram da literatura 10 pressupostos para o uso da regressão linear;\n",
    "- Já neste [tutorial](https://posgraduando.com/como-fazer-uma-analise-de-regressao-linear-simples-no-r/), o autor ([Herick Santana](https://www.facebook.com/herick.santana.10?ref=tn_tnmn)) menciona o uso de 3 pressupostos: \n",
    "\n",
    "    - Linearidade entre as variáveis X e Y;\n",
    "    - Normalidade nos resíduos da regressão; e\n",
    "    - Homogeneidade das variâncias\n",
    "  \n",
    "- Neste [material](http://www4.eco.unicamp.br/docentes/gori/images/arquivos/EconometriaI/Econometria_RevisaoRegressaoLinear.pdf) do professor Alexandre Gori Maia, ele menciona os seguintes pressupostos:\n",
    "\n",
    "    - Relação linear entre as variáveis X e Y\n",
    "    - Os valores de X são fixos em repetidas amostras, não aleatórios\n",
    "    - Esperança condicional dos erros igual a zero, ou seja, $ E(e|Xi) = 0 $;\n",
    "    - A variabilidade dos erros é constante; e\n",
    "    - Os erros são não autocorrelacionados.   \n",
    "    \n",
    "Vamos focar nos pressupostos do tutorial do [Herick Santana](https://www.facebook.com/herick.santana.10?ref=tn_tnmn), pois é o que mais atende a nossa necessidade de previsão e aplicar nos dados de treino."
   ]
  },
  {
   "cell_type": "markdown",
   "metadata": {},
   "source": [
    "## Linearidade entre X e Y\n",
    "\n",
    "---\n",
    "\n",
    "Uma forma de verificar a relação entre as variáveis X e Y, caso elas sejam quantitativas, é por meio do coeficiente de correlação de Pearson, pois ele mede o grau da correlação linear entre duas variáveis. \n",
    "\n",
    "Resumindo, a correlação linear de Pearson pode adotar valores que vão de de -1 a 1. Quanto mais próximo de -1 ou 1, maior é a relação linear entre ambas as variáveis (X e Y) e quanto mais próximo de 0 menor a relação a linear. O sinal (positivo ou negativo) indica uma correlação linear positiva ou negativa entre X e Y.   \n",
    "\n",
    "![](data:image/png;base64,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)\n",
    "\n",
    "\n",
    "O que podemos fazer, já que temos mais de uma variável preditora, é fazer uma matriz ou um gráfico de correlação.\n",
    "\n",
    "\n",
    "**Para mais informações sobre a correlação linear de Pearson, visite:** \n",
    "\n",
    "- http://www.inf.ufsc.br/~vera.carmo/Correlacao/Correlacao_Pearson_Spearman_Kendall.pdf\n",
    "- https://operdata.com.br/blog/coeficientes-de-correlacao/\n",
    "- http://www.leg.ufpr.br/~silvia/CE701/node79.html"
   ]
  },
  {
   "cell_type": "markdown",
   "metadata": {},
   "source": [
    "**Próximo passo: Fazer a matriz de correlação ou o gráfico**"
   ]
  },
  {
   "cell_type": "code",
   "execution_count": null,
   "metadata": {},
   "outputs": [],
   "source": []
  },
  {
   "cell_type": "code",
   "execution_count": null,
   "metadata": {},
   "outputs": [],
   "source": []
  },
  {
   "cell_type": "markdown",
   "metadata": {},
   "source": []
  },
  {
   "cell_type": "markdown",
   "metadata": {},
   "source": [
    "##"
   ]
  }
 ],
 "metadata": {
  "kernelspec": {
   "display_name": "Python 3",
   "language": "python",
   "name": "python3"
  },
  "language_info": {
   "codemirror_mode": {
    "name": "ipython",
    "version": 3
   },
   "file_extension": ".py",
   "mimetype": "text/x-python",
   "name": "python",
   "nbconvert_exporter": "python",
   "pygments_lexer": "ipython3",
   "version": "3.7.6"
  },
  "toc-autonumbering": true,
  "toc-showmarkdowntxt": false
 },
 "nbformat": 4,
 "nbformat_minor": 4
}
