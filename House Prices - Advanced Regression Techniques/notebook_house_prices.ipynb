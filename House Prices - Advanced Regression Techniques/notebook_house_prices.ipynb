{
 "cells": [
  {
   "cell_type": "markdown",
   "metadata": {},
   "source": [
    "# Apresentação, introdução, iniciação ao problema...\n",
    "\n",
    "---\n",
    "\n",
    "Esse é um famoso banco de dados que provém de uma competição do [Kaggle](https://www.kaggle.com/c/house-prices-advanced-regression-techniques). Ele está disponível neste [link](https://www.kaggle.com/c/house-prices-advanced-regression-techniques/data) e tem a seguinte descrição\n",
    "\n",
    "**Comece aqui se**:\n",
    "\n",
    "1. Você tem experiência com R ou Python; e\n",
    "2. Conhece um pouco sobre aprendizado de máquina;\n",
    "\n",
    "Ideal para uma pessoa que está aprendendo análise de dados em Python (em R eu já estou em um nível relativamente intermediário) e também aprendizado de máquina (igual eu, neste momento). "
   ]
  },
  {
   "cell_type": "markdown",
   "metadata": {},
   "source": [
    "## Descrição da competição \n",
    "\n",
    "---\n",
    "\n",
    "Esse é um banco de dados *playground*, justamente para aplicarmos tudo aquilo que aprendemos em análise de dados e previsão. Também menciona a parte que muitas coisas, como o número de banheiros, influencia no valor de uma casa.\n",
    "\n",
    "O banco de dados possui 79 variáveis explicativas, estas referem aos aspectos residenciais de casas da cidade de Ames em Iowa."
   ]
  },
  {
   "cell_type": "markdown",
   "metadata": {},
   "source": [
    "## Objetivo\n",
    "\n",
    "---\n",
    "\n",
    "A partir destas 79 variáveis explicativas, isto é, as características das casas, prever o valor de casa. "
   ]
  },
  {
   "cell_type": "markdown",
   "metadata": {},
   "source": [
    "## Habilidades que serão praticadas (segundo o Kaggle)\n",
    "\n",
    "---\n",
    "\n",
    "1. Criatividade na criação da *feature engineering* (recomendo pesquisar no Google caso não saiba o que é isso); e\n",
    "2. Para a parte de previsão (aprendizado de máquina): utilização de regressão, random forest, gradient boosting, etc."
   ]
  },
  {
   "cell_type": "markdown",
   "metadata": {},
   "source": [
    "## Métrica para verificação dos resultados\n",
    "\n",
    "---\n",
    "\n",
    "Será utilizado o Root-Mean-Squared-Error (RMSE), para os mais intimos, a raiz do erro quadrático médio, entre o *log* do valor que o nosso modelo preveu, ou estimou, ($ \\hat{y_i} $) e o real valor da casa ($ y $). A fórmula para o RMSE é dada por\n",
    "\n",
    "$$ RMSE = \\sqrt{\\frac{1}{n}\\sum_{i = 1}^{n} (\\hat{y_i} - y_i)^2} $$ "
   ]
  },
  {
   "cell_type": "markdown",
   "metadata": {},
   "source": [
    "# Análise Exploratória dos Dados"
   ]
  }
 ],
 "metadata": {
  "kernelspec": {
   "display_name": "Python 3",
   "language": "python",
   "name": "python3"
  },
  "language_info": {
   "codemirror_mode": {
    "name": "ipython",
    "version": 3
   },
   "file_extension": ".py",
   "mimetype": "text/x-python",
   "name": "python",
   "nbconvert_exporter": "python",
   "pygments_lexer": "ipython3",
   "version": "3.8.2"
  },
  "toc-autonumbering": true,
  "toc-showmarkdowntxt": false
 },
 "nbformat": 4,
 "nbformat_minor": 4
}
