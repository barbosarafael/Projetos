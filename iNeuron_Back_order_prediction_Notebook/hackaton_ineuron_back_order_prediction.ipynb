{
 "cells": [
  {
   "cell_type": "markdown",
   "metadata": {},
   "source": [
    "# Hackaton - iNeuron"
   ]
  },
  {
   "cell_type": "markdown",
   "metadata": {},
   "source": [
    "## iNeuron\n",
    "\n",
    "---\n",
    "\n",
    "A [iNeuron](https://ineuron.ai/home/) é uma empresa de Inteligência Artificial aplicada a soluções comerciais e com um enfático foco em educação com o objetivo de criar melhores soluções de analytics e business para a comunidade. \n",
    "\n",
    "Como mencionado acima, também possuem um grande foco na parte da educação, promovendo **hackatons** e novos métodos para melhorar a abordagem educacional."
   ]
  },
  {
   "cell_type": "markdown",
   "metadata": {},
   "source": [
    "## O Hackaton\n",
    "\n",
    "---\n",
    "\n",
    "Com o objetivo de envolver o público com o aprendizado de máquina, o [Hackaton](https://challenge-ineuron.in/mlchallenge.php#) trás 9 competições diferentes dividas em 3 desafios de aprendizado de máquina. Eles são:\n",
    "\n",
    "1. ML CHALLENGE 1\n",
    "\n",
    "    - Back Order Prediction\n",
    "    - Bankruptcy\n",
    "    - Restaurant Ratings\n",
    "\n",
    "\n",
    "2. ML CHALLENGE 2\n",
    "\n",
    "    - Cardiovascular disease\n",
    "    - Dota\n",
    "    - House Rent\n",
    "\n",
    "\n",
    "3. ML CHALLENGE 3\n",
    "\n",
    "    - Banking subscription\n",
    "    - Incident Response Log\n",
    "    - Kasandr\n",
    "    \n",
    "O desafio que vamos explorar é o de **Back Order Prediction**."
   ]
  },
  {
   "cell_type": "markdown",
   "metadata": {},
   "source": [
    "## Back Order Prediction\n",
    "\n",
    "---\n",
    "\n",
    "Inicialmente, temos que dar o mérito a quem merece.\n",
    "\n",
    "A competição foi baseada em um [artigo](https://www.researchgate.net/profile/Rodrigo_Santis2/publication/319553365_Predicting_Material_Backorders_in_Inventory_Management_using_Machine_Learning/links/5a383a95a6fdccdd41fdeb99/Predicting-Material-Backorders-in-Inventory-Management-using-Machine-Learning.pdf) de BRASILEIROS (let's go), estes são:\n",
    "\n",
    "1. Rodrigo Santis - UFMG\n",
    "2. Eduardo P. de Aguiar - UFJF\n",
    "3. Leonardo Goliatt - UFJF"
   ]
  },
  {
   "cell_type": "markdown",
   "metadata": {},
   "source": [
    "## Descrição\n",
    "\n",
    "---\n",
    "\n",
    "> **Backorder:** Pedido em atraso.\n",
    "\n",
    "Um *backorder* é um pedido que, por X motivos, a empresa não conseguiu cumprir.\n",
    "\n",
    "**Exemplo**, a empresa não conseguiu acompanhar a entrega de um pedido devido a sua alta demanda.\n",
    "\n",
    "Este *backorder* gera problemas para o cliente, já que seu pedido não chega, logo, a fidelidade com a empresa diminui. E aqui fica a pergunta: \n",
    "\n",
    "> **\"Qual a empresa quer diminuir a fidelidade com o cliente?\"**\n",
    ">\n",
    "> Resposta: Se eu fosse qualquer pessoa das finanças eu não queria diminuir essa fidelidade. \n",
    "\n",
    "\n",
    "\n",
    "Ainda utilizando o caso de que a empresa está com alta demanda de um produto, dependendo da empresa ela não conseguirá estocar todos estes produtos. Portanto é necessário que a empresa saiba para quais produtos ela pode enfrentar este problema (**esta é a nossa motivação para aplicar o aprendizado de máquina**).\n",
    "\n",
    "Aqui alguns pontos interessantes que dá para retirar do texto original:\n",
    "\n",
    "1. \"Devido à alta demanda de um produto, a empresa não consegue acompanhar a entrega do pedido\". \n",
    "\n",
    "2. Encontrar padrões para cada um dos produtos."
   ]
  },
  {
   "cell_type": "markdown",
   "metadata": {},
   "source": [
    "## Objetivo\n",
    "\n",
    "---\n",
    "\n",
    "Prever se o produto é um *backorder* ou não, isto é, se o produto ficou em atraso ou não.\n",
    "\n",
    "Variável de cunho binária (0 ou 1)."
   ]
  },
  {
   "cell_type": "markdown",
   "metadata": {},
   "source": [
    "## Dados \n",
    "\n",
    "---\n",
    "\n",
    "Os dados se referem ao histórico de algumas semanas anterorires à semana que iremos prever. Possui 22 variáveis dependentes (explicativas). Elas são (tenhamos amor a minha vida, não irei traduzir as variáveis e tarefas): \n",
    "\n",
    "1. **sku** – Random ID for the product\n",
    "2. **national_inv** – Current inventory level for the part\n",
    "3. **lead_time** – Transit time for product (if available)\n",
    "4. **in_transit_qty** – Amount of product in transit from source\n",
    "5. **forecast_3_month** – Forecast sales for the next 3 months\n",
    "6. **forecast_6_month** – Forecast sales for the next 6 months\n",
    "7. **forecast_9_month** – Forecast sales for the next 9 months\n",
    "8. **sales_1_month** – Sales quantity for the prior 1 month time period\n",
    "9. **sales_3_month** – Sales quantity for the prior 3 month time period\n",
    "10. **sales_6_month** – Sales quantity for the prior 6 month time period\n",
    "11. **sales_9_month** – Sales quantity for the prior 9 month time period\n",
    "12. **min_bank** – Minimum recommend amount to stock\n",
    "13. **potential_issue** – Source issue for part identified\n",
    "14. **pieces_past_due** – Parts overdue from source\n",
    "15. **perf_6_month_avg** – Source performance for prior 6 month period\n",
    "16. **perf_12_month_avg** – Source performance for prior 12 month period\n",
    "17. **local_bo_qty** – Amount of stock orders overdue\n",
    "18. **deck_risk** – Part risk flag\n",
    "19. **oe_constraint** – Part risk flag\n",
    "20. **ppap_risk** – Part risk flag\n",
    "21. **stop_auto_buy** – Part risk flag\n",
    "22. **rev_stop** – Part risk flag\n",
    "23. **went_on_backorder** – Product actually went on backorder. This is the target value.\n"
   ]
  },
  {
   "cell_type": "markdown",
   "metadata": {},
   "source": [
    "## Tasks (Tarefas dadas pelo Hackaton)\n",
    "\n",
    "---\n",
    "\n",
    "1.\tDo a complete EDA in the python notebook file;\n",
    "2.\tBuild a solution design architecture for end to end solution starting from data ingestion to deployment with a detail documentation;\n",
    "3.\tDeploy the end to end automated solution to AWS;\n",
    "4.\tCreate a user interface for bulk testing uploaded through excel sheet and for a single record entry both;\n",
    "5.\tMaintain log for each and every prediction request into any database;\n",
    "6.\tCreate a low level documentation for end to end solution and deployment;\n",
    "7.\tDefine a retraining approach in your documentation;\n",
    "8.\tCreate an end to end video of the working of the project.\n"
   ]
  },
  {
   "cell_type": "markdown",
   "metadata": {},
   "source": [
    "## Evaluation criteria (Critérios de avaliação)\n",
    "\n",
    "---\n",
    "\n",
    "1.\tSolution will be evaluated based on the best architecture design of the entire solution;\n",
    "2.\tSolution will be evaluated based on the best EDA;\n",
    "3.\tSolution will be evaluated based on the **best optimization and model accuracy on unseen dataset**;\n",
    "4.\tSolution will be evaluated based on final deployment and testing with a bulk dataset as well as data  with single entry;\n",
    "5.\tSolution will be evaluated based on the best readability and proper commenting of the code;\n",
    "6.\tSolution will be evaluated based on best interactive user interface;\n",
    "7.\t On the basis of the given data in the features column and target column, you have to build a model which will be able to predict whether an order for a given product can go on backorder or not.\n"
   ]
  },
  {
   "cell_type": "markdown",
   "metadata": {},
   "source": [
    "## Timeline (Duração da competição)\n",
    "\n",
    "---\n",
    "\n",
    "Vai (ou foi, não sei em que momento você está lendo isso) de 06/05/2020 à 14/06/2020. "
   ]
  },
  {
   "cell_type": "markdown",
   "metadata": {},
   "source": [
    "## Prizes (Money, Cash, Dindin, Grana, Premiação)\n",
    "\n",
    "---\n",
    "\n",
    "Algo que não iremos ligar muito, pois o objetivo com essa competição é o **aprendizado**.\n",
    "\n",
    "1. 1st Place - ₹50,000\n",
    "2. 2nd Place - ₹30,000\n",
    "3. 3rd Place - ₹20,000\n",
    "\n",
    "Para quem não sabe, esta moeda (₹) é a Rupia Indiana e, atualmente, custa:\n",
    "\n",
    "1 Rupia indiana igual a\n",
    "0,078 Real brasileiro\n",
    "14 de mai. 14:27 UTC ·"
   ]
  },
  {
   "cell_type": "markdown",
   "metadata": {},
   "source": [
    "# Considerações iniciais"
   ]
  },
  {
   "cell_type": "markdown",
   "metadata": {},
   "source": [
    "## Importando as bibliotecas"
   ]
  },
  {
   "cell_type": "code",
   "execution_count": 1,
   "metadata": {},
   "outputs": [],
   "source": [
    "import pandas as pd\n",
    "import numpy as np\n",
    "import matplotlib.pyplot as plt\n",
    "import seaborn as sns"
   ]
  },
  {
   "cell_type": "markdown",
   "metadata": {},
   "source": [
    "## Configurações adicionais"
   ]
  },
  {
   "cell_type": "code",
   "execution_count": 2,
   "metadata": {},
   "outputs": [],
   "source": [
    "plt.style.use(\"seaborn-muted\")\n",
    "%matplotlib inline\n",
    "pd.set_option('display.max_columns', None)"
   ]
  },
  {
   "cell_type": "markdown",
   "metadata": {},
   "source": [
    "## Importando os dados"
   ]
  },
  {
   "cell_type": "code",
   "execution_count": 3,
   "metadata": {},
   "outputs": [],
   "source": [
    "banco = pd.read_csv(\"Training_Dataset_v2.csv\", low_memory = False)"
   ]
  },
  {
   "cell_type": "code",
   "execution_count": 4,
   "metadata": {},
   "outputs": [],
   "source": [
    "dados = banco.copy()"
   ]
  },
  {
   "cell_type": "code",
   "execution_count": 5,
   "metadata": {},
   "outputs": [
    {
     "data": {
      "text/html": [
       "<div>\n",
       "<style scoped>\n",
       "    .dataframe tbody tr th:only-of-type {\n",
       "        vertical-align: middle;\n",
       "    }\n",
       "\n",
       "    .dataframe tbody tr th {\n",
       "        vertical-align: top;\n",
       "    }\n",
       "\n",
       "    .dataframe thead th {\n",
       "        text-align: right;\n",
       "    }\n",
       "</style>\n",
       "<table border=\"1\" class=\"dataframe\">\n",
       "  <thead>\n",
       "    <tr style=\"text-align: right;\">\n",
       "      <th></th>\n",
       "      <th>sku</th>\n",
       "      <th>national_inv</th>\n",
       "      <th>lead_time</th>\n",
       "      <th>in_transit_qty</th>\n",
       "      <th>forecast_3_month</th>\n",
       "      <th>forecast_6_month</th>\n",
       "      <th>forecast_9_month</th>\n",
       "      <th>sales_1_month</th>\n",
       "      <th>sales_3_month</th>\n",
       "      <th>sales_6_month</th>\n",
       "      <th>sales_9_month</th>\n",
       "      <th>min_bank</th>\n",
       "      <th>potential_issue</th>\n",
       "      <th>pieces_past_due</th>\n",
       "      <th>perf_6_month_avg</th>\n",
       "      <th>perf_12_month_avg</th>\n",
       "      <th>local_bo_qty</th>\n",
       "      <th>deck_risk</th>\n",
       "      <th>oe_constraint</th>\n",
       "      <th>ppap_risk</th>\n",
       "      <th>stop_auto_buy</th>\n",
       "      <th>rev_stop</th>\n",
       "      <th>went_on_backorder</th>\n",
       "    </tr>\n",
       "  </thead>\n",
       "  <tbody>\n",
       "    <tr>\n",
       "      <th>0</th>\n",
       "      <td>1026827</td>\n",
       "      <td>0.0</td>\n",
       "      <td>NaN</td>\n",
       "      <td>0.0</td>\n",
       "      <td>0.0</td>\n",
       "      <td>0.0</td>\n",
       "      <td>0.0</td>\n",
       "      <td>0.0</td>\n",
       "      <td>0.0</td>\n",
       "      <td>0.0</td>\n",
       "      <td>0.0</td>\n",
       "      <td>0.0</td>\n",
       "      <td>No</td>\n",
       "      <td>0.0</td>\n",
       "      <td>-99.00</td>\n",
       "      <td>-99.00</td>\n",
       "      <td>0.0</td>\n",
       "      <td>No</td>\n",
       "      <td>No</td>\n",
       "      <td>No</td>\n",
       "      <td>Yes</td>\n",
       "      <td>No</td>\n",
       "      <td>No</td>\n",
       "    </tr>\n",
       "    <tr>\n",
       "      <th>1</th>\n",
       "      <td>1043384</td>\n",
       "      <td>2.0</td>\n",
       "      <td>9.0</td>\n",
       "      <td>0.0</td>\n",
       "      <td>0.0</td>\n",
       "      <td>0.0</td>\n",
       "      <td>0.0</td>\n",
       "      <td>0.0</td>\n",
       "      <td>0.0</td>\n",
       "      <td>0.0</td>\n",
       "      <td>0.0</td>\n",
       "      <td>0.0</td>\n",
       "      <td>No</td>\n",
       "      <td>0.0</td>\n",
       "      <td>0.99</td>\n",
       "      <td>0.99</td>\n",
       "      <td>0.0</td>\n",
       "      <td>No</td>\n",
       "      <td>No</td>\n",
       "      <td>No</td>\n",
       "      <td>Yes</td>\n",
       "      <td>No</td>\n",
       "      <td>No</td>\n",
       "    </tr>\n",
       "    <tr>\n",
       "      <th>2</th>\n",
       "      <td>1043696</td>\n",
       "      <td>2.0</td>\n",
       "      <td>NaN</td>\n",
       "      <td>0.0</td>\n",
       "      <td>0.0</td>\n",
       "      <td>0.0</td>\n",
       "      <td>0.0</td>\n",
       "      <td>0.0</td>\n",
       "      <td>0.0</td>\n",
       "      <td>0.0</td>\n",
       "      <td>0.0</td>\n",
       "      <td>0.0</td>\n",
       "      <td>No</td>\n",
       "      <td>0.0</td>\n",
       "      <td>-99.00</td>\n",
       "      <td>-99.00</td>\n",
       "      <td>0.0</td>\n",
       "      <td>Yes</td>\n",
       "      <td>No</td>\n",
       "      <td>No</td>\n",
       "      <td>Yes</td>\n",
       "      <td>No</td>\n",
       "      <td>No</td>\n",
       "    </tr>\n",
       "    <tr>\n",
       "      <th>3</th>\n",
       "      <td>1043852</td>\n",
       "      <td>7.0</td>\n",
       "      <td>8.0</td>\n",
       "      <td>0.0</td>\n",
       "      <td>0.0</td>\n",
       "      <td>0.0</td>\n",
       "      <td>0.0</td>\n",
       "      <td>0.0</td>\n",
       "      <td>0.0</td>\n",
       "      <td>0.0</td>\n",
       "      <td>0.0</td>\n",
       "      <td>1.0</td>\n",
       "      <td>No</td>\n",
       "      <td>0.0</td>\n",
       "      <td>0.10</td>\n",
       "      <td>0.13</td>\n",
       "      <td>0.0</td>\n",
       "      <td>No</td>\n",
       "      <td>No</td>\n",
       "      <td>No</td>\n",
       "      <td>Yes</td>\n",
       "      <td>No</td>\n",
       "      <td>No</td>\n",
       "    </tr>\n",
       "    <tr>\n",
       "      <th>4</th>\n",
       "      <td>1044048</td>\n",
       "      <td>8.0</td>\n",
       "      <td>NaN</td>\n",
       "      <td>0.0</td>\n",
       "      <td>0.0</td>\n",
       "      <td>0.0</td>\n",
       "      <td>0.0</td>\n",
       "      <td>0.0</td>\n",
       "      <td>0.0</td>\n",
       "      <td>0.0</td>\n",
       "      <td>4.0</td>\n",
       "      <td>2.0</td>\n",
       "      <td>No</td>\n",
       "      <td>0.0</td>\n",
       "      <td>-99.00</td>\n",
       "      <td>-99.00</td>\n",
       "      <td>0.0</td>\n",
       "      <td>Yes</td>\n",
       "      <td>No</td>\n",
       "      <td>No</td>\n",
       "      <td>Yes</td>\n",
       "      <td>No</td>\n",
       "      <td>No</td>\n",
       "    </tr>\n",
       "  </tbody>\n",
       "</table>\n",
       "</div>"
      ],
      "text/plain": [
       "       sku  national_inv  lead_time  in_transit_qty  forecast_3_month  \\\n",
       "0  1026827           0.0        NaN             0.0               0.0   \n",
       "1  1043384           2.0        9.0             0.0               0.0   \n",
       "2  1043696           2.0        NaN             0.0               0.0   \n",
       "3  1043852           7.0        8.0             0.0               0.0   \n",
       "4  1044048           8.0        NaN             0.0               0.0   \n",
       "\n",
       "   forecast_6_month  forecast_9_month  sales_1_month  sales_3_month  \\\n",
       "0               0.0               0.0            0.0            0.0   \n",
       "1               0.0               0.0            0.0            0.0   \n",
       "2               0.0               0.0            0.0            0.0   \n",
       "3               0.0               0.0            0.0            0.0   \n",
       "4               0.0               0.0            0.0            0.0   \n",
       "\n",
       "   sales_6_month  sales_9_month  min_bank potential_issue  pieces_past_due  \\\n",
       "0            0.0            0.0       0.0              No              0.0   \n",
       "1            0.0            0.0       0.0              No              0.0   \n",
       "2            0.0            0.0       0.0              No              0.0   \n",
       "3            0.0            0.0       1.0              No              0.0   \n",
       "4            0.0            4.0       2.0              No              0.0   \n",
       "\n",
       "   perf_6_month_avg  perf_12_month_avg  local_bo_qty deck_risk oe_constraint  \\\n",
       "0            -99.00             -99.00           0.0        No            No   \n",
       "1              0.99               0.99           0.0        No            No   \n",
       "2            -99.00             -99.00           0.0       Yes            No   \n",
       "3              0.10               0.13           0.0        No            No   \n",
       "4            -99.00             -99.00           0.0       Yes            No   \n",
       "\n",
       "  ppap_risk stop_auto_buy rev_stop went_on_backorder  \n",
       "0        No           Yes       No                No  \n",
       "1        No           Yes       No                No  \n",
       "2        No           Yes       No                No  \n",
       "3        No           Yes       No                No  \n",
       "4        No           Yes       No                No  "
      ]
     },
     "execution_count": 5,
     "metadata": {},
     "output_type": "execute_result"
    }
   ],
   "source": [
    "dados.head()"
   ]
  },
  {
   "cell_type": "code",
   "execution_count": 6,
   "metadata": {},
   "outputs": [
    {
     "name": "stdout",
     "output_type": "stream",
     "text": [
      "<class 'pandas.core.frame.DataFrame'>\n",
      "RangeIndex: 1687861 entries, 0 to 1687860\n",
      "Data columns (total 23 columns):\n",
      " #   Column             Non-Null Count    Dtype  \n",
      "---  ------             --------------    -----  \n",
      " 0   sku                1687861 non-null  object \n",
      " 1   national_inv       1687860 non-null  float64\n",
      " 2   lead_time          1586967 non-null  float64\n",
      " 3   in_transit_qty     1687860 non-null  float64\n",
      " 4   forecast_3_month   1687860 non-null  float64\n",
      " 5   forecast_6_month   1687860 non-null  float64\n",
      " 6   forecast_9_month   1687860 non-null  float64\n",
      " 7   sales_1_month      1687860 non-null  float64\n",
      " 8   sales_3_month      1687860 non-null  float64\n",
      " 9   sales_6_month      1687860 non-null  float64\n",
      " 10  sales_9_month      1687860 non-null  float64\n",
      " 11  min_bank           1687860 non-null  float64\n",
      " 12  potential_issue    1687860 non-null  object \n",
      " 13  pieces_past_due    1687860 non-null  float64\n",
      " 14  perf_6_month_avg   1687860 non-null  float64\n",
      " 15  perf_12_month_avg  1687860 non-null  float64\n",
      " 16  local_bo_qty       1687860 non-null  float64\n",
      " 17  deck_risk          1687860 non-null  object \n",
      " 18  oe_constraint      1687860 non-null  object \n",
      " 19  ppap_risk          1687860 non-null  object \n",
      " 20  stop_auto_buy      1687860 non-null  object \n",
      " 21  rev_stop           1687860 non-null  object \n",
      " 22  went_on_backorder  1687860 non-null  object \n",
      "dtypes: float64(15), object(8)\n",
      "memory usage: 296.2+ MB\n"
     ]
    }
   ],
   "source": [
    "dados.info()"
   ]
  },
  {
   "cell_type": "code",
   "execution_count": 7,
   "metadata": {},
   "outputs": [
    {
     "data": {
      "text/plain": [
       "(1687861, 23)"
      ]
     },
     "execution_count": 7,
     "metadata": {},
     "output_type": "execute_result"
    }
   ],
   "source": [
    "dados.shape"
   ]
  },
  {
   "cell_type": "markdown",
   "metadata": {},
   "source": [
    "## Retirar a variável `sku`\n",
    "\n",
    "---\n",
    "\n",
    "Como mencionada na descrição desta variável, temos que ela é apenas um ID randômico para cada produto."
   ]
  },
  {
   "cell_type": "code",
   "execution_count": 8,
   "metadata": {},
   "outputs": [],
   "source": [
    "dados = dados.drop(\"sku\", axis = 1) "
   ]
  },
  {
   "cell_type": "markdown",
   "metadata": {},
   "source": [
    "## Codificar a variável went_on_backorder em 0 e 1\n",
    "\n",
    "---"
   ]
  },
  {
   "cell_type": "code",
   "execution_count": 9,
   "metadata": {},
   "outputs": [],
   "source": [
    "columns_yesno = [\"potential_issue\", \"deck_risk\", \"oe_constraint\", \"ppap_risk\", \"stop_auto_buy\", \"rev_stop\", \"went_on_backorder\"]\n",
    "\n",
    "dados[columns_yesno] = dados[columns_yesno].replace({\"No\" : 0, \"Yes\": 1})"
   ]
  },
  {
   "cell_type": "code",
   "execution_count": 10,
   "metadata": {},
   "outputs": [
    {
     "data": {
      "text/plain": [
       "0.0    1300377\n",
       "1.0     387483\n",
       "Name: deck_risk, dtype: int64"
      ]
     },
     "execution_count": 10,
     "metadata": {},
     "output_type": "execute_result"
    }
   ],
   "source": [
    "dados[\"deck_risk\"].value_counts()"
   ]
  },
  {
   "cell_type": "markdown",
   "metadata": {},
   "source": [
    "## Valores faltantes\n",
    "\n",
    "---\n",
    "\n",
    "Como podemos notar, existem exatamente um valor faltante para cada uma das variáveis a seguir:\n",
    "\n",
    "- Estranho ter somente um valor faltante para grande maioria das variáveis\n",
    "\n",
    "Vamos identificar onde é esse valor nulo"
   ]
  },
  {
   "cell_type": "code",
   "execution_count": 11,
   "metadata": {},
   "outputs": [
    {
     "data": {
      "text/plain": [
       "national_inv              1\n",
       "lead_time            100894\n",
       "in_transit_qty            1\n",
       "forecast_3_month          1\n",
       "forecast_6_month          1\n",
       "forecast_9_month          1\n",
       "sales_1_month             1\n",
       "sales_3_month             1\n",
       "sales_6_month             1\n",
       "sales_9_month             1\n",
       "min_bank                  1\n",
       "potential_issue           1\n",
       "pieces_past_due           1\n",
       "perf_6_month_avg          1\n",
       "perf_12_month_avg         1\n",
       "local_bo_qty              1\n",
       "deck_risk                 1\n",
       "oe_constraint             1\n",
       "ppap_risk                 1\n",
       "stop_auto_buy             1\n",
       "rev_stop                  1\n",
       "went_on_backorder         1\n",
       "dtype: int64"
      ]
     },
     "execution_count": 11,
     "metadata": {},
     "output_type": "execute_result"
    }
   ],
   "source": [
    "dados.isnull().sum()"
   ]
  },
  {
   "cell_type": "code",
   "execution_count": 12,
   "metadata": {},
   "outputs": [],
   "source": [
    "dados = dados.dropna()"
   ]
  },
  {
   "cell_type": "markdown",
   "metadata": {},
   "source": [
    "# Criar uma baseline\n",
    "\n",
    "---\n",
    "\n",
    "A baseline é um modelo simples que tomamos como base pra ver a acurácia dos modelos.\n",
    "\n",
    "**Se não conseguimos bater um modelo simples, por que fazer um modelo complicado ?**\n",
    "\n",
    "Um modelo simples a ser utilizado é a Regressão Logística, mas nela vamos ajustar os parâmetros lá dentro, devido ao desbalanceamento da variável target (**went_on_backorder**)."
   ]
  },
  {
   "cell_type": "markdown",
   "metadata": {},
   "source": [
    "## Separando os dados em treino e teste\n",
    "\n",
    "---\n",
    "\n",
    "> **50/50**\n",
    "\n",
    "ou \n",
    "\n",
    "> **70/30**\n",
    "\n",
    "Melhor optar pelo 70/30 desta vez."
   ]
  },
  {
   "cell_type": "code",
   "execution_count": 13,
   "metadata": {},
   "outputs": [],
   "source": [
    "from sklearn.model_selection import train_test_split\n",
    "\n",
    "x_treino, x_teste, y_treino, y_teste = train_test_split(dados.drop(\"went_on_backorder\", axis = 1), dados[\"went_on_backorder\"], train_size = 0.4, random_state = 1234)"
   ]
  },
  {
   "cell_type": "code",
   "execution_count": 14,
   "metadata": {},
   "outputs": [
    {
     "name": "stdout",
     "output_type": "stream",
     "text": [
      "(634786, 21) (634786,) (952181, 21) (952181,)\n"
     ]
    }
   ],
   "source": [
    "print(x_treino.shape, y_treino.shape, x_teste.shape, y_teste.shape)"
   ]
  },
  {
   "cell_type": "markdown",
   "metadata": {},
   "source": [
    "## Aplicando a regressão logística"
   ]
  },
  {
   "cell_type": "markdown",
   "metadata": {},
   "source": [
    "### Modelo"
   ]
  },
  {
   "cell_type": "code",
   "execution_count": 15,
   "metadata": {},
   "outputs": [
    {
     "name": "stderr",
     "output_type": "stream",
     "text": [
      "C:\\Users\\Rafael\\miniconda3\\lib\\site-packages\\sklearn\\linear_model\\_logistic.py:856: FutureWarning: elementwise comparison failed; returning scalar instead, but in the future will perform elementwise comparison\n",
      "  if class_weight == \"balanced\":\n",
      "C:\\Users\\Rafael\\miniconda3\\lib\\site-packages\\sklearn\\linear_model\\_logistic.py:940: ConvergenceWarning: lbfgs failed to converge (status=1):\n",
      "STOP: TOTAL NO. of ITERATIONS REACHED LIMIT.\n",
      "\n",
      "Increase the number of iterations (max_iter) or scale the data as shown in:\n",
      "    https://scikit-learn.org/stable/modules/preprocessing.html\n",
      "Please also refer to the documentation for alternative solver options:\n",
      "    https://scikit-learn.org/stable/modules/linear_model.html#logistic-regression\n",
      "  extra_warning_msg=_LOGISTIC_SOLVER_CONVERGENCE_MSG)\n"
     ]
    },
    {
     "data": {
      "text/plain": [
       "LogisticRegression(C=1.0, class_weight=array([ 0.50347715, 72.39803832]),\n",
       "                   dual=False, fit_intercept=True, intercept_scaling=1,\n",
       "                   l1_ratio=None, max_iter=500, multi_class='auto', n_jobs=None,\n",
       "                   penalty='l2', random_state=1234, solver='lbfgs', tol=0.0001,\n",
       "                   verbose=0, warm_start=False)"
      ]
     },
     "execution_count": 15,
     "metadata": {},
     "output_type": "execute_result"
    }
   ],
   "source": [
    "from sklearn.linear_model import LogisticRegression\n",
    "from sklearn.utils import class_weight\n",
    "\n",
    "class_weight1 = class_weight.compute_class_weight('balanced', np.unique(y_treino), y_treino)\n",
    "\n",
    "logreg = LogisticRegression(class_weight = class_weight1, max_iter = 500, random_state = 1234)\n",
    "\n",
    "logreg.fit(x_treino, y_treino)"
   ]
  },
  {
   "cell_type": "markdown",
   "metadata": {},
   "source": [
    "### Previsão para os dados de teste e acurácia"
   ]
  },
  {
   "cell_type": "code",
   "execution_count": 16,
   "metadata": {},
   "outputs": [
    {
     "data": {
      "text/plain": [
       "0.9930433394491174"
      ]
     },
     "execution_count": 16,
     "metadata": {},
     "output_type": "execute_result"
    }
   ],
   "source": [
    "previsao = logreg.predict(x_teste)\n",
    "\n",
    "logreg.score(x_teste, y_teste) "
   ]
  },
  {
   "cell_type": "markdown",
   "metadata": {},
   "source": [
    "### Matriz de confusão"
   ]
  },
  {
   "cell_type": "code",
   "execution_count": 17,
   "metadata": {},
   "outputs": [
    {
     "name": "stdout",
     "output_type": "stream",
     "text": [
      "[[945552     44]\n",
      " [  6580      5]]\n"
     ]
    }
   ],
   "source": [
    "previsao = logreg.predict(x_teste)\n",
    "\n",
    "from sklearn.metrics import confusion_matrix\n",
    "\n",
    "confusion_matrix = confusion_matrix(y_teste, previsao)\n",
    "\n",
    "print(confusion_matrix)"
   ]
  },
  {
   "cell_type": "markdown",
   "metadata": {},
   "source": [
    "---\n",
    "\n",
    "Bom, com tudo isso, temos uma baseline com acurácia de 0.9930433394491174. \n",
    "\n",
    "Mais pra frente vamos verificar explorar mais as outras métricas:\n",
    "\n",
    "1. Outras métricas da matriz de confusão;\n",
    "1. AUC;\n",
    "2. LogLoss.\n",
    "\n",
    "**NOW**, we can go to the tasks (não liguem para os textos em inglês aleatórios, é pra treinar)."
   ]
  },
  {
   "cell_type": "markdown",
   "metadata": {},
   "source": [
    "# Tarefas\n",
    "\n",
    "---\n",
    "\n",
    "Dado que temos o que fazer, vamos botar a mão na massa."
   ]
  },
  {
   "cell_type": "markdown",
   "metadata": {},
   "source": [
    "## Task 1: Do a complete EDA in the python notebook file\n",
    "\n",
    "---\n",
    "\n",
    "Com a informação abaixo, podemos confirmar que o dataset possui 23 variáveis, sendo 22 explicativas e uma 1 independente (target).\n",
    "\n",
    "Inclusive, não sei vocês perceberam mas a baseline foi feita com base na variável `dados` e todas as transformações também. \n",
    "\n",
    "Por isso que lá bem no começo eu salvei uma cópia numa variável chamada `banco` para fazermos todas as modificações novamente e explorar os dados.\n",
    "\n",
    "![](https://media.giphy.com/media/YnkMcHgNIMW4Yfmjxr/giphy.gif)"
   ]
  },
  {
   "cell_type": "markdown",
   "metadata": {},
   "source": [
    "### Explorando a variável target (went_on_backorder)\n",
    "\n",
    "Aqui temos um leve (mentira, grandíssimo) problema de desbalanceamento de classes."
   ]
  },
  {
   "cell_type": "code",
   "execution_count": 18,
   "metadata": {},
   "outputs": [
    {
     "data": {
      "text/html": [
       "<div>\n",
       "<style scoped>\n",
       "    .dataframe tbody tr th:only-of-type {\n",
       "        vertical-align: middle;\n",
       "    }\n",
       "\n",
       "    .dataframe tbody tr th {\n",
       "        vertical-align: top;\n",
       "    }\n",
       "\n",
       "    .dataframe thead th {\n",
       "        text-align: right;\n",
       "    }\n",
       "</style>\n",
       "<table border=\"1\" class=\"dataframe\">\n",
       "  <thead>\n",
       "    <tr style=\"text-align: right;\">\n",
       "      <th></th>\n",
       "      <th>Quantidade</th>\n",
       "      <th>Percentual</th>\n",
       "    </tr>\n",
       "  </thead>\n",
       "  <tbody>\n",
       "    <tr>\n",
       "      <th>No</th>\n",
       "      <td>1676567</td>\n",
       "      <td>99.33</td>\n",
       "    </tr>\n",
       "    <tr>\n",
       "      <th>Yes</th>\n",
       "      <td>11293</td>\n",
       "      <td>0.67</td>\n",
       "    </tr>\n",
       "  </tbody>\n",
       "</table>\n",
       "</div>"
      ],
      "text/plain": [
       "     Quantidade  Percentual\n",
       "No      1676567       99.33\n",
       "Yes       11293        0.67"
      ]
     },
     "execution_count": 18,
     "metadata": {},
     "output_type": "execute_result"
    }
   ],
   "source": [
    "pd.concat([banco[\"went_on_backorder\"].value_counts(), \n",
    "                banco[\"went_on_backorder\"].value_counts(normalize = True).mul(100).round(2)], axis = 1, keys = (\"Quantidade\", \"Percentual\"))"
   ]
  },
  {
   "cell_type": "code",
   "execution_count": 19,
   "metadata": {},
   "outputs": [
    {
     "data": {
      "text/html": [
       "<div>\n",
       "<style scoped>\n",
       "    .dataframe tbody tr th:only-of-type {\n",
       "        vertical-align: middle;\n",
       "    }\n",
       "\n",
       "    .dataframe tbody tr th {\n",
       "        vertical-align: top;\n",
       "    }\n",
       "\n",
       "    .dataframe thead th {\n",
       "        text-align: right;\n",
       "    }\n",
       "</style>\n",
       "<table border=\"1\" class=\"dataframe\">\n",
       "  <thead>\n",
       "    <tr style=\"text-align: right;\">\n",
       "      <th></th>\n",
       "      <th>national_inv</th>\n",
       "      <th>lead_time</th>\n",
       "      <th>in_transit_qty</th>\n",
       "      <th>forecast_3_month</th>\n",
       "      <th>forecast_6_month</th>\n",
       "      <th>forecast_9_month</th>\n",
       "      <th>sales_1_month</th>\n",
       "      <th>sales_3_month</th>\n",
       "      <th>sales_6_month</th>\n",
       "      <th>sales_9_month</th>\n",
       "      <th>min_bank</th>\n",
       "      <th>potential_issue</th>\n",
       "      <th>pieces_past_due</th>\n",
       "      <th>perf_6_month_avg</th>\n",
       "      <th>perf_12_month_avg</th>\n",
       "      <th>local_bo_qty</th>\n",
       "      <th>deck_risk</th>\n",
       "      <th>oe_constraint</th>\n",
       "      <th>ppap_risk</th>\n",
       "      <th>stop_auto_buy</th>\n",
       "      <th>rev_stop</th>\n",
       "      <th>went_on_backorder</th>\n",
       "    </tr>\n",
       "  </thead>\n",
       "  <tbody>\n",
       "    <tr>\n",
       "      <th>count</th>\n",
       "      <td>1586967.00</td>\n",
       "      <td>1586967.00</td>\n",
       "      <td>1586967.00</td>\n",
       "      <td>1586967.00</td>\n",
       "      <td>1586967.00</td>\n",
       "      <td>1586967.00</td>\n",
       "      <td>1586967.00</td>\n",
       "      <td>1586967.00</td>\n",
       "      <td>1586967.00</td>\n",
       "      <td>1586967.00</td>\n",
       "      <td>1586967.00</td>\n",
       "      <td>1586967.00</td>\n",
       "      <td>1586967.00</td>\n",
       "      <td>1586967.00</td>\n",
       "      <td>1586967.00</td>\n",
       "      <td>1586967.00</td>\n",
       "      <td>1586967.0</td>\n",
       "      <td>1586967.00</td>\n",
       "      <td>1586967.00</td>\n",
       "      <td>1586967.00</td>\n",
       "      <td>1586967.00</td>\n",
       "      <td>1586967.00</td>\n",
       "    </tr>\n",
       "    <tr>\n",
       "      <th>mean</th>\n",
       "      <td>489.51</td>\n",
       "      <td>7.87</td>\n",
       "      <td>45.47</td>\n",
       "      <td>188.74</td>\n",
       "      <td>365.34</td>\n",
       "      <td>536.28</td>\n",
       "      <td>56.91</td>\n",
       "      <td>178.48</td>\n",
       "      <td>352.23</td>\n",
       "      <td>544.13</td>\n",
       "      <td>53.20</td>\n",
       "      <td>0.00</td>\n",
       "      <td>2.17</td>\n",
       "      <td>-1.01</td>\n",
       "      <td>-0.55</td>\n",
       "      <td>0.63</td>\n",
       "      <td>0.2</td>\n",
       "      <td>0.00</td>\n",
       "      <td>0.12</td>\n",
       "      <td>0.98</td>\n",
       "      <td>0.00</td>\n",
       "      <td>0.01</td>\n",
       "    </tr>\n",
       "    <tr>\n",
       "      <th>std</th>\n",
       "      <td>30461.68</td>\n",
       "      <td>7.06</td>\n",
       "      <td>1309.36</td>\n",
       "      <td>5182.99</td>\n",
       "      <td>10099.62</td>\n",
       "      <td>14825.76</td>\n",
       "      <td>1854.77</td>\n",
       "      <td>4971.13</td>\n",
       "      <td>9679.30</td>\n",
       "      <td>15148.71</td>\n",
       "      <td>1119.03</td>\n",
       "      <td>0.02</td>\n",
       "      <td>243.40</td>\n",
       "      <td>13.27</td>\n",
       "      <td>11.45</td>\n",
       "      <td>33.44</td>\n",
       "      <td>0.4</td>\n",
       "      <td>0.01</td>\n",
       "      <td>0.32</td>\n",
       "      <td>0.16</td>\n",
       "      <td>0.02</td>\n",
       "      <td>0.08</td>\n",
       "    </tr>\n",
       "    <tr>\n",
       "      <th>min</th>\n",
       "      <td>-27256.00</td>\n",
       "      <td>0.00</td>\n",
       "      <td>0.00</td>\n",
       "      <td>0.00</td>\n",
       "      <td>0.00</td>\n",
       "      <td>0.00</td>\n",
       "      <td>0.00</td>\n",
       "      <td>0.00</td>\n",
       "      <td>0.00</td>\n",
       "      <td>0.00</td>\n",
       "      <td>0.00</td>\n",
       "      <td>0.00</td>\n",
       "      <td>0.00</td>\n",
       "      <td>-99.00</td>\n",
       "      <td>-99.00</td>\n",
       "      <td>0.00</td>\n",
       "      <td>0.0</td>\n",
       "      <td>0.00</td>\n",
       "      <td>0.00</td>\n",
       "      <td>0.00</td>\n",
       "      <td>0.00</td>\n",
       "      <td>0.00</td>\n",
       "    </tr>\n",
       "    <tr>\n",
       "      <th>25%</th>\n",
       "      <td>4.00</td>\n",
       "      <td>4.00</td>\n",
       "      <td>0.00</td>\n",
       "      <td>0.00</td>\n",
       "      <td>0.00</td>\n",
       "      <td>0.00</td>\n",
       "      <td>0.00</td>\n",
       "      <td>0.00</td>\n",
       "      <td>0.00</td>\n",
       "      <td>0.00</td>\n",
       "      <td>0.00</td>\n",
       "      <td>0.00</td>\n",
       "      <td>0.00</td>\n",
       "      <td>0.69</td>\n",
       "      <td>0.69</td>\n",
       "      <td>0.00</td>\n",
       "      <td>0.0</td>\n",
       "      <td>0.00</td>\n",
       "      <td>0.00</td>\n",
       "      <td>1.00</td>\n",
       "      <td>0.00</td>\n",
       "      <td>0.00</td>\n",
       "    </tr>\n",
       "    <tr>\n",
       "      <th>50%</th>\n",
       "      <td>14.00</td>\n",
       "      <td>8.00</td>\n",
       "      <td>0.00</td>\n",
       "      <td>0.00</td>\n",
       "      <td>0.00</td>\n",
       "      <td>0.00</td>\n",
       "      <td>0.00</td>\n",
       "      <td>1.00</td>\n",
       "      <td>3.00</td>\n",
       "      <td>4.00</td>\n",
       "      <td>0.00</td>\n",
       "      <td>0.00</td>\n",
       "      <td>0.00</td>\n",
       "      <td>0.84</td>\n",
       "      <td>0.82</td>\n",
       "      <td>0.00</td>\n",
       "      <td>0.0</td>\n",
       "      <td>0.00</td>\n",
       "      <td>0.00</td>\n",
       "      <td>1.00</td>\n",
       "      <td>0.00</td>\n",
       "      <td>0.00</td>\n",
       "    </tr>\n",
       "    <tr>\n",
       "      <th>75%</th>\n",
       "      <td>78.00</td>\n",
       "      <td>9.00</td>\n",
       "      <td>0.00</td>\n",
       "      <td>5.00</td>\n",
       "      <td>15.00</td>\n",
       "      <td>25.00</td>\n",
       "      <td>5.00</td>\n",
       "      <td>16.00</td>\n",
       "      <td>33.00</td>\n",
       "      <td>50.00</td>\n",
       "      <td>3.00</td>\n",
       "      <td>0.00</td>\n",
       "      <td>0.00</td>\n",
       "      <td>0.97</td>\n",
       "      <td>0.96</td>\n",
       "      <td>0.00</td>\n",
       "      <td>0.0</td>\n",
       "      <td>0.00</td>\n",
       "      <td>0.00</td>\n",
       "      <td>1.00</td>\n",
       "      <td>0.00</td>\n",
       "      <td>0.00</td>\n",
       "    </tr>\n",
       "    <tr>\n",
       "      <th>max</th>\n",
       "      <td>12334404.00</td>\n",
       "      <td>52.00</td>\n",
       "      <td>489408.00</td>\n",
       "      <td>1427612.00</td>\n",
       "      <td>2461360.00</td>\n",
       "      <td>3777304.00</td>\n",
       "      <td>741774.00</td>\n",
       "      <td>1105478.00</td>\n",
       "      <td>2146625.00</td>\n",
       "      <td>3205172.00</td>\n",
       "      <td>205786.00</td>\n",
       "      <td>1.00</td>\n",
       "      <td>146496.00</td>\n",
       "      <td>1.00</td>\n",
       "      <td>1.00</td>\n",
       "      <td>12530.00</td>\n",
       "      <td>1.0</td>\n",
       "      <td>1.00</td>\n",
       "      <td>1.00</td>\n",
       "      <td>1.00</td>\n",
       "      <td>1.00</td>\n",
       "      <td>1.00</td>\n",
       "    </tr>\n",
       "  </tbody>\n",
       "</table>\n",
       "</div>"
      ],
      "text/plain": [
       "       national_inv   lead_time  in_transit_qty  forecast_3_month  \\\n",
       "count    1586967.00  1586967.00      1586967.00        1586967.00   \n",
       "mean         489.51        7.87           45.47            188.74   \n",
       "std        30461.68        7.06         1309.36           5182.99   \n",
       "min       -27256.00        0.00            0.00              0.00   \n",
       "25%            4.00        4.00            0.00              0.00   \n",
       "50%           14.00        8.00            0.00              0.00   \n",
       "75%           78.00        9.00            0.00              5.00   \n",
       "max     12334404.00       52.00       489408.00        1427612.00   \n",
       "\n",
       "       forecast_6_month  forecast_9_month  sales_1_month  sales_3_month  \\\n",
       "count        1586967.00        1586967.00     1586967.00     1586967.00   \n",
       "mean             365.34            536.28          56.91         178.48   \n",
       "std            10099.62          14825.76        1854.77        4971.13   \n",
       "min                0.00              0.00           0.00           0.00   \n",
       "25%                0.00              0.00           0.00           0.00   \n",
       "50%                0.00              0.00           0.00           1.00   \n",
       "75%               15.00             25.00           5.00          16.00   \n",
       "max          2461360.00        3777304.00      741774.00     1105478.00   \n",
       "\n",
       "       sales_6_month  sales_9_month    min_bank  potential_issue  \\\n",
       "count     1586967.00     1586967.00  1586967.00       1586967.00   \n",
       "mean          352.23         544.13       53.20             0.00   \n",
       "std          9679.30       15148.71     1119.03             0.02   \n",
       "min             0.00           0.00        0.00             0.00   \n",
       "25%             0.00           0.00        0.00             0.00   \n",
       "50%             3.00           4.00        0.00             0.00   \n",
       "75%            33.00          50.00        3.00             0.00   \n",
       "max       2146625.00     3205172.00   205786.00             1.00   \n",
       "\n",
       "       pieces_past_due  perf_6_month_avg  perf_12_month_avg  local_bo_qty  \\\n",
       "count       1586967.00        1586967.00         1586967.00    1586967.00   \n",
       "mean              2.17             -1.01              -0.55          0.63   \n",
       "std             243.40             13.27              11.45         33.44   \n",
       "min               0.00            -99.00             -99.00          0.00   \n",
       "25%               0.00              0.69               0.69          0.00   \n",
       "50%               0.00              0.84               0.82          0.00   \n",
       "75%               0.00              0.97               0.96          0.00   \n",
       "max          146496.00              1.00               1.00      12530.00   \n",
       "\n",
       "       deck_risk  oe_constraint   ppap_risk  stop_auto_buy    rev_stop  \\\n",
       "count  1586967.0     1586967.00  1586967.00     1586967.00  1586967.00   \n",
       "mean         0.2           0.00        0.12           0.98        0.00   \n",
       "std          0.4           0.01        0.32           0.16        0.02   \n",
       "min          0.0           0.00        0.00           0.00        0.00   \n",
       "25%          0.0           0.00        0.00           1.00        0.00   \n",
       "50%          0.0           0.00        0.00           1.00        0.00   \n",
       "75%          0.0           0.00        0.00           1.00        0.00   \n",
       "max          1.0           1.00        1.00           1.00        1.00   \n",
       "\n",
       "       went_on_backorder  \n",
       "count         1586967.00  \n",
       "mean                0.01  \n",
       "std                 0.08  \n",
       "min                 0.00  \n",
       "25%                 0.00  \n",
       "50%                 0.00  \n",
       "75%                 0.00  \n",
       "max                 1.00  "
      ]
     },
     "execution_count": 19,
     "metadata": {},
     "output_type": "execute_result"
    }
   ],
   "source": [
    "dados.describe().round(2)"
   ]
  }
 ],
 "metadata": {
  "kernelspec": {
   "display_name": "Python 3",
   "language": "python",
   "name": "python3"
  },
  "language_info": {
   "codemirror_mode": {
    "name": "ipython",
    "version": 3
   },
   "file_extension": ".py",
   "mimetype": "text/x-python",
   "name": "python",
   "nbconvert_exporter": "python",
   "pygments_lexer": "ipython3",
   "version": "3.7.6"
  },
  "toc-autonumbering": true,
  "toc-showtags": false
 },
 "nbformat": 4,
 "nbformat_minor": 4
}
