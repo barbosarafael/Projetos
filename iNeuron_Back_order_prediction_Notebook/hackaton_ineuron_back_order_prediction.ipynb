{
 "cells": [
  {
   "cell_type": "markdown",
   "metadata": {},
   "source": [
    "# 1. Quais as chances da sua empresa ter um pedido em atraso ? (Hackaton - iNeuron)"
   ]
  },
  {
   "cell_type": "markdown",
   "metadata": {},
   "source": [
    "## 1.1. iNeuron\n",
    "\n",
    "---\n",
    "\n",
    "A [iNeuron](https://ineuron.ai/home/) é uma empresa de Inteligência Artificial aplicada a soluções comerciais e com um enfático foco em educação com o objetivo de criar melhores soluções de analytics e business para a comunidade. \n",
    "\n",
    "Como mencionado acima, também possuem um grande foco na parte da educação, promovendo **hackatons** e novos métodos para melhorar a abordagem educacional."
   ]
  },
  {
   "cell_type": "markdown",
   "metadata": {},
   "source": [
    "## 1.2. O Hackaton\n",
    "\n",
    "---\n",
    "\n",
    "Com o objetivo de envolver o público com o aprendizado de máquina, o [Hackaton](https://challenge-ineuron.in/mlchallenge.php#) trás 9 competições diferentes dividas em 3 desafios de aprendizado de máquina. Eles são:\n",
    "\n",
    "1. ML CHALLENGE 1\n",
    "\n",
    "    - Back Order Prediction\n",
    "    - Bankruptcy\n",
    "    - Restaurant Ratings\n",
    "\n",
    "\n",
    "2. ML CHALLENGE 2\n",
    "\n",
    "    - Cardiovascular disease\n",
    "    - Dota\n",
    "    - House Rent\n",
    "\n",
    "\n",
    "3. ML CHALLENGE 3\n",
    "\n",
    "    - Banking subscription\n",
    "    - Incident Response Log\n",
    "    - Kasandr\n",
    "    \n",
    "O desafio que vamos explorar é o de **Back Order Prediction**."
   ]
  },
  {
   "cell_type": "markdown",
   "metadata": {},
   "source": [
    "## 1.3. Back Order Prediction\n",
    "\n",
    "---\n",
    "\n",
    "Inicialmente, temos que dar o mérito a quem merece.\n",
    "\n",
    "A competição foi baseada em um [artigo](https://www.researchgate.net/profile/Rodrigo_Santis2/publication/319553365_Predicting_Material_Backorders_in_Inventory_Management_using_Machine_Learning/links/5a383a95a6fdccdd41fdeb99/Predicting-Material-Backorders-in-Inventory-Management-using-Machine-Learning.pdf) de BRASILEIROS (let's go), estes são:\n",
    "\n",
    "1. Rodrigo Santis - UFMG\n",
    "2. Eduardo P. de Aguiar - UFJF\n",
    "3. Leonardo Goliatt - UFJF"
   ]
  },
  {
   "cell_type": "markdown",
   "metadata": {},
   "source": [
    "## 1.4. Descrição\n",
    "\n",
    "---\n",
    "\n",
    "> **Backorder:** Pedido em atraso.\n",
    "\n",
    "Um *backorder* é um pedido que, por X motivos, a empresa não conseguiu cumprir.\n",
    "\n",
    "**Exemplo**, a empresa não conseguiu acompanhar a entrega de um pedido devido a sua alta demanda.\n",
    "\n",
    "Este *backorder* gera problemas para o cliente, já que seu pedido não chega, logo, a fidelidade com a empresa diminui. E aqui fica a pergunta: \n",
    "\n",
    "> **\"Qual a empresa quer diminuir a fidelidade com o cliente?\"**\n",
    ">\n",
    "> Resposta: Se eu fosse qualquer pessoa das finanças eu não queria diminuir essa fidelidade. \n",
    "\n",
    "\n",
    "\n",
    "Ainda utilizando o caso de que a empresa está com alta demanda de um produto, dependendo da empresa ela não conseguirá estocar todos estes produtos. Portanto é necessário que a empresa saiba para quais produtos ela pode enfrentar este problema (**esta é a nossa motivação para aplicar o aprendizado de máquina**).\n",
    "\n",
    "Aqui alguns pontos interessantes que dá para retirar do texto original:\n",
    "\n",
    "1. \"Devido à alta demanda de um produto, a empresa não consegue acompanhar a entrega do pedido\". \n",
    "\n",
    "2. Encontrar padrões para cada um dos produtos."
   ]
  },
  {
   "cell_type": "markdown",
   "metadata": {},
   "source": [
    "## 1.5. Objetivo\n",
    "\n",
    "---\n",
    "\n",
    "Prever se o produto é um *backorder* ou não, isto é, se o produto ficou em atraso ou não.\n",
    "\n",
    "Variável de cunho binária (0 ou 1)."
   ]
  },
  {
   "cell_type": "markdown",
   "metadata": {},
   "source": [
    "## 1.6. Dados \n",
    "\n",
    "---\n",
    "\n",
    "Os dados se referem ao histórico de algumas semanas anterorires à semana que iremos prever. Possui 22 variáveis dependentes (explicativas). Elas são (tenhamos amor a minha vida, não irei traduzir as variáveis e tarefas): \n",
    "\n",
    "1. **sku** – Random ID for the product\n",
    "2. **national_inv** – Current inventory level for the part\n",
    "3. **lead_time** – Transit time for product (if available)\n",
    "4. **in_transit_qty** – Amount of product in transit from source\n",
    "5. **forecast_3_month** – Forecast sales for the next 3 months\n",
    "6. **forecast_6_month** – Forecast sales for the next 6 months\n",
    "7. **forecast_9_month** – Forecast sales for the next 9 months\n",
    "8. **sales_1_month** – Sales quantity for the prior 1 month time period\n",
    "9. **sales_3_month** – Sales quantity for the prior 3 month time period\n",
    "10. **sales_6_month** – Sales quantity for the prior 6 month time period\n",
    "11. **sales_9_month** – Sales quantity for the prior 9 month time period\n",
    "12. **min_bank** – Minimum recommend amount to stock\n",
    "13. **potential_issue** – Source issue for part identified\n",
    "14. **pieces_past_due** – Parts overdue from source\n",
    "15. **perf_6_month_avg** – Source performance for prior 6 month period\n",
    "16. **perf_12_month_avg** – Source performance for prior 12 month period\n",
    "17. **local_bo_qty** – Amount of stock orders overdue\n",
    "18. **deck_risk** – Part risk flag\n",
    "19. **oe_constraint** – Part risk flag\n",
    "20. **ppap_risk** – Part risk flag\n",
    "21. **stop_auto_buy** – Part risk flag\n",
    "22. **rev_stop** – Part risk flag\n",
    "23. **went_on_backorder** – Product actually went on backorder. This is the target value.\n"
   ]
  },
  {
   "cell_type": "markdown",
   "metadata": {},
   "source": [
    "## 1.7. Tasks (Tarefas dadas pelo Hackaton)\n",
    "\n",
    "---\n",
    "\n",
    "1.\tDo a complete EDA in the python notebook file;\n",
    "2.\tBuild a solution design architecture for end to end solution starting from data ingestion to deployment with a detail documentation;\n",
    "3.\tDeploy the end to end automated solution to AWS;\n",
    "4.\tCreate a user interface for bulk testing uploaded through excel sheet and for a single record entry both;\n",
    "5.\tMaintain log for each and every prediction request into any database;\n",
    "6.\tCreate a low level documentation for end to end solution and deployment;\n",
    "7.\tDefine a retraining approach in your documentation;\n",
    "8.\tCreate an end to end video of the working of the project.\n"
   ]
  },
  {
   "cell_type": "markdown",
   "metadata": {},
   "source": [
    "## 1.8. Evaluation criteria (Critérios de avaliação)\n",
    "\n",
    "---\n",
    "\n",
    "1.\tSolution will be evaluated based on the best architecture design of the entire solution;\n",
    "2.\tSolution will be evaluated based on the best EDA;\n",
    "3.\tSolution will be evaluated based on the **best optimization and model accuracy on unseen dataset**;\n",
    "4.\tSolution will be evaluated based on final deployment and testing with a bulk dataset as well as data  with single entry;\n",
    "5.\tSolution will be evaluated based on the best readability and proper commenting of the code;\n",
    "6.\tSolution will be evaluated based on best interactive user interface;\n",
    "7.\t On the basis of the given data in the features column and target column, you have to build a model which will be able to predict whether an order for a given product can go on backorder or not.\n"
   ]
  },
  {
   "cell_type": "markdown",
   "metadata": {},
   "source": [
    "## 1.9. Timeline (Duração da competição)\n",
    "\n",
    "---\n",
    "\n",
    "Vai (ou foi, não sei em que momento você está lendo isso) de 06/05/2020 à 14/06/2020. "
   ]
  },
  {
   "cell_type": "markdown",
   "metadata": {},
   "source": [
    "## 1.10. Prizes (Money, Cash, Dindin, Grana, Premiação)\n",
    "\n",
    "---\n",
    "\n",
    "Algo que não iremos ligar muito, pois o objetivo com essa competição é o **aprendizado**.\n",
    "\n",
    "1. 1st Place - ₹50,000\n",
    "2. 2nd Place - ₹30,000\n",
    "3. 3rd Place - ₹20,000\n",
    "\n",
    "Para quem não sabe, esta moeda (₹) é a Rupia Indiana e, atualmente, custa:\n",
    "\n",
    "1 Rupia indiana igual a\n",
    "0,078 Real brasileiro\n",
    "14 de mai. 14:27 UTC ·"
   ]
  },
  {
   "cell_type": "markdown",
   "metadata": {},
   "source": [
    "# 2. Considerações iniciais"
   ]
  },
  {
   "cell_type": "markdown",
   "metadata": {},
   "source": [
    "## 2.1. Importando as bibliotecas"
   ]
  },
  {
   "cell_type": "code",
   "execution_count": 1,
   "metadata": {},
   "outputs": [],
   "source": [
    "import pandas as pd\n",
    "import numpy as np\n",
    "import matplotlib.pyplot as plt\n",
    "import seaborn as sns"
   ]
  },
  {
   "cell_type": "markdown",
   "metadata": {},
   "source": [
    "## 2.2. Configurações adicionais"
   ]
  },
  {
   "cell_type": "code",
   "execution_count": 2,
   "metadata": {},
   "outputs": [],
   "source": [
    "plt.style.use(\"seaborn-muted\")\n",
    "%matplotlib inline\n",
    "pd.set_option('display.max_columns', None)"
   ]
  },
  {
   "cell_type": "markdown",
   "metadata": {},
   "source": [
    "## 2.3. Importando os dados"
   ]
  },
  {
   "cell_type": "code",
   "execution_count": 3,
   "metadata": {},
   "outputs": [],
   "source": [
    "banco = pd.read_csv(\"Training_Dataset_v2.csv\", low_memory = False)"
   ]
  },
  {
   "cell_type": "code",
   "execution_count": 4,
   "metadata": {},
   "outputs": [],
   "source": [
    "dados = banco.copy()"
   ]
  },
  {
   "cell_type": "code",
   "execution_count": 5,
   "metadata": {},
   "outputs": [
    {
     "data": {
      "text/html": [
       "<div>\n",
       "<style scoped>\n",
       "    .dataframe tbody tr th:only-of-type {\n",
       "        vertical-align: middle;\n",
       "    }\n",
       "\n",
       "    .dataframe tbody tr th {\n",
       "        vertical-align: top;\n",
       "    }\n",
       "\n",
       "    .dataframe thead th {\n",
       "        text-align: right;\n",
       "    }\n",
       "</style>\n",
       "<table border=\"1\" class=\"dataframe\">\n",
       "  <thead>\n",
       "    <tr style=\"text-align: right;\">\n",
       "      <th></th>\n",
       "      <th>sku</th>\n",
       "      <th>national_inv</th>\n",
       "      <th>lead_time</th>\n",
       "      <th>in_transit_qty</th>\n",
       "      <th>forecast_3_month</th>\n",
       "      <th>forecast_6_month</th>\n",
       "      <th>forecast_9_month</th>\n",
       "      <th>sales_1_month</th>\n",
       "      <th>sales_3_month</th>\n",
       "      <th>sales_6_month</th>\n",
       "      <th>sales_9_month</th>\n",
       "      <th>min_bank</th>\n",
       "      <th>potential_issue</th>\n",
       "      <th>pieces_past_due</th>\n",
       "      <th>perf_6_month_avg</th>\n",
       "      <th>perf_12_month_avg</th>\n",
       "      <th>local_bo_qty</th>\n",
       "      <th>deck_risk</th>\n",
       "      <th>oe_constraint</th>\n",
       "      <th>ppap_risk</th>\n",
       "      <th>stop_auto_buy</th>\n",
       "      <th>rev_stop</th>\n",
       "      <th>went_on_backorder</th>\n",
       "    </tr>\n",
       "  </thead>\n",
       "  <tbody>\n",
       "    <tr>\n",
       "      <th>0</th>\n",
       "      <td>1026827</td>\n",
       "      <td>0.0</td>\n",
       "      <td>NaN</td>\n",
       "      <td>0.0</td>\n",
       "      <td>0.0</td>\n",
       "      <td>0.0</td>\n",
       "      <td>0.0</td>\n",
       "      <td>0.0</td>\n",
       "      <td>0.0</td>\n",
       "      <td>0.0</td>\n",
       "      <td>0.0</td>\n",
       "      <td>0.0</td>\n",
       "      <td>No</td>\n",
       "      <td>0.0</td>\n",
       "      <td>-99.00</td>\n",
       "      <td>-99.00</td>\n",
       "      <td>0.0</td>\n",
       "      <td>No</td>\n",
       "      <td>No</td>\n",
       "      <td>No</td>\n",
       "      <td>Yes</td>\n",
       "      <td>No</td>\n",
       "      <td>No</td>\n",
       "    </tr>\n",
       "    <tr>\n",
       "      <th>1</th>\n",
       "      <td>1043384</td>\n",
       "      <td>2.0</td>\n",
       "      <td>9.0</td>\n",
       "      <td>0.0</td>\n",
       "      <td>0.0</td>\n",
       "      <td>0.0</td>\n",
       "      <td>0.0</td>\n",
       "      <td>0.0</td>\n",
       "      <td>0.0</td>\n",
       "      <td>0.0</td>\n",
       "      <td>0.0</td>\n",
       "      <td>0.0</td>\n",
       "      <td>No</td>\n",
       "      <td>0.0</td>\n",
       "      <td>0.99</td>\n",
       "      <td>0.99</td>\n",
       "      <td>0.0</td>\n",
       "      <td>No</td>\n",
       "      <td>No</td>\n",
       "      <td>No</td>\n",
       "      <td>Yes</td>\n",
       "      <td>No</td>\n",
       "      <td>No</td>\n",
       "    </tr>\n",
       "    <tr>\n",
       "      <th>2</th>\n",
       "      <td>1043696</td>\n",
       "      <td>2.0</td>\n",
       "      <td>NaN</td>\n",
       "      <td>0.0</td>\n",
       "      <td>0.0</td>\n",
       "      <td>0.0</td>\n",
       "      <td>0.0</td>\n",
       "      <td>0.0</td>\n",
       "      <td>0.0</td>\n",
       "      <td>0.0</td>\n",
       "      <td>0.0</td>\n",
       "      <td>0.0</td>\n",
       "      <td>No</td>\n",
       "      <td>0.0</td>\n",
       "      <td>-99.00</td>\n",
       "      <td>-99.00</td>\n",
       "      <td>0.0</td>\n",
       "      <td>Yes</td>\n",
       "      <td>No</td>\n",
       "      <td>No</td>\n",
       "      <td>Yes</td>\n",
       "      <td>No</td>\n",
       "      <td>No</td>\n",
       "    </tr>\n",
       "    <tr>\n",
       "      <th>3</th>\n",
       "      <td>1043852</td>\n",
       "      <td>7.0</td>\n",
       "      <td>8.0</td>\n",
       "      <td>0.0</td>\n",
       "      <td>0.0</td>\n",
       "      <td>0.0</td>\n",
       "      <td>0.0</td>\n",
       "      <td>0.0</td>\n",
       "      <td>0.0</td>\n",
       "      <td>0.0</td>\n",
       "      <td>0.0</td>\n",
       "      <td>1.0</td>\n",
       "      <td>No</td>\n",
       "      <td>0.0</td>\n",
       "      <td>0.10</td>\n",
       "      <td>0.13</td>\n",
       "      <td>0.0</td>\n",
       "      <td>No</td>\n",
       "      <td>No</td>\n",
       "      <td>No</td>\n",
       "      <td>Yes</td>\n",
       "      <td>No</td>\n",
       "      <td>No</td>\n",
       "    </tr>\n",
       "    <tr>\n",
       "      <th>4</th>\n",
       "      <td>1044048</td>\n",
       "      <td>8.0</td>\n",
       "      <td>NaN</td>\n",
       "      <td>0.0</td>\n",
       "      <td>0.0</td>\n",
       "      <td>0.0</td>\n",
       "      <td>0.0</td>\n",
       "      <td>0.0</td>\n",
       "      <td>0.0</td>\n",
       "      <td>0.0</td>\n",
       "      <td>4.0</td>\n",
       "      <td>2.0</td>\n",
       "      <td>No</td>\n",
       "      <td>0.0</td>\n",
       "      <td>-99.00</td>\n",
       "      <td>-99.00</td>\n",
       "      <td>0.0</td>\n",
       "      <td>Yes</td>\n",
       "      <td>No</td>\n",
       "      <td>No</td>\n",
       "      <td>Yes</td>\n",
       "      <td>No</td>\n",
       "      <td>No</td>\n",
       "    </tr>\n",
       "  </tbody>\n",
       "</table>\n",
       "</div>"
      ],
      "text/plain": [
       "       sku  national_inv  lead_time  in_transit_qty  forecast_3_month  \\\n",
       "0  1026827           0.0        NaN             0.0               0.0   \n",
       "1  1043384           2.0        9.0             0.0               0.0   \n",
       "2  1043696           2.0        NaN             0.0               0.0   \n",
       "3  1043852           7.0        8.0             0.0               0.0   \n",
       "4  1044048           8.0        NaN             0.0               0.0   \n",
       "\n",
       "   forecast_6_month  forecast_9_month  sales_1_month  sales_3_month  \\\n",
       "0               0.0               0.0            0.0            0.0   \n",
       "1               0.0               0.0            0.0            0.0   \n",
       "2               0.0               0.0            0.0            0.0   \n",
       "3               0.0               0.0            0.0            0.0   \n",
       "4               0.0               0.0            0.0            0.0   \n",
       "\n",
       "   sales_6_month  sales_9_month  min_bank potential_issue  pieces_past_due  \\\n",
       "0            0.0            0.0       0.0              No              0.0   \n",
       "1            0.0            0.0       0.0              No              0.0   \n",
       "2            0.0            0.0       0.0              No              0.0   \n",
       "3            0.0            0.0       1.0              No              0.0   \n",
       "4            0.0            4.0       2.0              No              0.0   \n",
       "\n",
       "   perf_6_month_avg  perf_12_month_avg  local_bo_qty deck_risk oe_constraint  \\\n",
       "0            -99.00             -99.00           0.0        No            No   \n",
       "1              0.99               0.99           0.0        No            No   \n",
       "2            -99.00             -99.00           0.0       Yes            No   \n",
       "3              0.10               0.13           0.0        No            No   \n",
       "4            -99.00             -99.00           0.0       Yes            No   \n",
       "\n",
       "  ppap_risk stop_auto_buy rev_stop went_on_backorder  \n",
       "0        No           Yes       No                No  \n",
       "1        No           Yes       No                No  \n",
       "2        No           Yes       No                No  \n",
       "3        No           Yes       No                No  \n",
       "4        No           Yes       No                No  "
      ]
     },
     "execution_count": 5,
     "metadata": {},
     "output_type": "execute_result"
    }
   ],
   "source": [
    "dados.head()"
   ]
  },
  {
   "cell_type": "code",
   "execution_count": 6,
   "metadata": {},
   "outputs": [
    {
     "name": "stdout",
     "output_type": "stream",
     "text": [
      "<class 'pandas.core.frame.DataFrame'>\n",
      "RangeIndex: 1687861 entries, 0 to 1687860\n",
      "Data columns (total 23 columns):\n",
      " #   Column             Non-Null Count    Dtype  \n",
      "---  ------             --------------    -----  \n",
      " 0   sku                1687861 non-null  object \n",
      " 1   national_inv       1687860 non-null  float64\n",
      " 2   lead_time          1586967 non-null  float64\n",
      " 3   in_transit_qty     1687860 non-null  float64\n",
      " 4   forecast_3_month   1687860 non-null  float64\n",
      " 5   forecast_6_month   1687860 non-null  float64\n",
      " 6   forecast_9_month   1687860 non-null  float64\n",
      " 7   sales_1_month      1687860 non-null  float64\n",
      " 8   sales_3_month      1687860 non-null  float64\n",
      " 9   sales_6_month      1687860 non-null  float64\n",
      " 10  sales_9_month      1687860 non-null  float64\n",
      " 11  min_bank           1687860 non-null  float64\n",
      " 12  potential_issue    1687860 non-null  object \n",
      " 13  pieces_past_due    1687860 non-null  float64\n",
      " 14  perf_6_month_avg   1687860 non-null  float64\n",
      " 15  perf_12_month_avg  1687860 non-null  float64\n",
      " 16  local_bo_qty       1687860 non-null  float64\n",
      " 17  deck_risk          1687860 non-null  object \n",
      " 18  oe_constraint      1687860 non-null  object \n",
      " 19  ppap_risk          1687860 non-null  object \n",
      " 20  stop_auto_buy      1687860 non-null  object \n",
      " 21  rev_stop           1687860 non-null  object \n",
      " 22  went_on_backorder  1687860 non-null  object \n",
      "dtypes: float64(15), object(8)\n",
      "memory usage: 296.2+ MB\n"
     ]
    }
   ],
   "source": [
    "dados.info()"
   ]
  },
  {
   "cell_type": "code",
   "execution_count": 7,
   "metadata": {},
   "outputs": [
    {
     "data": {
      "text/plain": [
       "(1687861, 23)"
      ]
     },
     "execution_count": 7,
     "metadata": {},
     "output_type": "execute_result"
    }
   ],
   "source": [
    "dados.shape"
   ]
  },
  {
   "cell_type": "markdown",
   "metadata": {},
   "source": [
    "## 2.4. Retirar a variável `sku`\n",
    "\n",
    "---\n",
    "\n",
    "Como mencionada na descrição desta variável, temos que ela é apenas um ID randômico para cada produto."
   ]
  },
  {
   "cell_type": "code",
   "execution_count": 8,
   "metadata": {},
   "outputs": [],
   "source": [
    "dados = dados.drop(\"sku\", axis = 1) "
   ]
  },
  {
   "cell_type": "markdown",
   "metadata": {},
   "source": [
    "## 2.7. Escalando os dados (pré-processamento)"
   ]
  },
  {
   "cell_type": "code",
   "execution_count": 9,
   "metadata": {},
   "outputs": [
    {
     "data": {
      "text/html": [
       "<div>\n",
       "<style scoped>\n",
       "    .dataframe tbody tr th:only-of-type {\n",
       "        vertical-align: middle;\n",
       "    }\n",
       "\n",
       "    .dataframe tbody tr th {\n",
       "        vertical-align: top;\n",
       "    }\n",
       "\n",
       "    .dataframe thead th {\n",
       "        text-align: right;\n",
       "    }\n",
       "</style>\n",
       "<table border=\"1\" class=\"dataframe\">\n",
       "  <thead>\n",
       "    <tr style=\"text-align: right;\">\n",
       "      <th></th>\n",
       "      <th>national_inv</th>\n",
       "      <th>lead_time</th>\n",
       "      <th>in_transit_qty</th>\n",
       "      <th>forecast_3_month</th>\n",
       "      <th>forecast_6_month</th>\n",
       "      <th>forecast_9_month</th>\n",
       "      <th>sales_1_month</th>\n",
       "      <th>sales_3_month</th>\n",
       "      <th>sales_6_month</th>\n",
       "      <th>sales_9_month</th>\n",
       "      <th>min_bank</th>\n",
       "      <th>potential_issue</th>\n",
       "      <th>pieces_past_due</th>\n",
       "      <th>perf_6_month_avg</th>\n",
       "      <th>perf_12_month_avg</th>\n",
       "      <th>local_bo_qty</th>\n",
       "      <th>deck_risk</th>\n",
       "      <th>oe_constraint</th>\n",
       "      <th>ppap_risk</th>\n",
       "      <th>stop_auto_buy</th>\n",
       "      <th>rev_stop</th>\n",
       "      <th>went_on_backorder</th>\n",
       "    </tr>\n",
       "  </thead>\n",
       "  <tbody>\n",
       "    <tr>\n",
       "      <th>0</th>\n",
       "      <td>-0.016752</td>\n",
       "      <td>NaN</td>\n",
       "      <td>-0.032808</td>\n",
       "      <td>-0.035436</td>\n",
       "      <td>-0.03522</td>\n",
       "      <td>-0.035216</td>\n",
       "      <td>-0.029004</td>\n",
       "      <td>-0.033708</td>\n",
       "      <td>-0.035548</td>\n",
       "      <td>-0.035399</td>\n",
       "      <td>-0.042050</td>\n",
       "      <td>No</td>\n",
       "      <td>-0.008659</td>\n",
       "      <td>-3.469149</td>\n",
       "      <td>-3.581662</td>\n",
       "      <td>-0.018577</td>\n",
       "      <td>No</td>\n",
       "      <td>No</td>\n",
       "      <td>No</td>\n",
       "      <td>Yes</td>\n",
       "      <td>No</td>\n",
       "      <td>No</td>\n",
       "    </tr>\n",
       "    <tr>\n",
       "      <th>1</th>\n",
       "      <td>-0.016684</td>\n",
       "      <td>0.159826</td>\n",
       "      <td>-0.032808</td>\n",
       "      <td>-0.035436</td>\n",
       "      <td>-0.03522</td>\n",
       "      <td>-0.035216</td>\n",
       "      <td>-0.029004</td>\n",
       "      <td>-0.033708</td>\n",
       "      <td>-0.035548</td>\n",
       "      <td>-0.035399</td>\n",
       "      <td>-0.042050</td>\n",
       "      <td>No</td>\n",
       "      <td>-0.008659</td>\n",
       "      <td>0.296052</td>\n",
       "      <td>0.287422</td>\n",
       "      <td>-0.018577</td>\n",
       "      <td>No</td>\n",
       "      <td>No</td>\n",
       "      <td>No</td>\n",
       "      <td>Yes</td>\n",
       "      <td>No</td>\n",
       "      <td>No</td>\n",
       "    </tr>\n",
       "    <tr>\n",
       "      <th>2</th>\n",
       "      <td>-0.016684</td>\n",
       "      <td>NaN</td>\n",
       "      <td>-0.032808</td>\n",
       "      <td>-0.035436</td>\n",
       "      <td>-0.03522</td>\n",
       "      <td>-0.035216</td>\n",
       "      <td>-0.029004</td>\n",
       "      <td>-0.033708</td>\n",
       "      <td>-0.035548</td>\n",
       "      <td>-0.035399</td>\n",
       "      <td>-0.042050</td>\n",
       "      <td>No</td>\n",
       "      <td>-0.008659</td>\n",
       "      <td>-3.469149</td>\n",
       "      <td>-3.581662</td>\n",
       "      <td>-0.018577</td>\n",
       "      <td>Yes</td>\n",
       "      <td>No</td>\n",
       "      <td>No</td>\n",
       "      <td>Yes</td>\n",
       "      <td>No</td>\n",
       "      <td>No</td>\n",
       "    </tr>\n",
       "    <tr>\n",
       "      <th>3</th>\n",
       "      <td>-0.016516</td>\n",
       "      <td>0.018103</td>\n",
       "      <td>-0.032808</td>\n",
       "      <td>-0.035436</td>\n",
       "      <td>-0.03522</td>\n",
       "      <td>-0.035216</td>\n",
       "      <td>-0.029004</td>\n",
       "      <td>-0.033708</td>\n",
       "      <td>-0.035548</td>\n",
       "      <td>-0.035399</td>\n",
       "      <td>-0.041253</td>\n",
       "      <td>No</td>\n",
       "      <td>-0.008659</td>\n",
       "      <td>0.262538</td>\n",
       "      <td>0.254145</td>\n",
       "      <td>-0.018577</td>\n",
       "      <td>No</td>\n",
       "      <td>No</td>\n",
       "      <td>No</td>\n",
       "      <td>Yes</td>\n",
       "      <td>No</td>\n",
       "      <td>No</td>\n",
       "    </tr>\n",
       "    <tr>\n",
       "      <th>4</th>\n",
       "      <td>-0.016482</td>\n",
       "      <td>NaN</td>\n",
       "      <td>-0.032808</td>\n",
       "      <td>-0.035436</td>\n",
       "      <td>-0.03522</td>\n",
       "      <td>-0.035216</td>\n",
       "      <td>-0.029004</td>\n",
       "      <td>-0.033708</td>\n",
       "      <td>-0.035548</td>\n",
       "      <td>-0.035129</td>\n",
       "      <td>-0.040457</td>\n",
       "      <td>No</td>\n",
       "      <td>-0.008659</td>\n",
       "      <td>-3.469149</td>\n",
       "      <td>-3.581662</td>\n",
       "      <td>-0.018577</td>\n",
       "      <td>Yes</td>\n",
       "      <td>No</td>\n",
       "      <td>No</td>\n",
       "      <td>Yes</td>\n",
       "      <td>No</td>\n",
       "      <td>No</td>\n",
       "    </tr>\n",
       "  </tbody>\n",
       "</table>\n",
       "</div>"
      ],
      "text/plain": [
       "   national_inv  lead_time  in_transit_qty  forecast_3_month  \\\n",
       "0     -0.016752        NaN       -0.032808         -0.035436   \n",
       "1     -0.016684   0.159826       -0.032808         -0.035436   \n",
       "2     -0.016684        NaN       -0.032808         -0.035436   \n",
       "3     -0.016516   0.018103       -0.032808         -0.035436   \n",
       "4     -0.016482        NaN       -0.032808         -0.035436   \n",
       "\n",
       "   forecast_6_month  forecast_9_month  sales_1_month  sales_3_month  \\\n",
       "0          -0.03522         -0.035216      -0.029004      -0.033708   \n",
       "1          -0.03522         -0.035216      -0.029004      -0.033708   \n",
       "2          -0.03522         -0.035216      -0.029004      -0.033708   \n",
       "3          -0.03522         -0.035216      -0.029004      -0.033708   \n",
       "4          -0.03522         -0.035216      -0.029004      -0.033708   \n",
       "\n",
       "   sales_6_month  sales_9_month  min_bank potential_issue  pieces_past_due  \\\n",
       "0      -0.035548      -0.035399 -0.042050              No        -0.008659   \n",
       "1      -0.035548      -0.035399 -0.042050              No        -0.008659   \n",
       "2      -0.035548      -0.035399 -0.042050              No        -0.008659   \n",
       "3      -0.035548      -0.035399 -0.041253              No        -0.008659   \n",
       "4      -0.035548      -0.035129 -0.040457              No        -0.008659   \n",
       "\n",
       "   perf_6_month_avg  perf_12_month_avg  local_bo_qty deck_risk oe_constraint  \\\n",
       "0         -3.469149          -3.581662     -0.018577        No            No   \n",
       "1          0.296052           0.287422     -0.018577        No            No   \n",
       "2         -3.469149          -3.581662     -0.018577       Yes            No   \n",
       "3          0.262538           0.254145     -0.018577        No            No   \n",
       "4         -3.469149          -3.581662     -0.018577       Yes            No   \n",
       "\n",
       "  ppap_risk stop_auto_buy rev_stop went_on_backorder  \n",
       "0        No           Yes       No                No  \n",
       "1        No           Yes       No                No  \n",
       "2        No           Yes       No                No  \n",
       "3        No           Yes       No                No  \n",
       "4        No           Yes       No                No  "
      ]
     },
     "execution_count": 9,
     "metadata": {},
     "output_type": "execute_result"
    }
   ],
   "source": [
    "from sklearn import preprocessing \n",
    "\n",
    "scaler = preprocessing.StandardScaler()\n",
    "\n",
    "col_quant = dados.select_dtypes(exclude = [object]).columns\n",
    "\n",
    "dados[col_quant] = scaler.fit_transform(dados[col_quant])\n",
    "\n",
    "dados.head()"
   ]
  },
  {
   "cell_type": "markdown",
   "metadata": {},
   "source": [
    "## 2.5. Codificar a variável went_on_backorder em 0 e 1\n",
    "\n",
    "---"
   ]
  },
  {
   "cell_type": "code",
   "execution_count": 10,
   "metadata": {},
   "outputs": [],
   "source": [
    "columns_yesno = [\"potential_issue\", \"deck_risk\", \"oe_constraint\", \"ppap_risk\", \"stop_auto_buy\", \"rev_stop\", \"went_on_backorder\"]\n",
    "\n",
    "dados[columns_yesno] = dados[columns_yesno].replace({\"No\" : 0, \"Yes\": 1})"
   ]
  },
  {
   "cell_type": "code",
   "execution_count": 11,
   "metadata": {},
   "outputs": [
    {
     "data": {
      "text/plain": [
       "0.0    1300377\n",
       "1.0     387483\n",
       "Name: deck_risk, dtype: int64"
      ]
     },
     "execution_count": 11,
     "metadata": {},
     "output_type": "execute_result"
    }
   ],
   "source": [
    "dados[\"deck_risk\"].value_counts()"
   ]
  },
  {
   "cell_type": "markdown",
   "metadata": {},
   "source": [
    "## 2.6. Valores faltantes\n",
    "\n",
    "---\n",
    "\n",
    "Como podemos notar, existe exatamente pelo menos um valor faltante para cada uma das variáveis a seguir."
   ]
  },
  {
   "cell_type": "code",
   "execution_count": 12,
   "metadata": {},
   "outputs": [
    {
     "data": {
      "text/plain": [
       "national_inv              1\n",
       "lead_time            100894\n",
       "in_transit_qty            1\n",
       "forecast_3_month          1\n",
       "forecast_6_month          1\n",
       "forecast_9_month          1\n",
       "sales_1_month             1\n",
       "sales_3_month             1\n",
       "sales_6_month             1\n",
       "sales_9_month             1\n",
       "min_bank                  1\n",
       "potential_issue           1\n",
       "pieces_past_due           1\n",
       "perf_6_month_avg          1\n",
       "perf_12_month_avg         1\n",
       "local_bo_qty              1\n",
       "deck_risk                 1\n",
       "oe_constraint             1\n",
       "ppap_risk                 1\n",
       "stop_auto_buy             1\n",
       "rev_stop                  1\n",
       "went_on_backorder         1\n",
       "dtype: int64"
      ]
     },
     "execution_count": 12,
     "metadata": {},
     "output_type": "execute_result"
    }
   ],
   "source": [
    "dados.isnull().sum()"
   ]
  },
  {
   "cell_type": "markdown",
   "metadata": {},
   "source": [
    "---\n",
    "\n",
    "Como essa é uma baseline e não estamos pensando em fazer o **M O D E L O**, então vamos simplesmente retirar as informações faltantes de todas as variáveis, pois não estamos perdendo tantos dados também."
   ]
  },
  {
   "cell_type": "code",
   "execution_count": 13,
   "metadata": {},
   "outputs": [],
   "source": [
    "dados = dados.dropna()"
   ]
  },
  {
   "cell_type": "markdown",
   "metadata": {},
   "source": [
    "# 3. Criar uma baseline\n",
    "\n",
    "---\n",
    "\n",
    "A baseline é um modelo simples que tomamos como base pra ver a acurácia dos modelos.\n",
    "\n",
    "**Se não conseguimos bater um modelo simples, por que fazer um modelo complicado ?**\n",
    "\n",
    "Um modelo simples a ser utilizado é a Regressão Logística, mas nela vamos ajustar os parâmetros lá dentro, devido ao desbalanceamento da variável target (**went_on_backorder**)."
   ]
  },
  {
   "cell_type": "markdown",
   "metadata": {},
   "source": [
    "## 3.1.  Separando os dados em treino e teste\n",
    "\n",
    "---\n",
    "\n",
    "> **50/50**\n",
    "\n",
    "ou \n",
    "\n",
    "> **70/30**\n",
    "\n",
    "Melhor optar pelo 70/30 desta vez."
   ]
  },
  {
   "cell_type": "code",
   "execution_count": 14,
   "metadata": {},
   "outputs": [],
   "source": [
    "from sklearn.model_selection import train_test_split\n",
    "\n",
    "x_treino, x_teste, y_treino, y_teste = train_test_split(dados.drop(\"went_on_backorder\", axis = 1), dados[\"went_on_backorder\"], train_size = 0.7, random_state = 1234, stratify = dados[\"went_on_backorder\"])"
   ]
  },
  {
   "cell_type": "code",
   "execution_count": 15,
   "metadata": {},
   "outputs": [
    {
     "name": "stdout",
     "output_type": "stream",
     "text": [
      "(1110876, 21) (1110876,) (476091, 21) (476091,)\n"
     ]
    }
   ],
   "source": [
    "print(x_treino.shape, y_treino.shape, x_teste.shape, y_teste.shape)"
   ]
  },
  {
   "cell_type": "markdown",
   "metadata": {},
   "source": [
    "## 3.2. Aplicando a regressão logística\n",
    "---"
   ]
  },
  {
   "cell_type": "markdown",
   "metadata": {},
   "source": [
    "### 3.2.1. Modelo\n",
    "\n",
    "- random_state: caso queiramos resultados semelhantes no futuro (**R E P R O D U T I B I L I D A D E** é tudo);\n",
    "\n",
    "- max_iter: foi este valor de 300 pois com o default (100) não estava convergindo."
   ]
  },
  {
   "cell_type": "code",
   "execution_count": 16,
   "metadata": {},
   "outputs": [
    {
     "data": {
      "text/plain": [
       "LogisticRegression(C=1.0, class_weight=None, dual=False, fit_intercept=True,\n",
       "                   intercept_scaling=1, l1_ratio=None, max_iter=300,\n",
       "                   multi_class='auto', n_jobs=None, penalty='l2',\n",
       "                   random_state=1234, solver='lbfgs', tol=0.0001, verbose=0,\n",
       "                   warm_start=False)"
      ]
     },
     "execution_count": 16,
     "metadata": {},
     "output_type": "execute_result"
    }
   ],
   "source": [
    "from sklearn.linear_model import LogisticRegression\n",
    "from sklearn.utils import class_weight\n",
    "\n",
    "logreg = LogisticRegression(random_state = 1234, max_iter = 300)\n",
    "\n",
    "logreg.fit(x_treino, y_treino)"
   ]
  },
  {
   "cell_type": "markdown",
   "metadata": {},
   "source": [
    "### 3.2.2. Matriz de confusão\n",
    "\n",
    "![](https://miro.medium.com/max/1400/1*s7VB26Cfo1LdVZcLou-e0g.png \"Confusion Matrix\")\n",
    "\n",
    "**Nota**: Retirado de https://medium.com/@vitorborbarodrigues/m%C3%A9tricas-de-avalia%C3%A7%C3%A3o-acur%C3%A1cia-precis%C3%A3o-recall-quais-as-diferen%C3%A7as-c8f05e0a513c\n",
    "\n",
    "\n",
    "**Exemplo**: Criamos um classificador para classificar se é gato ou cachorro. Abaixo podemos ver a matriz de confusão do nosso modelo hipotético.\n"
   ]
  },
  {
   "cell_type": "code",
   "execution_count": 17,
   "metadata": {},
   "outputs": [
    {
     "data": {
      "image/png": "[encoded data removed]",
      "text/plain": [
       "<IPython.core.display.Image object>"
      ]
     },
     "execution_count": 17,
     "metadata": {},
     "output_type": "execute_result"
    }
   ],
   "source": [
    "from IPython.display import Image\n",
    "\n",
    "Image(filename = \"matriz_de_confusao.png\") "
   ]
  },
  {
   "cell_type": "markdown",
   "metadata": {},
   "source": [
    "**Nota**: Retirado de https://minerandodados.com.br/matriz-de-confusao/\n",
    "\n",
    "\n",
    "> **Verdadeiro Positivo:** Parabéns, seu modelo acertou **15** exemplos de gatos, quando realmente eles eram para ser classificado como gatos;\n",
    "\n",
    "> **Falso Negativo (Erro do tipo II):** Meh, seu modelo classificou **35** exemplos de cachorros, quando a verdadeira classe deles eram gatos;\n",
    "\n",
    "> **Falso Positivo (Erro do tipo I):** Puts, seu modelo classificou **40** exemplos de gatos, quando a verdadeira classe deles eram cachorros;\n",
    "\n",
    "> **Verdadeiro Negativo:** Good Job, seu modelo classificou **10** exemplos de cachorros, quando realmente eles eram para ser classificado como cachorros.\n",
    "\n",
    "\n",
    "Aí fica a dúvida: Agora nós temos o famoso *trade-off* que é mais importante: \n",
    "\n",
    "- Classificar um cachorro que na verdade era um gato ?\n",
    "- Classificar um gato que na verdade era um cachorro ?\n",
    "\n",
    "> **Se você estender esse exemplo para a questão de fraudes, temos que pensar bastante sobre esse *trade-off*.**\n",
    "\n",
    "\n",
    "Por meio da matriz de confusão, podemos retirar diversas métricas de nosso interesse, entre elas estão:\n",
    "\n",
    "1. Acurácia;\n",
    "2. Precisão;\n",
    "3. Recall;\n",
    "4. F1-Score;\n",
    "5. ROC e AUC."
   ]
  },
  {
   "cell_type": "markdown",
   "metadata": {},
   "source": [
    "#### 3.2.2.1. Acurácia\n",
    "\n",
    "O cálculo da acurácia é dado por\n",
    "\n",
    "$$\\text{Acc}  = \\frac{\\text{Verdadeiros Positivos (VP)} + \\text{Verdadeiro Negativo (VN)}}{\\text{Total}}$$\n",
    "\n",
    "\n",
    "**Interpretação**: O quanto de acerto o nosso modelo teve nos exemplos, em relação ao total de exemplos. \n",
    "\n",
    "> Segundo o [post](https://www.mariofilho.com/as-metricas-mais-populares-para-avaliar-modelos-de-machine-learning/) do [Mario Filho](https://www.linkedin.com/in/mariofilho) e [este](https://mineracaodedados.wordpress.com/2014/11/16/metricas-de-avaliacao-de-modelos-de-classificacaopredicao/) do [Flávio Clésio](https://mineracaodedados.wordpress.com/author/flavioclesio/) a **acurácia** nos dá uma falsa impressão de qualidade do modelo quando os dados são desbalanceados (*e.g*, em 98% dos casos não ocorreu a fraude e em 2% sim)."
   ]
  },
  {
   "cell_type": "markdown",
   "metadata": {},
   "source": [
    "#### 3.2.2.2. Precisão"
   ]
  },
  {
   "cell_type": "markdown",
   "metadata": {},
   "source": [
    "A precisão é dada por\n",
    "\n",
    "$$\\text{Prec}  = \\frac{\\text{Verdadeiros Positivos (VP)}}{\\text{Verdadeiros Positivos (VP)} + \\text{Falsos Positivos (FP)}}$$\n",
    "\n",
    "\n",
    "**Interpretação**: O quão precisa foram as minhas predições para a classe positiva.\n",
    "\n",
    "> **Segundo o Mario Filho em seu [blog](https://www.mariofilho.com/as-metricas-mais-populares-para-avaliar-modelos-de-machine-learning/)**: para o nosso modelo ela seria utilizada para responder a seguinte questão: de todos os comentários classificados como positivos, qual percentual realmente é positivo?"
   ]
  },
  {
   "cell_type": "markdown",
   "metadata": {},
   "source": [
    "#### 3.2.2.3. Recall\n",
    "\n",
    "O Recall é dado por \n",
    "\n",
    "$$\\text{Recall}  = \\frac{\\text{Verdadeiros Positivos (VP)}}{\\text{Verdadeiros Positivos (VP)} + \\text{Falsos Negativos (FN)}}$$\n",
    "\n",
    "\n",
    "**Interpretação**: De todos os exemplos que realmente são verdadeiros, o quanto meu modelo meu modelo previu corretamente."
   ]
  },
  {
   "cell_type": "markdown",
   "metadata": {},
   "source": [
    "#### 3.2.2.4. F1-Score\n",
    "\n",
    "$$\\text{F1-Score}  = 2 \\times \\frac{\\text{Prec} \\times \\text{Recall}}{\\text{Prec} + \\text{Recall}}$$\n",
    "\n",
    "\n",
    "**Interpretação**: Média harmônica entre a Precisão e o Recall. Quanto maior, melhor.\n",
    "\n",
    "Segundo o [post](https://www.mariofilho.com/as-metricas-mais-populares-para-avaliar-modelos-de-machine-learning/) do Mario Filho:\n",
    "\n",
    "> **Ela é muito boa quando você possui um dataset com classes desproporcionais, e o seu modelo não emite probabilidades.**"
   ]
  },
  {
   "cell_type": "markdown",
   "metadata": {},
   "source": [
    "#### 3.2.2.5. ROC (Receiver Operating Characteristic) e AUC (Area Under The Curve)\n",
    "\n",
    "A **Curva ROC** traça a relação Taxa de Verdadeiros Positivos: $\\frac{\\text{VP}}{\\text{VP} + \\text{FN}}$ vs Taxa de Falsos Positivos: $\\frac{\\text{FP}}{\\text{VN} + \\text{FP}}$, em diferentes pontos de corte. Quanto mais alto e distante da reta linear (em tracejado), melhor é o modelo.\n",
    "\n",
    "\n",
    "![](https://miro.medium.com/max/722/1*pk05QGzoWhCgRiiFbz-oKQ.png)\n",
    "\n",
    "**Retirado de**: https://towardsdatascience.com/understanding-auc-roc-curve-68b2303cc9c5\n",
    "\n",
    "\n",
    "Já a **AUC** é uma medida resumo a curva ROC caso você não queira ter que olhar para o gráfico e interpretar: \"meu modelo está performando bem ou não ?\". Assim como a curva ROC, quanto mais próxima de 1 a AUC estiver, melhor o modelo.\n",
    "\n",
    "\n",
    "Segundo este [post](https://www.mariofilho.com/as-metricas-mais-populares-para-avaliar-modelos-de-machine-learning/) e este [post](http://www.inf.ufpr.br/menotti/ci171-182/slides/ci171-boasmaneiras.pdf)\n",
    "\n",
    "> A curva ROC e a AUC são uma boa métrica para dados desbalanceados, já que elas são baseadas somente na Taxa de Verdadeiros Positivos e Falsos Positivos. \n",
    "\n",
    "Agora que sabemos as métricas e como se analisar uma matriz de confusão, podemos criar esta com as seguintes linhas de comando `confusion_matrix(y_teste, previsao)`.\n",
    "\n",
    "- Uma leve conclusão é de que nosso modelo não acertou nenhum caso que realmente houve um pedido em atraso e isso é:\n",
    "\n",
    "**P R O B L E M Á T I C O**"
   ]
  },
  {
   "cell_type": "code",
   "execution_count": 18,
   "metadata": {},
   "outputs": [
    {
     "name": "stdout",
     "output_type": "stream",
     "text": [
      "[[472794      6]\n",
      " [  3291      0]]\n"
     ]
    }
   ],
   "source": [
    "from sklearn.metrics import confusion_matrix\n",
    "\n",
    "previsao = logreg.predict(x_teste)\n",
    "\n",
    "confusion_matrix_baseline = confusion_matrix(y_teste, previsao)\n",
    "\n",
    "print(confusion_matrix_baseline)"
   ]
  },
  {
   "cell_type": "code",
   "execution_count": 19,
   "metadata": {},
   "outputs": [
    {
     "data": {
      "text/html": [
       "<div>\n",
       "<style scoped>\n",
       "    .dataframe tbody tr th:only-of-type {\n",
       "        vertical-align: middle;\n",
       "    }\n",
       "\n",
       "    .dataframe tbody tr th {\n",
       "        vertical-align: top;\n",
       "    }\n",
       "\n",
       "    .dataframe thead th {\n",
       "        text-align: right;\n",
       "    }\n",
       "</style>\n",
       "<table border=\"1\" class=\"dataframe\">\n",
       "  <thead>\n",
       "    <tr style=\"text-align: right;\">\n",
       "      <th>Predicted</th>\n",
       "      <th>0.0</th>\n",
       "      <th>1.0</th>\n",
       "      <th>All</th>\n",
       "    </tr>\n",
       "    <tr>\n",
       "      <th>True</th>\n",
       "      <th></th>\n",
       "      <th></th>\n",
       "      <th></th>\n",
       "    </tr>\n",
       "  </thead>\n",
       "  <tbody>\n",
       "    <tr>\n",
       "      <th>0.0</th>\n",
       "      <td>472794</td>\n",
       "      <td>6</td>\n",
       "      <td>472800</td>\n",
       "    </tr>\n",
       "    <tr>\n",
       "      <th>1.0</th>\n",
       "      <td>3291</td>\n",
       "      <td>0</td>\n",
       "      <td>3291</td>\n",
       "    </tr>\n",
       "    <tr>\n",
       "      <th>All</th>\n",
       "      <td>476085</td>\n",
       "      <td>6</td>\n",
       "      <td>476091</td>\n",
       "    </tr>\n",
       "  </tbody>\n",
       "</table>\n",
       "</div>"
      ],
      "text/plain": [
       "Predicted     0.0  1.0     All\n",
       "True                          \n",
       "0.0        472794    6  472800\n",
       "1.0          3291    0    3291\n",
       "All        476085    6  476091"
      ]
     },
     "execution_count": 19,
     "metadata": {},
     "output_type": "execute_result"
    }
   ],
   "source": [
    "pd.crosstab(y_teste, previsao, rownames = [\"True\"], colnames = [\"Predicted\"], margins = True)"
   ]
  },
  {
   "cell_type": "code",
   "execution_count": 20,
   "metadata": {},
   "outputs": [
    {
     "name": "stdout",
     "output_type": "stream",
     "text": [
      "A acurácia da baseline foi: 0.9930748533368621\n"
     ]
    }
   ],
   "source": [
    "acc_baseline = logreg.score(x_teste, y_teste) \n",
    "\n",
    "print(\"A acurácia da baseline foi:\", acc_baseline)"
   ]
  },
  {
   "cell_type": "code",
   "execution_count": 21,
   "metadata": {},
   "outputs": [
    {
     "name": "stdout",
     "output_type": "stream",
     "text": [
      "              precision    recall  f1-score   support\n",
      "\n",
      "         0.0       0.99      1.00      1.00    472800\n",
      "         1.0       0.00      0.00      0.00      3291\n",
      "\n",
      "    accuracy                           0.99    476091\n",
      "   macro avg       0.50      0.50      0.50    476091\n",
      "weighted avg       0.99      0.99      0.99    476091\n",
      "\n"
     ]
    }
   ],
   "source": [
    "# Precision, Recall and F1-score\n",
    "\n",
    "from sklearn.metrics import classification_report\n",
    "\n",
    "print(classification_report(y_teste, previsao))"
   ]
  },
  {
   "cell_type": "code",
   "execution_count": 22,
   "metadata": {},
   "outputs": [
    {
     "data": {
      "image/png": "[encoded data removed]",
      "text/plain": [
       "<Figure size 720x432 with 1 Axes>"
      ]
     },
     "metadata": {
      "needs_background": "light"
     },
     "output_type": "display_data"
    }
   ],
   "source": [
    "#--- Adaptado de: https://stackoverflow.com/questions/25009284/how-to-plot-roc-curve-in-python\n",
    "\n",
    "import sklearn.metrics as metrics\n",
    "\n",
    "probs = logreg.predict_proba(x_teste)\n",
    "preds = probs[:,1]\n",
    "fpr, vpr, threshold = metrics.roc_curve(y_teste, preds)\n",
    "roc_auc = metrics.auc(fpr, vpr)\n",
    "\n",
    "#--- Curva\n",
    "\n",
    "plt.figure(figsize = [10, 6])\n",
    "plt.title(\"Curva ROC\")\n",
    "plt.plot(fpr, vpr, \"blue\", label = \"AUC = %0.2f\" % roc_auc)\n",
    "plt.legend(loc = \"lower right\")\n",
    "plt.plot([0, 1], [0, 1], \"r--\")\n",
    "plt.ylabel(\"Taxa de Verdadeiros Positivos\", fontsize = 14, color = \"black\")\n",
    "plt.xlabel(\"Taxa de Falsos Positivos\", fontsize = 14, color = \"black\")\n",
    "plt.tick_params(axis = \"x\", labelsize = 12, labelcolor = \"black\")\n",
    "plt.tick_params(axis = \"y\", labelsize = 12, labelcolor = \"black\")\n",
    "plt.show()"
   ]
  },
  {
   "cell_type": "code",
   "execution_count": 23,
   "metadata": {},
   "outputs": [],
   "source": [
    "#--- Para não pesar na memória ^^\n",
    "\n",
    "%reset -f\n",
    "\n",
    "import pandas as pd\n",
    "import numpy as np\n",
    "import matplotlib.pyplot as plt\n",
    "import seaborn as sns\n",
    "\n",
    "\n",
    "plt.style.use(\"seaborn-muted\")\n",
    "%matplotlib inline\n",
    "pd.set_option('display.max_columns', None)\n",
    "\n",
    "banco = pd.read_csv(\"Training_Dataset_v2.csv\", low_memory = False)"
   ]
  },
  {
   "cell_type": "markdown",
   "metadata": {},
   "source": [
    "---\n",
    "\n",
    "Bom, com tudo isso, temos uma baseline com acurácia de 0.9930412463163555. \n",
    "\n",
    "**NOW**, we can go to the tasks (não liguem para os textos em inglês aleatórios, é pra treinar)."
   ]
  },
  {
   "cell_type": "markdown",
   "metadata": {},
   "source": [
    "# 4. Tarefas\n",
    "\n",
    "---\n",
    "\n",
    "Dado que temos o que fazer, vamos botar a mão na massa.\n",
    "\n",
    "> **Lembrem-se:** Primeiro vem a análise sobre o gráfico/tabela/informação, logo após vem o resultado deste."
   ]
  },
  {
   "cell_type": "markdown",
   "metadata": {},
   "source": [
    "## 4.1. Task 1: Do a complete EDA in the python notebook file\n",
    "\n",
    "---\n",
    "\n",
    "Com a informação abaixo, podemos confirmar que o dataset possui 23 variáveis, sendo 22 explicativas e uma 1 independente (target).\n",
    "\n",
    "Inclusive, não sei vocês perceberam mas a baseline foi feita com base na variável `dados` e todas as transformações também.\n",
    "Por isso que lá bem no começo eu salvei uma cópia numa variável chamada `banco` para fazermos todas as modificações novamente e explorar os dados.\n",
    "\n",
    "~Eu queria colocar o GIF do Stonks aqui mas ele não estava renderizando no github.~\n",
    "\n",
    "- Podemos notar que a natureza dos dados são de grandezas diferentes, significando que dependendo do modelo que utilizarmos devemos padronizar determinadas (ou todas) as variáveis quantitativas;\n",
    "\n",
    "- Atenção para as variáveis:\n",
    "\n",
    "    - **national_inv:** Temos um valor mínimo negativo. **Existe algum nível negativo de estoque da peça?** Será que significa que estes números negativos são que a peça está em falta, se ela está com alta demanda e em falta. **Hipótese 1: Será que as peças que possuem valores negativos, têm algum tipo de relacionamento com os pedidos em atraso?\"**\n",
    "    \n",
    "    - **lead_time**: Será que o tempo de trânsito de X produto influencia em termos um pedido em atraso ? **Hipótese 2**.\n",
    "    \n",
    "    - **min_bank:** Ela nos fala sobre a quantidade mínima recomendada para ter X peça em estoque. Aparentemente, ela pode ter uma relação com a variável **national_inv**: \"Se tivermos um produto com \"estoque negativo\", a variável min_bank vai nos informar algo ?\" (**Hipótese 3**).\n",
    "    \n",
    "    - **perf_X_month_avg**: Será que a performance nos meses X (6 e 12) afetam no atraso dos pedidos? (**Hipótese 4**)."
   ]
  },
  {
   "cell_type": "code",
   "execution_count": 24,
   "metadata": {},
   "outputs": [],
   "source": [
    "#--- Excluindo a variável SKU\n",
    "\n",
    "banco = banco.drop(\"sku\", axis = 1) "
   ]
  },
  {
   "cell_type": "code",
   "execution_count": 25,
   "metadata": {},
   "outputs": [
    {
     "data": {
      "text/html": [
       "<div>\n",
       "<style scoped>\n",
       "    .dataframe tbody tr th:only-of-type {\n",
       "        vertical-align: middle;\n",
       "    }\n",
       "\n",
       "    .dataframe tbody tr th {\n",
       "        vertical-align: top;\n",
       "    }\n",
       "\n",
       "    .dataframe thead th {\n",
       "        text-align: right;\n",
       "    }\n",
       "</style>\n",
       "<table border=\"1\" class=\"dataframe\">\n",
       "  <thead>\n",
       "    <tr style=\"text-align: right;\">\n",
       "      <th></th>\n",
       "      <th>count</th>\n",
       "      <th>mean</th>\n",
       "      <th>std</th>\n",
       "      <th>min</th>\n",
       "      <th>25%</th>\n",
       "      <th>50%</th>\n",
       "      <th>75%</th>\n",
       "      <th>max</th>\n",
       "    </tr>\n",
       "  </thead>\n",
       "  <tbody>\n",
       "    <tr>\n",
       "      <th>national_inv</th>\n",
       "      <td>1687860.0</td>\n",
       "      <td>496.11</td>\n",
       "      <td>29615.23</td>\n",
       "      <td>-27256.0</td>\n",
       "      <td>4.00</td>\n",
       "      <td>15.00</td>\n",
       "      <td>80.00</td>\n",
       "      <td>12334404.0</td>\n",
       "    </tr>\n",
       "    <tr>\n",
       "      <th>lead_time</th>\n",
       "      <td>1586967.0</td>\n",
       "      <td>7.87</td>\n",
       "      <td>7.06</td>\n",
       "      <td>0.0</td>\n",
       "      <td>4.00</td>\n",
       "      <td>8.00</td>\n",
       "      <td>9.00</td>\n",
       "      <td>52.0</td>\n",
       "    </tr>\n",
       "    <tr>\n",
       "      <th>in_transit_qty</th>\n",
       "      <td>1687860.0</td>\n",
       "      <td>44.05</td>\n",
       "      <td>1342.74</td>\n",
       "      <td>0.0</td>\n",
       "      <td>0.00</td>\n",
       "      <td>0.00</td>\n",
       "      <td>0.00</td>\n",
       "      <td>489408.0</td>\n",
       "    </tr>\n",
       "    <tr>\n",
       "      <th>forecast_3_month</th>\n",
       "      <td>1687860.0</td>\n",
       "      <td>178.12</td>\n",
       "      <td>5026.55</td>\n",
       "      <td>0.0</td>\n",
       "      <td>0.00</td>\n",
       "      <td>0.00</td>\n",
       "      <td>4.00</td>\n",
       "      <td>1427612.0</td>\n",
       "    </tr>\n",
       "    <tr>\n",
       "      <th>forecast_6_month</th>\n",
       "      <td>1687860.0</td>\n",
       "      <td>344.99</td>\n",
       "      <td>9795.15</td>\n",
       "      <td>0.0</td>\n",
       "      <td>0.00</td>\n",
       "      <td>0.00</td>\n",
       "      <td>12.00</td>\n",
       "      <td>2461360.0</td>\n",
       "    </tr>\n",
       "    <tr>\n",
       "      <th>forecast_9_month</th>\n",
       "      <td>1687860.0</td>\n",
       "      <td>506.36</td>\n",
       "      <td>14378.92</td>\n",
       "      <td>0.0</td>\n",
       "      <td>0.00</td>\n",
       "      <td>0.00</td>\n",
       "      <td>20.00</td>\n",
       "      <td>3777304.0</td>\n",
       "    </tr>\n",
       "    <tr>\n",
       "      <th>sales_1_month</th>\n",
       "      <td>1687860.0</td>\n",
       "      <td>55.93</td>\n",
       "      <td>1928.20</td>\n",
       "      <td>0.0</td>\n",
       "      <td>0.00</td>\n",
       "      <td>0.00</td>\n",
       "      <td>4.00</td>\n",
       "      <td>741774.0</td>\n",
       "    </tr>\n",
       "    <tr>\n",
       "      <th>sales_3_month</th>\n",
       "      <td>1687860.0</td>\n",
       "      <td>175.03</td>\n",
       "      <td>5192.38</td>\n",
       "      <td>0.0</td>\n",
       "      <td>0.00</td>\n",
       "      <td>1.00</td>\n",
       "      <td>15.00</td>\n",
       "      <td>1105478.0</td>\n",
       "    </tr>\n",
       "    <tr>\n",
       "      <th>sales_6_month</th>\n",
       "      <td>1687860.0</td>\n",
       "      <td>341.73</td>\n",
       "      <td>9613.17</td>\n",
       "      <td>0.0</td>\n",
       "      <td>0.00</td>\n",
       "      <td>2.00</td>\n",
       "      <td>31.00</td>\n",
       "      <td>2146625.0</td>\n",
       "    </tr>\n",
       "    <tr>\n",
       "      <th>sales_9_month</th>\n",
       "      <td>1687860.0</td>\n",
       "      <td>525.27</td>\n",
       "      <td>14838.61</td>\n",
       "      <td>0.0</td>\n",
       "      <td>0.00</td>\n",
       "      <td>4.00</td>\n",
       "      <td>47.00</td>\n",
       "      <td>3205172.0</td>\n",
       "    </tr>\n",
       "    <tr>\n",
       "      <th>min_bank</th>\n",
       "      <td>1687860.0</td>\n",
       "      <td>52.77</td>\n",
       "      <td>1254.98</td>\n",
       "      <td>0.0</td>\n",
       "      <td>0.00</td>\n",
       "      <td>0.00</td>\n",
       "      <td>3.00</td>\n",
       "      <td>313319.0</td>\n",
       "    </tr>\n",
       "    <tr>\n",
       "      <th>pieces_past_due</th>\n",
       "      <td>1687860.0</td>\n",
       "      <td>2.04</td>\n",
       "      <td>236.02</td>\n",
       "      <td>0.0</td>\n",
       "      <td>0.00</td>\n",
       "      <td>0.00</td>\n",
       "      <td>0.00</td>\n",
       "      <td>146496.0</td>\n",
       "    </tr>\n",
       "    <tr>\n",
       "      <th>perf_6_month_avg</th>\n",
       "      <td>1687860.0</td>\n",
       "      <td>-6.87</td>\n",
       "      <td>26.56</td>\n",
       "      <td>-99.0</td>\n",
       "      <td>0.63</td>\n",
       "      <td>0.82</td>\n",
       "      <td>0.97</td>\n",
       "      <td>1.0</td>\n",
       "    </tr>\n",
       "    <tr>\n",
       "      <th>perf_12_month_avg</th>\n",
       "      <td>1687860.0</td>\n",
       "      <td>-6.44</td>\n",
       "      <td>25.84</td>\n",
       "      <td>-99.0</td>\n",
       "      <td>0.66</td>\n",
       "      <td>0.81</td>\n",
       "      <td>0.95</td>\n",
       "      <td>1.0</td>\n",
       "    </tr>\n",
       "    <tr>\n",
       "      <th>local_bo_qty</th>\n",
       "      <td>1687860.0</td>\n",
       "      <td>0.63</td>\n",
       "      <td>33.72</td>\n",
       "      <td>0.0</td>\n",
       "      <td>0.00</td>\n",
       "      <td>0.00</td>\n",
       "      <td>0.00</td>\n",
       "      <td>12530.0</td>\n",
       "    </tr>\n",
       "  </tbody>\n",
       "</table>\n",
       "</div>"
      ],
      "text/plain": [
       "                       count    mean       std      min   25%    50%    75%  \\\n",
       "national_inv       1687860.0  496.11  29615.23 -27256.0  4.00  15.00  80.00   \n",
       "lead_time          1586967.0    7.87      7.06      0.0  4.00   8.00   9.00   \n",
       "in_transit_qty     1687860.0   44.05   1342.74      0.0  0.00   0.00   0.00   \n",
       "forecast_3_month   1687860.0  178.12   5026.55      0.0  0.00   0.00   4.00   \n",
       "forecast_6_month   1687860.0  344.99   9795.15      0.0  0.00   0.00  12.00   \n",
       "forecast_9_month   1687860.0  506.36  14378.92      0.0  0.00   0.00  20.00   \n",
       "sales_1_month      1687860.0   55.93   1928.20      0.0  0.00   0.00   4.00   \n",
       "sales_3_month      1687860.0  175.03   5192.38      0.0  0.00   1.00  15.00   \n",
       "sales_6_month      1687860.0  341.73   9613.17      0.0  0.00   2.00  31.00   \n",
       "sales_9_month      1687860.0  525.27  14838.61      0.0  0.00   4.00  47.00   \n",
       "min_bank           1687860.0   52.77   1254.98      0.0  0.00   0.00   3.00   \n",
       "pieces_past_due    1687860.0    2.04    236.02      0.0  0.00   0.00   0.00   \n",
       "perf_6_month_avg   1687860.0   -6.87     26.56    -99.0  0.63   0.82   0.97   \n",
       "perf_12_month_avg  1687860.0   -6.44     25.84    -99.0  0.66   0.81   0.95   \n",
       "local_bo_qty       1687860.0    0.63     33.72      0.0  0.00   0.00   0.00   \n",
       "\n",
       "                          max  \n",
       "national_inv       12334404.0  \n",
       "lead_time                52.0  \n",
       "in_transit_qty       489408.0  \n",
       "forecast_3_month    1427612.0  \n",
       "forecast_6_month    2461360.0  \n",
       "forecast_9_month    3777304.0  \n",
       "sales_1_month        741774.0  \n",
       "sales_3_month       1105478.0  \n",
       "sales_6_month       2146625.0  \n",
       "sales_9_month       3205172.0  \n",
       "min_bank             313319.0  \n",
       "pieces_past_due      146496.0  \n",
       "perf_6_month_avg          1.0  \n",
       "perf_12_month_avg         1.0  \n",
       "local_bo_qty          12530.0  "
      ]
     },
     "execution_count": 25,
     "metadata": {},
     "output_type": "execute_result"
    }
   ],
   "source": [
    "banco.describe().T.round(2)"
   ]
  },
  {
   "cell_type": "markdown",
   "metadata": {},
   "source": [
    "### 4.1.1. Explorando a variável target (went_on_backorder)\n",
    "\n",
    "- Aqui temos um leve (mentira, grandíssimo) problema de desbalanceamento de classes. Isso irá afetar quais métricas, iremos utilizar para analisar o modelo de previsão. \n",
    "\n",
    "- O que seria pior para o nosso caso:\n",
    "\n",
    "> Ter um **Falso Positivo**, isto é, o nosso modelo prever que **houve** atraso para X produto, quando realmente não houve;\n",
    "\n",
    "> Ter um **Falso Negativo**, isto é, o nosso modelo prever que **não houve** um atraso para X produto, quando realmente houve o atraso.\n",
    "\n",
    "- Métricas para utilizarmos:\n",
    "\n",
    "    1. Precision;\n",
    "    2. Recall; e\n",
    "    3. F1-Score.\n",
    "    4. (Quem sabe ROC/AUC)"
   ]
  },
  {
   "cell_type": "code",
   "execution_count": 26,
   "metadata": {},
   "outputs": [
    {
     "data": {
      "text/html": [
       "<div>\n",
       "<style scoped>\n",
       "    .dataframe tbody tr th:only-of-type {\n",
       "        vertical-align: middle;\n",
       "    }\n",
       "\n",
       "    .dataframe tbody tr th {\n",
       "        vertical-align: top;\n",
       "    }\n",
       "\n",
       "    .dataframe thead th {\n",
       "        text-align: right;\n",
       "    }\n",
       "</style>\n",
       "<table border=\"1\" class=\"dataframe\">\n",
       "  <thead>\n",
       "    <tr style=\"text-align: right;\">\n",
       "      <th></th>\n",
       "      <th>Classe</th>\n",
       "      <th>Quantidade</th>\n",
       "      <th>Percentual</th>\n",
       "    </tr>\n",
       "  </thead>\n",
       "  <tbody>\n",
       "    <tr>\n",
       "      <th>0</th>\n",
       "      <td>No</td>\n",
       "      <td>1676567</td>\n",
       "      <td>99.33</td>\n",
       "    </tr>\n",
       "    <tr>\n",
       "      <th>1</th>\n",
       "      <td>Yes</td>\n",
       "      <td>11293</td>\n",
       "      <td>0.67</td>\n",
       "    </tr>\n",
       "  </tbody>\n",
       "</table>\n",
       "</div>"
      ],
      "text/plain": [
       "  Classe  Quantidade  Percentual\n",
       "0     No     1676567       99.33\n",
       "1    Yes       11293        0.67"
      ]
     },
     "execution_count": 26,
     "metadata": {},
     "output_type": "execute_result"
    }
   ],
   "source": [
    "pd.concat([banco[\"went_on_backorder\"].value_counts(), \n",
    "           banco[\"went_on_backorder\"].value_counts(normalize = True).mul(100).round(2)], axis = 1, keys = (\"Quantidade\", \"Percentual\")).reset_index(level = 0).rename(columns = {\"index\": \"Classe\"})"
   ]
  },
  {
   "cell_type": "markdown",
   "metadata": {},
   "source": [
    "### 4.1.2. Explorando as variáveis quantitativas\n",
    "\n",
    "---\n",
    "\n",
    "Para você leitor que não quer voltar a barra e eu, como um boa pessoa que pensa em você, trago novamente o significado das variáveis aqui.\n",
    "\n",
    "1. **sku** – Random ID for the product\n",
    "2. **national_inv** – Current inventory level for the part\n",
    "3. **lead_time** – Transit time for product (if available)\n",
    "4. **in_transit_qty** – Amount of product in transit from source\n",
    "5. **forecast_3_month** – Forecast sales for the next 3 months\n",
    "6. **forecast_6_month** – Forecast sales for the next 6 months\n",
    "7. **forecast_9_month** – Forecast sales for the next 9 months\n",
    "8. **sales_1_month** – Sales quantity for the prior 1 month time period\n",
    "9. **sales_3_month** – Sales quantity for the prior 3 month time period\n",
    "10. **sales_6_month** – Sales quantity for the prior 6 month time period\n",
    "11. **sales_9_month** – Sales quantity for the prior 9 month time period\n",
    "12. **min_bank** – Minimum recommend amount to stock\n",
    "13. **potential_issue** – Source issue for part identified\n",
    "14. **pieces_past_due** – Parts overdue from source\n",
    "15. **perf_6_month_avg** – Source performance for prior 6 month period\n",
    "16. **perf_12_month_avg** – Source performance for prior 12 month period\n",
    "17. **local_bo_qty** – Amount of stock orders overdue\n",
    "18. **deck_risk** – Part risk flag\n",
    "19. **oe_constraint** – Part risk flag\n",
    "20. **ppap_risk** – Part risk flag\n",
    "21. **stop_auto_buy** – Part risk flag\n",
    "22. **rev_stop** – Part risk flag\n",
    "23. **went_on_backorder** – Product actually went on backorder. This is the target value.\n",
    "\n",
    "**Considerações:**\n",
    "\n",
    "- São 15 variáveis quantitativas, entretanto a função kernel de densidade não conseguiu estimar corretamente para as variáveis:\n",
    "\n",
    "    - in_transit_qty;\n",
    "    - pieces_past_due;\n",
    "    - local_bo_qty.\n",
    "    \n",
    "    \n",
    "- A ordem de grande das variáveis muda, exemplo, algumas possuem 1e7 que seria equivalente a $10^7$ outras não;\n",
    "\n",
    "\n",
    "- **national_inv:** Nível de estoque atual da peça.\n",
    "\n",
    "    - Novamente, essa variável me parece muito estranha (falando como analista de dados). Me autoparafraseando da frase de cima: \"Existe algum nível negativo de estoque da peça?\"\n",
    "\n",
    "    - A distribuição dos dados não fortalece qualquer tipo de análise sobre ela, apenas que temos bastante dados próximas ao 0 indicando que muitos dos produtos possuem estão em estoque.\n",
    "\n",
    "\n",
    "- **lead_time:** Tempo estimado de trânsito do produto.\n",
    "  \n",
    "    - Como não sabemos em qual unidade de tempo está, só podemos analisar aqui que a maioria dos produtos são entregues em até 20 unidades de tempo;\n",
    "\n",
    "    - Volte um pouco ali em cima, para ver a tabela de resumo estatístico, podemos confirmar que 75% dos produtos são entregues em até 9 unidades de tempo, isto é;\n",
    "\n",
    "    - Entretanto, não podemos deixar de mencionar aquele pico ali em cima do 50, algum dos produtos demorou mais que 50 unidades de tempo para ser entregue.\n",
    "    \n",
    "    \n",
    "- **forecast_X_month:** Previsão de vendas para os próximos $X_i$ meses, com i = 3, 6 e 9.\n",
    "\n",
    "    - Creio que nada de muito anormal, espera-se que a maioria dos produtos tenha uma baixa procura. \n",
    "    \n",
    "    - Novamente não podemos nos esquecer que alguns valores estão fora deste padrão, longe do 0, significando que para alguns dos produtos, espera-se que possua uma alta procura para estes. Logo, a previsão de vendas deste(s) X(s) produto(s) é corretamente acima do normal. \n",
    "    \n",
    "    - Se olharmos novamente na do sumário estatístico, um pouco acima, percebe-se que para os ambos os *i* meses, 75% da quantidade de vendas prevista é de até 20 unidades vendidas (generalizando para os 3 meses), indicando que grande parte dos produtos realmente possui uma baixa procura.\n",
    "    \n",
    "    - Ainda no sumário estatístico, perceba que a média, o 1º quartil e a mediana foram 0, isto é, indicando que alguns produtos não têm previsão de venda;\n",
    "        \n",
    "    - Será que os itens que tiveram uma alta previsão de venda nos $ X_i $ meses são os que mais atrasam, já que eles possuem uma maior demanda ? **Hipótese 5**\n",
    "    \n",
    "    \n",
    "- **sales_Y_month**: Quantidade de vendas no $ Y_i $ mês anterior, com i = 1, 3, 6 e 9.\n",
    "\n",
    "    - Provavelmente há um acumulo a partir do 3º mês, isto é, o 3º mês já inclui a informação do 1º mês, o 6º mês do 3º e 1º e assim por diante;\n",
    "\n",
    "    - Para os *i* meses, ambos basicamente possuem a mesma distribuição, indicando que não há ou houve um comportamento incomum;\n",
    "    \n",
    "    - Novamente (~excesso de palavras iguais~), algum produto pode ter sido vendido mais vezes que outros, fazendo subir uma curva ali no final. Se você, leitor isso mesmo olhe lá em cima novamente, notar na tabela do sumário estatístico, perceberá que ela segue o mesmo padrão que a variável **forecast_X_month**, logo, a mesma interpretação;\n",
    "    \n",
    "    \n",
    "- **min_bank**: Quantidade mínima recomendada para ficar em estoque.\n",
    "\n",
    "    - Basicamente é o mesmo padrão que as demais variáveis, a maioria dos produtos possue um estoque mínimo baixo ou nulo de X produto; \n",
    "    - Entretanto, alguns possuem alguns picos quando chega no final da escala do eixo Y.\n",
    "     \n",
    "     \n",
    "- **perf_Z_month_avg**: Média de desempenho (vendas ou faturamento) do produto nos últimos $ Y_i $ meses, com i = 6 e 12. \n",
    "\n",
    "    > Faturamento negativo ou venda negativa ? Eis a questão.\n",
    "    \n",
    "    - Pelos valores negativos, pode significar uma média de faturamento negativo dos produtos;\n",
    "    \n",
    "    - Logo, a maioria dos produtos possui um valor médio negativo, mas há a salvação nos positivos (que provavelmente são os produtos que mais têm procura);\n",
    "    \n",
    "**Conclusões**\n",
    "\n",
    "- Isso pode indicar um padrão de: a maioria dos produtos não são vendidos e sequer podem estar disponíveis na loja;\n",
    "\n",
    "- A empresa em questão fornece basicamente poucos produtos que estão dentro desta lista, mas estes produtos acabam por vender muito ou vender pouco;"
   ]
  },
  {
   "cell_type": "code",
   "execution_count": 27,
   "metadata": {},
   "outputs": [
    {
     "data": {
      "image/png": "[encoded data removed]",
      "text/plain": [
       "<Figure size 1440x1440 with 12 Axes>"
      ]
     },
     "metadata": {
      "needs_background": "light"
     },
     "output_type": "display_data"
    }
   ],
   "source": [
    "banco_quant = banco.select_dtypes(exclude = [object]).drop([\"in_transit_qty\", \"pieces_past_due\", \"local_bo_qty\"], axis = 1)\n",
    "\n",
    "\n",
    "f, axes = plt.subplots(4, 3, figsize = (20, 20), sharex = False)\n",
    "\n",
    "for ax, feature in zip(axes.flat, banco_quant.columns):\n",
    "    sns.distplot(banco_quant[feature] , color = \"orangered\", hist = False, ax = ax)"
   ]
  },
  {
   "cell_type": "markdown",
   "metadata": {},
   "source": [
    "---\n",
    "\n",
    "- **in_transit_qty**: Quantidade de produtos em trânsito;\n",
    "\n",
    "    - Nada de anormal, mesmo padrão das demais variáveis. \n",
    "    - Provavelmente os produto(s) que mais está/estão em trânsito são os mais vendidos pela loja (ou o único); \n",
    "    - O valor mínimo, 1º, 2º e 3º quartil nem sequer passaram de 0, indicando que grande parte destes produtos em trânsito não estão em trânsito. ~stonks~"
   ]
  },
  {
   "cell_type": "code",
   "execution_count": 28,
   "metadata": {},
   "outputs": [
    {
     "data": {
      "text/plain": [
       "count    1687860.00\n",
       "mean          44.05\n",
       "std         1342.74\n",
       "min            0.00\n",
       "25%            0.00\n",
       "50%            0.00\n",
       "75%            0.00\n",
       "max       489408.00\n",
       "Name: in_transit_qty, dtype: float64"
      ]
     },
     "execution_count": 28,
     "metadata": {},
     "output_type": "execute_result"
    }
   ],
   "source": [
    "banco[\"in_transit_qty\"].describe().round(2)"
   ]
  },
  {
   "cell_type": "markdown",
   "metadata": {},
   "source": [
    "---\n",
    "\n",
    "- **pieces_past_due**: Peças em atraso\n",
    "\n",
    "    - Média de 2 peças em atraso, valor alto para o desvio padrão, valor de 0 para mínimo, 1º quartil, 2º quartil e 3º quartil, indica que grande parte das peças não estão em atraso;\n",
    "    - Entretanto, temos aquele valor máximo de 146.496 mostrando que sim, apesar de poucas peças, temos algumas (ou somente uma) em atraso."
   ]
  },
  {
   "cell_type": "code",
   "execution_count": 29,
   "metadata": {},
   "outputs": [
    {
     "data": {
      "text/plain": [
       "count    1687860.00\n",
       "mean           2.04\n",
       "std          236.02\n",
       "min            0.00\n",
       "25%            0.00\n",
       "50%            0.00\n",
       "75%            0.00\n",
       "max       146496.00\n",
       "Name: pieces_past_due, dtype: float64"
      ]
     },
     "execution_count": 29,
     "metadata": {},
     "output_type": "execute_result"
    }
   ],
   "source": [
    "banco[\"pieces_past_due\"].describe().round(2)"
   ]
  },
  {
   "cell_type": "markdown",
   "metadata": {},
   "source": [
    "---\n",
    "\n",
    "- **local_bo_qty**: Quantidade de pedidos vencidos no estoque.\n",
    "\n",
    "    - Exatamente o mesmo padrão dos dados anteriores;"
   ]
  },
  {
   "cell_type": "code",
   "execution_count": 30,
   "metadata": {},
   "outputs": [
    {
     "data": {
      "text/plain": [
       "count    1687860.00\n",
       "mean           0.63\n",
       "std           33.72\n",
       "min            0.00\n",
       "25%            0.00\n",
       "50%            0.00\n",
       "75%            0.00\n",
       "max        12530.00\n",
       "Name: local_bo_qty, dtype: float64"
      ]
     },
     "execution_count": 30,
     "metadata": {},
     "output_type": "execute_result"
    }
   ],
   "source": [
    "banco[\"local_bo_qty\"].describe().round(2)"
   ]
  },
  {
   "cell_type": "markdown",
   "metadata": {},
   "source": [
    "### 4.1.3. Explorando as variáveis qualitativas"
   ]
  },
  {
   "cell_type": "code",
   "execution_count": 31,
   "metadata": {},
   "outputs": [
    {
     "data": {
      "text/html": [
       "<div>\n",
       "<style scoped>\n",
       "    .dataframe tbody tr th:only-of-type {\n",
       "        vertical-align: middle;\n",
       "    }\n",
       "\n",
       "    .dataframe tbody tr th {\n",
       "        vertical-align: top;\n",
       "    }\n",
       "\n",
       "    .dataframe thead th {\n",
       "        text-align: right;\n",
       "    }\n",
       "</style>\n",
       "<table border=\"1\" class=\"dataframe\">\n",
       "  <thead>\n",
       "    <tr style=\"text-align: right;\">\n",
       "      <th></th>\n",
       "      <th>potential_issue</th>\n",
       "      <th>deck_risk</th>\n",
       "      <th>oe_constraint</th>\n",
       "      <th>ppap_risk</th>\n",
       "      <th>stop_auto_buy</th>\n",
       "      <th>rev_stop</th>\n",
       "    </tr>\n",
       "  </thead>\n",
       "  <tbody>\n",
       "    <tr>\n",
       "      <th>0</th>\n",
       "      <td>No</td>\n",
       "      <td>No</td>\n",
       "      <td>No</td>\n",
       "      <td>No</td>\n",
       "      <td>Yes</td>\n",
       "      <td>No</td>\n",
       "    </tr>\n",
       "    <tr>\n",
       "      <th>1</th>\n",
       "      <td>No</td>\n",
       "      <td>No</td>\n",
       "      <td>No</td>\n",
       "      <td>No</td>\n",
       "      <td>Yes</td>\n",
       "      <td>No</td>\n",
       "    </tr>\n",
       "    <tr>\n",
       "      <th>2</th>\n",
       "      <td>No</td>\n",
       "      <td>Yes</td>\n",
       "      <td>No</td>\n",
       "      <td>No</td>\n",
       "      <td>Yes</td>\n",
       "      <td>No</td>\n",
       "    </tr>\n",
       "    <tr>\n",
       "      <th>3</th>\n",
       "      <td>No</td>\n",
       "      <td>No</td>\n",
       "      <td>No</td>\n",
       "      <td>No</td>\n",
       "      <td>Yes</td>\n",
       "      <td>No</td>\n",
       "    </tr>\n",
       "    <tr>\n",
       "      <th>4</th>\n",
       "      <td>No</td>\n",
       "      <td>Yes</td>\n",
       "      <td>No</td>\n",
       "      <td>No</td>\n",
       "      <td>Yes</td>\n",
       "      <td>No</td>\n",
       "    </tr>\n",
       "  </tbody>\n",
       "</table>\n",
       "</div>"
      ],
      "text/plain": [
       "  potential_issue deck_risk oe_constraint ppap_risk stop_auto_buy rev_stop\n",
       "0              No        No            No        No           Yes       No\n",
       "1              No        No            No        No           Yes       No\n",
       "2              No       Yes            No        No           Yes       No\n",
       "3              No        No            No        No           Yes       No\n",
       "4              No       Yes            No        No           Yes       No"
      ]
     },
     "execution_count": 31,
     "metadata": {},
     "output_type": "execute_result"
    }
   ],
   "source": [
    "banco_qual = banco.select_dtypes(include = [object]).drop(\"went_on_backorder\", axis = 1)\n",
    "\n",
    "banco_qual.head()"
   ]
  },
  {
   "cell_type": "markdown",
   "metadata": {},
   "source": [
    "---\n",
    "\n",
    "**Considerações:**\n",
    "\n",
    "- **potential_issue**: Houve algum problema na loja/origem ?\n",
    "\n",
    "    - Na maioria dos casos (99,95%) não há um problema na loja/origem.\n",
    "    \n",
    "- **deck_risk, oe_constraint, ppap_risk, stop_auto_buy e rev_stop**: São indicadores de risco no atraso/peça;\n",
    "\n",
    "    - Na grande maioria destes, a classe \"Não\" foi a majoritária.\n",
    "    - As variáveis, `deck_risk` e `ppap_risk` são as que menos apresentaram essa dominância, logo, são variáveis a ficar de olho."
   ]
  },
  {
   "cell_type": "code",
   "execution_count": 32,
   "metadata": {},
   "outputs": [
    {
     "name": "stdout",
     "output_type": "stream",
     "text": [
      "#--- Variável: potential_issue\n",
      "---------------------------------------------\n",
      "\n",
      "  Classe  Quantidade  Percentual\n",
      "0     No     1686953       99.95\n",
      "1    Yes         907        0.05\n",
      "---------------------------------------------\n",
      "#--- Variável: deck_risk\n",
      "---------------------------------------------\n",
      "\n",
      "  Classe  Quantidade  Percentual\n",
      "0     No     1300377       77.04\n",
      "1    Yes      387483       22.96\n",
      "---------------------------------------------\n",
      "#--- Variável: oe_constraint\n",
      "---------------------------------------------\n",
      "\n",
      "  Classe  Quantidade  Percentual\n",
      "0     No     1687615       99.99\n",
      "1    Yes         245        0.01\n",
      "---------------------------------------------\n",
      "#--- Variável: ppap_risk\n",
      "---------------------------------------------\n",
      "\n",
      "  Classe  Quantidade  Percentual\n",
      "0     No     1484026       87.92\n",
      "1    Yes      203834       12.08\n",
      "---------------------------------------------\n",
      "#--- Variável: stop_auto_buy\n",
      "---------------------------------------------\n",
      "\n",
      "  Classe  Quantidade  Percentual\n",
      "0    Yes     1626774       96.38\n",
      "1     No       61086        3.62\n",
      "---------------------------------------------\n",
      "#--- Variável: rev_stop\n",
      "---------------------------------------------\n",
      "\n",
      "  Classe  Quantidade  Percentual\n",
      "0     No     1687129       99.96\n",
      "1    Yes         731        0.04\n",
      "---------------------------------------------\n"
     ]
    }
   ],
   "source": [
    "for coluna in banco_qual:\n",
    "    \n",
    "    print(\"#--- Variável: \", coluna, \"\\n\", 15*\"---\", \"\\n\", sep = \"\")\n",
    "    \n",
    "    print(pd.concat([banco[coluna].value_counts(), \n",
    "           banco[coluna].value_counts(normalize = True).mul(100).round(2)], axis = 1, keys = (\"Quantidade\", \"Percentual\")).reset_index(level = 0).rename(columns = {\"index\": \"Classe\"}))\n",
    "    \n",
    "    print(15*\"---\")"
   ]
  },
  {
   "cell_type": "markdown",
   "metadata": {},
   "source": [
    "### 4.1.4 Explorando a relação das variáveis quantitativas com a target"
   ]
  },
  {
   "cell_type": "code",
   "execution_count": 33,
   "metadata": {},
   "outputs": [],
   "source": [
    "banco_quant1 = banco.select_dtypes(exclude = [object])\n",
    "\n",
    "banco_quant1 = banco_quant1.assign(went_on_backorder = banco[\"went_on_backorder\"])"
   ]
  },
  {
   "cell_type": "markdown",
   "metadata": {},
   "source": [
    "---\n",
    "\n",
    "**Conclusões**:\n",
    "\n",
    "- Primeiramente, tá horrível essa visualização, todos nós sabemos, devido a natureza das variáveis. Entretanto até que podemos fazer umas indicações sobre;\n",
    "\n",
    "- Houveram maiores valores das variáveis nos pedidos em que não houve atraso;\n",
    "\n",
    "- **went_on_backorder**: Tempo estimado de trânsito do produto\n",
    "\n",
    "    - Indica que o tempo de trânsito do produto é próximo para os produtos que houveram e não houveram atraso;\n",
    "    - Assim como possuem outliers nos produtos que não houve atraso (quantidade maior), também há nos produtos em que houve atraso.\n",
    "    \n",
    "- **local_bo_qty:** Quantidade de pedidos vencidos no estoque.\n",
    "\n",
    "    - Apesar de haver uma predominância nesta quantidade para os produtos que não houve atraso, podemos destacar que os produtos em que houve atraso não se distanciam nesta quantidade (devido aos outliers, alô intervalo interquartílico);"
   ]
  },
  {
   "cell_type": "code",
   "execution_count": 34,
   "metadata": {},
   "outputs": [
    {
     "data": {
      "image/png": "[encoded data removed]",
      "text/plain": [
       "<Figure size 1440x1440 with 15 Axes>"
      ]
     },
     "metadata": {
      "needs_background": "light"
     },
     "output_type": "display_data"
    }
   ],
   "source": [
    "f, axes = plt.subplots(5, 3, figsize = (20, 20))\n",
    "\n",
    "f.subplots_adjust(hspace = 0.25, wspace = 0.25) \n",
    "\n",
    "for ax, feature in zip(axes.flat, banco_quant1.columns):\n",
    "    \n",
    "    if feature == \"went_on_backorder\":\n",
    "        \n",
    "        pass\n",
    "    \n",
    "    else: \n",
    "        \n",
    "        sns.boxplot(x = banco_quant1[\"went_on_backorder\"], y = banco_quant1[feature], color = \"orangered\", ax = ax)\n",
    "        \n",
    "plt.show()"
   ]
  },
  {
   "cell_type": "markdown",
   "metadata": {},
   "source": [
    "### 4.1.5 Explorando a relação das variáveis qualitativas com a target"
   ]
  },
  {
   "cell_type": "code",
   "execution_count": 35,
   "metadata": {},
   "outputs": [],
   "source": [
    "banco_qual1 = banco.select_dtypes(include = [object])"
   ]
  },
  {
   "cell_type": "markdown",
   "metadata": {},
   "source": [
    "---\n",
    "\n",
    "**Conclusões**: Houve algum problema na loja/origem ?\n",
    "\n",
    "- Em todas as variáveis, devido essa grande disparidade, o futuro modelo provavelmente conseguirá captar esse padrão, pelo menos para a classe dos produtos que não sofreram atraso;\n",
    "\n",
    "- **potential_issue, oe_constraint, rev_stop**: \n",
    "\n",
    "    - Para essas variáveis, e seus respectivos significados, a maioria dos acontecimentos aconteceu nos produtos que não houve atraso (obviamente, mas não podemos nos esquecer disso);\n",
    "    \n",
    "- **deck_risk, ppap_risk, stop_auto_buy**: Indicador de risco do produto.\n",
    "\n",
    "    - Estas são variáveis indicadoras de risco para os produtos, elas nos mostrou que alguns produtos tinham o risco de atrasar mas não atrasaram (podemos tentar criar alguma feature a partir dela)."
   ]
  },
  {
   "cell_type": "code",
   "execution_count": 36,
   "metadata": {},
   "outputs": [
    {
     "data": {
      "image/png": "[encoded data removed]",
      "text/plain": [
       "<Figure size 1080x864 with 6 Axes>"
      ]
     },
     "metadata": {
      "needs_background": "light"
     },
     "output_type": "display_data"
    }
   ],
   "source": [
    "f, axes = plt.subplots(2, 3, figsize = (15, 12))\n",
    "f.subplots_adjust(hspace = 0.25, wspace = 0.5) \n",
    "\n",
    "for ax, feature in zip(axes.flat, banco_qual1.columns):\n",
    "    \n",
    "    if feature == \"went_on_backorder\":\n",
    "        \n",
    "        pass\n",
    "    \n",
    "    else: \n",
    "        \n",
    "        sns.countplot(x = \"went_on_backorder\", hue = feature, data = banco_qual1, ax = ax, edgecolor = \"black\")\n",
    "        # ax.ticklabel_format(style = \"plain\", axis = \"y\")"
   ]
  },
  {
   "cell_type": "markdown",
   "metadata": {},
   "source": [
    "### 4.1.6. Explorando as relações entre variáveis (hipóteses) (próximo passo)\n",
    "\n",
    "Verificar as hipóteses que mencionei acima\n",
    "\n",
    "- Hipótese 1: Será que as peças que possuem valores negativos, têm algum tipo de relacionamento com os pedidos em atraso?\n",
    "\n",
    "\n",
    "- Será que o tempo de trânsito de X produto influencia em termos um pedido em atraso ? Hipótese 2.\n",
    "\n",
    "\n",
    "- Se tivermos um produto com \"estoque negativo\", a variável min_bank vai nos informar algo ?\" (Hipótese 3).\n",
    "\n",
    "\n",
    "- Será que a performance nos meses X (6 e 12) afetam no atraso dos pedidos? (Hipótese 4).\n",
    "\n",
    "\n",
    "- Será que os itens que tiveram uma alta previsão de venda nos $ X_i $ meses são os que mais atrasam, já que eles possuem uma maior demanda ? **Hipótese 5**\n",
    "\n"
   ]
  },
  {
   "cell_type": "markdown",
   "metadata": {},
   "source": [
    "# Referências"
   ]
  },
  {
   "cell_type": "markdown",
   "metadata": {},
   "source": [
    "## Métricas\n",
    "\n",
    "1. https://medium.com/@vitorborbarodrigues/m%C3%A9tricas-de-avalia%C3%A7%C3%A3o-acur%C3%A1cia-precis%C3%A3o-recall-quais-as-diferen%C3%A7as-c8f05e0a513c\n",
    "2. https://gabrielschade.github.io/2019/03/12/ml-classificacao-metricas.html (ótimas interpretações)\n",
    "3. https://www.mariofilho.com/as-metricas-mais-populares-para-avaliar-modelos-de-machine-learning/\n",
    "4. https://paulovasconcellos.com.br/como-saber-se-seu-modelo-de-machine-learning-est%C3%A1-funcionando-mesmo-a5892f6468b\n",
    "5. https://minerandodados.com.br/cafe-com-codigo-09-metricas-de-avaliacao-de-modelos/\n",
    "6. https://mineracaodedados.wordpress.com/2014/11/16/metricas-de-avaliacao-de-modelos-de-classificacaopredicao/\n",
    "7. https://stanford.edu/~shervine/l/pt/teaching/cs-229/dicas-truques-aprendizado-maquina#classification-metrics\n",
    "8. https://towardsdatascience.com/understanding-auc-roc-curve-68b2303cc9c5\n",
    "\n",
    "## Lidando com desbalanceamento nos dados\n",
    "\n",
    "1. https://www.kaggle.com/janiobachmann/credit-fraud-dealing-with-imbalanced-datasets\n",
    "2. https://www.kaggle.com/shahules/tackling-class-imbalance"
   ]
  },
  {
   "cell_type": "markdown",
   "metadata": {},
   "source": [
    "# Agradecimentos\n",
    "\n",
    "1. Mikael (colocar o LinkedIn ou outra rede social);\n",
    "2. Matheus (colocar o LinkedIn ou outra rede social);"
   ]
  },
  {
   "cell_type": "markdown",
   "metadata": {},
   "source": [
    "# Sugestões"
   ]
  },
  {
   "cell_type": "markdown",
   "metadata": {},
   "source": [
    "# Dificuldades\n",
    "\n",
    "1. **Inglês:** meu nível de inglês é relativamente ok para pesquisar e entender bastante coisa, entretanto ao me deparar com o significado dessas variáveis, fiquei com uma leve dificuldade;\n",
    "\n",
    "2. **Conhecimento do negócio:** por eu não ser da área, confesso que faltaram certos conceitos que são complicados absorver tão facilmente. Quem sabe esta dificuldade, aliada com o inglês não fluente, ajudou em não desenvolver certos pontos."
   ]
  }
 ],
 "metadata": {
  "kernelspec": {
   "display_name": "Python 3",
   "language": "python",
   "name": "python3"
  },
  "language_info": {
   "codemirror_mode": {
    "name": "ipython",
    "version": 3
   },
   "file_extension": ".py",
   "mimetype": "text/x-python",
   "name": "python",
   "nbconvert_exporter": "python",
   "pygments_lexer": "ipython3",
   "version": "3.7.6"
  },
  "toc-autonumbering": false,
  "toc-showmarkdowntxt": false,
  "toc-showtags": false
 },
 "nbformat": 4,
 "nbformat_minor": 4
}
