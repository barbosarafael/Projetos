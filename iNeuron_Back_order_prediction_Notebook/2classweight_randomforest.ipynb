{
  "nbformat": 4,
  "nbformat_minor": 0,
  "metadata": {
    "kernelspec": {
      "display_name": "Python 3",
      "language": "python",
      "name": "python3"
    },
    "language_info": {
      "codemirror_mode": {
        "name": "ipython",
        "version": 3
      },
      "file_extension": ".py",
      "mimetype": "text/x-python",
      "name": "python",
      "nbconvert_exporter": "python",
      "pygments_lexer": "ipython3",
      "version": "3.7.6"
    },
    "colab": {
      "name": "2classweight_randomforest.ipynb",
      "provenance": [],
      "collapsed_sections": []
    }
  },
  "cells": [
    {
      "cell_type": "markdown",
      "metadata": {
        "id": "Fvw7XSTDSGZ5",
        "colab_type": "text"
      },
      "source": [
        "# Carregando as bibliotecas"
      ]
    },
    {
      "cell_type": "code",
      "metadata": {
        "execution": {
          "iopub.execute_input": "2020-05-28T14:19:42.510246Z",
          "iopub.status.busy": "2020-05-28T14:19:42.509247Z",
          "iopub.status.idle": "2020-05-28T14:19:45.093608Z",
          "shell.execute_reply": "2020-05-28T14:19:45.092608Z",
          "shell.execute_reply.started": "2020-05-28T14:19:42.510246Z"
        },
        "id": "scSSpW-cSGZ6",
        "colab_type": "code",
        "colab": {
          "base_uri": "https://localhost:8080/",
          "height": 71
        },
        "outputId": "2c9fe0a5-d932-44da-a320-1722773d5ef3"
      },
      "source": [
        "import pandas as pd\n",
        "import numpy as np\n",
        "import matplotlib.pyplot as plt\n",
        "import seaborn as sns"
      ],
      "execution_count": 2,
      "outputs": [
        {
          "output_type": "stream",
          "text": [
            "/usr/local/lib/python3.6/dist-packages/statsmodels/tools/_testing.py:19: FutureWarning: pandas.util.testing is deprecated. Use the functions in the public API at pandas.testing instead.\n",
            "  import pandas.util.testing as tm\n"
          ],
          "name": "stderr"
        }
      ]
    },
    {
      "cell_type": "markdown",
      "metadata": {
        "id": "bHtMdTN9SGaA",
        "colab_type": "text"
      },
      "source": [
        "# Configurações adicionais"
      ]
    },
    {
      "cell_type": "code",
      "metadata": {
        "execution": {
          "iopub.execute_input": "2020-05-28T14:19:45.095609Z",
          "iopub.status.busy": "2020-05-28T14:19:45.095609Z",
          "iopub.status.idle": "2020-05-28T14:19:45.106605Z",
          "shell.execute_reply": "2020-05-28T14:19:45.105606Z",
          "shell.execute_reply.started": "2020-05-28T14:19:45.095609Z"
        },
        "id": "yHv2WoYlSGaB",
        "colab_type": "code",
        "colab": {
          "base_uri": "https://localhost:8080/",
          "height": 34
        },
        "outputId": "3d2333ae-17c5-4241-b85e-815eb4137122"
      },
      "source": [
        "plt.style.use(\"seaborn-muted\")\n",
        "%matplotlib inline\n",
        "pd.set_option('display.max_columns', None)\n",
        "\n",
        "\n",
        "from google.colab import drive\n",
        "drive.mount('/content/drive')"
      ],
      "execution_count": 3,
      "outputs": [
        {
          "output_type": "stream",
          "text": [
            "Drive already mounted at /content/drive; to attempt to forcibly remount, call drive.mount(\"/content/drive\", force_remount=True).\n"
          ],
          "name": "stdout"
        }
      ]
    },
    {
      "cell_type": "markdown",
      "metadata": {
        "id": "QCIBZmzTSGaF",
        "colab_type": "text"
      },
      "source": [
        "# Carregando o banco de dados"
      ]
    },
    {
      "cell_type": "code",
      "metadata": {
        "execution": {
          "iopub.execute_input": "2020-05-28T14:19:45.111605Z",
          "iopub.status.busy": "2020-05-28T14:19:45.110605Z",
          "iopub.status.idle": "2020-05-28T14:19:52.324828Z",
          "shell.execute_reply": "2020-05-28T14:19:52.323828Z",
          "shell.execute_reply.started": "2020-05-28T14:19:45.111605Z"
        },
        "id": "0E_TChRKSGaG",
        "colab_type": "code",
        "colab": {}
      },
      "source": [
        "banco = pd.read_csv(\"/content/drive/My Drive/Training_Dataset_v2.csv\", low_memory = False)"
      ],
      "execution_count": 0,
      "outputs": []
    },
    {
      "cell_type": "code",
      "metadata": {
        "execution": {
          "iopub.execute_input": "2020-05-28T14:19:52.326827Z",
          "iopub.status.busy": "2020-05-28T14:19:52.326827Z",
          "iopub.status.idle": "2020-05-28T14:19:53.135628Z",
          "shell.execute_reply": "2020-05-28T14:19:53.134628Z",
          "shell.execute_reply.started": "2020-05-28T14:19:52.326827Z"
        },
        "id": "XU2OdoMbSGaK",
        "colab_type": "code",
        "colab": {
          "base_uri": "https://localhost:8080/",
          "height": 527
        },
        "outputId": "2f8fa27f-5184-4f43-944f-04efffea7ba7"
      },
      "source": [
        "banco.info()"
      ],
      "execution_count": 5,
      "outputs": [
        {
          "output_type": "stream",
          "text": [
            "<class 'pandas.core.frame.DataFrame'>\n",
            "RangeIndex: 1687861 entries, 0 to 1687860\n",
            "Data columns (total 23 columns):\n",
            " #   Column             Non-Null Count    Dtype  \n",
            "---  ------             --------------    -----  \n",
            " 0   sku                1687861 non-null  object \n",
            " 1   national_inv       1687860 non-null  float64\n",
            " 2   lead_time          1586967 non-null  float64\n",
            " 3   in_transit_qty     1687860 non-null  float64\n",
            " 4   forecast_3_month   1687860 non-null  float64\n",
            " 5   forecast_6_month   1687860 non-null  float64\n",
            " 6   forecast_9_month   1687860 non-null  float64\n",
            " 7   sales_1_month      1687860 non-null  float64\n",
            " 8   sales_3_month      1687860 non-null  float64\n",
            " 9   sales_6_month      1687860 non-null  float64\n",
            " 10  sales_9_month      1687860 non-null  float64\n",
            " 11  min_bank           1687860 non-null  float64\n",
            " 12  potential_issue    1687860 non-null  object \n",
            " 13  pieces_past_due    1687860 non-null  float64\n",
            " 14  perf_6_month_avg   1687860 non-null  float64\n",
            " 15  perf_12_month_avg  1687860 non-null  float64\n",
            " 16  local_bo_qty       1687860 non-null  float64\n",
            " 17  deck_risk          1687860 non-null  object \n",
            " 18  oe_constraint      1687860 non-null  object \n",
            " 19  ppap_risk          1687860 non-null  object \n",
            " 20  stop_auto_buy      1687860 non-null  object \n",
            " 21  rev_stop           1687860 non-null  object \n",
            " 22  went_on_backorder  1687860 non-null  object \n",
            "dtypes: float64(15), object(8)\n",
            "memory usage: 296.2+ MB\n"
          ],
          "name": "stdout"
        }
      ]
    },
    {
      "cell_type": "markdown",
      "metadata": {
        "id": "_IG7HxilSGaP",
        "colab_type": "text"
      },
      "source": [
        "# Transformações nas variáveis"
      ]
    },
    {
      "cell_type": "markdown",
      "metadata": {
        "id": "PGqYIFyFSGaQ",
        "colab_type": "text"
      },
      "source": [
        "## Retirando a variável sku"
      ]
    },
    {
      "cell_type": "code",
      "metadata": {
        "execution": {
          "iopub.execute_input": "2020-05-28T14:19:53.137628Z",
          "iopub.status.busy": "2020-05-28T14:19:53.136628Z",
          "iopub.status.idle": "2020-05-28T14:19:53.636505Z",
          "shell.execute_reply": "2020-05-28T14:19:53.635505Z",
          "shell.execute_reply.started": "2020-05-28T14:19:53.137628Z"
        },
        "id": "oK0BoocKSGaR",
        "colab_type": "code",
        "colab": {
          "base_uri": "https://localhost:8080/",
          "height": 224
        },
        "outputId": "b69d3c37-6fb8-409e-d688-4a69ad4a5e9e"
      },
      "source": [
        "banco = banco.drop(\"sku\", axis = 1)\n",
        "\n",
        "banco.head()"
      ],
      "execution_count": 6,
      "outputs": [
        {
          "output_type": "execute_result",
          "data": {
            "text/html": [
              "<div>\n",
              "<style scoped>\n",
              "    .dataframe tbody tr th:only-of-type {\n",
              "        vertical-align: middle;\n",
              "    }\n",
              "\n",
              "    .dataframe tbody tr th {\n",
              "        vertical-align: top;\n",
              "    }\n",
              "\n",
              "    .dataframe thead th {\n",
              "        text-align: right;\n",
              "    }\n",
              "</style>\n",
              "<table border=\"1\" class=\"dataframe\">\n",
              "  <thead>\n",
              "    <tr style=\"text-align: right;\">\n",
              "      <th></th>\n",
              "      <th>national_inv</th>\n",
              "      <th>lead_time</th>\n",
              "      <th>in_transit_qty</th>\n",
              "      <th>forecast_3_month</th>\n",
              "      <th>forecast_6_month</th>\n",
              "      <th>forecast_9_month</th>\n",
              "      <th>sales_1_month</th>\n",
              "      <th>sales_3_month</th>\n",
              "      <th>sales_6_month</th>\n",
              "      <th>sales_9_month</th>\n",
              "      <th>min_bank</th>\n",
              "      <th>potential_issue</th>\n",
              "      <th>pieces_past_due</th>\n",
              "      <th>perf_6_month_avg</th>\n",
              "      <th>perf_12_month_avg</th>\n",
              "      <th>local_bo_qty</th>\n",
              "      <th>deck_risk</th>\n",
              "      <th>oe_constraint</th>\n",
              "      <th>ppap_risk</th>\n",
              "      <th>stop_auto_buy</th>\n",
              "      <th>rev_stop</th>\n",
              "      <th>went_on_backorder</th>\n",
              "    </tr>\n",
              "  </thead>\n",
              "  <tbody>\n",
              "    <tr>\n",
              "      <th>0</th>\n",
              "      <td>0.0</td>\n",
              "      <td>NaN</td>\n",
              "      <td>0.0</td>\n",
              "      <td>0.0</td>\n",
              "      <td>0.0</td>\n",
              "      <td>0.0</td>\n",
              "      <td>0.0</td>\n",
              "      <td>0.0</td>\n",
              "      <td>0.0</td>\n",
              "      <td>0.0</td>\n",
              "      <td>0.0</td>\n",
              "      <td>No</td>\n",
              "      <td>0.0</td>\n",
              "      <td>-99.00</td>\n",
              "      <td>-99.00</td>\n",
              "      <td>0.0</td>\n",
              "      <td>No</td>\n",
              "      <td>No</td>\n",
              "      <td>No</td>\n",
              "      <td>Yes</td>\n",
              "      <td>No</td>\n",
              "      <td>No</td>\n",
              "    </tr>\n",
              "    <tr>\n",
              "      <th>1</th>\n",
              "      <td>2.0</td>\n",
              "      <td>9.0</td>\n",
              "      <td>0.0</td>\n",
              "      <td>0.0</td>\n",
              "      <td>0.0</td>\n",
              "      <td>0.0</td>\n",
              "      <td>0.0</td>\n",
              "      <td>0.0</td>\n",
              "      <td>0.0</td>\n",
              "      <td>0.0</td>\n",
              "      <td>0.0</td>\n",
              "      <td>No</td>\n",
              "      <td>0.0</td>\n",
              "      <td>0.99</td>\n",
              "      <td>0.99</td>\n",
              "      <td>0.0</td>\n",
              "      <td>No</td>\n",
              "      <td>No</td>\n",
              "      <td>No</td>\n",
              "      <td>Yes</td>\n",
              "      <td>No</td>\n",
              "      <td>No</td>\n",
              "    </tr>\n",
              "    <tr>\n",
              "      <th>2</th>\n",
              "      <td>2.0</td>\n",
              "      <td>NaN</td>\n",
              "      <td>0.0</td>\n",
              "      <td>0.0</td>\n",
              "      <td>0.0</td>\n",
              "      <td>0.0</td>\n",
              "      <td>0.0</td>\n",
              "      <td>0.0</td>\n",
              "      <td>0.0</td>\n",
              "      <td>0.0</td>\n",
              "      <td>0.0</td>\n",
              "      <td>No</td>\n",
              "      <td>0.0</td>\n",
              "      <td>-99.00</td>\n",
              "      <td>-99.00</td>\n",
              "      <td>0.0</td>\n",
              "      <td>Yes</td>\n",
              "      <td>No</td>\n",
              "      <td>No</td>\n",
              "      <td>Yes</td>\n",
              "      <td>No</td>\n",
              "      <td>No</td>\n",
              "    </tr>\n",
              "    <tr>\n",
              "      <th>3</th>\n",
              "      <td>7.0</td>\n",
              "      <td>8.0</td>\n",
              "      <td>0.0</td>\n",
              "      <td>0.0</td>\n",
              "      <td>0.0</td>\n",
              "      <td>0.0</td>\n",
              "      <td>0.0</td>\n",
              "      <td>0.0</td>\n",
              "      <td>0.0</td>\n",
              "      <td>0.0</td>\n",
              "      <td>1.0</td>\n",
              "      <td>No</td>\n",
              "      <td>0.0</td>\n",
              "      <td>0.10</td>\n",
              "      <td>0.13</td>\n",
              "      <td>0.0</td>\n",
              "      <td>No</td>\n",
              "      <td>No</td>\n",
              "      <td>No</td>\n",
              "      <td>Yes</td>\n",
              "      <td>No</td>\n",
              "      <td>No</td>\n",
              "    </tr>\n",
              "    <tr>\n",
              "      <th>4</th>\n",
              "      <td>8.0</td>\n",
              "      <td>NaN</td>\n",
              "      <td>0.0</td>\n",
              "      <td>0.0</td>\n",
              "      <td>0.0</td>\n",
              "      <td>0.0</td>\n",
              "      <td>0.0</td>\n",
              "      <td>0.0</td>\n",
              "      <td>0.0</td>\n",
              "      <td>4.0</td>\n",
              "      <td>2.0</td>\n",
              "      <td>No</td>\n",
              "      <td>0.0</td>\n",
              "      <td>-99.00</td>\n",
              "      <td>-99.00</td>\n",
              "      <td>0.0</td>\n",
              "      <td>Yes</td>\n",
              "      <td>No</td>\n",
              "      <td>No</td>\n",
              "      <td>Yes</td>\n",
              "      <td>No</td>\n",
              "      <td>No</td>\n",
              "    </tr>\n",
              "  </tbody>\n",
              "</table>\n",
              "</div>"
            ],
            "text/plain": [
              "   national_inv  lead_time  in_transit_qty  forecast_3_month  \\\n",
              "0           0.0        NaN             0.0               0.0   \n",
              "1           2.0        9.0             0.0               0.0   \n",
              "2           2.0        NaN             0.0               0.0   \n",
              "3           7.0        8.0             0.0               0.0   \n",
              "4           8.0        NaN             0.0               0.0   \n",
              "\n",
              "   forecast_6_month  forecast_9_month  sales_1_month  sales_3_month  \\\n",
              "0               0.0               0.0            0.0            0.0   \n",
              "1               0.0               0.0            0.0            0.0   \n",
              "2               0.0               0.0            0.0            0.0   \n",
              "3               0.0               0.0            0.0            0.0   \n",
              "4               0.0               0.0            0.0            0.0   \n",
              "\n",
              "   sales_6_month  sales_9_month  min_bank potential_issue  pieces_past_due  \\\n",
              "0            0.0            0.0       0.0              No              0.0   \n",
              "1            0.0            0.0       0.0              No              0.0   \n",
              "2            0.0            0.0       0.0              No              0.0   \n",
              "3            0.0            0.0       1.0              No              0.0   \n",
              "4            0.0            4.0       2.0              No              0.0   \n",
              "\n",
              "   perf_6_month_avg  perf_12_month_avg  local_bo_qty deck_risk oe_constraint  \\\n",
              "0            -99.00             -99.00           0.0        No            No   \n",
              "1              0.99               0.99           0.0        No            No   \n",
              "2            -99.00             -99.00           0.0       Yes            No   \n",
              "3              0.10               0.13           0.0        No            No   \n",
              "4            -99.00             -99.00           0.0       Yes            No   \n",
              "\n",
              "  ppap_risk stop_auto_buy rev_stop went_on_backorder  \n",
              "0        No           Yes       No                No  \n",
              "1        No           Yes       No                No  \n",
              "2        No           Yes       No                No  \n",
              "3        No           Yes       No                No  \n",
              "4        No           Yes       No                No  "
            ]
          },
          "metadata": {
            "tags": []
          },
          "execution_count": 6
        }
      ]
    },
    {
      "cell_type": "markdown",
      "metadata": {
        "id": "Be2we7b7SGaV",
        "colab_type": "text"
      },
      "source": [
        "## Lidando com os valores NaN\n",
        "\n",
        "- Nenhum ganho absurdo de diferença inputando a média, mediana ou moda (a mesma nos dá score parecidos);\n",
        "- O melhor ganho, foi dropando os NAs e utilizando a estratégia de colocar o 999 no lugar deles.\n",
        "    - A variável lead_time teve uma maior importância (0.03466);\n",
        "    - O **recall** (nos dá informações sobre falsos negativos, de todos os exemplos que realmente são verdadeiros, o quanto meu modelo meu modelo previu corretamente), métrica que queremos maximizar, teve o valor de 0.51"
      ]
    },
    {
      "cell_type": "code",
      "metadata": {
        "execution": {
          "iopub.execute_input": "2020-05-28T14:19:53.638505Z",
          "iopub.status.busy": "2020-05-28T14:19:53.637505Z",
          "iopub.status.idle": "2020-05-28T14:19:54.398318Z",
          "shell.execute_reply": "2020-05-28T14:19:54.397318Z",
          "shell.execute_reply.started": "2020-05-28T14:19:53.638505Z"
        },
        "id": "Wa3bSgytSGaW",
        "colab_type": "code",
        "colab": {
          "base_uri": "https://localhost:8080/",
          "height": 408
        },
        "outputId": "02f75643-497f-4982-aa88-638ba8f28233"
      },
      "source": [
        "banco.isnull().sum()"
      ],
      "execution_count": 7,
      "outputs": [
        {
          "output_type": "execute_result",
          "data": {
            "text/plain": [
              "national_inv              1\n",
              "lead_time            100894\n",
              "in_transit_qty            1\n",
              "forecast_3_month          1\n",
              "forecast_6_month          1\n",
              "forecast_9_month          1\n",
              "sales_1_month             1\n",
              "sales_3_month             1\n",
              "sales_6_month             1\n",
              "sales_9_month             1\n",
              "min_bank                  1\n",
              "potential_issue           1\n",
              "pieces_past_due           1\n",
              "perf_6_month_avg          1\n",
              "perf_12_month_avg         1\n",
              "local_bo_qty              1\n",
              "deck_risk                 1\n",
              "oe_constraint             1\n",
              "ppap_risk                 1\n",
              "stop_auto_buy             1\n",
              "rev_stop                  1\n",
              "went_on_backorder         1\n",
              "dtype: int64"
            ]
          },
          "metadata": {
            "tags": []
          },
          "execution_count": 7
        }
      ]
    },
    {
      "cell_type": "code",
      "metadata": {
        "execution": {
          "iopub.execute_input": "2020-05-28T14:19:54.400318Z",
          "iopub.status.busy": "2020-05-28T14:19:54.400318Z",
          "iopub.status.idle": "2020-05-28T14:19:54.473299Z",
          "shell.execute_reply": "2020-05-28T14:19:54.472299Z",
          "shell.execute_reply.started": "2020-05-28T14:19:54.400318Z"
        },
        "id": "qZHlP6weSGab",
        "colab_type": "code",
        "colab": {
          "base_uri": "https://localhost:8080/",
          "height": 224
        },
        "outputId": "46f8ecbd-13b4-45b7-d156-dff9be1a6003"
      },
      "source": [
        "#--- Para comentar as linhas: Ctrl + \"/\" (teclado numérico)\n",
        "\n",
        "#--- Dropando todas\n",
        "\n",
        "\n",
        "# banco = banco.dropna()\n",
        "\n",
        "#--------------------------------------------------------------------\n",
        "\n",
        "#--- Excluindo a última linha e imputando média na variável lead_time\n",
        "\n",
        "# banco = banco[: -1] \n",
        "\n",
        "# banco[\"lead_time\"] = banco[\"lead_time\"].fillna(banco[\"lead_time\"].mean())\n",
        "\n",
        "#--------------------------------------------------------------------\n",
        "\n",
        "#--- Excluindo a última linha e imputando média na variável lead_time\n",
        "\n",
        "# banco = banco[: -1] \n",
        "\n",
        "# banco[\"lead_time\"] = banco[\"lead_time\"].fillna(banco[\"lead_time\"].median())\n",
        "\n",
        "#--------------------------------------------------------------------\n",
        "\n",
        "#--- Excluindo a última linha e imputando a moda na variável lead_time\n",
        "\n",
        "# banco = banco[: -1] \n",
        "\n",
        "# banco[\"lead_time\"] = banco[\"lead_time\"].fillna(banco[\"lead_time\"].mode()[0])\n",
        "\n",
        "#--------------------------------------------------------------------\n",
        "\n",
        "#--- Excluindo a última linha e imputando o 0 na variável lead_time\n",
        "\n",
        "banco = banco[: -1] \n",
        "\n",
        "banco[\"lead_time\"] = banco[\"lead_time\"].fillna(999)\n",
        "\n",
        "banco.tail()"
      ],
      "execution_count": 8,
      "outputs": [
        {
          "output_type": "execute_result",
          "data": {
            "text/html": [
              "<div>\n",
              "<style scoped>\n",
              "    .dataframe tbody tr th:only-of-type {\n",
              "        vertical-align: middle;\n",
              "    }\n",
              "\n",
              "    .dataframe tbody tr th {\n",
              "        vertical-align: top;\n",
              "    }\n",
              "\n",
              "    .dataframe thead th {\n",
              "        text-align: right;\n",
              "    }\n",
              "</style>\n",
              "<table border=\"1\" class=\"dataframe\">\n",
              "  <thead>\n",
              "    <tr style=\"text-align: right;\">\n",
              "      <th></th>\n",
              "      <th>national_inv</th>\n",
              "      <th>lead_time</th>\n",
              "      <th>in_transit_qty</th>\n",
              "      <th>forecast_3_month</th>\n",
              "      <th>forecast_6_month</th>\n",
              "      <th>forecast_9_month</th>\n",
              "      <th>sales_1_month</th>\n",
              "      <th>sales_3_month</th>\n",
              "      <th>sales_6_month</th>\n",
              "      <th>sales_9_month</th>\n",
              "      <th>min_bank</th>\n",
              "      <th>potential_issue</th>\n",
              "      <th>pieces_past_due</th>\n",
              "      <th>perf_6_month_avg</th>\n",
              "      <th>perf_12_month_avg</th>\n",
              "      <th>local_bo_qty</th>\n",
              "      <th>deck_risk</th>\n",
              "      <th>oe_constraint</th>\n",
              "      <th>ppap_risk</th>\n",
              "      <th>stop_auto_buy</th>\n",
              "      <th>rev_stop</th>\n",
              "      <th>went_on_backorder</th>\n",
              "    </tr>\n",
              "  </thead>\n",
              "  <tbody>\n",
              "    <tr>\n",
              "      <th>1687855</th>\n",
              "      <td>0.0</td>\n",
              "      <td>2.0</td>\n",
              "      <td>0.0</td>\n",
              "      <td>10.0</td>\n",
              "      <td>10.0</td>\n",
              "      <td>10.0</td>\n",
              "      <td>0.0</td>\n",
              "      <td>5.0</td>\n",
              "      <td>7.0</td>\n",
              "      <td>7.0</td>\n",
              "      <td>0.0</td>\n",
              "      <td>No</td>\n",
              "      <td>0.0</td>\n",
              "      <td>0.69</td>\n",
              "      <td>0.69</td>\n",
              "      <td>5.0</td>\n",
              "      <td>Yes</td>\n",
              "      <td>No</td>\n",
              "      <td>No</td>\n",
              "      <td>Yes</td>\n",
              "      <td>No</td>\n",
              "      <td>No</td>\n",
              "    </tr>\n",
              "    <tr>\n",
              "      <th>1687856</th>\n",
              "      <td>-1.0</td>\n",
              "      <td>999.0</td>\n",
              "      <td>0.0</td>\n",
              "      <td>5.0</td>\n",
              "      <td>7.0</td>\n",
              "      <td>9.0</td>\n",
              "      <td>1.0</td>\n",
              "      <td>3.0</td>\n",
              "      <td>3.0</td>\n",
              "      <td>8.0</td>\n",
              "      <td>0.0</td>\n",
              "      <td>No</td>\n",
              "      <td>0.0</td>\n",
              "      <td>-99.00</td>\n",
              "      <td>-99.00</td>\n",
              "      <td>1.0</td>\n",
              "      <td>No</td>\n",
              "      <td>No</td>\n",
              "      <td>No</td>\n",
              "      <td>Yes</td>\n",
              "      <td>No</td>\n",
              "      <td>No</td>\n",
              "    </tr>\n",
              "    <tr>\n",
              "      <th>1687857</th>\n",
              "      <td>-1.0</td>\n",
              "      <td>9.0</td>\n",
              "      <td>0.0</td>\n",
              "      <td>7.0</td>\n",
              "      <td>9.0</td>\n",
              "      <td>11.0</td>\n",
              "      <td>0.0</td>\n",
              "      <td>8.0</td>\n",
              "      <td>11.0</td>\n",
              "      <td>12.0</td>\n",
              "      <td>0.0</td>\n",
              "      <td>No</td>\n",
              "      <td>0.0</td>\n",
              "      <td>0.86</td>\n",
              "      <td>0.84</td>\n",
              "      <td>1.0</td>\n",
              "      <td>Yes</td>\n",
              "      <td>No</td>\n",
              "      <td>No</td>\n",
              "      <td>No</td>\n",
              "      <td>No</td>\n",
              "      <td>Yes</td>\n",
              "    </tr>\n",
              "    <tr>\n",
              "      <th>1687858</th>\n",
              "      <td>62.0</td>\n",
              "      <td>9.0</td>\n",
              "      <td>16.0</td>\n",
              "      <td>39.0</td>\n",
              "      <td>87.0</td>\n",
              "      <td>126.0</td>\n",
              "      <td>35.0</td>\n",
              "      <td>63.0</td>\n",
              "      <td>153.0</td>\n",
              "      <td>205.0</td>\n",
              "      <td>12.0</td>\n",
              "      <td>No</td>\n",
              "      <td>0.0</td>\n",
              "      <td>0.86</td>\n",
              "      <td>0.84</td>\n",
              "      <td>6.0</td>\n",
              "      <td>No</td>\n",
              "      <td>No</td>\n",
              "      <td>No</td>\n",
              "      <td>Yes</td>\n",
              "      <td>No</td>\n",
              "      <td>No</td>\n",
              "    </tr>\n",
              "    <tr>\n",
              "      <th>1687859</th>\n",
              "      <td>19.0</td>\n",
              "      <td>4.0</td>\n",
              "      <td>0.0</td>\n",
              "      <td>0.0</td>\n",
              "      <td>0.0</td>\n",
              "      <td>0.0</td>\n",
              "      <td>2.0</td>\n",
              "      <td>7.0</td>\n",
              "      <td>12.0</td>\n",
              "      <td>20.0</td>\n",
              "      <td>1.0</td>\n",
              "      <td>No</td>\n",
              "      <td>0.0</td>\n",
              "      <td>0.73</td>\n",
              "      <td>0.78</td>\n",
              "      <td>1.0</td>\n",
              "      <td>No</td>\n",
              "      <td>No</td>\n",
              "      <td>No</td>\n",
              "      <td>Yes</td>\n",
              "      <td>No</td>\n",
              "      <td>No</td>\n",
              "    </tr>\n",
              "  </tbody>\n",
              "</table>\n",
              "</div>"
            ],
            "text/plain": [
              "         national_inv  lead_time  in_transit_qty  forecast_3_month  \\\n",
              "1687855           0.0        2.0             0.0              10.0   \n",
              "1687856          -1.0      999.0             0.0               5.0   \n",
              "1687857          -1.0        9.0             0.0               7.0   \n",
              "1687858          62.0        9.0            16.0              39.0   \n",
              "1687859          19.0        4.0             0.0               0.0   \n",
              "\n",
              "         forecast_6_month  forecast_9_month  sales_1_month  sales_3_month  \\\n",
              "1687855              10.0              10.0            0.0            5.0   \n",
              "1687856               7.0               9.0            1.0            3.0   \n",
              "1687857               9.0              11.0            0.0            8.0   \n",
              "1687858              87.0             126.0           35.0           63.0   \n",
              "1687859               0.0               0.0            2.0            7.0   \n",
              "\n",
              "         sales_6_month  sales_9_month  min_bank potential_issue  \\\n",
              "1687855            7.0            7.0       0.0              No   \n",
              "1687856            3.0            8.0       0.0              No   \n",
              "1687857           11.0           12.0       0.0              No   \n",
              "1687858          153.0          205.0      12.0              No   \n",
              "1687859           12.0           20.0       1.0              No   \n",
              "\n",
              "         pieces_past_due  perf_6_month_avg  perf_12_month_avg  local_bo_qty  \\\n",
              "1687855              0.0              0.69               0.69           5.0   \n",
              "1687856              0.0            -99.00             -99.00           1.0   \n",
              "1687857              0.0              0.86               0.84           1.0   \n",
              "1687858              0.0              0.86               0.84           6.0   \n",
              "1687859              0.0              0.73               0.78           1.0   \n",
              "\n",
              "        deck_risk oe_constraint ppap_risk stop_auto_buy rev_stop  \\\n",
              "1687855       Yes            No        No           Yes       No   \n",
              "1687856        No            No        No           Yes       No   \n",
              "1687857       Yes            No        No            No       No   \n",
              "1687858        No            No        No           Yes       No   \n",
              "1687859        No            No        No           Yes       No   \n",
              "\n",
              "        went_on_backorder  \n",
              "1687855                No  \n",
              "1687856                No  \n",
              "1687857               Yes  \n",
              "1687858                No  \n",
              "1687859                No  "
            ]
          },
          "metadata": {
            "tags": []
          },
          "execution_count": 8
        }
      ]
    },
    {
      "cell_type": "markdown",
      "metadata": {
        "id": "i8nGw1UHSGaf",
        "colab_type": "text"
      },
      "source": [
        "## Recodificando variáveis qualitativas para quantitativas"
      ]
    },
    {
      "cell_type": "code",
      "metadata": {
        "execution": {
          "iopub.execute_input": "2020-05-28T14:19:54.475299Z",
          "iopub.status.busy": "2020-05-28T14:19:54.475299Z",
          "iopub.status.idle": "2020-05-28T14:19:59.724007Z",
          "shell.execute_reply": "2020-05-28T14:19:59.723006Z",
          "shell.execute_reply.started": "2020-05-28T14:19:54.475299Z"
        },
        "id": "12Z_Ty_2SGag",
        "colab_type": "code",
        "colab": {
          "base_uri": "https://localhost:8080/",
          "height": 224
        },
        "outputId": "f1af5579-8ae0-44bb-c650-4786e6189640"
      },
      "source": [
        "columns_yesno = [\"potential_issue\", \"deck_risk\", \"oe_constraint\", \"ppap_risk\", \"stop_auto_buy\", \"rev_stop\", \"went_on_backorder\"]\n",
        "\n",
        "banco[columns_yesno] = banco[columns_yesno].replace({\"No\" : 0, \"Yes\": 1})\n",
        "\n",
        "banco.head()"
      ],
      "execution_count": 9,
      "outputs": [
        {
          "output_type": "execute_result",
          "data": {
            "text/html": [
              "<div>\n",
              "<style scoped>\n",
              "    .dataframe tbody tr th:only-of-type {\n",
              "        vertical-align: middle;\n",
              "    }\n",
              "\n",
              "    .dataframe tbody tr th {\n",
              "        vertical-align: top;\n",
              "    }\n",
              "\n",
              "    .dataframe thead th {\n",
              "        text-align: right;\n",
              "    }\n",
              "</style>\n",
              "<table border=\"1\" class=\"dataframe\">\n",
              "  <thead>\n",
              "    <tr style=\"text-align: right;\">\n",
              "      <th></th>\n",
              "      <th>national_inv</th>\n",
              "      <th>lead_time</th>\n",
              "      <th>in_transit_qty</th>\n",
              "      <th>forecast_3_month</th>\n",
              "      <th>forecast_6_month</th>\n",
              "      <th>forecast_9_month</th>\n",
              "      <th>sales_1_month</th>\n",
              "      <th>sales_3_month</th>\n",
              "      <th>sales_6_month</th>\n",
              "      <th>sales_9_month</th>\n",
              "      <th>min_bank</th>\n",
              "      <th>potential_issue</th>\n",
              "      <th>pieces_past_due</th>\n",
              "      <th>perf_6_month_avg</th>\n",
              "      <th>perf_12_month_avg</th>\n",
              "      <th>local_bo_qty</th>\n",
              "      <th>deck_risk</th>\n",
              "      <th>oe_constraint</th>\n",
              "      <th>ppap_risk</th>\n",
              "      <th>stop_auto_buy</th>\n",
              "      <th>rev_stop</th>\n",
              "      <th>went_on_backorder</th>\n",
              "    </tr>\n",
              "  </thead>\n",
              "  <tbody>\n",
              "    <tr>\n",
              "      <th>0</th>\n",
              "      <td>0.0</td>\n",
              "      <td>999.0</td>\n",
              "      <td>0.0</td>\n",
              "      <td>0.0</td>\n",
              "      <td>0.0</td>\n",
              "      <td>0.0</td>\n",
              "      <td>0.0</td>\n",
              "      <td>0.0</td>\n",
              "      <td>0.0</td>\n",
              "      <td>0.0</td>\n",
              "      <td>0.0</td>\n",
              "      <td>0</td>\n",
              "      <td>0.0</td>\n",
              "      <td>-99.00</td>\n",
              "      <td>-99.00</td>\n",
              "      <td>0.0</td>\n",
              "      <td>0</td>\n",
              "      <td>0</td>\n",
              "      <td>0</td>\n",
              "      <td>1</td>\n",
              "      <td>0</td>\n",
              "      <td>0</td>\n",
              "    </tr>\n",
              "    <tr>\n",
              "      <th>1</th>\n",
              "      <td>2.0</td>\n",
              "      <td>9.0</td>\n",
              "      <td>0.0</td>\n",
              "      <td>0.0</td>\n",
              "      <td>0.0</td>\n",
              "      <td>0.0</td>\n",
              "      <td>0.0</td>\n",
              "      <td>0.0</td>\n",
              "      <td>0.0</td>\n",
              "      <td>0.0</td>\n",
              "      <td>0.0</td>\n",
              "      <td>0</td>\n",
              "      <td>0.0</td>\n",
              "      <td>0.99</td>\n",
              "      <td>0.99</td>\n",
              "      <td>0.0</td>\n",
              "      <td>0</td>\n",
              "      <td>0</td>\n",
              "      <td>0</td>\n",
              "      <td>1</td>\n",
              "      <td>0</td>\n",
              "      <td>0</td>\n",
              "    </tr>\n",
              "    <tr>\n",
              "      <th>2</th>\n",
              "      <td>2.0</td>\n",
              "      <td>999.0</td>\n",
              "      <td>0.0</td>\n",
              "      <td>0.0</td>\n",
              "      <td>0.0</td>\n",
              "      <td>0.0</td>\n",
              "      <td>0.0</td>\n",
              "      <td>0.0</td>\n",
              "      <td>0.0</td>\n",
              "      <td>0.0</td>\n",
              "      <td>0.0</td>\n",
              "      <td>0</td>\n",
              "      <td>0.0</td>\n",
              "      <td>-99.00</td>\n",
              "      <td>-99.00</td>\n",
              "      <td>0.0</td>\n",
              "      <td>1</td>\n",
              "      <td>0</td>\n",
              "      <td>0</td>\n",
              "      <td>1</td>\n",
              "      <td>0</td>\n",
              "      <td>0</td>\n",
              "    </tr>\n",
              "    <tr>\n",
              "      <th>3</th>\n",
              "      <td>7.0</td>\n",
              "      <td>8.0</td>\n",
              "      <td>0.0</td>\n",
              "      <td>0.0</td>\n",
              "      <td>0.0</td>\n",
              "      <td>0.0</td>\n",
              "      <td>0.0</td>\n",
              "      <td>0.0</td>\n",
              "      <td>0.0</td>\n",
              "      <td>0.0</td>\n",
              "      <td>1.0</td>\n",
              "      <td>0</td>\n",
              "      <td>0.0</td>\n",
              "      <td>0.10</td>\n",
              "      <td>0.13</td>\n",
              "      <td>0.0</td>\n",
              "      <td>0</td>\n",
              "      <td>0</td>\n",
              "      <td>0</td>\n",
              "      <td>1</td>\n",
              "      <td>0</td>\n",
              "      <td>0</td>\n",
              "    </tr>\n",
              "    <tr>\n",
              "      <th>4</th>\n",
              "      <td>8.0</td>\n",
              "      <td>999.0</td>\n",
              "      <td>0.0</td>\n",
              "      <td>0.0</td>\n",
              "      <td>0.0</td>\n",
              "      <td>0.0</td>\n",
              "      <td>0.0</td>\n",
              "      <td>0.0</td>\n",
              "      <td>0.0</td>\n",
              "      <td>4.0</td>\n",
              "      <td>2.0</td>\n",
              "      <td>0</td>\n",
              "      <td>0.0</td>\n",
              "      <td>-99.00</td>\n",
              "      <td>-99.00</td>\n",
              "      <td>0.0</td>\n",
              "      <td>1</td>\n",
              "      <td>0</td>\n",
              "      <td>0</td>\n",
              "      <td>1</td>\n",
              "      <td>0</td>\n",
              "      <td>0</td>\n",
              "    </tr>\n",
              "  </tbody>\n",
              "</table>\n",
              "</div>"
            ],
            "text/plain": [
              "   national_inv  lead_time  in_transit_qty  forecast_3_month  \\\n",
              "0           0.0      999.0             0.0               0.0   \n",
              "1           2.0        9.0             0.0               0.0   \n",
              "2           2.0      999.0             0.0               0.0   \n",
              "3           7.0        8.0             0.0               0.0   \n",
              "4           8.0      999.0             0.0               0.0   \n",
              "\n",
              "   forecast_6_month  forecast_9_month  sales_1_month  sales_3_month  \\\n",
              "0               0.0               0.0            0.0            0.0   \n",
              "1               0.0               0.0            0.0            0.0   \n",
              "2               0.0               0.0            0.0            0.0   \n",
              "3               0.0               0.0            0.0            0.0   \n",
              "4               0.0               0.0            0.0            0.0   \n",
              "\n",
              "   sales_6_month  sales_9_month  min_bank  potential_issue  pieces_past_due  \\\n",
              "0            0.0            0.0       0.0                0              0.0   \n",
              "1            0.0            0.0       0.0                0              0.0   \n",
              "2            0.0            0.0       0.0                0              0.0   \n",
              "3            0.0            0.0       1.0                0              0.0   \n",
              "4            0.0            4.0       2.0                0              0.0   \n",
              "\n",
              "   perf_6_month_avg  perf_12_month_avg  local_bo_qty  deck_risk  \\\n",
              "0            -99.00             -99.00           0.0          0   \n",
              "1              0.99               0.99           0.0          0   \n",
              "2            -99.00             -99.00           0.0          1   \n",
              "3              0.10               0.13           0.0          0   \n",
              "4            -99.00             -99.00           0.0          1   \n",
              "\n",
              "   oe_constraint  ppap_risk  stop_auto_buy  rev_stop  went_on_backorder  \n",
              "0              0          0              1         0                  0  \n",
              "1              0          0              1         0                  0  \n",
              "2              0          0              1         0                  0  \n",
              "3              0          0              1         0                  0  \n",
              "4              0          0              1         0                  0  "
            ]
          },
          "metadata": {
            "tags": []
          },
          "execution_count": 9
        }
      ]
    },
    {
      "cell_type": "markdown",
      "metadata": {
        "id": "rsfeBzZzSGak",
        "colab_type": "text"
      },
      "source": [
        "## Criando novas features"
      ]
    },
    {
      "cell_type": "code",
      "metadata": {
        "execution": {
          "iopub.execute_input": "2020-05-28T14:19:59.730006Z",
          "iopub.status.busy": "2020-05-28T14:19:59.730006Z",
          "iopub.status.idle": "2020-05-28T14:20:00.778746Z",
          "shell.execute_reply": "2020-05-28T14:20:00.777747Z",
          "shell.execute_reply.started": "2020-05-28T14:19:59.730006Z"
        },
        "id": "SN90C1MPSGak",
        "colab_type": "code",
        "colab": {
          "base_uri": "https://localhost:8080/",
          "height": 224
        },
        "outputId": "38dc7df8-f446-4c8b-bc5d-510fe19033c2"
      },
      "source": [
        "#--- national_inv quadrado (Boa variável)\n",
        "\n",
        "banco[\"national_inv_poly2\"] = banco[\"national_inv\"] ** 2\n",
        "\n",
        "\n",
        "#--- 0 se national_inv < 0, 1 se >= 0 (Variável ruim)\n",
        "\n",
        "# banco[\"national_inv_qual\"] = banco[\"national_inv\"].map(lambda x: 0 if x < 0 else 1)\n",
        "\n",
        "\n",
        "#--- Feature verificando se a lead_time (O tempo de trânsito do produto) é nulo ou não:\n",
        "\n",
        "# banco[\"lead_time_isnull\"] = banco[\"lead_time\"].map(lambda x: 1 if x == 999 else 0)\n",
        "\n",
        "\n",
        "# Resultado: é uma boa variável para aumentar o Recall em 0.02 (0.54), apesar de aumentar um pouco os falsos positivos\n",
        "\n",
        "\n",
        "#--- Tentativa de retirar variáveis que não foram importantes para o primeiro modelo:\n",
        "\n",
        "# banco = banco.drop([\"potential_issue\", \"rev_stop\", \"oe_constraint\"], axis = 1)\n",
        "\n",
        "# Resultado: O modelo diminui em 0.01 o Recall, coisa que não queremos\n",
        "\n",
        "\n",
        "#--- Criando uma média para cada variável de meses\n",
        "\n",
        "# banco[\"forecast_month_avg\"] = banco[[\"forecast_3_month\", \"forecast_6_month\", \"forecast_9_month\"]].mean(axis = 1)\n",
        "\n",
        "# banco[\"sales_month_avg\"] = banco[[\"sales_1_month\", \"sales_3_month\", \"sales_6_month\", \"sales_9_month\"]].mean(axis = 1)\n",
        "\n",
        "# banco[\"perf_month_avg\"] = banco[[\"perf_6_month_avg\", \"perf_12_month_avg\"]].mean(axis = 1)\n",
        "\n",
        "\n",
        "# Resultado: São boas variáveis para diminuir os falsos positivos, entretanto aumenta os falsos negativos\n",
        "\n",
        "\n",
        "#--- Verificamos através da correlação que quanto maior o nível de estoque atual da peça, maior a quantidade mínima do produto \n",
        "# recomendada para ficar em estoque, podemos criar uma razão entre elas:\n",
        "\n",
        "\n",
        "banco[\"new\"] = banco[\"min_bank\"]/banco[\"national_inv\"]\n",
        "\n",
        "banco[\"new\"] = banco[\"new\"].map(lambda x: 0 if x < 0 else 1)\n",
        "\n",
        "# 0: Indica que a relação foi negativa\n",
        "# 1: Indica que a relação foi positiva\n",
        "\n",
        "\n",
        "# Resultado: Aumenta o recall em 0.01 mas também aumenta os falsos positivos (não tanto quanto a variável lead_time_isnull)\n",
        "# Portanto, essa é a melhor feature para ganhar recall.\n",
        "\n",
        "\n",
        "#--- Quanto maior a quantidade mínima do produto recomendada também são maiores os desempenhos do produto/loja nos períodos de meses \n",
        "# indicados.\n",
        "\n",
        "# 0: Indica que a relação foi negativa\n",
        "# 1: Indica que a relação foi positiva\n",
        "\n",
        "\n",
        "# banco[\"new\"] = banco[\"min_bank\"]/banco[\"perf_6_month_avg\"]\n",
        "\n",
        "# banco[\"new\"] = banco[\"new\"].map(lambda x: 0 if x < 0 else 1)\n",
        "\n",
        "# Resultados: não foi importante para o modelo\n",
        "\n",
        "\n",
        "banco.head()"
      ],
      "execution_count": 10,
      "outputs": [
        {
          "output_type": "execute_result",
          "data": {
            "text/html": [
              "<div>\n",
              "<style scoped>\n",
              "    .dataframe tbody tr th:only-of-type {\n",
              "        vertical-align: middle;\n",
              "    }\n",
              "\n",
              "    .dataframe tbody tr th {\n",
              "        vertical-align: top;\n",
              "    }\n",
              "\n",
              "    .dataframe thead th {\n",
              "        text-align: right;\n",
              "    }\n",
              "</style>\n",
              "<table border=\"1\" class=\"dataframe\">\n",
              "  <thead>\n",
              "    <tr style=\"text-align: right;\">\n",
              "      <th></th>\n",
              "      <th>national_inv</th>\n",
              "      <th>lead_time</th>\n",
              "      <th>in_transit_qty</th>\n",
              "      <th>forecast_3_month</th>\n",
              "      <th>forecast_6_month</th>\n",
              "      <th>forecast_9_month</th>\n",
              "      <th>sales_1_month</th>\n",
              "      <th>sales_3_month</th>\n",
              "      <th>sales_6_month</th>\n",
              "      <th>sales_9_month</th>\n",
              "      <th>min_bank</th>\n",
              "      <th>potential_issue</th>\n",
              "      <th>pieces_past_due</th>\n",
              "      <th>perf_6_month_avg</th>\n",
              "      <th>perf_12_month_avg</th>\n",
              "      <th>local_bo_qty</th>\n",
              "      <th>deck_risk</th>\n",
              "      <th>oe_constraint</th>\n",
              "      <th>ppap_risk</th>\n",
              "      <th>stop_auto_buy</th>\n",
              "      <th>rev_stop</th>\n",
              "      <th>went_on_backorder</th>\n",
              "      <th>national_inv_poly2</th>\n",
              "      <th>new</th>\n",
              "    </tr>\n",
              "  </thead>\n",
              "  <tbody>\n",
              "    <tr>\n",
              "      <th>0</th>\n",
              "      <td>0.0</td>\n",
              "      <td>999.0</td>\n",
              "      <td>0.0</td>\n",
              "      <td>0.0</td>\n",
              "      <td>0.0</td>\n",
              "      <td>0.0</td>\n",
              "      <td>0.0</td>\n",
              "      <td>0.0</td>\n",
              "      <td>0.0</td>\n",
              "      <td>0.0</td>\n",
              "      <td>0.0</td>\n",
              "      <td>0</td>\n",
              "      <td>0.0</td>\n",
              "      <td>-99.00</td>\n",
              "      <td>-99.00</td>\n",
              "      <td>0.0</td>\n",
              "      <td>0</td>\n",
              "      <td>0</td>\n",
              "      <td>0</td>\n",
              "      <td>1</td>\n",
              "      <td>0</td>\n",
              "      <td>0</td>\n",
              "      <td>0.0</td>\n",
              "      <td>1</td>\n",
              "    </tr>\n",
              "    <tr>\n",
              "      <th>1</th>\n",
              "      <td>2.0</td>\n",
              "      <td>9.0</td>\n",
              "      <td>0.0</td>\n",
              "      <td>0.0</td>\n",
              "      <td>0.0</td>\n",
              "      <td>0.0</td>\n",
              "      <td>0.0</td>\n",
              "      <td>0.0</td>\n",
              "      <td>0.0</td>\n",
              "      <td>0.0</td>\n",
              "      <td>0.0</td>\n",
              "      <td>0</td>\n",
              "      <td>0.0</td>\n",
              "      <td>0.99</td>\n",
              "      <td>0.99</td>\n",
              "      <td>0.0</td>\n",
              "      <td>0</td>\n",
              "      <td>0</td>\n",
              "      <td>0</td>\n",
              "      <td>1</td>\n",
              "      <td>0</td>\n",
              "      <td>0</td>\n",
              "      <td>4.0</td>\n",
              "      <td>1</td>\n",
              "    </tr>\n",
              "    <tr>\n",
              "      <th>2</th>\n",
              "      <td>2.0</td>\n",
              "      <td>999.0</td>\n",
              "      <td>0.0</td>\n",
              "      <td>0.0</td>\n",
              "      <td>0.0</td>\n",
              "      <td>0.0</td>\n",
              "      <td>0.0</td>\n",
              "      <td>0.0</td>\n",
              "      <td>0.0</td>\n",
              "      <td>0.0</td>\n",
              "      <td>0.0</td>\n",
              "      <td>0</td>\n",
              "      <td>0.0</td>\n",
              "      <td>-99.00</td>\n",
              "      <td>-99.00</td>\n",
              "      <td>0.0</td>\n",
              "      <td>1</td>\n",
              "      <td>0</td>\n",
              "      <td>0</td>\n",
              "      <td>1</td>\n",
              "      <td>0</td>\n",
              "      <td>0</td>\n",
              "      <td>4.0</td>\n",
              "      <td>1</td>\n",
              "    </tr>\n",
              "    <tr>\n",
              "      <th>3</th>\n",
              "      <td>7.0</td>\n",
              "      <td>8.0</td>\n",
              "      <td>0.0</td>\n",
              "      <td>0.0</td>\n",
              "      <td>0.0</td>\n",
              "      <td>0.0</td>\n",
              "      <td>0.0</td>\n",
              "      <td>0.0</td>\n",
              "      <td>0.0</td>\n",
              "      <td>0.0</td>\n",
              "      <td>1.0</td>\n",
              "      <td>0</td>\n",
              "      <td>0.0</td>\n",
              "      <td>0.10</td>\n",
              "      <td>0.13</td>\n",
              "      <td>0.0</td>\n",
              "      <td>0</td>\n",
              "      <td>0</td>\n",
              "      <td>0</td>\n",
              "      <td>1</td>\n",
              "      <td>0</td>\n",
              "      <td>0</td>\n",
              "      <td>49.0</td>\n",
              "      <td>1</td>\n",
              "    </tr>\n",
              "    <tr>\n",
              "      <th>4</th>\n",
              "      <td>8.0</td>\n",
              "      <td>999.0</td>\n",
              "      <td>0.0</td>\n",
              "      <td>0.0</td>\n",
              "      <td>0.0</td>\n",
              "      <td>0.0</td>\n",
              "      <td>0.0</td>\n",
              "      <td>0.0</td>\n",
              "      <td>0.0</td>\n",
              "      <td>4.0</td>\n",
              "      <td>2.0</td>\n",
              "      <td>0</td>\n",
              "      <td>0.0</td>\n",
              "      <td>-99.00</td>\n",
              "      <td>-99.00</td>\n",
              "      <td>0.0</td>\n",
              "      <td>1</td>\n",
              "      <td>0</td>\n",
              "      <td>0</td>\n",
              "      <td>1</td>\n",
              "      <td>0</td>\n",
              "      <td>0</td>\n",
              "      <td>64.0</td>\n",
              "      <td>1</td>\n",
              "    </tr>\n",
              "  </tbody>\n",
              "</table>\n",
              "</div>"
            ],
            "text/plain": [
              "   national_inv  lead_time  in_transit_qty  forecast_3_month  \\\n",
              "0           0.0      999.0             0.0               0.0   \n",
              "1           2.0        9.0             0.0               0.0   \n",
              "2           2.0      999.0             0.0               0.0   \n",
              "3           7.0        8.0             0.0               0.0   \n",
              "4           8.0      999.0             0.0               0.0   \n",
              "\n",
              "   forecast_6_month  forecast_9_month  sales_1_month  sales_3_month  \\\n",
              "0               0.0               0.0            0.0            0.0   \n",
              "1               0.0               0.0            0.0            0.0   \n",
              "2               0.0               0.0            0.0            0.0   \n",
              "3               0.0               0.0            0.0            0.0   \n",
              "4               0.0               0.0            0.0            0.0   \n",
              "\n",
              "   sales_6_month  sales_9_month  min_bank  potential_issue  pieces_past_due  \\\n",
              "0            0.0            0.0       0.0                0              0.0   \n",
              "1            0.0            0.0       0.0                0              0.0   \n",
              "2            0.0            0.0       0.0                0              0.0   \n",
              "3            0.0            0.0       1.0                0              0.0   \n",
              "4            0.0            4.0       2.0                0              0.0   \n",
              "\n",
              "   perf_6_month_avg  perf_12_month_avg  local_bo_qty  deck_risk  \\\n",
              "0            -99.00             -99.00           0.0          0   \n",
              "1              0.99               0.99           0.0          0   \n",
              "2            -99.00             -99.00           0.0          1   \n",
              "3              0.10               0.13           0.0          0   \n",
              "4            -99.00             -99.00           0.0          1   \n",
              "\n",
              "   oe_constraint  ppap_risk  stop_auto_buy  rev_stop  went_on_backorder  \\\n",
              "0              0          0              1         0                  0   \n",
              "1              0          0              1         0                  0   \n",
              "2              0          0              1         0                  0   \n",
              "3              0          0              1         0                  0   \n",
              "4              0          0              1         0                  0   \n",
              "\n",
              "   national_inv_poly2  new  \n",
              "0                 0.0    1  \n",
              "1                 4.0    1  \n",
              "2                 4.0    1  \n",
              "3                49.0    1  \n",
              "4                64.0    1  "
            ]
          },
          "metadata": {
            "tags": []
          },
          "execution_count": 10
        }
      ]
    },
    {
      "cell_type": "markdown",
      "metadata": {
        "id": "tsPe_hcZSGao",
        "colab_type": "text"
      },
      "source": [
        "## Separando em treino e teste"
      ]
    },
    {
      "cell_type": "code",
      "metadata": {
        "execution": {
          "iopub.execute_input": "2020-05-28T14:20:00.781746Z",
          "iopub.status.busy": "2020-05-28T14:20:00.780747Z",
          "iopub.status.idle": "2020-05-28T14:20:04.130921Z",
          "shell.execute_reply": "2020-05-28T14:20:04.129921Z",
          "shell.execute_reply.started": "2020-05-28T14:20:00.781746Z"
        },
        "id": "9qCLdy9sSGap",
        "colab_type": "code",
        "colab": {}
      },
      "source": [
        "from sklearn.model_selection import train_test_split\n",
        "\n",
        "\n",
        "x_treino, x_teste, y_treino, y_teste = train_test_split(banco.drop(\"went_on_backorder\", axis = 1), banco[\"went_on_backorder\"], train_size = 0.5, random_state = 1234, stratify = banco[\"went_on_backorder\"])"
      ],
      "execution_count": 0,
      "outputs": []
    },
    {
      "cell_type": "code",
      "metadata": {
        "execution": {
          "iopub.execute_input": "2020-05-28T14:20:04.132921Z",
          "iopub.status.busy": "2020-05-28T14:20:04.132921Z",
          "iopub.status.idle": "2020-05-28T14:20:04.141918Z",
          "shell.execute_reply": "2020-05-28T14:20:04.140919Z",
          "shell.execute_reply.started": "2020-05-28T14:20:04.132921Z"
        },
        "id": "I0hUzFl4SGas",
        "colab_type": "code",
        "colab": {
          "base_uri": "https://localhost:8080/",
          "height": 34
        },
        "outputId": "82e81e21-c8ef-4a53-e12e-b67c0be72e07"
      },
      "source": [
        "print(x_treino.shape, y_treino.shape, x_teste.shape, y_teste.shape)"
      ],
      "execution_count": 12,
      "outputs": [
        {
          "output_type": "stream",
          "text": [
            "(843930, 23) (843930,) (843930, 23) (843930,)\n"
          ],
          "name": "stdout"
        }
      ]
    },
    {
      "cell_type": "code",
      "metadata": {
        "execution": {
          "iopub.execute_input": "2020-05-28T14:20:04.146918Z",
          "iopub.status.busy": "2020-05-28T14:20:04.145918Z",
          "iopub.status.idle": "2020-05-28T14:20:04.198904Z",
          "shell.execute_reply": "2020-05-28T14:20:04.197904Z",
          "shell.execute_reply.started": "2020-05-28T14:20:04.146918Z"
        },
        "id": "zpgNSKP_SGaw",
        "colab_type": "code",
        "colab": {
          "base_uri": "https://localhost:8080/",
          "height": 187
        },
        "outputId": "53f0d8ea-0091-46b9-fd13-dbefe9b05e3f"
      },
      "source": [
        "print(15*\"---\")\n",
        "\n",
        "print(\"Proporção da variável target nos dados de treino:\\n\", y_treino.value_counts(normalize = True))\n",
        "\n",
        "print(15*\"---\")\n",
        "\n",
        "print(\"Proporção da variável target nos dados de treino:\\n\", y_teste.value_counts(normalize = True))"
      ],
      "execution_count": 13,
      "outputs": [
        {
          "output_type": "stream",
          "text": [
            "---------------------------------------------\n",
            "Proporção da variável target nos dados de treino:\n",
            " 0    0.99331\n",
            "1    0.00669\n",
            "Name: went_on_backorder, dtype: float64\n",
            "---------------------------------------------\n",
            "Proporção da variável target nos dados de treino:\n",
            " 0    0.993309\n",
            "1    0.006691\n",
            "Name: went_on_backorder, dtype: float64\n"
          ],
          "name": "stdout"
        }
      ]
    },
    {
      "cell_type": "markdown",
      "metadata": {
        "id": "fpxKW-VdSGa4",
        "colab_type": "text"
      },
      "source": [
        "# Random forest"
      ]
    },
    {
      "cell_type": "code",
      "metadata": {
        "execution": {
          "iopub.execute_input": "2020-05-28T14:20:04.200904Z",
          "iopub.status.busy": "2020-05-28T14:20:04.199904Z",
          "iopub.status.idle": "2020-05-28T14:20:04.403854Z",
          "shell.execute_reply": "2020-05-28T14:20:04.402854Z",
          "shell.execute_reply.started": "2020-05-28T14:20:04.200904Z"
        },
        "id": "MDOEYJGxSGa0",
        "colab_type": "code",
        "colab": {
          "base_uri": "https://localhost:8080/",
          "height": 34
        },
        "outputId": "0cd07827-6550-4544-a208-4179394e9118"
      },
      "source": [
        "from sklearn.utils import class_weight\n",
        "\n",
        "class_weights1 = class_weight.compute_class_weight('balanced',\n",
        "                                                 np.unique(y_treino),\n",
        "                                                 y_treino)\n",
        "\n",
        "class_weights1"
      ],
      "execution_count": 14,
      "outputs": [
        {
          "output_type": "execute_result",
          "data": {
            "text/plain": [
              "array([ 0.50336759, 74.73698193])"
            ]
          },
          "metadata": {
            "tags": []
          },
          "execution_count": 14
        }
      ]
    },
    {
      "cell_type": "markdown",
      "metadata": {
        "id": "fdDl5o9oSGbA",
        "colab_type": "text"
      },
      "source": [
        "## Cross-Validation"
      ]
    },
    {
      "cell_type": "code",
      "metadata": {
        "execution": {
          "iopub.execute_input": "2020-05-28T14:20:04.404854Z",
          "iopub.status.busy": "2020-05-28T14:20:04.404854Z",
          "iopub.status.idle": "2020-05-28T14:22:09.245111Z",
          "shell.execute_reply": "2020-05-28T14:22:09.244110Z",
          "shell.execute_reply.started": "2020-05-28T14:20:04.404854Z"
        },
        "id": "h6esP5bBSGa5",
        "colab_type": "code",
        "colab": {
          "base_uri": "https://localhost:8080/",
          "height": 51
        },
        "outputId": "7eeb3724-8e52-477a-d506-d4948cc6d1d4"
      },
      "source": [
        "%%time\n",
        "\n",
        "# from sklearn.ensemble import RandomForestClassifier\n",
        "\n",
        "\n",
        "# rfc = RandomForestClassifier(n_estimators = 100, \n",
        "#                              class_weight = {0: 0.5034, 1: 74.7370}, \n",
        "#                              random_state = 1234, \n",
        "#                              min_samples_leaf = 5, \n",
        "#                              min_samples_split = 5,\n",
        "#                              max_depth = None,\n",
        "#                              n_jobs = -1)"
      ],
      "execution_count": 16,
      "outputs": [
        {
          "output_type": "stream",
          "text": [
            "CPU times: user 44 µs, sys: 0 ns, total: 44 µs\n",
            "Wall time: 47 µs\n"
          ],
          "name": "stdout"
        }
      ]
    },
    {
      "cell_type": "code",
      "metadata": {
        "execution": {
          "iopub.execute_input": "2020-05-28T14:40:22.445895Z",
          "iopub.status.busy": "2020-05-28T14:40:22.444895Z",
          "iopub.status.idle": "2020-05-28T14:48:06.932509Z",
          "shell.execute_reply": "2020-05-28T14:48:06.931509Z",
          "shell.execute_reply.started": "2020-05-28T14:40:22.445895Z"
        },
        "id": "PUJxDN2aSGbB",
        "colab_type": "code",
        "colab": {
          "base_uri": "https://localhost:8080/",
          "height": 51
        },
        "outputId": "1af7f925-c5e3-468e-a41b-8701a8a09448"
      },
      "source": [
        "%%time\n",
        "\n",
        "# from sklearn.model_selection import cross_validate \n",
        "# from sklearn.metrics import recall_score\n",
        "\n",
        "# scoring1 = [\n",
        "#     \"accuracy\", \n",
        "#     \"f1\", \n",
        "#     'f1_macro',\n",
        "#     'recall',\n",
        "#     'recall_macro',\n",
        "#     'precision',\n",
        "#     'precision_macro',          \n",
        "#     'roc_auc']\n",
        "\n",
        "# scores = cross_validate(rfc, x_treino, y_treino, cv = 5, scoring = scoring1, n_jobs = -1)\n",
        "\n",
        "# scores"
      ],
      "execution_count": 23,
      "outputs": [
        {
          "output_type": "stream",
          "text": [
            "CPU times: user 284 ms, sys: 214 ms, total: 498 ms\n",
            "Wall time: 7min 27s\n"
          ],
          "name": "stdout"
        }
      ]
    },
    {
      "cell_type": "code",
      "metadata": {
        "execution": {
          "iopub.execute_input": "2020-05-28T14:51:53.307762Z",
          "iopub.status.busy": "2020-05-28T14:51:53.307762Z",
          "iopub.status.idle": "2020-05-28T14:51:53.318759Z",
          "shell.execute_reply": "2020-05-28T14:51:53.317760Z",
          "shell.execute_reply.started": "2020-05-28T14:51:53.307762Z"
        },
        "id": "aHkQvqDoSGbG",
        "colab_type": "code",
        "colab": {
          "base_uri": "https://localhost:8080/",
          "height": 204
        },
        "outputId": "5ae5447e-1535-42c2-acc6-56907f6380fe"
      },
      "source": [
        "# import sklearn\n",
        "\n",
        "# sorted(sklearn.metrics.SCORERS.keys())"
      ],
      "execution_count": 24,
      "outputs": [
        {
          "output_type": "execute_result",
          "data": {
            "text/plain": [
              "{'fit_time': array([164.6709795 , 164.79752064, 167.76110458, 156.42973042,\n",
              "        102.43587351]),\n",
              " 'score_time': array([8.82866979, 8.63923192, 8.88608503, 9.03333473, 4.4484303 ]),\n",
              " 'test_accuracy': array([0.98900975, 0.98934153, 0.98889126, 0.98959629, 0.98914009]),\n",
              " 'test_f1': array([0.3574645 , 0.3654321 , 0.34691745, 0.37553343, 0.36640166]),\n",
              " 'test_f1_macro': array([0.67596099, 0.68002887, 0.67065772, 0.68514394, 0.68046238]),\n",
              " 'test_precision': array([0.29351536, 0.30363423, 0.2858783 , 0.31372549, 0.30062394]),\n",
              " 'test_precision_macro': array([0.64492266, 0.64998865, 0.64105043, 0.65506445, 0.64851581]),\n",
              " 'test_recall': array([0.45704163, 0.45881311, 0.44109832, 0.4676705 , 0.46902655]),\n",
              " 'test_recall_macro': array([0.72481682, 0.72586361, 0.7168392 , 0.73039072, 0.7308361 ]),\n",
              " 'test_roc_auc': array([0.96255061, 0.96632984, 0.95315322, 0.96463253, 0.96389952])}"
            ]
          },
          "metadata": {
            "tags": []
          },
          "execution_count": 24
        }
      ]
    },
    {
      "cell_type": "markdown",
      "metadata": {
        "id": "mUk-_TXrcGZF",
        "colab_type": "text"
      },
      "source": [
        "## Random Hyperparameter Grid"
      ]
    },
    {
      "cell_type": "code",
      "metadata": {
        "id": "dngWM0O3cGgN",
        "colab_type": "code",
        "colab": {
          "base_uri": "https://localhost:8080/",
          "height": 136
        },
        "outputId": "7b6f53c7-2b57-44a2-c50e-f8131c8341d2"
      },
      "source": [
        "%%time\n",
        "\n",
        "from sklearn.model_selection import RandomizedSearchCV\n",
        "\n",
        "#--- Criando os hiperparâmetros a serem treinados\n",
        "\n",
        "# n_estimators: número de árvores na floresta\n",
        "n_estimators = [int(x) for x in np.linspace(start = 10, stop = 100, num = 10)]\n",
        "\n",
        "# max_depth: número máximo de níveis em cada árvore de decisão \n",
        "max_depth = [int(x) for x in np.linspace(0, 10, num = 11)]\n",
        "max_depth.append(None)\n",
        "\n",
        "# min_samples_split: número mínimo de dados colocados em um nó antes dele ser dividido\n",
        "min_samples_split = [2, 5, 10]\n",
        "\n",
        "# min_samples_leaf: número mínimo de dados permitido em uma folha\n",
        "min_samples_leaf = [2, 5, 10]\n",
        "\n",
        "\n",
        "#--- Criando o random_grid\n",
        "\n",
        "random_grid = {\"n_estimators\": n_estimators,\n",
        "               \"max_depth\": max_depth,\n",
        "               \"min_samples_split\": min_samples_split,\n",
        "               \"min_samples_leaf\": min_samples_leaf}\n",
        "\n",
        "\n",
        "#--- Criando a RF\n",
        "\n",
        "model_RF = RandomForestClassifier(class_weight = {0: 0.5034, 1: 74.7370}, random_state = 1234, n_jobs = -1)\n",
        "\n",
        "#--- Aplicando a CV + RandomizedSearch\n",
        "\n",
        "rf_random = RandomizedSearchCV(estimator = model_RF, param_distributions = random_grid, n_iter = 100, cv = 3, verbose = 2, random_state = 1234, n_jobs = -1, \n",
        "                               scoring = 'recall')"
      ],
      "execution_count": 47,
      "outputs": [
        {
          "output_type": "stream",
          "text": [
            "Fitting 3 folds for each of 100 candidates, totalling 300 fits\n"
          ],
          "name": "stdout"
        },
        {
          "output_type": "stream",
          "text": [
            "[Parallel(n_jobs=-1)]: Using backend LokyBackend with 2 concurrent workers.\n",
            "[Parallel(n_jobs=-1)]: Done  37 tasks      | elapsed: 14.9min\n",
            "[Parallel(n_jobs=-1)]: Done 158 tasks      | elapsed: 51.3min\n",
            "[Parallel(n_jobs=-1)]: Done 300 out of 300 | elapsed: 98.5min finished\n"
          ],
          "name": "stderr"
        },
        {
          "output_type": "stream",
          "text": [
            "CPU times: user 2min 58s, sys: 2.35 s, total: 3min\n",
            "Wall time: 1h 41min 28s\n"
          ],
          "name": "stdout"
        }
      ]
    },
    {
      "cell_type": "code",
      "metadata": {
        "id": "078gESzs6uB7",
        "colab_type": "code",
        "colab": {}
      },
      "source": [
        "#--- Treinando o modelo nos dados de treino\n",
        "\n",
        "rf_random.fit(x_treino, y_treino)"
      ],
      "execution_count": 0,
      "outputs": []
    },
    {
      "cell_type": "code",
      "metadata": {
        "id": "GFoIzdgt4e1w",
        "colab_type": "code",
        "colab": {
          "base_uri": "https://localhost:8080/",
          "height": 374
        },
        "outputId": "a2164049-9c65-475b-dbe9-0fe2d0641332"
      },
      "source": [
        "from pprint import pprint\n",
        "# Look at parameters used by our current forest\n",
        "print('Parameters currently in use:\\n')\n",
        "\n",
        "\n",
        "pprint(model_RF.get_params())"
      ],
      "execution_count": 53,
      "outputs": [
        {
          "output_type": "stream",
          "text": [
            "Parameters currently in use:\n",
            "\n",
            "{'bootstrap': True,\n",
            " 'ccp_alpha': 0.0,\n",
            " 'class_weight': None,\n",
            " 'criterion': 'gini',\n",
            " 'max_depth': None,\n",
            " 'max_features': 'auto',\n",
            " 'max_leaf_nodes': None,\n",
            " 'max_samples': None,\n",
            " 'min_impurity_decrease': 0.0,\n",
            " 'min_impurity_split': None,\n",
            " 'min_samples_leaf': 1,\n",
            " 'min_samples_split': 2,\n",
            " 'min_weight_fraction_leaf': 0.0,\n",
            " 'n_estimators': 100,\n",
            " 'n_jobs': None,\n",
            " 'oob_score': False,\n",
            " 'random_state': None,\n",
            " 'verbose': 0,\n",
            " 'warm_start': False}\n"
          ],
          "name": "stdout"
        }
      ]
    },
    {
      "cell_type": "markdown",
      "metadata": {
        "id": "9tASjrtTY39v",
        "colab_type": "text"
      },
      "source": [
        "## Aplicando a RF nos dados de teste"
      ]
    },
    {
      "cell_type": "code",
      "metadata": {
        "id": "Lj5IMjpNYh5X",
        "colab_type": "code",
        "colab": {}
      },
      "source": [
        "# rfc.fit(x_treino, y_treino)\n",
        "\n",
        "y_pred = rf_random.predict(x_teste)"
      ],
      "execution_count": 0,
      "outputs": []
    },
    {
      "cell_type": "markdown",
      "metadata": {
        "id": "2qCF8PzGSGbN",
        "colab_type": "text"
      },
      "source": [
        "# Métricas a serem avaliadas\n"
      ]
    },
    {
      "cell_type": "code",
      "metadata": {
        "execution": {
          "iopub.execute_input": "2020-05-28T14:52:42.249709Z",
          "iopub.status.busy": "2020-05-28T14:52:42.249709Z",
          "iopub.status.idle": "2020-05-28T14:52:42.377677Z",
          "shell.execute_reply": "2020-05-28T14:52:42.376678Z",
          "shell.execute_reply.started": "2020-05-28T14:52:42.249709Z"
        },
        "id": "EktsYiN5SGbO",
        "colab_type": "code",
        "colab": {
          "base_uri": "https://localhost:8080/",
          "height": 34
        },
        "outputId": "48619705-679a-491d-828e-cac1303810e8"
      },
      "source": [
        "from sklearn.metrics import accuracy_score\n",
        "\n",
        "acc = accuracy_score(y_teste, y_pred)\n",
        "\n",
        "print(\"Accuracy:\", acc)"
      ],
      "execution_count": 58,
      "outputs": [
        {
          "output_type": "stream",
          "text": [
            "Accuracy: 0.9937601459836717\n"
          ],
          "name": "stdout"
        }
      ]
    },
    {
      "cell_type": "code",
      "metadata": {
        "execution": {
          "iopub.execute_input": "2020-05-28T14:52:42.434664Z",
          "iopub.status.busy": "2020-05-28T14:52:42.433665Z",
          "iopub.status.idle": "2020-05-28T14:52:43.407424Z",
          "shell.execute_reply": "2020-05-28T14:52:43.406424Z",
          "shell.execute_reply.started": "2020-05-28T14:52:42.434664Z"
        },
        "id": "iBANlgLoSGbR",
        "colab_type": "code",
        "colab": {
          "base_uri": "https://localhost:8080/",
          "height": 51
        },
        "outputId": "ffc992d7-5998-4081-9c03-252a3f9826ea"
      },
      "source": [
        "from sklearn.metrics import confusion_matrix\n",
        "\n",
        "print(confusion_matrix(y_teste, y_pred))"
      ],
      "execution_count": 59,
      "outputs": [
        {
          "output_type": "stream",
          "text": [
            "[[838168    115]\n",
            " [  5151    496]]\n"
          ],
          "name": "stdout"
        }
      ]
    },
    {
      "cell_type": "code",
      "metadata": {
        "execution": {
          "iopub.execute_input": "2020-05-28T14:52:43.409424Z",
          "iopub.status.busy": "2020-05-28T14:52:43.408424Z",
          "iopub.status.idle": "2020-05-28T14:52:43.984282Z",
          "shell.execute_reply": "2020-05-28T14:52:43.983283Z",
          "shell.execute_reply.started": "2020-05-28T14:52:43.409424Z"
        },
        "id": "h84DvEOYSGbV",
        "colab_type": "code",
        "colab": {
          "base_uri": "https://localhost:8080/",
          "height": 173
        },
        "outputId": "36845219-048e-4b33-8c24-1256a9734ad7"
      },
      "source": [
        "pd.crosstab(y_teste, y_pred, rownames = [\"True\"], colnames = [\"Predicted\"], margins = True)"
      ],
      "execution_count": 60,
      "outputs": [
        {
          "output_type": "execute_result",
          "data": {
            "text/html": [
              "<div>\n",
              "<style scoped>\n",
              "    .dataframe tbody tr th:only-of-type {\n",
              "        vertical-align: middle;\n",
              "    }\n",
              "\n",
              "    .dataframe tbody tr th {\n",
              "        vertical-align: top;\n",
              "    }\n",
              "\n",
              "    .dataframe thead th {\n",
              "        text-align: right;\n",
              "    }\n",
              "</style>\n",
              "<table border=\"1\" class=\"dataframe\">\n",
              "  <thead>\n",
              "    <tr style=\"text-align: right;\">\n",
              "      <th>Predicted</th>\n",
              "      <th>0</th>\n",
              "      <th>1</th>\n",
              "      <th>All</th>\n",
              "    </tr>\n",
              "    <tr>\n",
              "      <th>True</th>\n",
              "      <th></th>\n",
              "      <th></th>\n",
              "      <th></th>\n",
              "    </tr>\n",
              "  </thead>\n",
              "  <tbody>\n",
              "    <tr>\n",
              "      <th>0</th>\n",
              "      <td>838168</td>\n",
              "      <td>115</td>\n",
              "      <td>838283</td>\n",
              "    </tr>\n",
              "    <tr>\n",
              "      <th>1</th>\n",
              "      <td>5151</td>\n",
              "      <td>496</td>\n",
              "      <td>5647</td>\n",
              "    </tr>\n",
              "    <tr>\n",
              "      <th>All</th>\n",
              "      <td>843319</td>\n",
              "      <td>611</td>\n",
              "      <td>843930</td>\n",
              "    </tr>\n",
              "  </tbody>\n",
              "</table>\n",
              "</div>"
            ],
            "text/plain": [
              "Predicted       0    1     All\n",
              "True                          \n",
              "0          838168  115  838283\n",
              "1            5151  496    5647\n",
              "All        843319  611  843930"
            ]
          },
          "metadata": {
            "tags": []
          },
          "execution_count": 60
        }
      ]
    },
    {
      "cell_type": "code",
      "metadata": {
        "execution": {
          "iopub.execute_input": "2020-05-28T14:52:43.986282Z",
          "iopub.status.busy": "2020-05-28T14:52:43.986282Z",
          "iopub.status.idle": "2020-05-28T14:52:45.895811Z",
          "shell.execute_reply": "2020-05-28T14:52:45.894811Z",
          "shell.execute_reply.started": "2020-05-28T14:52:43.986282Z"
        },
        "id": "kmtRY852SGbY",
        "colab_type": "code",
        "colab": {
          "base_uri": "https://localhost:8080/",
          "height": 170
        },
        "outputId": "5fd9c22a-0b30-447b-e4cf-8403fbd303ef"
      },
      "source": [
        "from sklearn.metrics import classification_report\n",
        "\n",
        "print(classification_report(y_teste, y_pred))"
      ],
      "execution_count": 61,
      "outputs": [
        {
          "output_type": "stream",
          "text": [
            "              precision    recall  f1-score   support\n",
            "\n",
            "           0       0.99      1.00      1.00    838283\n",
            "           1       0.81      0.09      0.16      5647\n",
            "\n",
            "    accuracy                           0.99    843930\n",
            "   macro avg       0.90      0.54      0.58    843930\n",
            "weighted avg       0.99      0.99      0.99    843930\n",
            "\n"
          ],
          "name": "stdout"
        }
      ]
    },
    {
      "cell_type": "code",
      "metadata": {
        "execution": {
          "iopub.execute_input": "2020-05-28T14:52:45.897811Z",
          "iopub.status.busy": "2020-05-28T14:52:45.897811Z",
          "iopub.status.idle": "2020-05-28T14:52:54.713640Z",
          "shell.execute_reply": "2020-05-28T14:52:54.712640Z",
          "shell.execute_reply.started": "2020-05-28T14:52:45.897811Z"
        },
        "id": "bWF0pOH9SGbb",
        "colab_type": "code",
        "colab": {
          "base_uri": "https://localhost:8080/",
          "height": 411
        },
        "outputId": "bc372dfe-4c43-4b47-de1c-c4d4d5c024e3"
      },
      "source": [
        "#--- Adaptado de: https://stackoverflow.com/questions/25009284/how-to-plot-roc-curve-in-python\n",
        "\n",
        "import sklearn.metrics as metrics\n",
        "\n",
        "probs = rfc.predict_proba(x_teste)\n",
        "preds = probs[:,1]\n",
        "fpr, vpr, threshold = metrics.roc_curve(y_teste, preds)\n",
        "roc_auc = metrics.auc(fpr, vpr)\n",
        "\n",
        "#--- Curva\n",
        "\n",
        "plt.figure(figsize = [10, 6])\n",
        "plt.title(\"Curva ROC\")\n",
        "plt.plot(fpr, vpr, \"blue\", label = \"AUC = %0.2f\" % roc_auc)\n",
        "plt.legend(loc = \"lower right\")\n",
        "plt.plot([0, 1], [0, 1], \"r--\")\n",
        "plt.ylabel(\"Taxa de Verdadeiros Positivos\", fontsize = 14, color = \"black\")\n",
        "plt.xlabel(\"Taxa de Falsos Positivos\", fontsize = 14, color = \"black\")\n",
        "plt.tick_params(axis = \"x\", labelsize = 12, labelcolor = \"black\")\n",
        "plt.tick_params(axis = \"y\", labelsize = 12, labelcolor = \"black\")\n",
        "plt.show()"
      ],
      "execution_count": 33,
      "outputs": [
        {
          "output_type": "display_data",
          "data": {
            "image/png": "[encoded data removed]",
            "text/plain": [
              "<Figure size 720x432 with 1 Axes>"
            ]
          },
          "metadata": {
            "tags": [],
            "needs_background": "light"
          }
        }
      ]
    },
    {
      "cell_type": "markdown",
      "metadata": {
        "id": "R3KJY4ohSGbf",
        "colab_type": "text"
      },
      "source": [
        "# Importância das variáveis para o modelo de Random Forest"
      ]
    },
    {
      "cell_type": "code",
      "metadata": {
        "execution": {
          "iopub.execute_input": "2020-05-28T14:52:54.715640Z",
          "iopub.status.busy": "2020-05-28T14:52:54.715640Z",
          "iopub.status.idle": "2020-05-28T14:52:54.847607Z",
          "shell.execute_reply": "2020-05-28T14:52:54.846607Z",
          "shell.execute_reply.started": "2020-05-28T14:52:54.715640Z"
        },
        "id": "HtxOWJmISGbg",
        "colab_type": "code",
        "colab": {
          "base_uri": "https://localhost:8080/",
          "height": 762
        },
        "outputId": "13c7a845-4faa-4112-a9dd-8a4c6b3694ab"
      },
      "source": [
        "pd.DataFrame(rfc.feature_importances_, x_teste.columns).reset_index().rename(columns = {0: \"Valor\", \"index\": \"Variável\"}).sort_values(\"Valor\", ascending = False).round(5)"
      ],
      "execution_count": 34,
      "outputs": [
        {
          "output_type": "execute_result",
          "data": {
            "text/html": [
              "<div>\n",
              "<style scoped>\n",
              "    .dataframe tbody tr th:only-of-type {\n",
              "        vertical-align: middle;\n",
              "    }\n",
              "\n",
              "    .dataframe tbody tr th {\n",
              "        vertical-align: top;\n",
              "    }\n",
              "\n",
              "    .dataframe thead th {\n",
              "        text-align: right;\n",
              "    }\n",
              "</style>\n",
              "<table border=\"1\" class=\"dataframe\">\n",
              "  <thead>\n",
              "    <tr style=\"text-align: right;\">\n",
              "      <th></th>\n",
              "      <th>Variável</th>\n",
              "      <th>Valor</th>\n",
              "    </tr>\n",
              "  </thead>\n",
              "  <tbody>\n",
              "    <tr>\n",
              "      <th>0</th>\n",
              "      <td>national_inv</td>\n",
              "      <td>0.14958</td>\n",
              "    </tr>\n",
              "    <tr>\n",
              "      <th>4</th>\n",
              "      <td>forecast_6_month</td>\n",
              "      <td>0.14496</td>\n",
              "    </tr>\n",
              "    <tr>\n",
              "      <th>21</th>\n",
              "      <td>national_inv_poly2</td>\n",
              "      <td>0.11978</td>\n",
              "    </tr>\n",
              "    <tr>\n",
              "      <th>3</th>\n",
              "      <td>forecast_3_month</td>\n",
              "      <td>0.09919</td>\n",
              "    </tr>\n",
              "    <tr>\n",
              "      <th>5</th>\n",
              "      <td>forecast_9_month</td>\n",
              "      <td>0.09499</td>\n",
              "    </tr>\n",
              "    <tr>\n",
              "      <th>8</th>\n",
              "      <td>sales_6_month</td>\n",
              "      <td>0.04668</td>\n",
              "    </tr>\n",
              "    <tr>\n",
              "      <th>13</th>\n",
              "      <td>perf_6_month_avg</td>\n",
              "      <td>0.04540</td>\n",
              "    </tr>\n",
              "    <tr>\n",
              "      <th>9</th>\n",
              "      <td>sales_9_month</td>\n",
              "      <td>0.04466</td>\n",
              "    </tr>\n",
              "    <tr>\n",
              "      <th>14</th>\n",
              "      <td>perf_12_month_avg</td>\n",
              "      <td>0.04450</td>\n",
              "    </tr>\n",
              "    <tr>\n",
              "      <th>7</th>\n",
              "      <td>sales_3_month</td>\n",
              "      <td>0.04208</td>\n",
              "    </tr>\n",
              "    <tr>\n",
              "      <th>6</th>\n",
              "      <td>sales_1_month</td>\n",
              "      <td>0.04128</td>\n",
              "    </tr>\n",
              "    <tr>\n",
              "      <th>2</th>\n",
              "      <td>in_transit_qty</td>\n",
              "      <td>0.03331</td>\n",
              "    </tr>\n",
              "    <tr>\n",
              "      <th>1</th>\n",
              "      <td>lead_time</td>\n",
              "      <td>0.03045</td>\n",
              "    </tr>\n",
              "    <tr>\n",
              "      <th>10</th>\n",
              "      <td>min_bank</td>\n",
              "      <td>0.02751</td>\n",
              "    </tr>\n",
              "    <tr>\n",
              "      <th>15</th>\n",
              "      <td>local_bo_qty</td>\n",
              "      <td>0.01245</td>\n",
              "    </tr>\n",
              "    <tr>\n",
              "      <th>16</th>\n",
              "      <td>deck_risk</td>\n",
              "      <td>0.00677</td>\n",
              "    </tr>\n",
              "    <tr>\n",
              "      <th>18</th>\n",
              "      <td>ppap_risk</td>\n",
              "      <td>0.00538</td>\n",
              "    </tr>\n",
              "    <tr>\n",
              "      <th>12</th>\n",
              "      <td>pieces_past_due</td>\n",
              "      <td>0.00451</td>\n",
              "    </tr>\n",
              "    <tr>\n",
              "      <th>22</th>\n",
              "      <td>new</td>\n",
              "      <td>0.00404</td>\n",
              "    </tr>\n",
              "    <tr>\n",
              "      <th>19</th>\n",
              "      <td>stop_auto_buy</td>\n",
              "      <td>0.00228</td>\n",
              "    </tr>\n",
              "    <tr>\n",
              "      <th>11</th>\n",
              "      <td>potential_issue</td>\n",
              "      <td>0.00011</td>\n",
              "    </tr>\n",
              "    <tr>\n",
              "      <th>20</th>\n",
              "      <td>rev_stop</td>\n",
              "      <td>0.00005</td>\n",
              "    </tr>\n",
              "    <tr>\n",
              "      <th>17</th>\n",
              "      <td>oe_constraint</td>\n",
              "      <td>0.00001</td>\n",
              "    </tr>\n",
              "  </tbody>\n",
              "</table>\n",
              "</div>"
            ],
            "text/plain": [
              "              Variável    Valor\n",
              "0         national_inv  0.14958\n",
              "4     forecast_6_month  0.14496\n",
              "21  national_inv_poly2  0.11978\n",
              "3     forecast_3_month  0.09919\n",
              "5     forecast_9_month  0.09499\n",
              "8        sales_6_month  0.04668\n",
              "13    perf_6_month_avg  0.04540\n",
              "9        sales_9_month  0.04466\n",
              "14   perf_12_month_avg  0.04450\n",
              "7        sales_3_month  0.04208\n",
              "6        sales_1_month  0.04128\n",
              "2       in_transit_qty  0.03331\n",
              "1            lead_time  0.03045\n",
              "10            min_bank  0.02751\n",
              "15        local_bo_qty  0.01245\n",
              "16           deck_risk  0.00677\n",
              "18           ppap_risk  0.00538\n",
              "12     pieces_past_due  0.00451\n",
              "22                 new  0.00404\n",
              "19       stop_auto_buy  0.00228\n",
              "11     potential_issue  0.00011\n",
              "20            rev_stop  0.00005\n",
              "17       oe_constraint  0.00001"
            ]
          },
          "metadata": {
            "tags": []
          },
          "execution_count": 34
        }
      ]
    },
    {
      "cell_type": "markdown",
      "metadata": {
        "id": "Crkgi9CCSGbj",
        "colab_type": "text"
      },
      "source": [
        "# Próximos passos:\n",
        "\n",
        "1. Criar novas features;\n",
        "    - Relacionar a forecast_3_month com alguma variável;\n",
        "2. Verificar a relação das variáveis (esqueci hoje);\n",
        "3. Observar as variáveis national_inv e lead_time;\n",
        "4. Testar o método de oversampling e undersampling.\n",
        "\n",
        "\n",
        "Falso positivo: o modelo previu que era um pedido em atraso, quando não era \n",
        "um pedido em atraso\n",
        "\n",
        "Falso negativo (*): o modelo disse que não era um pedido em atraso, quando na verdade ele era\n",
        "\n",
        "- Focar na métrica Recall"
      ]
    }
  ]
}