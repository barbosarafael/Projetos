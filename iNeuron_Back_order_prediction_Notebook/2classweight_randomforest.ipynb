{
 "cells": [
  {
   "cell_type": "markdown",
   "metadata": {},
   "source": [
    "# Carregando as bibliotecas"
   ]
  },
  {
   "cell_type": "code",
   "execution_count": 1,
   "metadata": {
    "execution": {
     "iopub.status.idle": "2020-05-26T21:25:53.638847Z",
     "shell.execute_reply": "2020-05-26T21:25:53.637847Z",
     "shell.execute_reply.started": "2020-05-26T21:25:51.315417Z"
    }
   },
   "outputs": [],
   "source": [
    "import pandas as pd\n",
    "import numpy as np\n",
    "import matplotlib.pyplot as plt\n",
    "import seaborn as sns"
   ]
  },
  {
   "cell_type": "markdown",
   "metadata": {},
   "source": [
    "# Configurações adicionais"
   ]
  },
  {
   "cell_type": "code",
   "execution_count": 2,
   "metadata": {
    "execution": {
     "iopub.execute_input": "2020-05-26T21:25:53.642849Z",
     "iopub.status.busy": "2020-05-26T21:25:53.641848Z",
     "iopub.status.idle": "2020-05-26T21:25:53.653842Z",
     "shell.execute_reply": "2020-05-26T21:25:53.652842Z",
     "shell.execute_reply.started": "2020-05-26T21:25:53.642849Z"
    }
   },
   "outputs": [],
   "source": [
    "plt.style.use(\"seaborn-muted\")\n",
    "%matplotlib inline\n",
    "pd.set_option('display.max_columns', None)"
   ]
  },
  {
   "cell_type": "markdown",
   "metadata": {},
   "source": [
    "# Carregando o banco de dados"
   ]
  },
  {
   "cell_type": "code",
   "execution_count": 3,
   "metadata": {
    "execution": {
     "iopub.execute_input": "2020-05-26T21:25:53.657842Z",
     "iopub.status.busy": "2020-05-26T21:25:53.656842Z",
     "iopub.status.idle": "2020-05-26T21:26:00.693109Z",
     "shell.execute_reply": "2020-05-26T21:26:00.692108Z",
     "shell.execute_reply.started": "2020-05-26T21:25:53.657842Z"
    }
   },
   "outputs": [],
   "source": [
    "banco = pd.read_csv(\"Training_Dataset_v2.csv\", low_memory = False)"
   ]
  },
  {
   "cell_type": "code",
   "execution_count": 4,
   "metadata": {
    "execution": {
     "iopub.execute_input": "2020-05-26T21:26:00.695108Z",
     "iopub.status.busy": "2020-05-26T21:26:00.695108Z",
     "iopub.status.idle": "2020-05-26T21:26:01.618882Z",
     "shell.execute_reply": "2020-05-26T21:26:01.617881Z",
     "shell.execute_reply.started": "2020-05-26T21:26:00.695108Z"
    }
   },
   "outputs": [
    {
     "name": "stdout",
     "output_type": "stream",
     "text": [
      "<class 'pandas.core.frame.DataFrame'>\n",
      "RangeIndex: 1687861 entries, 0 to 1687860\n",
      "Data columns (total 23 columns):\n",
      " #   Column             Non-Null Count    Dtype  \n",
      "---  ------             --------------    -----  \n",
      " 0   sku                1687861 non-null  object \n",
      " 1   national_inv       1687860 non-null  float64\n",
      " 2   lead_time          1586967 non-null  float64\n",
      " 3   in_transit_qty     1687860 non-null  float64\n",
      " 4   forecast_3_month   1687860 non-null  float64\n",
      " 5   forecast_6_month   1687860 non-null  float64\n",
      " 6   forecast_9_month   1687860 non-null  float64\n",
      " 7   sales_1_month      1687860 non-null  float64\n",
      " 8   sales_3_month      1687860 non-null  float64\n",
      " 9   sales_6_month      1687860 non-null  float64\n",
      " 10  sales_9_month      1687860 non-null  float64\n",
      " 11  min_bank           1687860 non-null  float64\n",
      " 12  potential_issue    1687860 non-null  object \n",
      " 13  pieces_past_due    1687860 non-null  float64\n",
      " 14  perf_6_month_avg   1687860 non-null  float64\n",
      " 15  perf_12_month_avg  1687860 non-null  float64\n",
      " 16  local_bo_qty       1687860 non-null  float64\n",
      " 17  deck_risk          1687860 non-null  object \n",
      " 18  oe_constraint      1687860 non-null  object \n",
      " 19  ppap_risk          1687860 non-null  object \n",
      " 20  stop_auto_buy      1687860 non-null  object \n",
      " 21  rev_stop           1687860 non-null  object \n",
      " 22  went_on_backorder  1687860 non-null  object \n",
      "dtypes: float64(15), object(8)\n",
      "memory usage: 296.2+ MB\n"
     ]
    }
   ],
   "source": [
    "banco.info()"
   ]
  },
  {
   "cell_type": "code",
   "execution_count": 5,
   "metadata": {
    "execution": {
     "iopub.execute_input": "2020-05-26T21:26:01.620881Z",
     "iopub.status.busy": "2020-05-26T21:26:01.619881Z",
     "iopub.status.idle": "2020-05-26T21:26:01.931804Z",
     "shell.execute_reply": "2020-05-26T21:26:01.930806Z",
     "shell.execute_reply.started": "2020-05-26T21:26:01.620881Z"
    }
   },
   "outputs": [],
   "source": [
    "from sklearn.tree import DecisionTreeClassifier # Import Decision Tree Classifier"
   ]
  },
  {
   "cell_type": "markdown",
   "metadata": {},
   "source": [
    "# Transformações nas variáveis"
   ]
  },
  {
   "cell_type": "markdown",
   "metadata": {},
   "source": [
    "## Retirando a variável sku"
   ]
  },
  {
   "cell_type": "code",
   "execution_count": 6,
   "metadata": {
    "execution": {
     "iopub.execute_input": "2020-05-26T21:26:01.932803Z",
     "iopub.status.busy": "2020-05-26T21:26:01.932803Z",
     "iopub.status.idle": "2020-05-26T21:26:02.474671Z",
     "shell.execute_reply": "2020-05-26T21:26:02.473671Z",
     "shell.execute_reply.started": "2020-05-26T21:26:01.932803Z"
    }
   },
   "outputs": [
    {
     "data": {
      "text/html": [
       "<div>\n",
       "<style scoped>\n",
       "    .dataframe tbody tr th:only-of-type {\n",
       "        vertical-align: middle;\n",
       "    }\n",
       "\n",
       "    .dataframe tbody tr th {\n",
       "        vertical-align: top;\n",
       "    }\n",
       "\n",
       "    .dataframe thead th {\n",
       "        text-align: right;\n",
       "    }\n",
       "</style>\n",
       "<table border=\"1\" class=\"dataframe\">\n",
       "  <thead>\n",
       "    <tr style=\"text-align: right;\">\n",
       "      <th></th>\n",
       "      <th>national_inv</th>\n",
       "      <th>lead_time</th>\n",
       "      <th>in_transit_qty</th>\n",
       "      <th>forecast_3_month</th>\n",
       "      <th>forecast_6_month</th>\n",
       "      <th>forecast_9_month</th>\n",
       "      <th>sales_1_month</th>\n",
       "      <th>sales_3_month</th>\n",
       "      <th>sales_6_month</th>\n",
       "      <th>sales_9_month</th>\n",
       "      <th>min_bank</th>\n",
       "      <th>potential_issue</th>\n",
       "      <th>pieces_past_due</th>\n",
       "      <th>perf_6_month_avg</th>\n",
       "      <th>perf_12_month_avg</th>\n",
       "      <th>local_bo_qty</th>\n",
       "      <th>deck_risk</th>\n",
       "      <th>oe_constraint</th>\n",
       "      <th>ppap_risk</th>\n",
       "      <th>stop_auto_buy</th>\n",
       "      <th>rev_stop</th>\n",
       "      <th>went_on_backorder</th>\n",
       "    </tr>\n",
       "  </thead>\n",
       "  <tbody>\n",
       "    <tr>\n",
       "      <th>0</th>\n",
       "      <td>0.0</td>\n",
       "      <td>NaN</td>\n",
       "      <td>0.0</td>\n",
       "      <td>0.0</td>\n",
       "      <td>0.0</td>\n",
       "      <td>0.0</td>\n",
       "      <td>0.0</td>\n",
       "      <td>0.0</td>\n",
       "      <td>0.0</td>\n",
       "      <td>0.0</td>\n",
       "      <td>0.0</td>\n",
       "      <td>No</td>\n",
       "      <td>0.0</td>\n",
       "      <td>-99.00</td>\n",
       "      <td>-99.00</td>\n",
       "      <td>0.0</td>\n",
       "      <td>No</td>\n",
       "      <td>No</td>\n",
       "      <td>No</td>\n",
       "      <td>Yes</td>\n",
       "      <td>No</td>\n",
       "      <td>No</td>\n",
       "    </tr>\n",
       "    <tr>\n",
       "      <th>1</th>\n",
       "      <td>2.0</td>\n",
       "      <td>9.0</td>\n",
       "      <td>0.0</td>\n",
       "      <td>0.0</td>\n",
       "      <td>0.0</td>\n",
       "      <td>0.0</td>\n",
       "      <td>0.0</td>\n",
       "      <td>0.0</td>\n",
       "      <td>0.0</td>\n",
       "      <td>0.0</td>\n",
       "      <td>0.0</td>\n",
       "      <td>No</td>\n",
       "      <td>0.0</td>\n",
       "      <td>0.99</td>\n",
       "      <td>0.99</td>\n",
       "      <td>0.0</td>\n",
       "      <td>No</td>\n",
       "      <td>No</td>\n",
       "      <td>No</td>\n",
       "      <td>Yes</td>\n",
       "      <td>No</td>\n",
       "      <td>No</td>\n",
       "    </tr>\n",
       "    <tr>\n",
       "      <th>2</th>\n",
       "      <td>2.0</td>\n",
       "      <td>NaN</td>\n",
       "      <td>0.0</td>\n",
       "      <td>0.0</td>\n",
       "      <td>0.0</td>\n",
       "      <td>0.0</td>\n",
       "      <td>0.0</td>\n",
       "      <td>0.0</td>\n",
       "      <td>0.0</td>\n",
       "      <td>0.0</td>\n",
       "      <td>0.0</td>\n",
       "      <td>No</td>\n",
       "      <td>0.0</td>\n",
       "      <td>-99.00</td>\n",
       "      <td>-99.00</td>\n",
       "      <td>0.0</td>\n",
       "      <td>Yes</td>\n",
       "      <td>No</td>\n",
       "      <td>No</td>\n",
       "      <td>Yes</td>\n",
       "      <td>No</td>\n",
       "      <td>No</td>\n",
       "    </tr>\n",
       "    <tr>\n",
       "      <th>3</th>\n",
       "      <td>7.0</td>\n",
       "      <td>8.0</td>\n",
       "      <td>0.0</td>\n",
       "      <td>0.0</td>\n",
       "      <td>0.0</td>\n",
       "      <td>0.0</td>\n",
       "      <td>0.0</td>\n",
       "      <td>0.0</td>\n",
       "      <td>0.0</td>\n",
       "      <td>0.0</td>\n",
       "      <td>1.0</td>\n",
       "      <td>No</td>\n",
       "      <td>0.0</td>\n",
       "      <td>0.10</td>\n",
       "      <td>0.13</td>\n",
       "      <td>0.0</td>\n",
       "      <td>No</td>\n",
       "      <td>No</td>\n",
       "      <td>No</td>\n",
       "      <td>Yes</td>\n",
       "      <td>No</td>\n",
       "      <td>No</td>\n",
       "    </tr>\n",
       "    <tr>\n",
       "      <th>4</th>\n",
       "      <td>8.0</td>\n",
       "      <td>NaN</td>\n",
       "      <td>0.0</td>\n",
       "      <td>0.0</td>\n",
       "      <td>0.0</td>\n",
       "      <td>0.0</td>\n",
       "      <td>0.0</td>\n",
       "      <td>0.0</td>\n",
       "      <td>0.0</td>\n",
       "      <td>4.0</td>\n",
       "      <td>2.0</td>\n",
       "      <td>No</td>\n",
       "      <td>0.0</td>\n",
       "      <td>-99.00</td>\n",
       "      <td>-99.00</td>\n",
       "      <td>0.0</td>\n",
       "      <td>Yes</td>\n",
       "      <td>No</td>\n",
       "      <td>No</td>\n",
       "      <td>Yes</td>\n",
       "      <td>No</td>\n",
       "      <td>No</td>\n",
       "    </tr>\n",
       "  </tbody>\n",
       "</table>\n",
       "</div>"
      ],
      "text/plain": [
       "   national_inv  lead_time  in_transit_qty  forecast_3_month  \\\n",
       "0           0.0        NaN             0.0               0.0   \n",
       "1           2.0        9.0             0.0               0.0   \n",
       "2           2.0        NaN             0.0               0.0   \n",
       "3           7.0        8.0             0.0               0.0   \n",
       "4           8.0        NaN             0.0               0.0   \n",
       "\n",
       "   forecast_6_month  forecast_9_month  sales_1_month  sales_3_month  \\\n",
       "0               0.0               0.0            0.0            0.0   \n",
       "1               0.0               0.0            0.0            0.0   \n",
       "2               0.0               0.0            0.0            0.0   \n",
       "3               0.0               0.0            0.0            0.0   \n",
       "4               0.0               0.0            0.0            0.0   \n",
       "\n",
       "   sales_6_month  sales_9_month  min_bank potential_issue  pieces_past_due  \\\n",
       "0            0.0            0.0       0.0              No              0.0   \n",
       "1            0.0            0.0       0.0              No              0.0   \n",
       "2            0.0            0.0       0.0              No              0.0   \n",
       "3            0.0            0.0       1.0              No              0.0   \n",
       "4            0.0            4.0       2.0              No              0.0   \n",
       "\n",
       "   perf_6_month_avg  perf_12_month_avg  local_bo_qty deck_risk oe_constraint  \\\n",
       "0            -99.00             -99.00           0.0        No            No   \n",
       "1              0.99               0.99           0.0        No            No   \n",
       "2            -99.00             -99.00           0.0       Yes            No   \n",
       "3              0.10               0.13           0.0        No            No   \n",
       "4            -99.00             -99.00           0.0       Yes            No   \n",
       "\n",
       "  ppap_risk stop_auto_buy rev_stop went_on_backorder  \n",
       "0        No           Yes       No                No  \n",
       "1        No           Yes       No                No  \n",
       "2        No           Yes       No                No  \n",
       "3        No           Yes       No                No  \n",
       "4        No           Yes       No                No  "
      ]
     },
     "execution_count": 6,
     "metadata": {},
     "output_type": "execute_result"
    }
   ],
   "source": [
    "banco = banco.drop(\"sku\", axis = 1)\n",
    "\n",
    "banco.head()"
   ]
  },
  {
   "cell_type": "markdown",
   "metadata": {},
   "source": [
    "## Lidando com os valores NaN\n",
    "\n",
    "- Nenhum ganho absurdo de diferença inputando a média, mediana ou moda (a mesma nos dá score parecidos);\n",
    "- O melhor ganho, foi dropando os NAs e utilizando a estratégia de colocar o 999 no lugar deles.\n",
    "    - A variável lead_time teve uma maior importância (0.03466);\n",
    "    - O **recall** (nos dá informações sobre falsos negativos, de todos os exemplos que realmente são verdadeiros, o quanto meu modelo meu modelo previu corretamente), métrica que queremos maximizar, teve o valor de 0.51"
   ]
  },
  {
   "cell_type": "code",
   "execution_count": 7,
   "metadata": {
    "execution": {
     "iopub.execute_input": "2020-05-26T21:26:02.476670Z",
     "iopub.status.busy": "2020-05-26T21:26:02.476670Z",
     "iopub.status.idle": "2020-05-26T21:26:03.290469Z",
     "shell.execute_reply": "2020-05-26T21:26:03.289470Z",
     "shell.execute_reply.started": "2020-05-26T21:26:02.476670Z"
    }
   },
   "outputs": [
    {
     "data": {
      "text/plain": [
       "national_inv              1\n",
       "lead_time            100894\n",
       "in_transit_qty            1\n",
       "forecast_3_month          1\n",
       "forecast_6_month          1\n",
       "forecast_9_month          1\n",
       "sales_1_month             1\n",
       "sales_3_month             1\n",
       "sales_6_month             1\n",
       "sales_9_month             1\n",
       "min_bank                  1\n",
       "potential_issue           1\n",
       "pieces_past_due           1\n",
       "perf_6_month_avg          1\n",
       "perf_12_month_avg         1\n",
       "local_bo_qty              1\n",
       "deck_risk                 1\n",
       "oe_constraint             1\n",
       "ppap_risk                 1\n",
       "stop_auto_buy             1\n",
       "rev_stop                  1\n",
       "went_on_backorder         1\n",
       "dtype: int64"
      ]
     },
     "execution_count": 7,
     "metadata": {},
     "output_type": "execute_result"
    }
   ],
   "source": [
    "banco.isnull().sum()"
   ]
  },
  {
   "cell_type": "code",
   "execution_count": 8,
   "metadata": {
    "execution": {
     "iopub.execute_input": "2020-05-26T21:26:03.293470Z",
     "iopub.status.busy": "2020-05-26T21:26:03.292469Z",
     "iopub.status.idle": "2020-05-26T21:26:03.443433Z",
     "shell.execute_reply": "2020-05-26T21:26:03.441434Z",
     "shell.execute_reply.started": "2020-05-26T21:26:03.293470Z"
    }
   },
   "outputs": [
    {
     "data": {
      "text/html": [
       "<div>\n",
       "<style scoped>\n",
       "    .dataframe tbody tr th:only-of-type {\n",
       "        vertical-align: middle;\n",
       "    }\n",
       "\n",
       "    .dataframe tbody tr th {\n",
       "        vertical-align: top;\n",
       "    }\n",
       "\n",
       "    .dataframe thead th {\n",
       "        text-align: right;\n",
       "    }\n",
       "</style>\n",
       "<table border=\"1\" class=\"dataframe\">\n",
       "  <thead>\n",
       "    <tr style=\"text-align: right;\">\n",
       "      <th></th>\n",
       "      <th>national_inv</th>\n",
       "      <th>lead_time</th>\n",
       "      <th>in_transit_qty</th>\n",
       "      <th>forecast_3_month</th>\n",
       "      <th>forecast_6_month</th>\n",
       "      <th>forecast_9_month</th>\n",
       "      <th>sales_1_month</th>\n",
       "      <th>sales_3_month</th>\n",
       "      <th>sales_6_month</th>\n",
       "      <th>sales_9_month</th>\n",
       "      <th>min_bank</th>\n",
       "      <th>potential_issue</th>\n",
       "      <th>pieces_past_due</th>\n",
       "      <th>perf_6_month_avg</th>\n",
       "      <th>perf_12_month_avg</th>\n",
       "      <th>local_bo_qty</th>\n",
       "      <th>deck_risk</th>\n",
       "      <th>oe_constraint</th>\n",
       "      <th>ppap_risk</th>\n",
       "      <th>stop_auto_buy</th>\n",
       "      <th>rev_stop</th>\n",
       "      <th>went_on_backorder</th>\n",
       "    </tr>\n",
       "  </thead>\n",
       "  <tbody>\n",
       "    <tr>\n",
       "      <th>1687855</th>\n",
       "      <td>0.0</td>\n",
       "      <td>2.0</td>\n",
       "      <td>0.0</td>\n",
       "      <td>10.0</td>\n",
       "      <td>10.0</td>\n",
       "      <td>10.0</td>\n",
       "      <td>0.0</td>\n",
       "      <td>5.0</td>\n",
       "      <td>7.0</td>\n",
       "      <td>7.0</td>\n",
       "      <td>0.0</td>\n",
       "      <td>No</td>\n",
       "      <td>0.0</td>\n",
       "      <td>0.69</td>\n",
       "      <td>0.69</td>\n",
       "      <td>5.0</td>\n",
       "      <td>Yes</td>\n",
       "      <td>No</td>\n",
       "      <td>No</td>\n",
       "      <td>Yes</td>\n",
       "      <td>No</td>\n",
       "      <td>No</td>\n",
       "    </tr>\n",
       "    <tr>\n",
       "      <th>1687856</th>\n",
       "      <td>-1.0</td>\n",
       "      <td>999.0</td>\n",
       "      <td>0.0</td>\n",
       "      <td>5.0</td>\n",
       "      <td>7.0</td>\n",
       "      <td>9.0</td>\n",
       "      <td>1.0</td>\n",
       "      <td>3.0</td>\n",
       "      <td>3.0</td>\n",
       "      <td>8.0</td>\n",
       "      <td>0.0</td>\n",
       "      <td>No</td>\n",
       "      <td>0.0</td>\n",
       "      <td>-99.00</td>\n",
       "      <td>-99.00</td>\n",
       "      <td>1.0</td>\n",
       "      <td>No</td>\n",
       "      <td>No</td>\n",
       "      <td>No</td>\n",
       "      <td>Yes</td>\n",
       "      <td>No</td>\n",
       "      <td>No</td>\n",
       "    </tr>\n",
       "    <tr>\n",
       "      <th>1687857</th>\n",
       "      <td>-1.0</td>\n",
       "      <td>9.0</td>\n",
       "      <td>0.0</td>\n",
       "      <td>7.0</td>\n",
       "      <td>9.0</td>\n",
       "      <td>11.0</td>\n",
       "      <td>0.0</td>\n",
       "      <td>8.0</td>\n",
       "      <td>11.0</td>\n",
       "      <td>12.0</td>\n",
       "      <td>0.0</td>\n",
       "      <td>No</td>\n",
       "      <td>0.0</td>\n",
       "      <td>0.86</td>\n",
       "      <td>0.84</td>\n",
       "      <td>1.0</td>\n",
       "      <td>Yes</td>\n",
       "      <td>No</td>\n",
       "      <td>No</td>\n",
       "      <td>No</td>\n",
       "      <td>No</td>\n",
       "      <td>Yes</td>\n",
       "    </tr>\n",
       "    <tr>\n",
       "      <th>1687858</th>\n",
       "      <td>62.0</td>\n",
       "      <td>9.0</td>\n",
       "      <td>16.0</td>\n",
       "      <td>39.0</td>\n",
       "      <td>87.0</td>\n",
       "      <td>126.0</td>\n",
       "      <td>35.0</td>\n",
       "      <td>63.0</td>\n",
       "      <td>153.0</td>\n",
       "      <td>205.0</td>\n",
       "      <td>12.0</td>\n",
       "      <td>No</td>\n",
       "      <td>0.0</td>\n",
       "      <td>0.86</td>\n",
       "      <td>0.84</td>\n",
       "      <td>6.0</td>\n",
       "      <td>No</td>\n",
       "      <td>No</td>\n",
       "      <td>No</td>\n",
       "      <td>Yes</td>\n",
       "      <td>No</td>\n",
       "      <td>No</td>\n",
       "    </tr>\n",
       "    <tr>\n",
       "      <th>1687859</th>\n",
       "      <td>19.0</td>\n",
       "      <td>4.0</td>\n",
       "      <td>0.0</td>\n",
       "      <td>0.0</td>\n",
       "      <td>0.0</td>\n",
       "      <td>0.0</td>\n",
       "      <td>2.0</td>\n",
       "      <td>7.0</td>\n",
       "      <td>12.0</td>\n",
       "      <td>20.0</td>\n",
       "      <td>1.0</td>\n",
       "      <td>No</td>\n",
       "      <td>0.0</td>\n",
       "      <td>0.73</td>\n",
       "      <td>0.78</td>\n",
       "      <td>1.0</td>\n",
       "      <td>No</td>\n",
       "      <td>No</td>\n",
       "      <td>No</td>\n",
       "      <td>Yes</td>\n",
       "      <td>No</td>\n",
       "      <td>No</td>\n",
       "    </tr>\n",
       "  </tbody>\n",
       "</table>\n",
       "</div>"
      ],
      "text/plain": [
       "         national_inv  lead_time  in_transit_qty  forecast_3_month  \\\n",
       "1687855           0.0        2.0             0.0              10.0   \n",
       "1687856          -1.0      999.0             0.0               5.0   \n",
       "1687857          -1.0        9.0             0.0               7.0   \n",
       "1687858          62.0        9.0            16.0              39.0   \n",
       "1687859          19.0        4.0             0.0               0.0   \n",
       "\n",
       "         forecast_6_month  forecast_9_month  sales_1_month  sales_3_month  \\\n",
       "1687855              10.0              10.0            0.0            5.0   \n",
       "1687856               7.0               9.0            1.0            3.0   \n",
       "1687857               9.0              11.0            0.0            8.0   \n",
       "1687858              87.0             126.0           35.0           63.0   \n",
       "1687859               0.0               0.0            2.0            7.0   \n",
       "\n",
       "         sales_6_month  sales_9_month  min_bank potential_issue  \\\n",
       "1687855            7.0            7.0       0.0              No   \n",
       "1687856            3.0            8.0       0.0              No   \n",
       "1687857           11.0           12.0       0.0              No   \n",
       "1687858          153.0          205.0      12.0              No   \n",
       "1687859           12.0           20.0       1.0              No   \n",
       "\n",
       "         pieces_past_due  perf_6_month_avg  perf_12_month_avg  local_bo_qty  \\\n",
       "1687855              0.0              0.69               0.69           5.0   \n",
       "1687856              0.0            -99.00             -99.00           1.0   \n",
       "1687857              0.0              0.86               0.84           1.0   \n",
       "1687858              0.0              0.86               0.84           6.0   \n",
       "1687859              0.0              0.73               0.78           1.0   \n",
       "\n",
       "        deck_risk oe_constraint ppap_risk stop_auto_buy rev_stop  \\\n",
       "1687855       Yes            No        No           Yes       No   \n",
       "1687856        No            No        No           Yes       No   \n",
       "1687857       Yes            No        No            No       No   \n",
       "1687858        No            No        No           Yes       No   \n",
       "1687859        No            No        No           Yes       No   \n",
       "\n",
       "        went_on_backorder  \n",
       "1687855                No  \n",
       "1687856                No  \n",
       "1687857               Yes  \n",
       "1687858                No  \n",
       "1687859                No  "
      ]
     },
     "execution_count": 8,
     "metadata": {},
     "output_type": "execute_result"
    }
   ],
   "source": [
    "#--- Para comentar as linhas: Ctrl + \"/\" (teclado numérico)\n",
    "\n",
    "#--- Dropando todas\n",
    "\n",
    "\n",
    "# banco = banco.dropna()\n",
    "\n",
    "#--------------------------------------------------------------------\n",
    "\n",
    "#--- Excluindo a última linha e imputando média na variável lead_time\n",
    "\n",
    "# banco = banco[: -1] \n",
    "\n",
    "# banco[\"lead_time\"] = banco[\"lead_time\"].fillna(banco[\"lead_time\"].mean())\n",
    "\n",
    "#--------------------------------------------------------------------\n",
    "\n",
    "#--- Excluindo a última linha e imputando média na variável lead_time\n",
    "\n",
    "# banco = banco[: -1] \n",
    "\n",
    "# banco[\"lead_time\"] = banco[\"lead_time\"].fillna(banco[\"lead_time\"].median())\n",
    "\n",
    "#--------------------------------------------------------------------\n",
    "\n",
    "#--- Excluindo a última linha e imputando a moda na variável lead_time\n",
    "\n",
    "# banco = banco[: -1] \n",
    "\n",
    "# banco[\"lead_time\"] = banco[\"lead_time\"].fillna(banco[\"lead_time\"].mode()[0])\n",
    "\n",
    "#--------------------------------------------------------------------\n",
    "\n",
    "#--- Excluindo a última linha e imputando o 0 na variável lead_time\n",
    "\n",
    "banco = banco[: -1] \n",
    "\n",
    "banco[\"lead_time\"] = banco[\"lead_time\"].fillna(999)\n",
    "\n",
    "banco.tail()"
   ]
  },
  {
   "cell_type": "markdown",
   "metadata": {},
   "source": [
    "## Recodificando variáveis qualitativas para quantitativas"
   ]
  },
  {
   "cell_type": "code",
   "execution_count": 9,
   "metadata": {
    "execution": {
     "iopub.execute_input": "2020-05-26T21:26:03.451430Z",
     "iopub.status.busy": "2020-05-26T21:26:03.449431Z",
     "iopub.status.idle": "2020-05-26T21:26:09.512938Z",
     "shell.execute_reply": "2020-05-26T21:26:09.510939Z",
     "shell.execute_reply.started": "2020-05-26T21:26:03.451430Z"
    }
   },
   "outputs": [
    {
     "data": {
      "text/html": [
       "<div>\n",
       "<style scoped>\n",
       "    .dataframe tbody tr th:only-of-type {\n",
       "        vertical-align: middle;\n",
       "    }\n",
       "\n",
       "    .dataframe tbody tr th {\n",
       "        vertical-align: top;\n",
       "    }\n",
       "\n",
       "    .dataframe thead th {\n",
       "        text-align: right;\n",
       "    }\n",
       "</style>\n",
       "<table border=\"1\" class=\"dataframe\">\n",
       "  <thead>\n",
       "    <tr style=\"text-align: right;\">\n",
       "      <th></th>\n",
       "      <th>national_inv</th>\n",
       "      <th>lead_time</th>\n",
       "      <th>in_transit_qty</th>\n",
       "      <th>forecast_3_month</th>\n",
       "      <th>forecast_6_month</th>\n",
       "      <th>forecast_9_month</th>\n",
       "      <th>sales_1_month</th>\n",
       "      <th>sales_3_month</th>\n",
       "      <th>sales_6_month</th>\n",
       "      <th>sales_9_month</th>\n",
       "      <th>min_bank</th>\n",
       "      <th>potential_issue</th>\n",
       "      <th>pieces_past_due</th>\n",
       "      <th>perf_6_month_avg</th>\n",
       "      <th>perf_12_month_avg</th>\n",
       "      <th>local_bo_qty</th>\n",
       "      <th>deck_risk</th>\n",
       "      <th>oe_constraint</th>\n",
       "      <th>ppap_risk</th>\n",
       "      <th>stop_auto_buy</th>\n",
       "      <th>rev_stop</th>\n",
       "      <th>went_on_backorder</th>\n",
       "    </tr>\n",
       "  </thead>\n",
       "  <tbody>\n",
       "    <tr>\n",
       "      <th>0</th>\n",
       "      <td>0.0</td>\n",
       "      <td>999.0</td>\n",
       "      <td>0.0</td>\n",
       "      <td>0.0</td>\n",
       "      <td>0.0</td>\n",
       "      <td>0.0</td>\n",
       "      <td>0.0</td>\n",
       "      <td>0.0</td>\n",
       "      <td>0.0</td>\n",
       "      <td>0.0</td>\n",
       "      <td>0.0</td>\n",
       "      <td>0</td>\n",
       "      <td>0.0</td>\n",
       "      <td>-99.00</td>\n",
       "      <td>-99.00</td>\n",
       "      <td>0.0</td>\n",
       "      <td>0</td>\n",
       "      <td>0</td>\n",
       "      <td>0</td>\n",
       "      <td>1</td>\n",
       "      <td>0</td>\n",
       "      <td>0</td>\n",
       "    </tr>\n",
       "    <tr>\n",
       "      <th>1</th>\n",
       "      <td>2.0</td>\n",
       "      <td>9.0</td>\n",
       "      <td>0.0</td>\n",
       "      <td>0.0</td>\n",
       "      <td>0.0</td>\n",
       "      <td>0.0</td>\n",
       "      <td>0.0</td>\n",
       "      <td>0.0</td>\n",
       "      <td>0.0</td>\n",
       "      <td>0.0</td>\n",
       "      <td>0.0</td>\n",
       "      <td>0</td>\n",
       "      <td>0.0</td>\n",
       "      <td>0.99</td>\n",
       "      <td>0.99</td>\n",
       "      <td>0.0</td>\n",
       "      <td>0</td>\n",
       "      <td>0</td>\n",
       "      <td>0</td>\n",
       "      <td>1</td>\n",
       "      <td>0</td>\n",
       "      <td>0</td>\n",
       "    </tr>\n",
       "    <tr>\n",
       "      <th>2</th>\n",
       "      <td>2.0</td>\n",
       "      <td>999.0</td>\n",
       "      <td>0.0</td>\n",
       "      <td>0.0</td>\n",
       "      <td>0.0</td>\n",
       "      <td>0.0</td>\n",
       "      <td>0.0</td>\n",
       "      <td>0.0</td>\n",
       "      <td>0.0</td>\n",
       "      <td>0.0</td>\n",
       "      <td>0.0</td>\n",
       "      <td>0</td>\n",
       "      <td>0.0</td>\n",
       "      <td>-99.00</td>\n",
       "      <td>-99.00</td>\n",
       "      <td>0.0</td>\n",
       "      <td>1</td>\n",
       "      <td>0</td>\n",
       "      <td>0</td>\n",
       "      <td>1</td>\n",
       "      <td>0</td>\n",
       "      <td>0</td>\n",
       "    </tr>\n",
       "    <tr>\n",
       "      <th>3</th>\n",
       "      <td>7.0</td>\n",
       "      <td>8.0</td>\n",
       "      <td>0.0</td>\n",
       "      <td>0.0</td>\n",
       "      <td>0.0</td>\n",
       "      <td>0.0</td>\n",
       "      <td>0.0</td>\n",
       "      <td>0.0</td>\n",
       "      <td>0.0</td>\n",
       "      <td>0.0</td>\n",
       "      <td>1.0</td>\n",
       "      <td>0</td>\n",
       "      <td>0.0</td>\n",
       "      <td>0.10</td>\n",
       "      <td>0.13</td>\n",
       "      <td>0.0</td>\n",
       "      <td>0</td>\n",
       "      <td>0</td>\n",
       "      <td>0</td>\n",
       "      <td>1</td>\n",
       "      <td>0</td>\n",
       "      <td>0</td>\n",
       "    </tr>\n",
       "    <tr>\n",
       "      <th>4</th>\n",
       "      <td>8.0</td>\n",
       "      <td>999.0</td>\n",
       "      <td>0.0</td>\n",
       "      <td>0.0</td>\n",
       "      <td>0.0</td>\n",
       "      <td>0.0</td>\n",
       "      <td>0.0</td>\n",
       "      <td>0.0</td>\n",
       "      <td>0.0</td>\n",
       "      <td>4.0</td>\n",
       "      <td>2.0</td>\n",
       "      <td>0</td>\n",
       "      <td>0.0</td>\n",
       "      <td>-99.00</td>\n",
       "      <td>-99.00</td>\n",
       "      <td>0.0</td>\n",
       "      <td>1</td>\n",
       "      <td>0</td>\n",
       "      <td>0</td>\n",
       "      <td>1</td>\n",
       "      <td>0</td>\n",
       "      <td>0</td>\n",
       "    </tr>\n",
       "  </tbody>\n",
       "</table>\n",
       "</div>"
      ],
      "text/plain": [
       "   national_inv  lead_time  in_transit_qty  forecast_3_month  \\\n",
       "0           0.0      999.0             0.0               0.0   \n",
       "1           2.0        9.0             0.0               0.0   \n",
       "2           2.0      999.0             0.0               0.0   \n",
       "3           7.0        8.0             0.0               0.0   \n",
       "4           8.0      999.0             0.0               0.0   \n",
       "\n",
       "   forecast_6_month  forecast_9_month  sales_1_month  sales_3_month  \\\n",
       "0               0.0               0.0            0.0            0.0   \n",
       "1               0.0               0.0            0.0            0.0   \n",
       "2               0.0               0.0            0.0            0.0   \n",
       "3               0.0               0.0            0.0            0.0   \n",
       "4               0.0               0.0            0.0            0.0   \n",
       "\n",
       "   sales_6_month  sales_9_month  min_bank  potential_issue  pieces_past_due  \\\n",
       "0            0.0            0.0       0.0                0              0.0   \n",
       "1            0.0            0.0       0.0                0              0.0   \n",
       "2            0.0            0.0       0.0                0              0.0   \n",
       "3            0.0            0.0       1.0                0              0.0   \n",
       "4            0.0            4.0       2.0                0              0.0   \n",
       "\n",
       "   perf_6_month_avg  perf_12_month_avg  local_bo_qty  deck_risk  \\\n",
       "0            -99.00             -99.00           0.0          0   \n",
       "1              0.99               0.99           0.0          0   \n",
       "2            -99.00             -99.00           0.0          1   \n",
       "3              0.10               0.13           0.0          0   \n",
       "4            -99.00             -99.00           0.0          1   \n",
       "\n",
       "   oe_constraint  ppap_risk  stop_auto_buy  rev_stop  went_on_backorder  \n",
       "0              0          0              1         0                  0  \n",
       "1              0          0              1         0                  0  \n",
       "2              0          0              1         0                  0  \n",
       "3              0          0              1         0                  0  \n",
       "4              0          0              1         0                  0  "
      ]
     },
     "execution_count": 9,
     "metadata": {},
     "output_type": "execute_result"
    }
   ],
   "source": [
    "columns_yesno = [\"potential_issue\", \"deck_risk\", \"oe_constraint\", \"ppap_risk\", \"stop_auto_buy\", \"rev_stop\", \"went_on_backorder\"]\n",
    "\n",
    "banco[columns_yesno] = banco[columns_yesno].replace({\"No\" : 0, \"Yes\": 1})\n",
    "\n",
    "banco.head()"
   ]
  },
  {
   "cell_type": "markdown",
   "metadata": {},
   "source": [
    "## Criando novas features"
   ]
  },
  {
   "cell_type": "code",
   "execution_count": 10,
   "metadata": {
    "execution": {
     "iopub.execute_input": "2020-05-26T21:26:09.517937Z",
     "iopub.status.busy": "2020-05-26T21:26:09.516937Z",
     "iopub.status.idle": "2020-05-26T21:26:10.413716Z",
     "shell.execute_reply": "2020-05-26T21:26:10.412715Z",
     "shell.execute_reply.started": "2020-05-26T21:26:09.517937Z"
    }
   },
   "outputs": [],
   "source": [
    "#--- Boa variável\n",
    "\n",
    "banco[\"national_inv_poly2\"] = banco[\"national_inv\"] ** 2\n",
    "\n",
    "#--- Variável ok\n",
    "\n",
    "# banco[\"national_inv_qual\"] = banco[\"national_inv\"].map(lambda x: 0 if x < 0 else 1)\n",
    "\n",
    "#--- Média entre as variáveis perf_X_month (boa)\n",
    "\n",
    "banco[\"perf_month_avg\"] = banco[[\"perf_6_month_avg\", \"perf_12_month_avg\"]].mean(axis=1)"
   ]
  },
  {
   "cell_type": "markdown",
   "metadata": {},
   "source": [
    "## Separando em treino e teste"
   ]
  },
  {
   "cell_type": "code",
   "execution_count": 11,
   "metadata": {
    "execution": {
     "iopub.execute_input": "2020-05-26T21:26:10.415715Z",
     "iopub.status.busy": "2020-05-26T21:26:10.415715Z",
     "iopub.status.idle": "2020-05-26T21:26:13.444968Z",
     "shell.execute_reply": "2020-05-26T21:26:13.443968Z",
     "shell.execute_reply.started": "2020-05-26T21:26:10.415715Z"
    }
   },
   "outputs": [],
   "source": [
    "from sklearn.model_selection import train_test_split\n",
    "\n",
    "\n",
    "x_treino, x_teste, y_treino, y_teste = train_test_split(banco.drop(\"went_on_backorder\", axis = 1), banco[\"went_on_backorder\"], train_size = 0.7, random_state = 1234, stratify = banco[\"went_on_backorder\"])"
   ]
  },
  {
   "cell_type": "code",
   "execution_count": 12,
   "metadata": {
    "execution": {
     "iopub.execute_input": "2020-05-26T21:26:13.446968Z",
     "iopub.status.busy": "2020-05-26T21:26:13.445968Z",
     "iopub.status.idle": "2020-05-26T21:26:13.475962Z",
     "shell.execute_reply": "2020-05-26T21:26:13.470965Z",
     "shell.execute_reply.started": "2020-05-26T21:26:13.445968Z"
    }
   },
   "outputs": [
    {
     "name": "stdout",
     "output_type": "stream",
     "text": [
      "(1181502, 23) (1181502,) (506358, 23) (506358,)\n"
     ]
    }
   ],
   "source": [
    "print(x_treino.shape, y_treino.shape, x_teste.shape, y_teste.shape)"
   ]
  },
  {
   "cell_type": "code",
   "execution_count": 13,
   "metadata": {
    "execution": {
     "iopub.execute_input": "2020-05-26T21:26:13.480962Z",
     "iopub.status.busy": "2020-05-26T21:26:13.479962Z",
     "iopub.status.idle": "2020-05-26T21:26:13.580937Z",
     "shell.execute_reply": "2020-05-26T21:26:13.579937Z",
     "shell.execute_reply.started": "2020-05-26T21:26:13.480962Z"
    }
   },
   "outputs": [
    {
     "name": "stdout",
     "output_type": "stream",
     "text": [
      "---------------------------------------------\n",
      "Proporção da variável target nos dados de treino:\n",
      " 0    0.993309\n",
      "1    0.006691\n",
      "Name: went_on_backorder, dtype: float64\n",
      "---------------------------------------------\n",
      "Proporção da variável target nos dados de treino:\n",
      " 0    0.993309\n",
      "1    0.006691\n",
      "Name: went_on_backorder, dtype: float64\n"
     ]
    }
   ],
   "source": [
    "print(15*\"---\")\n",
    "\n",
    "print(\"Proporção da variável target nos dados de treino:\\n\", y_treino.value_counts(normalize = True))\n",
    "\n",
    "print(15*\"---\")\n",
    "\n",
    "print(\"Proporção da variável target nos dados de treino:\\n\", y_teste.value_counts(normalize = True))"
   ]
  },
  {
   "cell_type": "code",
   "execution_count": 14,
   "metadata": {
    "execution": {
     "iopub.execute_input": "2020-05-26T21:26:13.584935Z",
     "iopub.status.busy": "2020-05-26T21:26:13.582936Z",
     "iopub.status.idle": "2020-05-26T21:26:13.915853Z",
     "shell.execute_reply": "2020-05-26T21:26:13.914853Z",
     "shell.execute_reply.started": "2020-05-26T21:26:13.584935Z"
    }
   },
   "outputs": [
    {
     "data": {
      "text/plain": [
       "array([ 0.50336785, 74.7313093 ])"
      ]
     },
     "execution_count": 14,
     "metadata": {},
     "output_type": "execute_result"
    }
   ],
   "source": [
    "from sklearn.utils import class_weight\n",
    "\n",
    "class_weights1 = class_weight.compute_class_weight('balanced',\n",
    "                                                 np.unique(y_treino),\n",
    "                                                 y_treino)\n",
    "\n",
    "class_weights1"
   ]
  },
  {
   "cell_type": "markdown",
   "metadata": {},
   "source": [
    "# Random forest"
   ]
  },
  {
   "cell_type": "code",
   "execution_count": 15,
   "metadata": {
    "execution": {
     "iopub.execute_input": "2020-05-26T21:26:13.917854Z",
     "iopub.status.busy": "2020-05-26T21:26:13.917854Z",
     "iopub.status.idle": "2020-05-26T21:34:03.853125Z",
     "shell.execute_reply": "2020-05-26T21:34:03.852126Z",
     "shell.execute_reply.started": "2020-05-26T21:26:13.917854Z"
    }
   },
   "outputs": [
    {
     "name": "stdout",
     "output_type": "stream",
     "text": [
      "Wall time: 7min 49s\n"
     ]
    }
   ],
   "source": [
    "%%time\n",
    "\n",
    "from sklearn.ensemble import RandomForestClassifier\n",
    "\n",
    "\n",
    "rfc = RandomForestClassifier(n_estimators = 100, \n",
    "                             class_weight = {0: 0.5034, 1: 74.73}, \n",
    "                             random_state = 1234, \n",
    "                             min_samples_leaf = 5, \n",
    "                             min_samples_split = 5,\n",
    "                             max_depth = None)\n",
    "\n",
    "rfc.fit(x_treino, y_treino)\n",
    "\n",
    "y_pred = rfc.predict(x_teste)"
   ]
  },
  {
   "cell_type": "markdown",
   "metadata": {},
   "source": [
    "# Métricas a serem avaliadas\n"
   ]
  },
  {
   "cell_type": "code",
   "execution_count": 16,
   "metadata": {
    "execution": {
     "iopub.execute_input": "2020-05-26T21:34:03.855126Z",
     "iopub.status.busy": "2020-05-26T21:34:03.855126Z",
     "iopub.status.idle": "2020-05-26T21:34:03.953102Z",
     "shell.execute_reply": "2020-05-26T21:34:03.952101Z",
     "shell.execute_reply.started": "2020-05-26T21:34:03.855126Z"
    }
   },
   "outputs": [
    {
     "name": "stdout",
     "output_type": "stream",
     "text": [
      "Accuracy: 0.9903408260558735\n"
     ]
    }
   ],
   "source": [
    "from sklearn.metrics import accuracy_score\n",
    "\n",
    "acc = accuracy_score(y_teste, y_pred)\n",
    "\n",
    "print(\"Accuracy:\", acc)"
   ]
  },
  {
   "cell_type": "code",
   "execution_count": 17,
   "metadata": {
    "execution": {
     "iopub.execute_input": "2020-05-26T21:34:03.959100Z",
     "iopub.status.busy": "2020-05-26T21:34:03.957101Z",
     "iopub.status.idle": "2020-05-26T21:34:04.499966Z",
     "shell.execute_reply": "2020-05-26T21:34:04.498965Z",
     "shell.execute_reply.started": "2020-05-26T21:34:03.959100Z"
    }
   },
   "outputs": [
    {
     "name": "stdout",
     "output_type": "stream",
     "text": [
      "[[499699   3271]\n",
      " [  1620   1768]]\n"
     ]
    }
   ],
   "source": [
    "from sklearn.metrics import confusion_matrix\n",
    "\n",
    "print(confusion_matrix(y_teste, y_pred))"
   ]
  },
  {
   "cell_type": "code",
   "execution_count": 18,
   "metadata": {
    "execution": {
     "iopub.execute_input": "2020-05-26T21:34:04.501967Z",
     "iopub.status.busy": "2020-05-26T21:34:04.500966Z",
     "iopub.status.idle": "2020-05-26T21:34:04.875874Z",
     "shell.execute_reply": "2020-05-26T21:34:04.874873Z",
     "shell.execute_reply.started": "2020-05-26T21:34:04.501967Z"
    }
   },
   "outputs": [
    {
     "data": {
      "text/html": [
       "<div>\n",
       "<style scoped>\n",
       "    .dataframe tbody tr th:only-of-type {\n",
       "        vertical-align: middle;\n",
       "    }\n",
       "\n",
       "    .dataframe tbody tr th {\n",
       "        vertical-align: top;\n",
       "    }\n",
       "\n",
       "    .dataframe thead th {\n",
       "        text-align: right;\n",
       "    }\n",
       "</style>\n",
       "<table border=\"1\" class=\"dataframe\">\n",
       "  <thead>\n",
       "    <tr style=\"text-align: right;\">\n",
       "      <th>Predicted</th>\n",
       "      <th>0</th>\n",
       "      <th>1</th>\n",
       "      <th>All</th>\n",
       "    </tr>\n",
       "    <tr>\n",
       "      <th>True</th>\n",
       "      <th></th>\n",
       "      <th></th>\n",
       "      <th></th>\n",
       "    </tr>\n",
       "  </thead>\n",
       "  <tbody>\n",
       "    <tr>\n",
       "      <th>0</th>\n",
       "      <td>499699</td>\n",
       "      <td>3271</td>\n",
       "      <td>502970</td>\n",
       "    </tr>\n",
       "    <tr>\n",
       "      <th>1</th>\n",
       "      <td>1620</td>\n",
       "      <td>1768</td>\n",
       "      <td>3388</td>\n",
       "    </tr>\n",
       "    <tr>\n",
       "      <th>All</th>\n",
       "      <td>501319</td>\n",
       "      <td>5039</td>\n",
       "      <td>506358</td>\n",
       "    </tr>\n",
       "  </tbody>\n",
       "</table>\n",
       "</div>"
      ],
      "text/plain": [
       "Predicted       0     1     All\n",
       "True                           \n",
       "0          499699  3271  502970\n",
       "1            1620  1768    3388\n",
       "All        501319  5039  506358"
      ]
     },
     "execution_count": 18,
     "metadata": {},
     "output_type": "execute_result"
    }
   ],
   "source": [
    "pd.crosstab(y_teste, y_pred, rownames = [\"True\"], colnames = [\"Predicted\"], margins = True)"
   ]
  },
  {
   "cell_type": "code",
   "execution_count": 19,
   "metadata": {
    "execution": {
     "iopub.execute_input": "2020-05-26T21:34:04.877874Z",
     "iopub.status.busy": "2020-05-26T21:34:04.877874Z",
     "iopub.status.idle": "2020-05-26T21:34:06.039587Z",
     "shell.execute_reply": "2020-05-26T21:34:06.038586Z",
     "shell.execute_reply.started": "2020-05-26T21:34:04.877874Z"
    }
   },
   "outputs": [
    {
     "name": "stdout",
     "output_type": "stream",
     "text": [
      "              precision    recall  f1-score   support\n",
      "\n",
      "           0       1.00      0.99      1.00    502970\n",
      "           1       0.35      0.52      0.42      3388\n",
      "\n",
      "    accuracy                           0.99    506358\n",
      "   macro avg       0.67      0.76      0.71    506358\n",
      "weighted avg       0.99      0.99      0.99    506358\n",
      "\n"
     ]
    }
   ],
   "source": [
    "from sklearn.metrics import classification_report\n",
    "\n",
    "print(classification_report(y_teste, y_pred))"
   ]
  },
  {
   "cell_type": "code",
   "execution_count": 20,
   "metadata": {
    "execution": {
     "iopub.execute_input": "2020-05-26T21:34:06.040587Z",
     "iopub.status.busy": "2020-05-26T21:34:06.040587Z",
     "iopub.status.idle": "2020-05-26T21:34:19.426290Z",
     "shell.execute_reply": "2020-05-26T21:34:19.425290Z",
     "shell.execute_reply.started": "2020-05-26T21:34:06.040587Z"
    }
   },
   "outputs": [
    {
     "data": {
      "image/png": "[encoded data removed]",
      "text/plain": [
       "<Figure size 720x432 with 1 Axes>"
      ]
     },
     "metadata": {
      "needs_background": "light"
     },
     "output_type": "display_data"
    }
   ],
   "source": [
    "#--- Adaptado de: https://stackoverflow.com/questions/25009284/how-to-plot-roc-curve-in-python\n",
    "\n",
    "import sklearn.metrics as metrics\n",
    "\n",
    "probs = rfc.predict_proba(x_teste)\n",
    "preds = probs[:,1]\n",
    "fpr, vpr, threshold = metrics.roc_curve(y_teste, preds)\n",
    "roc_auc = metrics.auc(fpr, vpr)\n",
    "\n",
    "#--- Curva\n",
    "\n",
    "plt.figure(figsize = [10, 6])\n",
    "plt.title(\"Curva ROC\")\n",
    "plt.plot(fpr, vpr, \"blue\", label = \"AUC = %0.2f\" % roc_auc)\n",
    "plt.legend(loc = \"lower right\")\n",
    "plt.plot([0, 1], [0, 1], \"r--\")\n",
    "plt.ylabel(\"Taxa de Verdadeiros Positivos\", fontsize = 14, color = \"black\")\n",
    "plt.xlabel(\"Taxa de Falsos Positivos\", fontsize = 14, color = \"black\")\n",
    "plt.tick_params(axis = \"x\", labelsize = 12, labelcolor = \"black\")\n",
    "plt.tick_params(axis = \"y\", labelsize = 12, labelcolor = \"black\")\n",
    "plt.show()"
   ]
  },
  {
   "cell_type": "markdown",
   "metadata": {},
   "source": [
    "# Importância das variáveis para o modelo de Random Forest"
   ]
  },
  {
   "cell_type": "code",
   "execution_count": 21,
   "metadata": {
    "execution": {
     "iopub.execute_input": "2020-05-26T21:34:19.428290Z",
     "iopub.status.busy": "2020-05-26T21:34:19.427290Z",
     "iopub.status.idle": "2020-05-26T21:34:19.531265Z",
     "shell.execute_reply": "2020-05-26T21:34:19.529266Z",
     "shell.execute_reply.started": "2020-05-26T21:34:19.428290Z"
    }
   },
   "outputs": [
    {
     "data": {
      "text/html": [
       "<div>\n",
       "<style scoped>\n",
       "    .dataframe tbody tr th:only-of-type {\n",
       "        vertical-align: middle;\n",
       "    }\n",
       "\n",
       "    .dataframe tbody tr th {\n",
       "        vertical-align: top;\n",
       "    }\n",
       "\n",
       "    .dataframe thead th {\n",
       "        text-align: right;\n",
       "    }\n",
       "</style>\n",
       "<table border=\"1\" class=\"dataframe\">\n",
       "  <thead>\n",
       "    <tr style=\"text-align: right;\">\n",
       "      <th></th>\n",
       "      <th>Variável</th>\n",
       "      <th>Valor</th>\n",
       "    </tr>\n",
       "  </thead>\n",
       "  <tbody>\n",
       "    <tr>\n",
       "      <th>0</th>\n",
       "      <td>national_inv</td>\n",
       "      <td>0.14032</td>\n",
       "    </tr>\n",
       "    <tr>\n",
       "      <th>4</th>\n",
       "      <td>forecast_6_month</td>\n",
       "      <td>0.13941</td>\n",
       "    </tr>\n",
       "    <tr>\n",
       "      <th>21</th>\n",
       "      <td>national_inv_poly2</td>\n",
       "      <td>0.12509</td>\n",
       "    </tr>\n",
       "    <tr>\n",
       "      <th>3</th>\n",
       "      <td>forecast_3_month</td>\n",
       "      <td>0.10605</td>\n",
       "    </tr>\n",
       "    <tr>\n",
       "      <th>5</th>\n",
       "      <td>forecast_9_month</td>\n",
       "      <td>0.09100</td>\n",
       "    </tr>\n",
       "    <tr>\n",
       "      <th>8</th>\n",
       "      <td>sales_6_month</td>\n",
       "      <td>0.04594</td>\n",
       "    </tr>\n",
       "    <tr>\n",
       "      <th>7</th>\n",
       "      <td>sales_3_month</td>\n",
       "      <td>0.04364</td>\n",
       "    </tr>\n",
       "    <tr>\n",
       "      <th>9</th>\n",
       "      <td>sales_9_month</td>\n",
       "      <td>0.04176</td>\n",
       "    </tr>\n",
       "    <tr>\n",
       "      <th>22</th>\n",
       "      <td>perf_month_avg</td>\n",
       "      <td>0.04086</td>\n",
       "    </tr>\n",
       "    <tr>\n",
       "      <th>6</th>\n",
       "      <td>sales_1_month</td>\n",
       "      <td>0.03782</td>\n",
       "    </tr>\n",
       "    <tr>\n",
       "      <th>14</th>\n",
       "      <td>perf_12_month_avg</td>\n",
       "      <td>0.03617</td>\n",
       "    </tr>\n",
       "    <tr>\n",
       "      <th>13</th>\n",
       "      <td>perf_6_month_avg</td>\n",
       "      <td>0.03615</td>\n",
       "    </tr>\n",
       "    <tr>\n",
       "      <th>2</th>\n",
       "      <td>in_transit_qty</td>\n",
       "      <td>0.02900</td>\n",
       "    </tr>\n",
       "    <tr>\n",
       "      <th>1</th>\n",
       "      <td>lead_time</td>\n",
       "      <td>0.02855</td>\n",
       "    </tr>\n",
       "    <tr>\n",
       "      <th>10</th>\n",
       "      <td>min_bank</td>\n",
       "      <td>0.02622</td>\n",
       "    </tr>\n",
       "    <tr>\n",
       "      <th>15</th>\n",
       "      <td>local_bo_qty</td>\n",
       "      <td>0.01169</td>\n",
       "    </tr>\n",
       "    <tr>\n",
       "      <th>16</th>\n",
       "      <td>deck_risk</td>\n",
       "      <td>0.00680</td>\n",
       "    </tr>\n",
       "    <tr>\n",
       "      <th>12</th>\n",
       "      <td>pieces_past_due</td>\n",
       "      <td>0.00543</td>\n",
       "    </tr>\n",
       "    <tr>\n",
       "      <th>18</th>\n",
       "      <td>ppap_risk</td>\n",
       "      <td>0.00539</td>\n",
       "    </tr>\n",
       "    <tr>\n",
       "      <th>19</th>\n",
       "      <td>stop_auto_buy</td>\n",
       "      <td>0.00258</td>\n",
       "    </tr>\n",
       "    <tr>\n",
       "      <th>11</th>\n",
       "      <td>potential_issue</td>\n",
       "      <td>0.00007</td>\n",
       "    </tr>\n",
       "    <tr>\n",
       "      <th>20</th>\n",
       "      <td>rev_stop</td>\n",
       "      <td>0.00005</td>\n",
       "    </tr>\n",
       "    <tr>\n",
       "      <th>17</th>\n",
       "      <td>oe_constraint</td>\n",
       "      <td>0.00001</td>\n",
       "    </tr>\n",
       "  </tbody>\n",
       "</table>\n",
       "</div>"
      ],
      "text/plain": [
       "              Variável    Valor\n",
       "0         national_inv  0.14032\n",
       "4     forecast_6_month  0.13941\n",
       "21  national_inv_poly2  0.12509\n",
       "3     forecast_3_month  0.10605\n",
       "5     forecast_9_month  0.09100\n",
       "8        sales_6_month  0.04594\n",
       "7        sales_3_month  0.04364\n",
       "9        sales_9_month  0.04176\n",
       "22      perf_month_avg  0.04086\n",
       "6        sales_1_month  0.03782\n",
       "14   perf_12_month_avg  0.03617\n",
       "13    perf_6_month_avg  0.03615\n",
       "2       in_transit_qty  0.02900\n",
       "1            lead_time  0.02855\n",
       "10            min_bank  0.02622\n",
       "15        local_bo_qty  0.01169\n",
       "16           deck_risk  0.00680\n",
       "12     pieces_past_due  0.00543\n",
       "18           ppap_risk  0.00539\n",
       "19       stop_auto_buy  0.00258\n",
       "11     potential_issue  0.00007\n",
       "20            rev_stop  0.00005\n",
       "17       oe_constraint  0.00001"
      ]
     },
     "execution_count": 21,
     "metadata": {},
     "output_type": "execute_result"
    }
   ],
   "source": [
    "pd.DataFrame(rfc.feature_importances_, x_teste.columns).reset_index().rename(columns = {0: \"Valor\", \"index\": \"Variável\"}).sort_values(\"Valor\", ascending = False).round(5)"
   ]
  },
  {
   "cell_type": "markdown",
   "metadata": {},
   "source": [
    "# Próximos passos:\n",
    "\n",
    "1. Criar novas features;\n",
    "    - Relacionar a forecast_3_month com alguma variável;\n",
    "2. Verificar a relação das variáveis (esqueci hoje);\n",
    "3. Observar as variáveis national_inv e lead_time;\n",
    "4. Testar o método de oversampling e undersampling.\n",
    "\n",
    "\n",
    "Falso positivo: o modelo previu que era um pedido em atraso, quando não era \n",
    "um pedido em atraso\n",
    "\n",
    "Falso negativo (*): o modelo disse que não era um pedido em atraso, quando na verdade ele era\n",
    "\n",
    "- Focar na métrica Recall"
   ]
  }
 ],
 "metadata": {
  "kernelspec": {
   "display_name": "Python 3",
   "language": "python",
   "name": "python3"
  },
  "language_info": {
   "codemirror_mode": {
    "name": "ipython",
    "version": 3
   },
   "file_extension": ".py",
   "mimetype": "text/x-python",
   "name": "python",
   "nbconvert_exporter": "python",
   "pygments_lexer": "ipython3",
   "version": "3.7.6"
  }
 },
 "nbformat": 4,
 "nbformat_minor": 4
}
