{
 "cells": [
  {
   "cell_type": "markdown",
   "metadata": {},
   "source": [
    "# Carregando as bibliotecas"
   ]
  },
  {
   "cell_type": "code",
   "execution_count": 1,
   "metadata": {
    "execution": {
     "iopub.execute_input": "2020-05-26T21:34:59.362456Z",
     "iopub.status.busy": "2020-05-26T21:34:59.361456Z",
     "iopub.status.idle": "2020-05-26T21:35:01.992809Z",
     "shell.execute_reply": "2020-05-26T21:35:01.990814Z",
     "shell.execute_reply.started": "2020-05-26T21:34:59.362456Z"
    }
   },
   "outputs": [],
   "source": [
    "import pandas as pd\n",
    "import numpy as np\n",
    "import matplotlib.pyplot as plt\n",
    "import seaborn as sns"
   ]
  },
  {
   "cell_type": "markdown",
   "metadata": {},
   "source": [
    "# Configurações adicionais"
   ]
  },
  {
   "cell_type": "code",
   "execution_count": 2,
   "metadata": {
    "execution": {
     "iopub.execute_input": "2020-05-26T21:35:01.995807Z",
     "iopub.status.busy": "2020-05-26T21:35:01.994808Z",
     "iopub.status.idle": "2020-05-26T21:35:02.011803Z",
     "shell.execute_reply": "2020-05-26T21:35:02.008805Z",
     "shell.execute_reply.started": "2020-05-26T21:35:01.995807Z"
    }
   },
   "outputs": [],
   "source": [
    "plt.style.use(\"seaborn-muted\")\n",
    "%matplotlib inline\n",
    "pd.set_option('display.max_columns', None)"
   ]
  },
  {
   "cell_type": "markdown",
   "metadata": {},
   "source": [
    "# Carregando o banco de dados"
   ]
  },
  {
   "cell_type": "code",
   "execution_count": 3,
   "metadata": {
    "execution": {
     "iopub.execute_input": "2020-05-26T21:35:02.016802Z",
     "iopub.status.busy": "2020-05-26T21:35:02.015803Z",
     "iopub.status.idle": "2020-05-26T21:35:09.588936Z",
     "shell.execute_reply": "2020-05-26T21:35:09.587936Z",
     "shell.execute_reply.started": "2020-05-26T21:35:02.016802Z"
    }
   },
   "outputs": [],
   "source": [
    "banco = pd.read_csv(\"Training_Dataset_v2.csv\", low_memory = False)"
   ]
  },
  {
   "cell_type": "code",
   "execution_count": 4,
   "metadata": {
    "execution": {
     "iopub.execute_input": "2020-05-26T21:35:09.590936Z",
     "iopub.status.busy": "2020-05-26T21:35:09.590936Z",
     "iopub.status.idle": "2020-05-26T21:35:10.440726Z",
     "shell.execute_reply": "2020-05-26T21:35:10.439727Z",
     "shell.execute_reply.started": "2020-05-26T21:35:09.590936Z"
    }
   },
   "outputs": [
    {
     "name": "stdout",
     "output_type": "stream",
     "text": [
      "<class 'pandas.core.frame.DataFrame'>\n",
      "RangeIndex: 1687861 entries, 0 to 1687860\n",
      "Data columns (total 23 columns):\n",
      " #   Column             Non-Null Count    Dtype  \n",
      "---  ------             --------------    -----  \n",
      " 0   sku                1687861 non-null  object \n",
      " 1   national_inv       1687860 non-null  float64\n",
      " 2   lead_time          1586967 non-null  float64\n",
      " 3   in_transit_qty     1687860 non-null  float64\n",
      " 4   forecast_3_month   1687860 non-null  float64\n",
      " 5   forecast_6_month   1687860 non-null  float64\n",
      " 6   forecast_9_month   1687860 non-null  float64\n",
      " 7   sales_1_month      1687860 non-null  float64\n",
      " 8   sales_3_month      1687860 non-null  float64\n",
      " 9   sales_6_month      1687860 non-null  float64\n",
      " 10  sales_9_month      1687860 non-null  float64\n",
      " 11  min_bank           1687860 non-null  float64\n",
      " 12  potential_issue    1687860 non-null  object \n",
      " 13  pieces_past_due    1687860 non-null  float64\n",
      " 14  perf_6_month_avg   1687860 non-null  float64\n",
      " 15  perf_12_month_avg  1687860 non-null  float64\n",
      " 16  local_bo_qty       1687860 non-null  float64\n",
      " 17  deck_risk          1687860 non-null  object \n",
      " 18  oe_constraint      1687860 non-null  object \n",
      " 19  ppap_risk          1687860 non-null  object \n",
      " 20  stop_auto_buy      1687860 non-null  object \n",
      " 21  rev_stop           1687860 non-null  object \n",
      " 22  went_on_backorder  1687860 non-null  object \n",
      "dtypes: float64(15), object(8)\n",
      "memory usage: 296.2+ MB\n"
     ]
    }
   ],
   "source": [
    "banco.info()"
   ]
  },
  {
   "cell_type": "markdown",
   "metadata": {},
   "source": [
    "# Transformações nas variáveis"
   ]
  },
  {
   "cell_type": "markdown",
   "metadata": {},
   "source": [
    "## Retirando a variável sku"
   ]
  },
  {
   "cell_type": "code",
   "execution_count": 5,
   "metadata": {
    "execution": {
     "iopub.execute_input": "2020-05-26T21:35:10.442726Z",
     "iopub.status.busy": "2020-05-26T21:35:10.441727Z",
     "iopub.status.idle": "2020-05-26T21:35:11.015587Z",
     "shell.execute_reply": "2020-05-26T21:35:11.013587Z",
     "shell.execute_reply.started": "2020-05-26T21:35:10.442726Z"
    }
   },
   "outputs": [
    {
     "data": {
      "text/html": [
       "<div>\n",
       "<style scoped>\n",
       "    .dataframe tbody tr th:only-of-type {\n",
       "        vertical-align: middle;\n",
       "    }\n",
       "\n",
       "    .dataframe tbody tr th {\n",
       "        vertical-align: top;\n",
       "    }\n",
       "\n",
       "    .dataframe thead th {\n",
       "        text-align: right;\n",
       "    }\n",
       "</style>\n",
       "<table border=\"1\" class=\"dataframe\">\n",
       "  <thead>\n",
       "    <tr style=\"text-align: right;\">\n",
       "      <th></th>\n",
       "      <th>national_inv</th>\n",
       "      <th>lead_time</th>\n",
       "      <th>in_transit_qty</th>\n",
       "      <th>forecast_3_month</th>\n",
       "      <th>forecast_6_month</th>\n",
       "      <th>forecast_9_month</th>\n",
       "      <th>sales_1_month</th>\n",
       "      <th>sales_3_month</th>\n",
       "      <th>sales_6_month</th>\n",
       "      <th>sales_9_month</th>\n",
       "      <th>min_bank</th>\n",
       "      <th>potential_issue</th>\n",
       "      <th>pieces_past_due</th>\n",
       "      <th>perf_6_month_avg</th>\n",
       "      <th>perf_12_month_avg</th>\n",
       "      <th>local_bo_qty</th>\n",
       "      <th>deck_risk</th>\n",
       "      <th>oe_constraint</th>\n",
       "      <th>ppap_risk</th>\n",
       "      <th>stop_auto_buy</th>\n",
       "      <th>rev_stop</th>\n",
       "      <th>went_on_backorder</th>\n",
       "    </tr>\n",
       "  </thead>\n",
       "  <tbody>\n",
       "    <tr>\n",
       "      <th>0</th>\n",
       "      <td>0.0</td>\n",
       "      <td>NaN</td>\n",
       "      <td>0.0</td>\n",
       "      <td>0.0</td>\n",
       "      <td>0.0</td>\n",
       "      <td>0.0</td>\n",
       "      <td>0.0</td>\n",
       "      <td>0.0</td>\n",
       "      <td>0.0</td>\n",
       "      <td>0.0</td>\n",
       "      <td>0.0</td>\n",
       "      <td>No</td>\n",
       "      <td>0.0</td>\n",
       "      <td>-99.00</td>\n",
       "      <td>-99.00</td>\n",
       "      <td>0.0</td>\n",
       "      <td>No</td>\n",
       "      <td>No</td>\n",
       "      <td>No</td>\n",
       "      <td>Yes</td>\n",
       "      <td>No</td>\n",
       "      <td>No</td>\n",
       "    </tr>\n",
       "    <tr>\n",
       "      <th>1</th>\n",
       "      <td>2.0</td>\n",
       "      <td>9.0</td>\n",
       "      <td>0.0</td>\n",
       "      <td>0.0</td>\n",
       "      <td>0.0</td>\n",
       "      <td>0.0</td>\n",
       "      <td>0.0</td>\n",
       "      <td>0.0</td>\n",
       "      <td>0.0</td>\n",
       "      <td>0.0</td>\n",
       "      <td>0.0</td>\n",
       "      <td>No</td>\n",
       "      <td>0.0</td>\n",
       "      <td>0.99</td>\n",
       "      <td>0.99</td>\n",
       "      <td>0.0</td>\n",
       "      <td>No</td>\n",
       "      <td>No</td>\n",
       "      <td>No</td>\n",
       "      <td>Yes</td>\n",
       "      <td>No</td>\n",
       "      <td>No</td>\n",
       "    </tr>\n",
       "    <tr>\n",
       "      <th>2</th>\n",
       "      <td>2.0</td>\n",
       "      <td>NaN</td>\n",
       "      <td>0.0</td>\n",
       "      <td>0.0</td>\n",
       "      <td>0.0</td>\n",
       "      <td>0.0</td>\n",
       "      <td>0.0</td>\n",
       "      <td>0.0</td>\n",
       "      <td>0.0</td>\n",
       "      <td>0.0</td>\n",
       "      <td>0.0</td>\n",
       "      <td>No</td>\n",
       "      <td>0.0</td>\n",
       "      <td>-99.00</td>\n",
       "      <td>-99.00</td>\n",
       "      <td>0.0</td>\n",
       "      <td>Yes</td>\n",
       "      <td>No</td>\n",
       "      <td>No</td>\n",
       "      <td>Yes</td>\n",
       "      <td>No</td>\n",
       "      <td>No</td>\n",
       "    </tr>\n",
       "    <tr>\n",
       "      <th>3</th>\n",
       "      <td>7.0</td>\n",
       "      <td>8.0</td>\n",
       "      <td>0.0</td>\n",
       "      <td>0.0</td>\n",
       "      <td>0.0</td>\n",
       "      <td>0.0</td>\n",
       "      <td>0.0</td>\n",
       "      <td>0.0</td>\n",
       "      <td>0.0</td>\n",
       "      <td>0.0</td>\n",
       "      <td>1.0</td>\n",
       "      <td>No</td>\n",
       "      <td>0.0</td>\n",
       "      <td>0.10</td>\n",
       "      <td>0.13</td>\n",
       "      <td>0.0</td>\n",
       "      <td>No</td>\n",
       "      <td>No</td>\n",
       "      <td>No</td>\n",
       "      <td>Yes</td>\n",
       "      <td>No</td>\n",
       "      <td>No</td>\n",
       "    </tr>\n",
       "    <tr>\n",
       "      <th>4</th>\n",
       "      <td>8.0</td>\n",
       "      <td>NaN</td>\n",
       "      <td>0.0</td>\n",
       "      <td>0.0</td>\n",
       "      <td>0.0</td>\n",
       "      <td>0.0</td>\n",
       "      <td>0.0</td>\n",
       "      <td>0.0</td>\n",
       "      <td>0.0</td>\n",
       "      <td>4.0</td>\n",
       "      <td>2.0</td>\n",
       "      <td>No</td>\n",
       "      <td>0.0</td>\n",
       "      <td>-99.00</td>\n",
       "      <td>-99.00</td>\n",
       "      <td>0.0</td>\n",
       "      <td>Yes</td>\n",
       "      <td>No</td>\n",
       "      <td>No</td>\n",
       "      <td>Yes</td>\n",
       "      <td>No</td>\n",
       "      <td>No</td>\n",
       "    </tr>\n",
       "  </tbody>\n",
       "</table>\n",
       "</div>"
      ],
      "text/plain": [
       "   national_inv  lead_time  in_transit_qty  forecast_3_month  \\\n",
       "0           0.0        NaN             0.0               0.0   \n",
       "1           2.0        9.0             0.0               0.0   \n",
       "2           2.0        NaN             0.0               0.0   \n",
       "3           7.0        8.0             0.0               0.0   \n",
       "4           8.0        NaN             0.0               0.0   \n",
       "\n",
       "   forecast_6_month  forecast_9_month  sales_1_month  sales_3_month  \\\n",
       "0               0.0               0.0            0.0            0.0   \n",
       "1               0.0               0.0            0.0            0.0   \n",
       "2               0.0               0.0            0.0            0.0   \n",
       "3               0.0               0.0            0.0            0.0   \n",
       "4               0.0               0.0            0.0            0.0   \n",
       "\n",
       "   sales_6_month  sales_9_month  min_bank potential_issue  pieces_past_due  \\\n",
       "0            0.0            0.0       0.0              No              0.0   \n",
       "1            0.0            0.0       0.0              No              0.0   \n",
       "2            0.0            0.0       0.0              No              0.0   \n",
       "3            0.0            0.0       1.0              No              0.0   \n",
       "4            0.0            4.0       2.0              No              0.0   \n",
       "\n",
       "   perf_6_month_avg  perf_12_month_avg  local_bo_qty deck_risk oe_constraint  \\\n",
       "0            -99.00             -99.00           0.0        No            No   \n",
       "1              0.99               0.99           0.0        No            No   \n",
       "2            -99.00             -99.00           0.0       Yes            No   \n",
       "3              0.10               0.13           0.0        No            No   \n",
       "4            -99.00             -99.00           0.0       Yes            No   \n",
       "\n",
       "  ppap_risk stop_auto_buy rev_stop went_on_backorder  \n",
       "0        No           Yes       No                No  \n",
       "1        No           Yes       No                No  \n",
       "2        No           Yes       No                No  \n",
       "3        No           Yes       No                No  \n",
       "4        No           Yes       No                No  "
      ]
     },
     "execution_count": 5,
     "metadata": {},
     "output_type": "execute_result"
    }
   ],
   "source": [
    "banco = banco.drop(\"sku\", axis = 1)\n",
    "\n",
    "banco.head()"
   ]
  },
  {
   "cell_type": "markdown",
   "metadata": {},
   "source": [
    "## Lidando com os valores NaN\n",
    "\n",
    "- Nenhum ganho absurdo de diferença inputando a média, mediana ou moda (a mesma nos dá score parecidos);\n",
    "- O melhor ganho, foi dropando os NAs\n",
    "    - A variável lead_time teve uma maior importância (0.03466);\n",
    "    - O **recall** (nos dá informações sobre falsos negativos, de todos os exemplos que realmente são verdadeiros, o quanto meu modelo meu modelo previu corretamente), métrica que queremos maximizar, teve o valor de 0.51"
   ]
  },
  {
   "cell_type": "code",
   "execution_count": 6,
   "metadata": {
    "execution": {
     "iopub.execute_input": "2020-05-26T21:35:11.019586Z",
     "iopub.status.busy": "2020-05-26T21:35:11.018588Z",
     "iopub.status.idle": "2020-05-26T21:35:11.746407Z",
     "shell.execute_reply": "2020-05-26T21:35:11.745405Z",
     "shell.execute_reply.started": "2020-05-26T21:35:11.019586Z"
    }
   },
   "outputs": [
    {
     "data": {
      "text/plain": [
       "national_inv              1\n",
       "lead_time            100894\n",
       "in_transit_qty            1\n",
       "forecast_3_month          1\n",
       "forecast_6_month          1\n",
       "forecast_9_month          1\n",
       "sales_1_month             1\n",
       "sales_3_month             1\n",
       "sales_6_month             1\n",
       "sales_9_month             1\n",
       "min_bank                  1\n",
       "potential_issue           1\n",
       "pieces_past_due           1\n",
       "perf_6_month_avg          1\n",
       "perf_12_month_avg         1\n",
       "local_bo_qty              1\n",
       "deck_risk                 1\n",
       "oe_constraint             1\n",
       "ppap_risk                 1\n",
       "stop_auto_buy             1\n",
       "rev_stop                  1\n",
       "went_on_backorder         1\n",
       "dtype: int64"
      ]
     },
     "execution_count": 6,
     "metadata": {},
     "output_type": "execute_result"
    }
   ],
   "source": [
    "banco.isnull().sum()"
   ]
  },
  {
   "cell_type": "code",
   "execution_count": 7,
   "metadata": {
    "execution": {
     "iopub.execute_input": "2020-05-26T21:35:11.748406Z",
     "iopub.status.busy": "2020-05-26T21:35:11.747405Z",
     "iopub.status.idle": "2020-05-26T21:35:11.845384Z",
     "shell.execute_reply": "2020-05-26T21:35:11.843381Z",
     "shell.execute_reply.started": "2020-05-26T21:35:11.748406Z"
    }
   },
   "outputs": [
    {
     "data": {
      "text/html": [
       "<div>\n",
       "<style scoped>\n",
       "    .dataframe tbody tr th:only-of-type {\n",
       "        vertical-align: middle;\n",
       "    }\n",
       "\n",
       "    .dataframe tbody tr th {\n",
       "        vertical-align: top;\n",
       "    }\n",
       "\n",
       "    .dataframe thead th {\n",
       "        text-align: right;\n",
       "    }\n",
       "</style>\n",
       "<table border=\"1\" class=\"dataframe\">\n",
       "  <thead>\n",
       "    <tr style=\"text-align: right;\">\n",
       "      <th></th>\n",
       "      <th>national_inv</th>\n",
       "      <th>lead_time</th>\n",
       "      <th>in_transit_qty</th>\n",
       "      <th>forecast_3_month</th>\n",
       "      <th>forecast_6_month</th>\n",
       "      <th>forecast_9_month</th>\n",
       "      <th>sales_1_month</th>\n",
       "      <th>sales_3_month</th>\n",
       "      <th>sales_6_month</th>\n",
       "      <th>sales_9_month</th>\n",
       "      <th>min_bank</th>\n",
       "      <th>potential_issue</th>\n",
       "      <th>pieces_past_due</th>\n",
       "      <th>perf_6_month_avg</th>\n",
       "      <th>perf_12_month_avg</th>\n",
       "      <th>local_bo_qty</th>\n",
       "      <th>deck_risk</th>\n",
       "      <th>oe_constraint</th>\n",
       "      <th>ppap_risk</th>\n",
       "      <th>stop_auto_buy</th>\n",
       "      <th>rev_stop</th>\n",
       "      <th>went_on_backorder</th>\n",
       "    </tr>\n",
       "  </thead>\n",
       "  <tbody>\n",
       "    <tr>\n",
       "      <th>1687855</th>\n",
       "      <td>0.0</td>\n",
       "      <td>2.0</td>\n",
       "      <td>0.0</td>\n",
       "      <td>10.0</td>\n",
       "      <td>10.0</td>\n",
       "      <td>10.0</td>\n",
       "      <td>0.0</td>\n",
       "      <td>5.0</td>\n",
       "      <td>7.0</td>\n",
       "      <td>7.0</td>\n",
       "      <td>0.0</td>\n",
       "      <td>No</td>\n",
       "      <td>0.0</td>\n",
       "      <td>0.69</td>\n",
       "      <td>0.69</td>\n",
       "      <td>5.0</td>\n",
       "      <td>Yes</td>\n",
       "      <td>No</td>\n",
       "      <td>No</td>\n",
       "      <td>Yes</td>\n",
       "      <td>No</td>\n",
       "      <td>No</td>\n",
       "    </tr>\n",
       "    <tr>\n",
       "      <th>1687856</th>\n",
       "      <td>-1.0</td>\n",
       "      <td>999.0</td>\n",
       "      <td>0.0</td>\n",
       "      <td>5.0</td>\n",
       "      <td>7.0</td>\n",
       "      <td>9.0</td>\n",
       "      <td>1.0</td>\n",
       "      <td>3.0</td>\n",
       "      <td>3.0</td>\n",
       "      <td>8.0</td>\n",
       "      <td>0.0</td>\n",
       "      <td>No</td>\n",
       "      <td>0.0</td>\n",
       "      <td>-99.00</td>\n",
       "      <td>-99.00</td>\n",
       "      <td>1.0</td>\n",
       "      <td>No</td>\n",
       "      <td>No</td>\n",
       "      <td>No</td>\n",
       "      <td>Yes</td>\n",
       "      <td>No</td>\n",
       "      <td>No</td>\n",
       "    </tr>\n",
       "    <tr>\n",
       "      <th>1687857</th>\n",
       "      <td>-1.0</td>\n",
       "      <td>9.0</td>\n",
       "      <td>0.0</td>\n",
       "      <td>7.0</td>\n",
       "      <td>9.0</td>\n",
       "      <td>11.0</td>\n",
       "      <td>0.0</td>\n",
       "      <td>8.0</td>\n",
       "      <td>11.0</td>\n",
       "      <td>12.0</td>\n",
       "      <td>0.0</td>\n",
       "      <td>No</td>\n",
       "      <td>0.0</td>\n",
       "      <td>0.86</td>\n",
       "      <td>0.84</td>\n",
       "      <td>1.0</td>\n",
       "      <td>Yes</td>\n",
       "      <td>No</td>\n",
       "      <td>No</td>\n",
       "      <td>No</td>\n",
       "      <td>No</td>\n",
       "      <td>Yes</td>\n",
       "    </tr>\n",
       "    <tr>\n",
       "      <th>1687858</th>\n",
       "      <td>62.0</td>\n",
       "      <td>9.0</td>\n",
       "      <td>16.0</td>\n",
       "      <td>39.0</td>\n",
       "      <td>87.0</td>\n",
       "      <td>126.0</td>\n",
       "      <td>35.0</td>\n",
       "      <td>63.0</td>\n",
       "      <td>153.0</td>\n",
       "      <td>205.0</td>\n",
       "      <td>12.0</td>\n",
       "      <td>No</td>\n",
       "      <td>0.0</td>\n",
       "      <td>0.86</td>\n",
       "      <td>0.84</td>\n",
       "      <td>6.0</td>\n",
       "      <td>No</td>\n",
       "      <td>No</td>\n",
       "      <td>No</td>\n",
       "      <td>Yes</td>\n",
       "      <td>No</td>\n",
       "      <td>No</td>\n",
       "    </tr>\n",
       "    <tr>\n",
       "      <th>1687859</th>\n",
       "      <td>19.0</td>\n",
       "      <td>4.0</td>\n",
       "      <td>0.0</td>\n",
       "      <td>0.0</td>\n",
       "      <td>0.0</td>\n",
       "      <td>0.0</td>\n",
       "      <td>2.0</td>\n",
       "      <td>7.0</td>\n",
       "      <td>12.0</td>\n",
       "      <td>20.0</td>\n",
       "      <td>1.0</td>\n",
       "      <td>No</td>\n",
       "      <td>0.0</td>\n",
       "      <td>0.73</td>\n",
       "      <td>0.78</td>\n",
       "      <td>1.0</td>\n",
       "      <td>No</td>\n",
       "      <td>No</td>\n",
       "      <td>No</td>\n",
       "      <td>Yes</td>\n",
       "      <td>No</td>\n",
       "      <td>No</td>\n",
       "    </tr>\n",
       "  </tbody>\n",
       "</table>\n",
       "</div>"
      ],
      "text/plain": [
       "         national_inv  lead_time  in_transit_qty  forecast_3_month  \\\n",
       "1687855           0.0        2.0             0.0              10.0   \n",
       "1687856          -1.0      999.0             0.0               5.0   \n",
       "1687857          -1.0        9.0             0.0               7.0   \n",
       "1687858          62.0        9.0            16.0              39.0   \n",
       "1687859          19.0        4.0             0.0               0.0   \n",
       "\n",
       "         forecast_6_month  forecast_9_month  sales_1_month  sales_3_month  \\\n",
       "1687855              10.0              10.0            0.0            5.0   \n",
       "1687856               7.0               9.0            1.0            3.0   \n",
       "1687857               9.0              11.0            0.0            8.0   \n",
       "1687858              87.0             126.0           35.0           63.0   \n",
       "1687859               0.0               0.0            2.0            7.0   \n",
       "\n",
       "         sales_6_month  sales_9_month  min_bank potential_issue  \\\n",
       "1687855            7.0            7.0       0.0              No   \n",
       "1687856            3.0            8.0       0.0              No   \n",
       "1687857           11.0           12.0       0.0              No   \n",
       "1687858          153.0          205.0      12.0              No   \n",
       "1687859           12.0           20.0       1.0              No   \n",
       "\n",
       "         pieces_past_due  perf_6_month_avg  perf_12_month_avg  local_bo_qty  \\\n",
       "1687855              0.0              0.69               0.69           5.0   \n",
       "1687856              0.0            -99.00             -99.00           1.0   \n",
       "1687857              0.0              0.86               0.84           1.0   \n",
       "1687858              0.0              0.86               0.84           6.0   \n",
       "1687859              0.0              0.73               0.78           1.0   \n",
       "\n",
       "        deck_risk oe_constraint ppap_risk stop_auto_buy rev_stop  \\\n",
       "1687855       Yes            No        No           Yes       No   \n",
       "1687856        No            No        No           Yes       No   \n",
       "1687857       Yes            No        No            No       No   \n",
       "1687858        No            No        No           Yes       No   \n",
       "1687859        No            No        No           Yes       No   \n",
       "\n",
       "        went_on_backorder  \n",
       "1687855                No  \n",
       "1687856                No  \n",
       "1687857               Yes  \n",
       "1687858                No  \n",
       "1687859                No  "
      ]
     },
     "execution_count": 7,
     "metadata": {},
     "output_type": "execute_result"
    }
   ],
   "source": [
    "#--- Para comentar as linhas: Ctrl + \"/\" (teclado numérico)\n",
    "\n",
    "#--- Dropando todas\n",
    "\n",
    "\n",
    "# banco = banco.dropna()\n",
    "\n",
    "#--------------------------------------------------------------------\n",
    "\n",
    "#--- Excluindo a última linha e imputando média na variável lead_time\n",
    "\n",
    "# banco = banco[: -1] \n",
    "\n",
    "# banco[\"lead_time\"] = banco[\"lead_time\"].fillna(banco[\"lead_time\"].mean())\n",
    "\n",
    "#--------------------------------------------------------------------\n",
    "\n",
    "#--- Excluindo a última linha e imputando média na variável lead_time\n",
    "\n",
    "# banco = banco[: -1] \n",
    "\n",
    "# banco[\"lead_time\"] = banco[\"lead_time\"].fillna(banco[\"lead_time\"].median())\n",
    "\n",
    "#--------------------------------------------------------------------\n",
    "\n",
    "#--- Excluindo a última linha e imputando a moda na variável lead_time\n",
    "\n",
    "# banco = banco[: -1] \n",
    "\n",
    "# banco[\"lead_time\"] = banco[\"lead_time\"].fillna(banco[\"lead_time\"].mode()[0])\n",
    "\n",
    "#--------------------------------------------------------------------\n",
    "\n",
    "#--- Excluindo a última linha e imputando o 0 na variável lead_time\n",
    "\n",
    "banco = banco[: -1] \n",
    "\n",
    "banco[\"lead_time\"] = banco[\"lead_time\"].fillna(999)\n",
    "\n",
    "banco.tail()"
   ]
  },
  {
   "cell_type": "markdown",
   "metadata": {},
   "source": [
    "## Trocando as variáveis qualitativas para quantitativas"
   ]
  },
  {
   "cell_type": "code",
   "execution_count": 8,
   "metadata": {
    "execution": {
     "iopub.execute_input": "2020-05-26T21:35:11.851381Z",
     "iopub.status.busy": "2020-05-26T21:35:11.848381Z",
     "iopub.status.idle": "2020-05-26T21:35:17.228056Z",
     "shell.execute_reply": "2020-05-26T21:35:17.227055Z",
     "shell.execute_reply.started": "2020-05-26T21:35:11.850380Z"
    }
   },
   "outputs": [
    {
     "data": {
      "text/html": [
       "<div>\n",
       "<style scoped>\n",
       "    .dataframe tbody tr th:only-of-type {\n",
       "        vertical-align: middle;\n",
       "    }\n",
       "\n",
       "    .dataframe tbody tr th {\n",
       "        vertical-align: top;\n",
       "    }\n",
       "\n",
       "    .dataframe thead th {\n",
       "        text-align: right;\n",
       "    }\n",
       "</style>\n",
       "<table border=\"1\" class=\"dataframe\">\n",
       "  <thead>\n",
       "    <tr style=\"text-align: right;\">\n",
       "      <th></th>\n",
       "      <th>national_inv</th>\n",
       "      <th>lead_time</th>\n",
       "      <th>in_transit_qty</th>\n",
       "      <th>forecast_3_month</th>\n",
       "      <th>forecast_6_month</th>\n",
       "      <th>forecast_9_month</th>\n",
       "      <th>sales_1_month</th>\n",
       "      <th>sales_3_month</th>\n",
       "      <th>sales_6_month</th>\n",
       "      <th>sales_9_month</th>\n",
       "      <th>min_bank</th>\n",
       "      <th>potential_issue</th>\n",
       "      <th>pieces_past_due</th>\n",
       "      <th>perf_6_month_avg</th>\n",
       "      <th>perf_12_month_avg</th>\n",
       "      <th>local_bo_qty</th>\n",
       "      <th>deck_risk</th>\n",
       "      <th>oe_constraint</th>\n",
       "      <th>ppap_risk</th>\n",
       "      <th>stop_auto_buy</th>\n",
       "      <th>rev_stop</th>\n",
       "      <th>went_on_backorder</th>\n",
       "    </tr>\n",
       "  </thead>\n",
       "  <tbody>\n",
       "    <tr>\n",
       "      <th>0</th>\n",
       "      <td>0.0</td>\n",
       "      <td>999.0</td>\n",
       "      <td>0.0</td>\n",
       "      <td>0.0</td>\n",
       "      <td>0.0</td>\n",
       "      <td>0.0</td>\n",
       "      <td>0.0</td>\n",
       "      <td>0.0</td>\n",
       "      <td>0.0</td>\n",
       "      <td>0.0</td>\n",
       "      <td>0.0</td>\n",
       "      <td>0</td>\n",
       "      <td>0.0</td>\n",
       "      <td>-99.00</td>\n",
       "      <td>-99.00</td>\n",
       "      <td>0.0</td>\n",
       "      <td>0</td>\n",
       "      <td>0</td>\n",
       "      <td>0</td>\n",
       "      <td>1</td>\n",
       "      <td>0</td>\n",
       "      <td>0</td>\n",
       "    </tr>\n",
       "    <tr>\n",
       "      <th>1</th>\n",
       "      <td>2.0</td>\n",
       "      <td>9.0</td>\n",
       "      <td>0.0</td>\n",
       "      <td>0.0</td>\n",
       "      <td>0.0</td>\n",
       "      <td>0.0</td>\n",
       "      <td>0.0</td>\n",
       "      <td>0.0</td>\n",
       "      <td>0.0</td>\n",
       "      <td>0.0</td>\n",
       "      <td>0.0</td>\n",
       "      <td>0</td>\n",
       "      <td>0.0</td>\n",
       "      <td>0.99</td>\n",
       "      <td>0.99</td>\n",
       "      <td>0.0</td>\n",
       "      <td>0</td>\n",
       "      <td>0</td>\n",
       "      <td>0</td>\n",
       "      <td>1</td>\n",
       "      <td>0</td>\n",
       "      <td>0</td>\n",
       "    </tr>\n",
       "    <tr>\n",
       "      <th>2</th>\n",
       "      <td>2.0</td>\n",
       "      <td>999.0</td>\n",
       "      <td>0.0</td>\n",
       "      <td>0.0</td>\n",
       "      <td>0.0</td>\n",
       "      <td>0.0</td>\n",
       "      <td>0.0</td>\n",
       "      <td>0.0</td>\n",
       "      <td>0.0</td>\n",
       "      <td>0.0</td>\n",
       "      <td>0.0</td>\n",
       "      <td>0</td>\n",
       "      <td>0.0</td>\n",
       "      <td>-99.00</td>\n",
       "      <td>-99.00</td>\n",
       "      <td>0.0</td>\n",
       "      <td>1</td>\n",
       "      <td>0</td>\n",
       "      <td>0</td>\n",
       "      <td>1</td>\n",
       "      <td>0</td>\n",
       "      <td>0</td>\n",
       "    </tr>\n",
       "    <tr>\n",
       "      <th>3</th>\n",
       "      <td>7.0</td>\n",
       "      <td>8.0</td>\n",
       "      <td>0.0</td>\n",
       "      <td>0.0</td>\n",
       "      <td>0.0</td>\n",
       "      <td>0.0</td>\n",
       "      <td>0.0</td>\n",
       "      <td>0.0</td>\n",
       "      <td>0.0</td>\n",
       "      <td>0.0</td>\n",
       "      <td>1.0</td>\n",
       "      <td>0</td>\n",
       "      <td>0.0</td>\n",
       "      <td>0.10</td>\n",
       "      <td>0.13</td>\n",
       "      <td>0.0</td>\n",
       "      <td>0</td>\n",
       "      <td>0</td>\n",
       "      <td>0</td>\n",
       "      <td>1</td>\n",
       "      <td>0</td>\n",
       "      <td>0</td>\n",
       "    </tr>\n",
       "    <tr>\n",
       "      <th>4</th>\n",
       "      <td>8.0</td>\n",
       "      <td>999.0</td>\n",
       "      <td>0.0</td>\n",
       "      <td>0.0</td>\n",
       "      <td>0.0</td>\n",
       "      <td>0.0</td>\n",
       "      <td>0.0</td>\n",
       "      <td>0.0</td>\n",
       "      <td>0.0</td>\n",
       "      <td>4.0</td>\n",
       "      <td>2.0</td>\n",
       "      <td>0</td>\n",
       "      <td>0.0</td>\n",
       "      <td>-99.00</td>\n",
       "      <td>-99.00</td>\n",
       "      <td>0.0</td>\n",
       "      <td>1</td>\n",
       "      <td>0</td>\n",
       "      <td>0</td>\n",
       "      <td>1</td>\n",
       "      <td>0</td>\n",
       "      <td>0</td>\n",
       "    </tr>\n",
       "  </tbody>\n",
       "</table>\n",
       "</div>"
      ],
      "text/plain": [
       "   national_inv  lead_time  in_transit_qty  forecast_3_month  \\\n",
       "0           0.0      999.0             0.0               0.0   \n",
       "1           2.0        9.0             0.0               0.0   \n",
       "2           2.0      999.0             0.0               0.0   \n",
       "3           7.0        8.0             0.0               0.0   \n",
       "4           8.0      999.0             0.0               0.0   \n",
       "\n",
       "   forecast_6_month  forecast_9_month  sales_1_month  sales_3_month  \\\n",
       "0               0.0               0.0            0.0            0.0   \n",
       "1               0.0               0.0            0.0            0.0   \n",
       "2               0.0               0.0            0.0            0.0   \n",
       "3               0.0               0.0            0.0            0.0   \n",
       "4               0.0               0.0            0.0            0.0   \n",
       "\n",
       "   sales_6_month  sales_9_month  min_bank  potential_issue  pieces_past_due  \\\n",
       "0            0.0            0.0       0.0                0              0.0   \n",
       "1            0.0            0.0       0.0                0              0.0   \n",
       "2            0.0            0.0       0.0                0              0.0   \n",
       "3            0.0            0.0       1.0                0              0.0   \n",
       "4            0.0            4.0       2.0                0              0.0   \n",
       "\n",
       "   perf_6_month_avg  perf_12_month_avg  local_bo_qty  deck_risk  \\\n",
       "0            -99.00             -99.00           0.0          0   \n",
       "1              0.99               0.99           0.0          0   \n",
       "2            -99.00             -99.00           0.0          1   \n",
       "3              0.10               0.13           0.0          0   \n",
       "4            -99.00             -99.00           0.0          1   \n",
       "\n",
       "   oe_constraint  ppap_risk  stop_auto_buy  rev_stop  went_on_backorder  \n",
       "0              0          0              1         0                  0  \n",
       "1              0          0              1         0                  0  \n",
       "2              0          0              1         0                  0  \n",
       "3              0          0              1         0                  0  \n",
       "4              0          0              1         0                  0  "
      ]
     },
     "execution_count": 8,
     "metadata": {},
     "output_type": "execute_result"
    }
   ],
   "source": [
    "columns_yesno = [\"potential_issue\", \"deck_risk\", \"oe_constraint\", \"ppap_risk\", \"stop_auto_buy\", \"rev_stop\", \"went_on_backorder\"]\n",
    "\n",
    "banco[columns_yesno] = banco[columns_yesno].replace({\"No\" : 0, \"Yes\": 1})\n",
    "\n",
    "banco.head()"
   ]
  },
  {
   "cell_type": "markdown",
   "metadata": {},
   "source": [
    "## Criando novas features"
   ]
  },
  {
   "cell_type": "code",
   "execution_count": 9,
   "metadata": {
    "execution": {
     "iopub.execute_input": "2020-05-26T21:35:17.233055Z",
     "iopub.status.busy": "2020-05-26T21:35:17.233055Z",
     "iopub.status.idle": "2020-05-26T21:35:17.953877Z",
     "shell.execute_reply": "2020-05-26T21:35:17.952876Z",
     "shell.execute_reply.started": "2020-05-26T21:35:17.233055Z"
    }
   },
   "outputs": [],
   "source": [
    "#--- Boa variável\n",
    "\n",
    "banco[\"national_inv_poly2\"] = banco[\"national_inv\"] ** 2\n",
    "\n",
    "#--- Variável ok\n",
    "\n",
    "# banco[\"national_inv_qual\"] = banco[\"national_inv\"].map(lambda x: 0 if x < 0 else 1)\n",
    "\n",
    "#--- Média entre as variáveis perf_X_month (boa)\n",
    "\n",
    "banco[\"perf_month_avg\"] = banco[[\"perf_6_month_avg\", \"perf_12_month_avg\"]].mean(axis=1)"
   ]
  },
  {
   "cell_type": "markdown",
   "metadata": {},
   "source": [
    "## Separando em treino e teste"
   ]
  },
  {
   "cell_type": "code",
   "execution_count": 10,
   "metadata": {
    "execution": {
     "iopub.execute_input": "2020-05-26T21:35:17.959876Z",
     "iopub.status.busy": "2020-05-26T21:35:17.958877Z",
     "iopub.status.idle": "2020-05-26T21:35:20.955199Z",
     "shell.execute_reply": "2020-05-26T21:35:20.954137Z",
     "shell.execute_reply.started": "2020-05-26T21:35:17.959876Z"
    }
   },
   "outputs": [],
   "source": [
    "from sklearn.model_selection import train_test_split\n",
    "\n",
    "\n",
    "x_treino, x_teste, y_treino, y_teste = train_test_split(banco.drop(\"went_on_backorder\", axis = 1), banco[\"went_on_backorder\"], train_size = 0.7, random_state = 1234, stratify = banco[\"went_on_backorder\"])"
   ]
  },
  {
   "cell_type": "code",
   "execution_count": 11,
   "metadata": {
    "execution": {
     "iopub.execute_input": "2020-05-26T21:35:20.957137Z",
     "iopub.status.busy": "2020-05-26T21:35:20.957137Z",
     "iopub.status.idle": "2020-05-26T21:35:20.977133Z",
     "shell.execute_reply": "2020-05-26T21:35:20.972134Z",
     "shell.execute_reply.started": "2020-05-26T21:35:20.957137Z"
    }
   },
   "outputs": [
    {
     "name": "stdout",
     "output_type": "stream",
     "text": [
      "(1181502, 23) (1181502,) (506358, 23) (506358,)\n"
     ]
    }
   ],
   "source": [
    "print(x_treino.shape, y_treino.shape, x_teste.shape, y_teste.shape)"
   ]
  },
  {
   "cell_type": "code",
   "execution_count": 12,
   "metadata": {
    "execution": {
     "iopub.execute_input": "2020-05-26T21:35:20.981132Z",
     "iopub.status.busy": "2020-05-26T21:35:20.980131Z",
     "iopub.status.idle": "2020-05-26T21:35:21.094105Z",
     "shell.execute_reply": "2020-05-26T21:35:21.090106Z",
     "shell.execute_reply.started": "2020-05-26T21:35:20.981132Z"
    }
   },
   "outputs": [
    {
     "name": "stdout",
     "output_type": "stream",
     "text": [
      "---------------------------------------------\n",
      "Proporção da variável target nos dados de treino:\n",
      " 0    0.993309\n",
      "1    0.006691\n",
      "Name: went_on_backorder, dtype: float64\n",
      "---------------------------------------------\n",
      "Proporção da variável target nos dados de treino:\n",
      " 0    0.993309\n",
      "1    0.006691\n",
      "Name: went_on_backorder, dtype: float64\n"
     ]
    }
   ],
   "source": [
    "print(15*\"---\")\n",
    "\n",
    "print(\"Proporção da variável target nos dados de treino:\\n\", y_treino.value_counts(normalize = True))\n",
    "\n",
    "print(15*\"---\")\n",
    "\n",
    "print(\"Proporção da variável target nos dados de treino:\\n\", y_teste.value_counts(normalize = True))"
   ]
  },
  {
   "cell_type": "markdown",
   "metadata": {},
   "source": [
    "# Undersampling (Retirada de dados da classe majoritária)\n",
    "\n",
    "- Com o random undersampling os resultados foram ok, mas não tão bons, Recall = 0.87 e acurácia 0.86 ;\n",
    "- Com o nearmiss os resultados foram bons para o Recall (0.95), entretanto a acurácia foi pra 0.03. Ele acertou a classe minoritária mas errou muito na classe majoritária.\n",
    "- Com o cluster centroids e as variações do SMOTE, de tanto tempo que demorou, eu desisti;"
   ]
  },
  {
   "cell_type": "code",
   "execution_count": 13,
   "metadata": {
    "execution": {
     "iopub.execute_input": "2020-05-26T21:35:21.105102Z",
     "iopub.status.busy": "2020-05-26T21:35:21.101102Z",
     "iopub.status.idle": "2020-05-26T21:35:22.146844Z",
     "shell.execute_reply": "2020-05-26T21:35:22.145844Z",
     "shell.execute_reply.started": "2020-05-26T21:35:21.105102Z"
    }
   },
   "outputs": [
    {
     "name": "stdout",
     "output_type": "stream",
     "text": [
      "Wall time: 1.03 s\n"
     ]
    }
   ],
   "source": [
    "%%time\n",
    "\n",
    "#--- Random undersampling\n",
    "\n",
    "from imblearn.under_sampling import RandomUnderSampler\n",
    "\n",
    "rus = RandomUnderSampler(random_state = 1234)\n",
    "\n",
    "x_treino1, y_treino1 = rus.fit_resample(x_treino, y_treino)\n",
    "\n",
    "\n",
    "#--- ClusterCentroids (Não rodar este pois demora para um caramba)\n",
    "\n",
    "# from imblearn.under_sampling import ClusterCentroids\n",
    "\n",
    "# cc = ClusterCentroids(random_state = 1234)\n",
    "\n",
    "# x_treino1, y_treino1 = cc.fit_resample(x_treino, y_treino)\n",
    "\n",
    "\n",
    "#--- NearMiss\n",
    "\n",
    "# from imblearn.under_sampling import NearMiss\n",
    "\n",
    "# nm1 = NearMiss(version = 1)\n",
    "\n",
    "# x_treino1, y_treino1 = nm1.fit_resample(x_treino, y_treino)\n",
    "\n",
    "\n",
    "#--- SMOTEENN\n",
    "\n",
    "# from imblearn.combine import SMOTEENN\n",
    "\n",
    "# smote_enn = SMOTEENN(random_state = 1234)\n",
    "\n",
    "# x_treino1, y_treino1 = smote_enn.fit_resample(x_treino, y_treino)\n",
    "\n",
    "\n",
    "#--- SMOTETomek\n",
    "\n",
    "# from imblearn.combine import SMOTETomek\n",
    "\n",
    "# smote_tomek = SMOTETomek(random_state = 1234)\n",
    "\n",
    "# x_treino1, y_treino1 = smote_tomek.fit_resample(x_treino, y_treino)"
   ]
  },
  {
   "cell_type": "code",
   "execution_count": 14,
   "metadata": {
    "execution": {
     "iopub.execute_input": "2020-05-26T21:35:22.148845Z",
     "iopub.status.busy": "2020-05-26T21:35:22.148845Z",
     "iopub.status.idle": "2020-05-26T21:35:22.155841Z",
     "shell.execute_reply": "2020-05-26T21:35:22.154843Z",
     "shell.execute_reply.started": "2020-05-26T21:35:22.148845Z"
    }
   },
   "outputs": [],
   "source": [
    "# banco = pd.concat([X_resampled, y_resampled], axis = 1)"
   ]
  },
  {
   "cell_type": "code",
   "execution_count": 15,
   "metadata": {
    "execution": {
     "iopub.execute_input": "2020-05-26T21:35:22.158842Z",
     "iopub.status.busy": "2020-05-26T21:35:22.157842Z",
     "iopub.status.idle": "2020-05-26T21:35:23.921407Z",
     "shell.execute_reply": "2020-05-26T21:35:23.920408Z",
     "shell.execute_reply.started": "2020-05-26T21:35:22.158842Z"
    }
   },
   "outputs": [
    {
     "name": "stdout",
     "output_type": "stream",
     "text": [
      "Wall time: 1.76 s\n"
     ]
    }
   ],
   "source": [
    "%%time\n",
    "\n",
    "from sklearn.ensemble import RandomForestClassifier\n",
    "\n",
    "\n",
    "rfc = RandomForestClassifier(n_estimators = 10, \n",
    "                             random_state = 1234)\n",
    "\n",
    "rfc.fit(x_treino1, y_treino1)\n",
    "\n",
    "y_pred = rfc.predict(x_teste)\n",
    "\n",
    "#--- Considerações \n",
    "\n",
    "# 1. Quando utilizo o class_weight ele melhora significativamente a precion e recall\n",
    "# 2. min_samples_leaf=2, min_samples_split=2, max_depth=None,class_weight = {0: 0.51, 1: 72.34} (1)"
   ]
  },
  {
   "cell_type": "code",
   "execution_count": 16,
   "metadata": {
    "execution": {
     "iopub.execute_input": "2020-05-26T21:35:23.922407Z",
     "iopub.status.busy": "2020-05-26T21:35:23.922407Z",
     "iopub.status.idle": "2020-05-26T21:35:24.050376Z",
     "shell.execute_reply": "2020-05-26T21:35:24.034379Z",
     "shell.execute_reply.started": "2020-05-26T21:35:23.922407Z"
    }
   },
   "outputs": [
    {
     "name": "stdout",
     "output_type": "stream",
     "text": [
      "Accuracy: 0.8948451490842447\n"
     ]
    }
   ],
   "source": [
    "from sklearn.metrics import accuracy_score\n",
    "\n",
    "acc = accuracy_score(y_teste, y_pred)\n",
    "\n",
    "print(\"Accuracy:\", acc)"
   ]
  },
  {
   "cell_type": "code",
   "execution_count": 17,
   "metadata": {
    "execution": {
     "iopub.execute_input": "2020-05-26T21:35:24.055375Z",
     "iopub.status.busy": "2020-05-26T21:35:24.054377Z",
     "iopub.status.idle": "2020-05-26T21:35:24.674221Z",
     "shell.execute_reply": "2020-05-26T21:35:24.674221Z",
     "shell.execute_reply.started": "2020-05-26T21:35:24.055375Z"
    }
   },
   "outputs": [
    {
     "name": "stdout",
     "output_type": "stream",
     "text": [
      "[[450007  52963]\n",
      " [   283   3105]]\n"
     ]
    }
   ],
   "source": [
    "from sklearn.metrics import confusion_matrix\n",
    "\n",
    "print(confusion_matrix(y_teste, y_pred))"
   ]
  },
  {
   "cell_type": "code",
   "execution_count": 18,
   "metadata": {
    "execution": {
     "iopub.execute_input": "2020-05-26T21:35:24.677221Z",
     "iopub.status.busy": "2020-05-26T21:35:24.676222Z",
     "iopub.status.idle": "2020-05-26T21:35:25.055127Z",
     "shell.execute_reply": "2020-05-26T21:35:25.054127Z",
     "shell.execute_reply.started": "2020-05-26T21:35:24.677221Z"
    }
   },
   "outputs": [
    {
     "data": {
      "text/html": [
       "<div>\n",
       "<style scoped>\n",
       "    .dataframe tbody tr th:only-of-type {\n",
       "        vertical-align: middle;\n",
       "    }\n",
       "\n",
       "    .dataframe tbody tr th {\n",
       "        vertical-align: top;\n",
       "    }\n",
       "\n",
       "    .dataframe thead th {\n",
       "        text-align: right;\n",
       "    }\n",
       "</style>\n",
       "<table border=\"1\" class=\"dataframe\">\n",
       "  <thead>\n",
       "    <tr style=\"text-align: right;\">\n",
       "      <th>Predicted</th>\n",
       "      <th>0</th>\n",
       "      <th>1</th>\n",
       "      <th>All</th>\n",
       "    </tr>\n",
       "    <tr>\n",
       "      <th>True</th>\n",
       "      <th></th>\n",
       "      <th></th>\n",
       "      <th></th>\n",
       "    </tr>\n",
       "  </thead>\n",
       "  <tbody>\n",
       "    <tr>\n",
       "      <th>0</th>\n",
       "      <td>450007</td>\n",
       "      <td>52963</td>\n",
       "      <td>502970</td>\n",
       "    </tr>\n",
       "    <tr>\n",
       "      <th>1</th>\n",
       "      <td>283</td>\n",
       "      <td>3105</td>\n",
       "      <td>3388</td>\n",
       "    </tr>\n",
       "    <tr>\n",
       "      <th>All</th>\n",
       "      <td>450290</td>\n",
       "      <td>56068</td>\n",
       "      <td>506358</td>\n",
       "    </tr>\n",
       "  </tbody>\n",
       "</table>\n",
       "</div>"
      ],
      "text/plain": [
       "Predicted       0      1     All\n",
       "True                            \n",
       "0          450007  52963  502970\n",
       "1             283   3105    3388\n",
       "All        450290  56068  506358"
      ]
     },
     "execution_count": 18,
     "metadata": {},
     "output_type": "execute_result"
    }
   ],
   "source": [
    "pd.crosstab(y_teste, y_pred, rownames = [\"True\"], colnames = [\"Predicted\"], margins = True)"
   ]
  },
  {
   "cell_type": "code",
   "execution_count": 19,
   "metadata": {
    "execution": {
     "iopub.execute_input": "2020-05-26T21:35:25.057128Z",
     "iopub.status.busy": "2020-05-26T21:35:25.056128Z",
     "iopub.status.idle": "2020-05-26T21:35:26.257831Z",
     "shell.execute_reply": "2020-05-26T21:35:26.256831Z",
     "shell.execute_reply.started": "2020-05-26T21:35:25.057128Z"
    }
   },
   "outputs": [
    {
     "name": "stdout",
     "output_type": "stream",
     "text": [
      "              precision    recall  f1-score   support\n",
      "\n",
      "           0       1.00      0.89      0.94    502970\n",
      "           1       0.06      0.92      0.10      3388\n",
      "\n",
      "    accuracy                           0.89    506358\n",
      "   macro avg       0.53      0.91      0.52    506358\n",
      "weighted avg       0.99      0.89      0.94    506358\n",
      "\n"
     ]
    }
   ],
   "source": [
    "from sklearn.metrics import classification_report\n",
    "\n",
    "print(classification_report(y_teste, y_pred))"
   ]
  },
  {
   "cell_type": "code",
   "execution_count": 21,
   "metadata": {
    "execution": {
     "iopub.execute_input": "2020-05-26T21:35:38.111913Z",
     "iopub.status.busy": "2020-05-26T21:35:38.111913Z",
     "iopub.status.idle": "2020-05-26T21:35:39.860481Z",
     "shell.execute_reply": "2020-05-26T21:35:39.859481Z",
     "shell.execute_reply.started": "2020-05-26T21:35:38.111913Z"
    }
   },
   "outputs": [
    {
     "data": {
      "image/png": "[encoded data removed]",
      "text/plain": [
       "<Figure size 720x432 with 1 Axes>"
      ]
     },
     "metadata": {
      "needs_background": "light"
     },
     "output_type": "display_data"
    }
   ],
   "source": [
    "#--- Adaptado de: https://stackoverflow.com/questions/25009284/how-to-plot-roc-curve-in-python\n",
    "\n",
    "import sklearn.metrics as metrics\n",
    "\n",
    "probs = rfc.predict_proba(x_teste)\n",
    "preds = probs[:,1]\n",
    "fpr, vpr, threshold = metrics.roc_curve(y_teste, preds)\n",
    "roc_auc = metrics.auc(fpr, vpr)\n",
    "\n",
    "#--- Curva\n",
    "\n",
    "plt.figure(figsize = [10, 6])\n",
    "plt.title(\"Curva ROC\")\n",
    "plt.plot(fpr, vpr, \"blue\", label = \"AUC = %0.2f\" % roc_auc)\n",
    "plt.legend(loc = \"lower right\")\n",
    "plt.plot([0, 1], [0, 1], \"r--\")\n",
    "plt.ylabel(\"Taxa de Verdadeiros Positivos\", fontsize = 14, color = \"black\")\n",
    "plt.xlabel(\"Taxa de Falsos Positivos\", fontsize = 14, color = \"black\")\n",
    "plt.tick_params(axis = \"x\", labelsize = 12, labelcolor = \"black\")\n",
    "plt.tick_params(axis = \"y\", labelsize = 12, labelcolor = \"black\")\n",
    "plt.show()"
   ]
  },
  {
   "cell_type": "code",
   "execution_count": 22,
   "metadata": {
    "execution": {
     "iopub.execute_input": "2020-05-26T21:35:40.353361Z",
     "iopub.status.busy": "2020-05-26T21:35:40.352361Z",
     "iopub.status.idle": "2020-05-26T21:35:40.377355Z",
     "shell.execute_reply": "2020-05-26T21:35:40.376356Z",
     "shell.execute_reply.started": "2020-05-26T21:35:40.353361Z"
    }
   },
   "outputs": [
    {
     "data": {
      "text/html": [
       "<div>\n",
       "<style scoped>\n",
       "    .dataframe tbody tr th:only-of-type {\n",
       "        vertical-align: middle;\n",
       "    }\n",
       "\n",
       "    .dataframe tbody tr th {\n",
       "        vertical-align: top;\n",
       "    }\n",
       "\n",
       "    .dataframe thead th {\n",
       "        text-align: right;\n",
       "    }\n",
       "</style>\n",
       "<table border=\"1\" class=\"dataframe\">\n",
       "  <thead>\n",
       "    <tr style=\"text-align: right;\">\n",
       "      <th></th>\n",
       "      <th>Variável</th>\n",
       "      <th>Valor</th>\n",
       "    </tr>\n",
       "  </thead>\n",
       "  <tbody>\n",
       "    <tr>\n",
       "      <th>3</th>\n",
       "      <td>forecast_3_month</td>\n",
       "      <td>0.15473</td>\n",
       "    </tr>\n",
       "    <tr>\n",
       "      <th>0</th>\n",
       "      <td>national_inv</td>\n",
       "      <td>0.13916</td>\n",
       "    </tr>\n",
       "    <tr>\n",
       "      <th>21</th>\n",
       "      <td>national_inv_poly2</td>\n",
       "      <td>0.11251</td>\n",
       "    </tr>\n",
       "    <tr>\n",
       "      <th>5</th>\n",
       "      <td>forecast_9_month</td>\n",
       "      <td>0.10145</td>\n",
       "    </tr>\n",
       "    <tr>\n",
       "      <th>4</th>\n",
       "      <td>forecast_6_month</td>\n",
       "      <td>0.08696</td>\n",
       "    </tr>\n",
       "    <tr>\n",
       "      <th>8</th>\n",
       "      <td>sales_6_month</td>\n",
       "      <td>0.04524</td>\n",
       "    </tr>\n",
       "    <tr>\n",
       "      <th>9</th>\n",
       "      <td>sales_9_month</td>\n",
       "      <td>0.04471</td>\n",
       "    </tr>\n",
       "    <tr>\n",
       "      <th>6</th>\n",
       "      <td>sales_1_month</td>\n",
       "      <td>0.04443</td>\n",
       "    </tr>\n",
       "    <tr>\n",
       "      <th>14</th>\n",
       "      <td>perf_12_month_avg</td>\n",
       "      <td>0.04129</td>\n",
       "    </tr>\n",
       "    <tr>\n",
       "      <th>22</th>\n",
       "      <td>perf_month_avg</td>\n",
       "      <td>0.04088</td>\n",
       "    </tr>\n",
       "    <tr>\n",
       "      <th>13</th>\n",
       "      <td>perf_6_month_avg</td>\n",
       "      <td>0.04026</td>\n",
       "    </tr>\n",
       "    <tr>\n",
       "      <th>7</th>\n",
       "      <td>sales_3_month</td>\n",
       "      <td>0.03810</td>\n",
       "    </tr>\n",
       "    <tr>\n",
       "      <th>2</th>\n",
       "      <td>in_transit_qty</td>\n",
       "      <td>0.02787</td>\n",
       "    </tr>\n",
       "    <tr>\n",
       "      <th>1</th>\n",
       "      <td>lead_time</td>\n",
       "      <td>0.02755</td>\n",
       "    </tr>\n",
       "    <tr>\n",
       "      <th>10</th>\n",
       "      <td>min_bank</td>\n",
       "      <td>0.02408</td>\n",
       "    </tr>\n",
       "    <tr>\n",
       "      <th>15</th>\n",
       "      <td>local_bo_qty</td>\n",
       "      <td>0.01090</td>\n",
       "    </tr>\n",
       "    <tr>\n",
       "      <th>16</th>\n",
       "      <td>deck_risk</td>\n",
       "      <td>0.00679</td>\n",
       "    </tr>\n",
       "    <tr>\n",
       "      <th>18</th>\n",
       "      <td>ppap_risk</td>\n",
       "      <td>0.00631</td>\n",
       "    </tr>\n",
       "    <tr>\n",
       "      <th>12</th>\n",
       "      <td>pieces_past_due</td>\n",
       "      <td>0.00374</td>\n",
       "    </tr>\n",
       "    <tr>\n",
       "      <th>19</th>\n",
       "      <td>stop_auto_buy</td>\n",
       "      <td>0.00291</td>\n",
       "    </tr>\n",
       "    <tr>\n",
       "      <th>11</th>\n",
       "      <td>potential_issue</td>\n",
       "      <td>0.00014</td>\n",
       "    </tr>\n",
       "    <tr>\n",
       "      <th>17</th>\n",
       "      <td>oe_constraint</td>\n",
       "      <td>0.00000</td>\n",
       "    </tr>\n",
       "    <tr>\n",
       "      <th>20</th>\n",
       "      <td>rev_stop</td>\n",
       "      <td>0.00000</td>\n",
       "    </tr>\n",
       "  </tbody>\n",
       "</table>\n",
       "</div>"
      ],
      "text/plain": [
       "              Variável    Valor\n",
       "3     forecast_3_month  0.15473\n",
       "0         national_inv  0.13916\n",
       "21  national_inv_poly2  0.11251\n",
       "5     forecast_9_month  0.10145\n",
       "4     forecast_6_month  0.08696\n",
       "8        sales_6_month  0.04524\n",
       "9        sales_9_month  0.04471\n",
       "6        sales_1_month  0.04443\n",
       "14   perf_12_month_avg  0.04129\n",
       "22      perf_month_avg  0.04088\n",
       "13    perf_6_month_avg  0.04026\n",
       "7        sales_3_month  0.03810\n",
       "2       in_transit_qty  0.02787\n",
       "1            lead_time  0.02755\n",
       "10            min_bank  0.02408\n",
       "15        local_bo_qty  0.01090\n",
       "16           deck_risk  0.00679\n",
       "18           ppap_risk  0.00631\n",
       "12     pieces_past_due  0.00374\n",
       "19       stop_auto_buy  0.00291\n",
       "11     potential_issue  0.00014\n",
       "17       oe_constraint  0.00000\n",
       "20            rev_stop  0.00000"
      ]
     },
     "execution_count": 22,
     "metadata": {},
     "output_type": "execute_result"
    }
   ],
   "source": [
    "pd.DataFrame(rfc.feature_importances_, x_teste.columns).reset_index().rename(columns = {0: \"Valor\", \"index\": \"Variável\"}).sort_values(\"Valor\", ascending = False).round(5)"
   ]
  },
  {
   "cell_type": "markdown",
   "metadata": {},
   "source": [
    "# Próximos passos:\n",
    "\n",
    "1. Criar novas features;\n",
    "2. Verificar a relação das variáveis (esqueci hoje);\n",
    "3. Observar as variáveis national_inv e lead_time;\n",
    "4. Testar o método de oversampling e undersampling.\n",
    "\n",
    "\n",
    "Falso positivo: o modelo previu que era um pedido em atraso, quando não era \n",
    "um pedido em atraso\n",
    "\n",
    "Falso negativo (*): o modelo disse que não era um pedido em atraso, quando na verdade ele era\n",
    "\n",
    "- Focar na métrica Recall"
   ]
  }
 ],
 "metadata": {
  "kernelspec": {
   "display_name": "Python 3",
   "language": "python",
   "name": "python3"
  },
  "language_info": {
   "codemirror_mode": {
    "name": "ipython",
    "version": 3
   },
   "file_extension": ".py",
   "mimetype": "text/x-python",
   "name": "python",
   "nbconvert_exporter": "python",
   "pygments_lexer": "ipython3",
   "version": "3.7.6"
  }
 },
 "nbformat": 4,
 "nbformat_minor": 4
}
